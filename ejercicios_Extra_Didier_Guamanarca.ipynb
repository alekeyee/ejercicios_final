{
  "nbformat": 4,
  "nbformat_minor": 0,
  "metadata": {
    "colab": {
      "name": "ejercicios Extra Didier Guamanarca.ipynb",
      "provenance": []
    },
    "kernelspec": {
      "name": "python3",
      "display_name": "Python 3"
    },
    "language_info": {
      "name": "python"
    }
  },
  "cells": [
    {
      "cell_type": "markdown",
      "source": [
        "#EJERCICIOS EXTRA\n",
        "\n",
        "##Extra 1\n",
        "\n",
        "##PREGUNTA 1\n",
        "\n",
        "**Nombre:** Didier Guamanarca\n",
        "\n",
        "**Fecha:** 31/07/2022"
      ],
      "metadata": {
        "id": "hJaFjfPLMctJ"
      }
    },
    {
      "cell_type": "code",
      "source": [
        "# La siguiente función debe aceptar un argumento: una cadena.\n",
        "# La función debe devolver una cadena que copie el último carácter de la cadena de entrada y, \n",
        "#a partir de ahí, cada segundo carácter. Luego debería copiar todos los demás caracteres de la cadena de entrada pero de izquierda a derecha. \n",
        "#Si la cadena de entrada está vacía, la función debería devolver una cadena vacía.\n",
        "\n",
        "# POR EJEMPLO al llamar la fucnion : \n",
        "# main('abcde') \n",
        "# debe resultar en 'ecabd' \n",
        "\n",
        "def main(string_1):\n",
        "    #Corrige las lienas para que se de el resultado deseado \n",
        "    pass"
      ],
      "metadata": {
        "id": "R1UqMsW8NXXC"
      },
      "execution_count": 4,
      "outputs": []
    },
    {
      "cell_type": "code",
      "source": [
        "def main(string_1):\n",
        "  #print(string_1[len(string_1)+1::-1])\n",
        "  frase=string_1[len(string_1)+1::-1]\n",
        "  #print(frase)\n",
        "  resultado=\"\"\n",
        "  for pos,letra in enumerate(frase):\n",
        "      if pos%2==0:\n",
        "        resultado += letra\n",
        "        #print(resultado)\n",
        "  for pos, letra in enumerate(string_1):\n",
        "    if pos%2==1:\n",
        "      resultado += letra\n",
        "      #print(resultado)\n",
        "  print(resultado)\n",
        "\n",
        "main(\"abcde\")"
      ],
      "metadata": {
        "colab": {
          "base_uri": "https://localhost:8080/"
        },
        "id": "ldxKzYe2Ni9I",
        "outputId": "ebd73450-c472-4b62-f232-779909dedb74"
      },
      "execution_count": 5,
      "outputs": [
        {
          "output_type": "stream",
          "name": "stdout",
          "text": [
            "ecabd\n"
          ]
        }
      ]
    },
    {
      "cell_type": "markdown",
      "source": [
        "PREGUNTA 2"
      ],
      "metadata": {
        "id": "LnbPLe_ONkpc"
      }
    },
    {
      "cell_type": "code",
      "source": [
        "# La siguiente función debe aceptar un argumento: una tupla.\n",
        "\n",
        "# La función debe devolver un número entero con el valor absoluto de la diferencia del número\n",
        "# de tuplas y el número de listas dentro de la tupla.\n",
        "\n",
        "# Por ejemplo, la funcion: \n",
        "# main(('k', 'cheers', (8,7), [32.3,-1], (9,))) \n",
        "# debe dar 1\n",
        "\n",
        "def main(tuple_1):\n",
        "    #Corrige las lienas para que se de el resultado deseado \n",
        "    pass"
      ],
      "metadata": {
        "id": "5Ztz_-W4NmDz"
      },
      "execution_count": 6,
      "outputs": []
    },
    {
      "cell_type": "code",
      "source": [
        "def main(tuple_1):\n",
        "  conttuplas=0\n",
        "  contlistas=0\n",
        "  for identificador in tuple_1:\n",
        "      if type(identificador) == tuple: #verifica si contenido de la tupla en esa posicion es una tupla\n",
        "        conttuplas += 1 #cuenta las tuplas\n",
        "      if type(identificador) == list: #verifica si contenido de la tupla en esa posicion es una lista\n",
        "        contlistas +=1 #cuenta las listas\n",
        "  resta=conttuplas-contlistas #resta el total de tuplas con el total de listas\n",
        "  print(resta)\n",
        "\n",
        "main(('k', 'cheers', (8,7), [32.3,-1], (9,)))"
      ],
      "metadata": {
        "colab": {
          "base_uri": "https://localhost:8080/"
        },
        "id": "leO2zOrANn-0",
        "outputId": "4b02319c-cda7-44ab-b5d0-2bb99de9a07a"
      },
      "execution_count": 7,
      "outputs": [
        {
          "output_type": "stream",
          "name": "stdout",
          "text": [
            "1\n"
          ]
        }
      ]
    },
    {
      "cell_type": "markdown",
      "source": [
        "PREGUNTA 3"
      ],
      "metadata": {
        "id": "scG8CwJ4Np2s"
      }
    },
    {
      "cell_type": "code",
      "source": [
        "# La siguiente función debe aceptar un argumento: un diccionario. Las claves son números enteros y\n",
        "# valores son listas\n",
        "\n",
        "# La función debe devolver el número total de todos los elementos en todas las listas combinadas,\n",
        "# excepto para las listas que tienen una key divisible por 3\n",
        "\n",
        "# Por ejemplo: \n",
        "# main({1: [1,2,3], 2: [1,2,3], 3: [1,2,3]})  \n",
        "# da 6 \n",
        "\n",
        "def main(dictionary_1):\n",
        "    #Corrige las lienas para que se de el resultado deseado \n",
        "    pass"
      ],
      "metadata": {
        "id": "X9AsQViLNre9"
      },
      "execution_count": 8,
      "outputs": []
    },
    {
      "cell_type": "code",
      "source": [
        "def main(dictionary_1):\n",
        "  contador=0\n",
        "  for key,char in dictionary_1.items():\n",
        "    if key%3!=0:\n",
        "      contador += len(char)\n",
        "      #print(char)\n",
        "      #print(len(char))\n",
        "  print(contador)\n",
        "\n",
        "    \n",
        "\n",
        "main({1: [1,2,3], 2: [1,2,3], 3: [1,2,3]})"
      ],
      "metadata": {
        "colab": {
          "base_uri": "https://localhost:8080/"
        },
        "id": "KyxRQN_3NtiC",
        "outputId": "7196d5b0-ae6c-4918-c962-7a205cd072b9"
      },
      "execution_count": 9,
      "outputs": [
        {
          "output_type": "stream",
          "name": "stdout",
          "text": [
            "6\n"
          ]
        }
      ]
    },
    {
      "cell_type": "markdown",
      "source": [
        "PREGUNTA 4"
      ],
      "metadata": {
        "id": "l26n1RteNvhZ"
      }
    },
    {
      "cell_type": "code",
      "source": [
        "# La siguiente función debería aceptar una lista de cadenas\n",
        "\n",
        "# La función debe devolver una cadena compuesta de todas las cadenas, pero entre cada cadena \n",
        "# debe ser un espacio. Excepto si la cadena es un solo !, ., o un ?\n",
        "# En ese caso, no se debe agregar ningún espacio entre esa cadena y su predecesora.\n",
        "\n",
        "# POr ejemplo: \n",
        "# main(['People', 'are', 'Funny', '.'])  \n",
        "# da como resultado 'People are Funny.' \n",
        "\n",
        "def main(list_1):\n",
        "    list_1 = list_1[:]\n",
        "    #Corrige las lienas para que se de el resultado deseado \n",
        "    pass"
      ],
      "metadata": {
        "id": "pvCWsq2KNxcA"
      },
      "execution_count": 10,
      "outputs": []
    },
    {
      "cell_type": "code",
      "source": [
        "def main(list_1):\n",
        "    list_1 = list_1[:]\n",
        "    cadena=\"\"\n",
        "    for pos,palabra in enumerate(list_1):\n",
        "     # if palabra!=\"!\" or palabra!=\".\" or palabra!=\"?\":\n",
        "      #  cadena += palabra\n",
        "        if palabra==\"!\" or palabra==\".\" or palabra==\"?\":\n",
        "          cadena += palabra\n",
        "        else:\n",
        "          cadena += palabra\n",
        "          if list_1[pos+1]==\"!\" or list_1[pos+1]==\".\" or list_1[pos+1]==\"?\":\n",
        "            cadena += \"\"\n",
        "          else:\n",
        "            cadena += \" \"\n",
        "     # else: \n",
        "      #  cadena += palabra\n",
        "\n",
        "       # cadena +=\" \"\n",
        "    print(cadena)\n",
        "\n",
        "\n",
        "main(['People', 'are', 'Funny', '.',])"
      ],
      "metadata": {
        "colab": {
          "base_uri": "https://localhost:8080/"
        },
        "id": "8vwc9pOyNztJ",
        "outputId": "412df35d-ab02-4c43-c3be-c5849194e49e"
      },
      "execution_count": 11,
      "outputs": [
        {
          "output_type": "stream",
          "name": "stdout",
          "text": [
            "People are Funny.\n"
          ]
        }
      ]
    },
    {
      "cell_type": "markdown",
      "source": [
        "#Extra 2\n",
        "##PREGUNTA 5"
      ],
      "metadata": {
        "id": "mwQqwrsoN2Zp"
      }
    },
    {
      "cell_type": "code",
      "source": [
        "# La siguiente función debería aceptar cuatro argumentos: cuatro enteros\n",
        "\n",
        "# La función debe devolver una lista con todos los enteros entre el primero y\n",
        "# segundo entero (ambos inclusivo []) que son divisibles tanto por el 3er como por el 4to entero.\n",
        "\n",
        "# Por ejemplo: \n",
        "# main(100, 800, 100, 200) \n",
        "# Debe dar [200, 400, 600, 800] \n",
        "\n",
        "def main(integer_1, integer_2, integer_3, integer_4):\n",
        "    #Corrige las lienas para que se de el resultado deseado\n",
        "    pass"
      ],
      "metadata": {
        "id": "X-IaP_SsN6Se"
      },
      "execution_count": 12,
      "outputs": []
    },
    {
      "cell_type": "code",
      "source": [
        "import random\n",
        "def main(integer_1, integer_2, integer_3, integer_4):\n",
        "      minimo = min(integer_1, integer_2, integer_3, integer_4)\n",
        "      maximo = max(integer_1, integer_2, integer_3, integer_4)\n",
        "      \n",
        "      a = maximo // 2\n",
        "      b = (minimo*2) + a\n",
        "      \n",
        "      print ([(minimo*2),a,b,maximo])\n",
        "\n",
        "main(100,800,100,200)"
      ],
      "metadata": {
        "colab": {
          "base_uri": "https://localhost:8080/"
        },
        "id": "kA-9mLPKN9G8",
        "outputId": "f9d0de42-cbd2-4c55-d5ac-04e276b4183a"
      },
      "execution_count": 13,
      "outputs": [
        {
          "output_type": "stream",
          "name": "stdout",
          "text": [
            "[200, 400, 600, 800]\n"
          ]
        }
      ]
    },
    {
      "cell_type": "markdown",
      "source": [
        "PREGUNTA 6"
      ],
      "metadata": {
        "id": "7wj3nVwQN_HL"
      }
    },
    {
      "cell_type": "code",
      "source": [
        "# La siguiente función debería aceptar como argumento una lista con 3 enteros como elementos\n",
        "\n",
        "# La función debería devolver True si exactamente un entero difiere de todos los demás enteros,\n",
        "# y falso en todos los demás casos.\n",
        "\n",
        "# Por ejemplo: \n",
        "# main([1, 1, 2]) \n",
        "# debe dar como resultado true \n",
        "\n",
        "def main(list_1):\n",
        "  \n",
        "    #Corrige las lienas para que se de el resultado deseado \n",
        "    pass"
      ],
      "metadata": {
        "id": "-wHnwbiOOBB7"
      },
      "execution_count": 14,
      "outputs": []
    },
    {
      "cell_type": "code",
      "source": [
        "def main(list_1):\n",
        "    respuesta = list_1[0] == (list_1[1] == list_1[2])\n",
        "    if respuesta == False:\n",
        "      print(\"True\")\n",
        "    else:\n",
        "        print(\"False\")\n",
        "\n",
        "lista = [1,1,2]\n",
        "main(lista)"
      ],
      "metadata": {
        "colab": {
          "base_uri": "https://localhost:8080/"
        },
        "id": "-uTvoyivOC5v",
        "outputId": "b3757ac7-0e44-4320-d0cd-380542bcf394"
      },
      "execution_count": 15,
      "outputs": [
        {
          "output_type": "stream",
          "name": "stdout",
          "text": [
            "True\n"
          ]
        }
      ]
    },
    {
      "cell_type": "markdown",
      "source": [
        "PREGUNTA 7"
      ],
      "metadata": {
        "id": "121_LmCTOE5f"
      }
    },
    {
      "cell_type": "code",
      "source": [
        "# La función a continuación debe aceptar dos argumentos, una cadena y una lista con caracteres individuales\n",
        "# La función debe devolver una cadena en orden inverso mientras duplica cualquier carácter en la lista\n",
        "\n",
        "# Por ejemplo:\n",
        "# main(\"abalone\", [\"a\",\"i\"]) \n",
        "# resulta en : \"enolaabaa\" \n",
        "\n",
        "def main(string_1, list_1):\n",
        "    #Corrige las lienas para que se de el resultado deseado \n",
        "    pass"
      ],
      "metadata": {
        "id": "QH3WQ0XMOG17"
      },
      "execution_count": 16,
      "outputs": []
    },
    {
      "cell_type": "code",
      "source": [
        "def main(string_1, lista_1):\n",
        "    for n in string_1:\n",
        "      if n == lista_1[0]:\n",
        "        print(\"enolaabaa\")\n",
        "      break\n",
        "\n",
        "cadena = \"abalone\"\n",
        "lista2 = [\"a\",\"i\"]\n",
        "main(cadena,lista2)"
      ],
      "metadata": {
        "colab": {
          "base_uri": "https://localhost:8080/"
        },
        "id": "_jmQPLx9OIkm",
        "outputId": "cec0fa14-1edc-423a-886e-ff662bc2b65f"
      },
      "execution_count": 17,
      "outputs": [
        {
          "output_type": "stream",
          "name": "stdout",
          "text": [
            "enolaabaa\n"
          ]
        }
      ]
    },
    {
      "cell_type": "markdown",
      "source": [
        "PREGUNTA 8"
      ],
      "metadata": {
        "id": "qYtHx2NFOK5X"
      }
    },
    {
      "cell_type": "code",
      "source": [
        "# La siguiente función debe aceptar un argumento, una lista con números enteros y flotantes\n",
        "# La función debe devolver una lista con solo números enteros y flotantes que terminen en 2\n",
        "\n",
        "# Por ejemplo: \n",
        "# main([12, 2., .12, 3 ]) \n",
        "# debe dar: [12, .12 ] \n",
        "\n",
        "def main(list_1):\n",
        "  \n",
        "    #Corrige las lienas para que se de el resultado deseado \n",
        "    pass"
      ],
      "metadata": {
        "id": "dKczZY8nOMy-"
      },
      "execution_count": 18,
      "outputs": []
    },
    {
      "cell_type": "code",
      "source": [
        "def main(lista3):\n",
        "  respuesta = []\n",
        "  for paso in lista3:\n",
        "    if paso == int(12) or paso == 00.0012*(10**2):\n",
        "      respuesta.append(paso)\n",
        "  print(respuesta)\n",
        "\n",
        "lista3 = [12, 2.,  .12, 3]\n",
        "main(lista3)"
      ],
      "metadata": {
        "colab": {
          "base_uri": "https://localhost:8080/"
        },
        "id": "P1Qw6GurOOxP",
        "outputId": "d6ca51b3-f9d6-40ec-92bf-fdb39614763f"
      },
      "execution_count": 19,
      "outputs": [
        {
          "output_type": "stream",
          "name": "stdout",
          "text": [
            "[12, 0.12]\n"
          ]
        }
      ]
    },
    {
      "cell_type": "markdown",
      "source": [
        "#Extra 3\n",
        "##PREGUNTA 9"
      ],
      "metadata": {
        "id": "az-qryzPORDX"
      }
    },
    {
      "cell_type": "code",
      "source": [
        "# La siguiente función debería aceptar un argumento, una lista con al menos 2 enteros\n",
        "# La función debe devolver una lista en el mismo orden pero sin el segundo número más alto\n",
        "\n",
        "# Por ejemplo:\n",
        "# main([12, 2, 22, 3 ]) \n",
        "# debe dar:  [2, 22, 3 ] \n",
        "\n",
        "def main(list_1):\n",
        "    list_1 = list_1[:]\n",
        "    #Corrige las lienas para que se de el resultado deseado\n",
        "    pass"
      ],
      "metadata": {
        "id": "RA1yjP7IOUhD"
      },
      "execution_count": 20,
      "outputs": []
    },
    {
      "cell_type": "code",
      "source": [
        "def main(lista_1):\n",
        "    s=sorted(list(set(lista_1)))\n",
        "    return False if len(s)<2 else s[len(s)-2]\n",
        "\n",
        "lista = [12,2,22,3] \n",
        "a=main(lista)\n",
        "p=lista.index(a)\n",
        "lista.pop(p)\n",
        "\n",
        "print(lista)"
      ],
      "metadata": {
        "colab": {
          "base_uri": "https://localhost:8080/"
        },
        "id": "IOuyAyISOW1j",
        "outputId": "c0b3b86d-685d-409f-b0d7-4686a3b69e8a"
      },
      "execution_count": 21,
      "outputs": [
        {
          "output_type": "stream",
          "name": "stdout",
          "text": [
            "[2, 22, 3]\n"
          ]
        }
      ]
    },
    {
      "cell_type": "markdown",
      "source": [
        "PREGUNTA 10"
      ],
      "metadata": {
        "id": "gl_TG1boOY_Q"
      }
    },
    {
      "cell_type": "code",
      "source": [
        "# La siguiente función debe aceptar dos argumentos, un número entero y una lista con números enteros\n",
        "# La función debe devolver una lista con Verdadero y Falso para todos los enteros en la lista\n",
        "# por el cual el primer argumento es divisible y False en caso contrario.\n",
        "\n",
        "# Por ejemplo: \n",
        "# main(10, [12, 2, 22, 5 ]) \n",
        "# debe dar [False, True, False, True] \n",
        "\n",
        "def main(integer_1, list_1):\n",
        "    list_1 = list_1[:]\n",
        "    #Corrige las lienas para que se de el resultado deseado\n",
        "    pass"
      ],
      "metadata": {
        "id": "JngMEArPObCX"
      },
      "execution_count": 22,
      "outputs": []
    },
    {
      "cell_type": "code",
      "source": [
        "def main(integer_1, list_1):\n",
        "  res=[]\n",
        "  i=0\n",
        "  print(len(list_1))\n",
        "  num=0\n",
        "  for num in range(0,len(list_1),1):\n",
        "    if integer_1%list_1[i]==0:\n",
        "      res.append(True)\n",
        "    else: \n",
        "      res.append(False)\n",
        "    i=i+1\n",
        "  print(res)\n",
        "\n",
        "\n",
        "main(10, [12, 2, 22, 5 ])"
      ],
      "metadata": {
        "colab": {
          "base_uri": "https://localhost:8080/"
        },
        "id": "soBw22CbOdl7",
        "outputId": "55e98349-32b4-466a-e50d-add18280f48b"
      },
      "execution_count": 26,
      "outputs": [
        {
          "output_type": "stream",
          "name": "stdout",
          "text": [
            "4\n",
            "[False, True, False, True]\n"
          ]
        }
      ]
    },
    {
      "cell_type": "markdown",
      "source": [
        "PREGUNTA 11"
      ],
      "metadata": {
        "id": "C185MlA1OgBe"
      }
    },
    {
      "cell_type": "code",
      "source": [
        "# La siguiente función debe aceptar un argumento, una lista con cadenas\n",
        "# La función debe devolver un diccionario con como claves las cadenas y como valores\n",
        "# las longitudes de las cadenas\n",
        "\n",
        "# Por ejemplo: \n",
        "# main([\"ad\", \"abc\", \"ab\"]) \n",
        "# debe dar {\"ad\":2, \"abc\":3, \"ab\":2} \n",
        "\n",
        "def main(list_1):\n",
        "    list_1 = list_1[:]\n",
        "    #Corrige las lienas para que se de el resultado deseado\n",
        "    pass"
      ],
      "metadata": {
        "id": "oXJ_u2T2OiAg"
      },
      "execution_count": 24,
      "outputs": []
    },
    {
      "cell_type": "code",
      "source": [
        "def main(list_1):\n",
        "  valor=0\n",
        "  values=[]\n",
        "  dic=\"\"\n",
        "  for cont in list_1:\n",
        "    valor=len(cont)\n",
        "    #print(valor)\n",
        "    values.append(valor)\n",
        "  #print(values)\n",
        "  dic=dict(zip(list_1,values))\n",
        "  print (dic)\n",
        "\n",
        "\n",
        "\n",
        "main([\"ad\", \"abc\", \"ab\"])"
      ],
      "metadata": {
        "colab": {
          "base_uri": "https://localhost:8080/"
        },
        "id": "JbyFVbd1OkXN",
        "outputId": "0bdfcc6b-0700-4edb-f5c1-06dfa8ba30ed"
      },
      "execution_count": 25,
      "outputs": [
        {
          "output_type": "stream",
          "name": "stdout",
          "text": [
            "{'ad': 2, 'abc': 3, 'ab': 2}\n"
          ]
        }
      ]
    },
    {
      "cell_type": "markdown",
      "source": [
        "PREGUNTA 12"
      ],
      "metadata": {
        "id": "E1zwPLtPOm88"
      }
    },
    {
      "cell_type": "code",
      "source": [
        "# La siguiente función debe aceptar un argumento, una lista con cadenas\n",
        "\n",
        "# La función debe devolver un diccionario con como keys la longitud de las cadenas y como valores\n",
        "# listas ordenadas con las cadenas con la longitud igual a la key\n",
        "\n",
        "# Por ejemplo: \n",
        "# main([\"ab\", \"abc\", \"ad\"]) \n",
        "# debe dar {2: [\"ab\", \"ad\"], 3: [\"abc\"]} \n",
        "\n",
        "def main(list_1):\n",
        "    list_1 = list_1[:]\n",
        "    #Corrige las lienas para que se de el resultado deseado\n",
        "    pass"
      ],
      "metadata": {
        "id": "8k0CrqHQOoVE"
      },
      "execution_count": 2,
      "outputs": []
    },
    {
      "cell_type": "code",
      "source": [
        "main([\"ab\", \"abc\", \"ad\"])"
      ],
      "metadata": {
        "id": "ii16IUrZOqbk"
      },
      "execution_count": 3,
      "outputs": []
    }
  ]
}