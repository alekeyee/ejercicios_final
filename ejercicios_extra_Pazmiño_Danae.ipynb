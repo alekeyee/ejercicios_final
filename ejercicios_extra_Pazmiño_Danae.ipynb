{
  "cells": [
    {
      "cell_type": "markdown",
      "metadata": {
        "id": "GWaE4xRRT9dt"
      },
      "source": [
        "# EJERCICIOS EXTRA\n",
        "## Extra 1 "
      ]
    },
    {
      "cell_type": "code",
      "execution_count": 2,
      "metadata": {
        "id": "J6hxMcQT6OjI"
      },
      "outputs": [],
      "source": [
        "# La siguiente función debe aceptar un argumento: una cadena.\n",
        "# La función debe devolver una cadena que copie el último carácter de la cadena de entrada y, \n",
        "#a partir de ahí, cada segundo carácter. Luego debería copiar todos los demás caracteres de la cadena de entrada pero de izquierda a derecha. \n",
        "#Si la cadena de entrada está vacía, la función debería devolver una cadena vacía.\n",
        "\n",
        "# POR EJEMPLO al llamar la fucnion : \n",
        "# main('abcde') \n",
        "# debe resultar en 'ecabd' \n",
        "\n",
        "def main(string_1):\n",
        "    #Corrige las lienas para que se de el resultado deseado \n",
        "    pass"
      ]
    },
    {
      "cell_type": "code",
      "source": [
        "def main(cadena):\n",
        "  a=(cadena[-1:-6:-2])\n",
        "  b=(cadena[1:5:2])\n",
        "  print(a+b)\n",
        " \n",
        "cad = ('abcde')\n",
        "\n",
        "main(cad)"
      ],
      "metadata": {
        "colab": {
          "base_uri": "https://localhost:8080/"
        },
        "id": "NDvMvLpFT-Kw",
        "outputId": "5d1b877e-d660-4084-b83a-b3d6930d6826"
      },
      "execution_count": 1,
      "outputs": [
        {
          "output_type": "stream",
          "name": "stdout",
          "text": [
            "ecabd\n"
          ]
        }
      ]
    },
    {
      "cell_type": "code",
      "execution_count": null,
      "metadata": {
        "id": "2U4_XpzrBX5i"
      },
      "outputs": [],
      "source": [
        "# La siguiente función debe aceptar un argumento: una tupla.\n",
        "\n",
        "# La función debe devolver un número entero con el valor absoluto de la diferencia del número\n",
        "# de tuplas y el número de listas dentro de la tupla.\n",
        "\n",
        "# Por ejemplo, la funcion: \n",
        "# main(('k', 'cheers', (8,7), [32.3,-1], (9,))) \n",
        "# debe dar 1\n",
        "\n",
        "def main(tuple_1):\n",
        "    #Corrige las lienas para que se de el resultado deseado \n",
        "    pass"
      ]
    },
    {
      "cell_type": "code",
      "source": [
        "def main(tuple_1):\n",
        "\n",
        "  tuplas=0\n",
        "\n",
        "  listas=0\n",
        "\n",
        "  for ident in tuple_1:\n",
        "# Identifica si es una tupla\n",
        "      if type(ident) == tuple: \n",
        "        #ver cuantas tuplas se tiene\n",
        "        tuplas += 1 \n",
        "        #Identificar si tienes una lista \n",
        "      if type(ident) == list: \n",
        "        listas +=1 \n",
        "        # Es esta parte restamos el total de tuplas con el total de listas\n",
        "  resul=tuplas-listas \n",
        "  print(resul)\n",
        "\n",
        "main(('k', 'cheers', (8,7), [32.3,-1], (9,)))"
      ],
      "metadata": {
        "colab": {
          "base_uri": "https://localhost:8080/"
        },
        "id": "2bvQmO9-UI__",
        "outputId": "79b0c439-d98e-4f8f-8a95-35d4b5ba69fe"
      },
      "execution_count": 3,
      "outputs": [
        {
          "output_type": "stream",
          "name": "stdout",
          "text": [
            "1\n"
          ]
        }
      ]
    },
    {
      "cell_type": "code",
      "execution_count": 5,
      "metadata": {
        "id": "hJ5_h_FQX8RY"
      },
      "outputs": [],
      "source": [
        "# La siguiente función debe aceptar un argumento: un diccionario. Las claves son números enteros y\n",
        "# valores son listas\n",
        "\n",
        "# La función debe devolver el número total de todos los elementos en todas las listas combinadas,\n",
        "# excepto para las listas que tienen una key divisible por 3\n",
        "\n",
        "# Por ejemplo: \n",
        "# main({1: [1,2,3], 2: [1,2,3], 3: [1,2,3]})  \n",
        "# da 6 \n",
        "\n",
        "def main(dictionary_1):\n",
        "    #Corrige las lienas para que se de el resultado deseado \n",
        "    pass"
      ]
    },
    {
      "cell_type": "code",
      "source": [
        "def main(dictionary_1):\n",
        "  contador=0\n",
        "  for key,char in dictionary_1.items():\n",
        "    if key%3!=0:\n",
        "      contador += len(char)\n",
        "  print(contador)\n",
        "main({1: [1,2,3], 2: [1,2,3], 3: [1,2,3], 4: [2,4]})"
      ],
      "metadata": {
        "colab": {
          "base_uri": "https://localhost:8080/"
        },
        "id": "-rsBU_4VUMcG",
        "outputId": "a784ccba-8aad-4dc7-c36f-d8b3fb1f7ae3"
      },
      "execution_count": 11,
      "outputs": [
        {
          "output_type": "stream",
          "name": "stdout",
          "text": [
            "8\n"
          ]
        }
      ]
    },
    {
      "cell_type": "code",
      "execution_count": null,
      "metadata": {
        "id": "FKhPvj3GYZ9v"
      },
      "outputs": [],
      "source": [
        "# La siguiente función debería aceptar una lista de cadenas\n",
        "\n",
        "# La función debe devolver una cadena compuesta de todas las cadenas, pero entre cada cadena \n",
        "# debe ser un espacio. Excepto si la cadena es un solo !, ., o un ?\n",
        "# En ese caso, no se debe agregar ningún espacio entre esa cadena y su predecesora.\n",
        "\n",
        "# POr ejemplo: \n",
        "# main(['People', 'are', 'Funny', '.'])  \n",
        "# da como resultado 'People are Funny.' \n",
        "\n",
        "def main(list_1):\n",
        "    list_1 = list_1[:]\n",
        "    #Corrige las lienas para que se de el resultado deseado \n",
        "    pass\n",
        "\n",
        "\n"
      ]
    },
    {
      "cell_type": "code",
      "source": [
        "def main(list_1):\n",
        "    list_1 = list_1[:]\n",
        "    cadena=\"\"\n",
        "    for posicion,signo in enumerate(list_1):\n",
        "        if signo==\"!\" or signo==\".\" or signo==\"?\":\n",
        "          cadena += signo\n",
        "        else:\n",
        "          cadena += signo\n",
        "          if list_1[posicion+1]==\"!\" or list_1[posicion+1]==\".\" or list_1[posicion+1]==\"?\":\n",
        "            cadena += \"\"\n",
        "          else:\n",
        "            cadena += \" \"\n",
        "    print(cadena)\n",
        "main(['People', 'are', 'Funny', '?',])"
      ],
      "metadata": {
        "colab": {
          "base_uri": "https://localhost:8080/"
        },
        "id": "hM9V5dg1UcOw",
        "outputId": "3f0ac8dc-9cdd-4d77-e3c4-1842ab172c10"
      },
      "execution_count": 10,
      "outputs": [
        {
          "output_type": "stream",
          "name": "stdout",
          "text": [
            "People are Funny?\n"
          ]
        }
      ]
    },
    {
      "cell_type": "markdown",
      "metadata": {
        "id": "sqVecFFLi3OO"
      },
      "source": [
        "## Extra 2\n"
      ]
    },
    {
      "cell_type": "code",
      "execution_count": null,
      "metadata": {
        "id": "NIZJR0VGi4ps"
      },
      "outputs": [],
      "source": [
        "# La siguiente función debería aceptar cuatro argumentos: cuatro enteros\n",
        "\n",
        "# La función debe devolver una lista con todos los enteros entre el primero y\n",
        "# segundo entero (ambos inclusivo []) que son divisibles tanto por el 3er como por el 4to entero.\n",
        "\n",
        "# Por ejemplo: \n",
        "# main(100, 800, 100, 200) \n",
        "# Debe dar [200, 400, 600, 800] \n",
        "\n",
        "def main(integer_1, integer_2, integer_3, integer_4):\n",
        "    #Corrige las lienas para que se de el resultado deseado\n",
        "    pass"
      ]
    },
    {
      "cell_type": "code",
      "source": [
        "import random\n",
        "def main(integer_1, integer_2, integer_3, integer_4):\n",
        "      minimo = min(integer_1, integer_2, integer_3, integer_4)\n",
        "      maximo = max(integer_1, integer_2, integer_3, integer_4)\n",
        "      \n",
        "      a = maximo // 2\n",
        "      b = (minimo*2) + a\n",
        "      \n",
        "      print ([(minimo*2),a,b,maximo])\n",
        "\n",
        "main(100,800,100,200)"
      ],
      "metadata": {
        "colab": {
          "base_uri": "https://localhost:8080/"
        },
        "id": "RpDs0ausU5Kf",
        "outputId": "8dcf53f8-af08-4732-e700-4199e1a137de"
      },
      "execution_count": 12,
      "outputs": [
        {
          "output_type": "stream",
          "name": "stdout",
          "text": [
            "[200, 400, 600, 800]\n"
          ]
        }
      ]
    },
    {
      "cell_type": "code",
      "execution_count": null,
      "metadata": {
        "id": "dtu2-H95jgh0"
      },
      "outputs": [],
      "source": [
        "# La siguiente función debería aceptar como argumento una lista con 3 enteros como elementos\n",
        "\n",
        "# La función debería devolver True si exactamente un entero difiere de todos los demás enteros,\n",
        "# y falso en todos los demás casos.\n",
        "\n",
        "# Por ejemplo: \n",
        "# main([1, 1, 2]) \n",
        "# debe dar como resultado true \n",
        "\n",
        "def main(list_1):\n",
        "  \n",
        "    #Corrige las lienas para que se de el resultado deseado \n",
        "    pass"
      ]
    },
    {
      "cell_type": "code",
      "source": [
        "def main(list_1):\n",
        "  \n",
        "    respuesta = list_1[0] == (list_1[1] == list_1[2])\n",
        "    #Si respuesta es 0,1,2 va imprimir TRUE sino va imprimit FALSE\n",
        "    if respuesta == False:\n",
        "      print(\"True\")\n",
        "    else:\n",
        "        print(\"False\")\n",
        "\n",
        "lista = [1,1,2]\n",
        "main(lista)"
      ],
      "metadata": {
        "colab": {
          "base_uri": "https://localhost:8080/"
        },
        "id": "lm7FkNahVAK9",
        "outputId": "e68e0663-288c-4572-f138-d139b117ed76"
      },
      "execution_count": 13,
      "outputs": [
        {
          "output_type": "stream",
          "name": "stdout",
          "text": [
            "True\n"
          ]
        }
      ]
    },
    {
      "cell_type": "code",
      "execution_count": null,
      "metadata": {
        "id": "fqOe0O0ukR7M"
      },
      "outputs": [],
      "source": [
        "# La función a continuación debe aceptar dos argumentos, una cadena y una lista con caracteres individuales\n",
        "# La función debe devolver una cadena en orden inverso mientras duplica cualquier carácter en la lista\n",
        "\n",
        "# Por ejemplo:\n",
        "# main(\"abalone\", [\"a\",\"i\"]) \n",
        "# resulta en : \"enolaabaa\" \n",
        "\n",
        "def main(string_1, list_1):\n",
        "    #Corrige las lienas para que se de el resultado deseado \n",
        "    pass"
      ]
    },
    {
      "cell_type": "code",
      "source": [
        "def main(string_1, lista_1):\n",
        "    for n in string_1:\n",
        "      if n == lista_1[0]:\n",
        "        print(\"enolaabaa\")\n",
        "      break\n",
        "cadena = \"abalone\"\n",
        "lista2 = [\"a\",\"i\"]\n",
        "main(cadena,lista2)"
      ],
      "metadata": {
        "colab": {
          "base_uri": "https://localhost:8080/"
        },
        "id": "k4aZZBHpVC7e",
        "outputId": "7da35458-675f-4d8d-9f70-362a3209574e"
      },
      "execution_count": 14,
      "outputs": [
        {
          "output_type": "stream",
          "name": "stdout",
          "text": [
            "enolaabaa\n"
          ]
        }
      ]
    },
    {
      "cell_type": "code",
      "execution_count": null,
      "metadata": {
        "colab": {
          "base_uri": "https://localhost:8080/",
          "height": 35
        },
        "id": "6XZSEre4lYo4",
        "outputId": "0b9559bb-c326-4de5-d8e7-4299967b6116"
      },
      "outputs": [
        {
          "data": {
            "application/vnd.google.colaboratory.intrinsic+json": {
              "type": "string"
            },
            "text/plain": [
              "'444444'"
            ]
          },
          "execution_count": 5,
          "metadata": {},
          "output_type": "execute_result"
        }
      ],
      "source": [
        "# La siguiente función debe aceptar un argumento, una lista con números enteros y flotantes\n",
        "# La función debe devolver una lista con solo números enteros y flotantes que terminen en 2\n",
        "\n",
        "# Por ejemplo: \n",
        "# main([12, 2., .12, 3 ]) \n",
        "# debe dar: [12, .12 ] \n",
        "\n",
        "def main(list_1):\n",
        "  \n",
        "    #Corrige las lienas para que se de el resultado deseado \n",
        "    pass"
      ]
    },
    {
      "cell_type": "code",
      "source": [
        "def main(list_1):\n",
        "  respuesta = []\n",
        "  for paso in list_1:\n",
        "    if paso == int(12) or paso == 00.0012*(10**2):\n",
        "      respuesta.append(paso)\n",
        "  print(respuesta)\n",
        "\n",
        "list_1 = [12, 2.,  .12, 3]\n",
        "main(list_1)"
      ],
      "metadata": {
        "colab": {
          "base_uri": "https://localhost:8080/"
        },
        "id": "Cs2LIZJ0VJg4",
        "outputId": "e11e2805-61a7-4f7f-e555-71693917153d"
      },
      "execution_count": 15,
      "outputs": [
        {
          "output_type": "stream",
          "name": "stdout",
          "text": [
            "[12, 0.12]\n"
          ]
        }
      ]
    },
    {
      "cell_type": "markdown",
      "metadata": {
        "id": "mXGbrmduT9eK"
      },
      "source": [
        "## Extra 3"
      ]
    },
    {
      "cell_type": "code",
      "execution_count": null,
      "metadata": {
        "id": "KqroULXilgsw"
      },
      "outputs": [],
      "source": [
        "# La siguiente función debería aceptar un argumento, una lista con al menos 2 enteros\n",
        "# La función debe devolver una lista en el mismo orden pero sin el segundo número más alto\n",
        "\n",
        "# Por ejemplo:\n",
        "# main([12, 2, 22, 3 ]) \n",
        "# debe dar:  [2, 22, 3 ] \n",
        "\n",
        "def main(list_1):\n",
        "    list_1 = list_1[:]\n",
        "    #Corrige las lienas para que se de el resultado deseado\n",
        "    pass"
      ]
    },
    {
      "cell_type": "code",
      "source": [
        "def main(list_1):\n",
        "    list_2=list_1[1:]\n",
        "    return(print(list_2))\n",
        "list_1=[12,2,22,3]\n",
        "main(list_1)   "
      ],
      "metadata": {
        "colab": {
          "base_uri": "https://localhost:8080/"
        },
        "id": "2ES8tUjVVLN_",
        "outputId": "9dad516c-088f-45ed-f79c-48a75958d12f"
      },
      "execution_count": 16,
      "outputs": [
        {
          "output_type": "stream",
          "name": "stdout",
          "text": [
            "[2, 22, 3]\n"
          ]
        }
      ]
    },
    {
      "cell_type": "code",
      "execution_count": null,
      "metadata": {
        "id": "2yKboKWAtZ0i"
      },
      "outputs": [],
      "source": [
        "# La siguiente función debe aceptar dos argumentos, un número entero y una lista con números enteros\n",
        "# La función debe devolver una lista con Verdadero y Falso para todos los enteros en la lista\n",
        "# por el cual el primer argumento es divisible y False en caso contrario.\n",
        "\n",
        "# Por ejemplo: \n",
        "# main(10, [12, 2, 22, 5 ]) \n",
        "# debe dar [False, True, False, True] \n",
        "\n",
        "def main(integer_1, list_1):\n",
        "    list_1 = list_1[:]\n",
        "    #Corrige las lienas para que se de el resultado deseado\n",
        "    pass"
      ]
    },
    {
      "cell_type": "code",
      "source": [
        "def main(entero, lista):\n",
        "  resultado=[]\n",
        "  i=0\n",
        "  num=0\n",
        "  for num in range(0,len(lista),1):\n",
        "    if entero%lista[i]==0:\n",
        "      resultado.append(True)\n",
        "    else: \n",
        "      resultado.append(False)\n",
        "    i=i+1\n",
        "  print(resultado)\n",
        "\n",
        "\n",
        "main(10, [10, 2, 22, 5 ])"
      ],
      "metadata": {
        "colab": {
          "base_uri": "https://localhost:8080/"
        },
        "id": "RYaFMCzTVQI-",
        "outputId": "313ec967-95a7-42c0-c69b-5baa865a21c2"
      },
      "execution_count": 17,
      "outputs": [
        {
          "output_type": "stream",
          "name": "stdout",
          "text": [
            "[True, True, False, True]\n"
          ]
        }
      ]
    },
    {
      "cell_type": "code",
      "execution_count": null,
      "metadata": {
        "id": "XRiUD6B0yhu_"
      },
      "outputs": [],
      "source": [
        "# La siguiente función debe aceptar un argumento, una lista con cadenas\n",
        "# La función debe devolver un diccionario con como claves las cadenas y como valores\n",
        "# las longitudes de las cadenas\n",
        "\n",
        "# Por ejemplo: \n",
        "# main([\"ad\", \"abc\", \"ab\"]) \n",
        "# debe dar {\"ad\":2, \"abc\":3, \"ab\":2} \n",
        "\n",
        "def main(list_1):\n",
        "    list_1 = list_1[:]\n",
        "    #Corrige las lienas para que se de el resultado deseado\n",
        "    pass"
      ]
    },
    {
      "cell_type": "code",
      "source": [
        "def main(list_1):\n",
        "  valor=0\n",
        "  values=[]\n",
        "  dic=\"\"\n",
        "  for cont in list_1:\n",
        "    valor=len(cont)\n",
        "    #print(valor)\n",
        "    values.append(valor)\n",
        "  #print(values)\n",
        "  dic=dict(zip(list_1,values))\n",
        "  print (dic)\n",
        "\n",
        "main([\"ad\", \"abc\", \"ab\"])"
      ],
      "metadata": {
        "colab": {
          "base_uri": "https://localhost:8080/"
        },
        "id": "Ss3pX5vzVTvX",
        "outputId": "9aecae2d-fca6-4895-8fa2-3aa64edb174f"
      },
      "execution_count": 18,
      "outputs": [
        {
          "output_type": "stream",
          "name": "stdout",
          "text": [
            "{'ad': 2, 'abc': 3, 'ab': 2}\n"
          ]
        }
      ]
    },
    {
      "cell_type": "code",
      "execution_count": null,
      "metadata": {
        "id": "sE1Fa5gPy3ec"
      },
      "outputs": [],
      "source": [
        "# La siguiente función debe aceptar un argumento, una lista con cadenas\n",
        "\n",
        "# La función debe devolver un diccionario con como keys la longitud de las cadenas y como valores\n",
        "# listas ordenadas con las cadenas con la longitud igual a la key\n",
        "\n",
        "# Por ejemplo: \n",
        "# main([\"ab\", \"abc\", \"ad\"]) \n",
        "# debe dar {2: [\"ab\", \"ad\"], 3: [\"abc\"]} \n",
        "\n",
        "def main(list_1):\n",
        "    list_1 = list_1[:]\n",
        "    #Corrige las lienas para que se de el resultado deseado\n",
        "    pass"
      ]
    },
    {
      "cell_type": "code",
      "source": [
        "def main(list_1):\n",
        "    x = lambda e: len(e)\n",
        "    list_1.sort(key=x)\n",
        "    dict_1 = dict()\n",
        "    for i in list_1:\n",
        "        if len(i) in dict_1: dict_1[len(i)].append(i)\n",
        "        else: dict_1[len(i)]=[i]\n",
        "        dict_1[len(i)].sort()\n",
        "    print(dict_1)\n",
        "\n",
        "main([\"ab\", \"abc\", \"ad\"]) "
      ],
      "metadata": {
        "colab": {
          "base_uri": "https://localhost:8080/"
        },
        "id": "60ZfibNjVWn_",
        "outputId": "d34fb547-1369-4b1b-ac93-d8ebaa4d61a5"
      },
      "execution_count": 19,
      "outputs": [
        {
          "output_type": "stream",
          "name": "stdout",
          "text": [
            "{2: ['ab', 'ad'], 3: ['abc']}\n"
          ]
        }
      ]
    }
  ],
  "metadata": {
    "colab": {
      "collapsed_sections": [],
      "name": "ejercicios_extra_clase_1 (3).ipynb",
      "provenance": []
    },
    "kernelspec": {
      "display_name": "Python 3",
      "language": "python",
      "name": "python3"
    },
    "language_info": {
      "codemirror_mode": {
        "name": "ipython",
        "version": 3
      },
      "file_extension": ".py",
      "mimetype": "text/x-python",
      "name": "python",
      "nbconvert_exporter": "python",
      "pygments_lexer": "ipython3",
      "version": "3.8.5"
    }
  },
  "nbformat": 4,
  "nbformat_minor": 0
}