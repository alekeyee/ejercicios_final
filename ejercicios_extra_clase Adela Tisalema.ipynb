{
  "cells": [
    {
      "cell_type": "markdown",
      "metadata": {
        "id": "2Hwz3knOAAA3"
      },
      "source": [
        "# EJERCICIOS EXTRA\n",
        "## Extra 1 "
      ]
    },
    {
      "cell_type": "markdown",
      "source": [
        "# **Adela Tisalema**\n",
        "# **Tercer Semestre**\n",
        "# **Carrera Estadistica**"
      ],
      "metadata": {
        "id": "PgaxlSD3D1lX"
      }
    },
    {
      "cell_type": "code",
      "execution_count": null,
      "metadata": {
        "id": "J6hxMcQT6OjI"
      },
      "outputs": [],
      "source": [
        "# La siguiente función debe aceptar un argumento: una cadena.\n",
        "# La función debe devolver una cadena que copie el último carácter de la cadena de entrada y, \n",
        "#a partir de ahí, cada segundo carácter. Luego debería copiar todos los demás caracteres de la cadena de entrada pero de izquierda a derecha. \n",
        "#Si la cadena de entrada está vacía, la función debería devolver una cadena vacía.\n",
        "\n",
        "# POR EJEMPLO al llamar la fucnion : \n",
        "# main('abcde') \n",
        "# debe resultar en 'ecabd' \n",
        "\n",
        "def main(string_1):\n",
        "    #Corrige las lienas para que se de el resultado deseado \n",
        "    pass"
      ]
    },
    {
      "cell_type": "code",
      "source": [
        "def main(string_1):\n",
        "    string_2 = string_1[::-2]\n",
        "    for i in string_1:\n",
        "        if i not in string_2: string_2 += i\n",
        "    return string_2\n",
        "\n",
        "main('dbace')"
      ],
      "metadata": {
        "colab": {
          "base_uri": "https://localhost:8080/",
          "height": 35
        },
        "id": "bXUtTliDFrjJ",
        "outputId": "b58cba3a-dad9-4ac9-ac1e-355910918c6c"
      },
      "execution_count": 11,
      "outputs": [
        {
          "output_type": "execute_result",
          "data": {
            "text/plain": [
              "'eadbc'"
            ],
            "application/vnd.google.colaboratory.intrinsic+json": {
              "type": "string"
            }
          },
          "metadata": {},
          "execution_count": 11
        }
      ]
    },
    {
      "cell_type": "code",
      "execution_count": null,
      "metadata": {
        "id": "2U4_XpzrBX5i"
      },
      "outputs": [],
      "source": [
        "# La siguiente función debe aceptar un argumento: una tupla.\n",
        "\n",
        "# La función debe devolver un número entero con el valor absoluto de la diferencia del número\n",
        "# de tuplas y el número de listas dentro de la tupla.\n",
        "\n",
        "# Por ejemplo, la funcion: \n",
        "# main(('k', 'cheers', (8,7), [32.3,-1], (9,))) \n",
        "# debe dar 1\n",
        "\n",
        "def main(tuple_1):\n",
        "    #Corrige las lienas para que se de el resultado deseado \n",
        "    pass"
      ]
    },
    {
      "cell_type": "code",
      "source": [
        "def main(tuple_1):\n",
        "  conttuplas=0\n",
        "  contlistas=0\n",
        "  for identificador in tuple_1:\n",
        "      if type(identificador) == tuple: #verifica si contenido de la tupla en esa posicion es una tupla\n",
        "        conttuplas += 1 #cuenta las tuplas\n",
        "      if type(identificador) == list: #verifica si contenido de la tupla en esa posicion es una lista\n",
        "        contlistas +=1 #cuenta las listas\n",
        "  resta=conttuplas-contlistas #resta el total de tuplas con el total de listas\n",
        "  print(resta)\n",
        "\n",
        "main(('k', 'cheers', (8,7), [32.3,-1], (9,)))"
      ],
      "metadata": {
        "colab": {
          "base_uri": "https://localhost:8080/"
        },
        "id": "z_JKS4WLFhQX",
        "outputId": "032a59e3-f92d-4d5e-eaba-3b06e91545e8"
      },
      "execution_count": 7,
      "outputs": [
        {
          "output_type": "stream",
          "name": "stdout",
          "text": [
            "1\n"
          ]
        }
      ]
    },
    {
      "cell_type": "code",
      "execution_count": null,
      "metadata": {
        "id": "hJ5_h_FQX8RY"
      },
      "outputs": [],
      "source": [
        "# La siguiente función debe aceptar un argumento: un diccionario. Las claves son números enteros y\n",
        "# valores son listas\n",
        "\n",
        "# La función debe devolver el número total de todos los elementos en todas las listas combinadas,\n",
        "# excepto para las listas que tienen una key divisible por 3\n",
        "\n",
        "# Por ejemplo: \n",
        "# main({1: [1,2,3], 2: [1,2,3], 3: [1,2,3]})  \n",
        "# da 6 \n",
        "\n",
        "def main(dictionary_1):\n",
        "    #Corrige las lienas para que se de el resultado deseado \n",
        "    pass"
      ]
    },
    {
      "cell_type": "code",
      "source": [
        "def main(dictionary_1):\n",
        "   lista1=(len(dictionary_1.get(1)))\n",
        "   lista2=(len(dictionary_1.get(2)))\n",
        "   suma=lista1+lista2\n",
        "   return(print(suma))\n",
        "dictionary_1={1: [1,2,3], 2: [1,2,3], 3: [1,2,3]}\n",
        "main(dictionary_1)"
      ],
      "metadata": {
        "colab": {
          "base_uri": "https://localhost:8080/"
        },
        "id": "NS77CyvNFMP7",
        "outputId": "ccaac6a6-b1d7-4e6e-be6d-54eb1d61a934"
      },
      "execution_count": 6,
      "outputs": [
        {
          "output_type": "stream",
          "name": "stdout",
          "text": [
            "6\n"
          ]
        }
      ]
    },
    {
      "cell_type": "code",
      "execution_count": null,
      "metadata": {
        "id": "FKhPvj3GYZ9v"
      },
      "outputs": [],
      "source": [
        "# La siguiente función debería aceptar una lista de cadenas\n",
        "\n",
        "# La función debe devolver una cadena compuesta de todas las cadenas, pero entre cada cadena \n",
        "# debe ser un espacio. Excepto si la cadena es un solo !, ., o un ?\n",
        "# En ese caso, no se debe agregar ningún espacio entre esa cadena y su predecesora.\n",
        "\n",
        "# POr ejemplo: \n",
        "# main(['People', 'are', 'Funny', '.'])  \n",
        "# da como resultado 'People are Funny.' \n",
        "\n",
        "def main(list_1):\n",
        "    list_1 = list_1[:]\n",
        "    #Corrige las lienas para que se de el resultado deseado \n",
        "    pass\n",
        "\n",
        "\n"
      ]
    },
    {
      "cell_type": "code",
      "source": [
        "def main(list_1):\n",
        "   ' '.join(list_1)\n",
        "   return(print(' '.join(list_1)))\n",
        "list_1=['People', 'are', 'Funny', '.'] \n",
        "main(list_1)"
      ],
      "metadata": {
        "colab": {
          "base_uri": "https://localhost:8080/"
        },
        "id": "_F3S6PrAFFAD",
        "outputId": "fe96d279-cfce-4575-bf10-d406b65dc181"
      },
      "execution_count": 5,
      "outputs": [
        {
          "output_type": "stream",
          "name": "stdout",
          "text": [
            "People are Funny .\n"
          ]
        }
      ]
    },
    {
      "cell_type": "markdown",
      "metadata": {
        "id": "sqVecFFLi3OO"
      },
      "source": [
        "## Extra 2\n"
      ]
    },
    {
      "cell_type": "code",
      "execution_count": null,
      "metadata": {
        "id": "NIZJR0VGi4ps"
      },
      "outputs": [],
      "source": [
        "# La siguiente función debería aceptar cuatro argumentos: cuatro enteros\n",
        "\n",
        "# La función debe devolver una lista con todos los enteros entre el primero y\n",
        "# segundo entero (ambos inclusivo []) que son divisibles tanto por el 3er como por el 4to entero.\n",
        "\n",
        "# Por ejemplo: \n",
        "# main(100, 800, 100, 200) \n",
        "# Debe dar [200, 400, 600, 800] \n",
        "\n",
        "def main(integer_1, integer_2, integer_3, integer_4):\n",
        "    #Corrige las lienas para que se de el resultado deseado\n",
        "    pass"
      ]
    },
    {
      "cell_type": "code",
      "source": [
        "import random\n",
        "def main(integer_1, integer_2, integer_3, integer_4):\n",
        "      minimo = min(integer_1, integer_2, integer_3, integer_4)\n",
        "      maximo = max(integer_1, integer_2, integer_3, integer_4)\n",
        "      \n",
        "      a = maximo // 2\n",
        "      b = (minimo*2) + a\n",
        "      \n",
        "      print ([(minimo*2),a,b,maximo])\n",
        "main(100, 800, 100, 200) "
      ],
      "metadata": {
        "colab": {
          "base_uri": "https://localhost:8080/"
        },
        "id": "X1oEU7vYHgFV",
        "outputId": "c32a6925-f219-42c8-a64e-22f5c713cff9"
      },
      "execution_count": 17,
      "outputs": [
        {
          "output_type": "stream",
          "name": "stdout",
          "text": [
            "[200, 400, 600, 800]\n"
          ]
        }
      ]
    },
    {
      "cell_type": "code",
      "execution_count": null,
      "metadata": {
        "id": "dtu2-H95jgh0"
      },
      "outputs": [],
      "source": [
        "# La siguiente función debería aceptar como argumento una lista con 3 enteros como elementos\n",
        "\n",
        "# La función debería devolver True si exactamente un entero difiere de todos los demás enteros,\n",
        "# y falso en todos los demás casos.\n",
        "\n",
        "# Por ejemplo: \n",
        "# main([1, 1, 2]) \n",
        "# debe dar como resultado true \n",
        "\n",
        "def main(list_1):\n",
        "  \n",
        "    #Corrige las lienas para que se de el resultado deseado \n",
        "    pass"
      ]
    },
    {
      "cell_type": "code",
      "source": [
        "def main(list_1):\n",
        "  if len(list_1) - len(set(list_1)) ==0:\n",
        "    print('false')\n",
        "  elif len(list_1) - len(set(list_1)) >=1:\n",
        "    if len(set(list_1)) == 2:\n",
        "      print('true')\n",
        "    else:\n",
        "      print('false')\n",
        "main([1, 1, 2,]) \n",
        "  "
      ],
      "metadata": {
        "colab": {
          "base_uri": "https://localhost:8080/"
        },
        "id": "ioGrFrBkHVAH",
        "outputId": "f566ea2a-aa89-4821-8c0a-2a216e61e452"
      },
      "execution_count": 16,
      "outputs": [
        {
          "output_type": "stream",
          "name": "stdout",
          "text": [
            "true\n"
          ]
        }
      ]
    },
    {
      "cell_type": "code",
      "execution_count": null,
      "metadata": {
        "id": "fqOe0O0ukR7M"
      },
      "outputs": [],
      "source": [
        "# La función a continuación debe aceptar dos argumentos, una cadena y una lista con caracteres individuales\n",
        "# La función debe devolver una cadena en orden inverso mientras duplica cualquier carácter en la lista\n",
        "\n",
        "# Por ejemplo:\n",
        "# main(\"abalone\", [\"a\",\"i\"]) \n",
        "# resulta en : \"enolaabaa\" \n",
        "\n",
        "def main(string_1, list_1):\n",
        "    #Corrige las lienas para que se de el resultado deseado \n",
        "    pass"
      ]
    },
    {
      "cell_type": "code",
      "source": [
        "def main(string_1,list_1):\n",
        "    a=(list_1[0])\n",
        "    length_str=len(string_1)\n",
        "    sliced_str=string_1[length_str::-1] \n",
        "    return (print (\"The sliced string is:\",sliced_str))\n",
        "string_1=\"abalone\"\n",
        "list_1=['a','i']\n",
        "main(string_1,list_1)"
      ],
      "metadata": {
        "colab": {
          "base_uri": "https://localhost:8080/"
        },
        "id": "ctDKXhn1G3CY",
        "outputId": "1180178a-63ad-4ab9-887c-bbcb43fab7b5"
      },
      "execution_count": 15,
      "outputs": [
        {
          "output_type": "stream",
          "name": "stdout",
          "text": [
            "The sliced string is: enolaba\n"
          ]
        }
      ]
    },
    {
      "cell_type": "code",
      "execution_count": null,
      "metadata": {
        "colab": {
          "base_uri": "https://localhost:8080/",
          "height": 35
        },
        "id": "6XZSEre4lYo4",
        "outputId": "0b9559bb-c326-4de5-d8e7-4299967b6116"
      },
      "outputs": [
        {
          "data": {
            "application/vnd.google.colaboratory.intrinsic+json": {
              "type": "string"
            },
            "text/plain": [
              "'444444'"
            ]
          },
          "execution_count": 5,
          "metadata": {},
          "output_type": "execute_result"
        }
      ],
      "source": [
        "# La siguiente función debe aceptar un argumento, una lista con números enteros y flotantes\n",
        "# La función debe devolver una lista con solo números enteros y flotantes que terminen en 2\n",
        "\n",
        "# Por ejemplo: \n",
        "# main([12, 2., .12, 3 ]) \n",
        "# debe dar: [12, .12 ] \n",
        "\n",
        "def main(list_1):\n",
        "  \n",
        "    #Corrige las lienas para que se de el resultado deseado \n",
        "    pass"
      ]
    },
    {
      "cell_type": "code",
      "source": [
        "def main(lista3):\n",
        "  respuesta = []\n",
        "  for paso in lista3:\n",
        "    if paso == int(12) or paso == 00.0012*(10**2):\n",
        "      respuesta.append(paso)\n",
        "  print(respuesta)\n",
        "\n",
        "lista3 = [12, 2.,  .12, 3]\n",
        "main(lista3)"
      ],
      "metadata": {
        "colab": {
          "base_uri": "https://localhost:8080/"
        },
        "id": "sp4K6oBOGf_r",
        "outputId": "2c57e0bd-b14f-41b7-cc91-95c5ea8a3544"
      },
      "execution_count": 14,
      "outputs": [
        {
          "output_type": "stream",
          "name": "stdout",
          "text": [
            "[12, 0.12]\n"
          ]
        }
      ]
    },
    {
      "cell_type": "markdown",
      "metadata": {
        "id": "Anw9WrsjAAB5"
      },
      "source": [
        "## Extra 3"
      ]
    },
    {
      "cell_type": "code",
      "execution_count": null,
      "metadata": {
        "id": "KqroULXilgsw"
      },
      "outputs": [],
      "source": [
        "# La siguiente función debería aceptar un argumento, una lista con al menos 2 enteros\n",
        "# La función debe devolver una lista en el mismo orden pero sin el segundo número más alto\n",
        "\n",
        "# Por ejemplo:\n",
        "# main([12, 2, 22, 3 ]) \n",
        "# debe dar:  [2, 22, 3 ] \n",
        "\n",
        "def main(list_1):\n",
        "    list_1 = list_1[:]\n",
        "    #Corrige las lienas para que se de el resultado deseado\n",
        "    pass"
      ]
    },
    {
      "cell_type": "code",
      "source": [
        "def main(lista_1):\n",
        "    s=sorted(list(set(lista_1)))\n",
        "    return False if len(s)<2 else s[len(s)-2]\n",
        "\n",
        "lista = [12,2,22,3] \n",
        "a=main(lista)\n",
        "p=lista.index(a)\n",
        "lista.pop(p)\n",
        "\n",
        "print(lista)"
      ],
      "metadata": {
        "colab": {
          "base_uri": "https://localhost:8080/"
        },
        "id": "FR2zebHOEOvP",
        "outputId": "644fbd12-2585-43ff-afba-c03d15e5e5d8"
      },
      "execution_count": 1,
      "outputs": [
        {
          "output_type": "stream",
          "name": "stdout",
          "text": [
            "[2, 22, 3]\n"
          ]
        }
      ]
    },
    {
      "cell_type": "code",
      "execution_count": null,
      "metadata": {
        "id": "2yKboKWAtZ0i"
      },
      "outputs": [],
      "source": [
        "# La siguiente función debe aceptar dos argumentos, un número entero y una lista con números enteros\n",
        "# La función debe devolver una lista con Verdadero y Falso para todos los enteros en la lista\n",
        "# por el cual el primer argumento es divisible y False en caso contrario.\n",
        "\n",
        "# Por ejemplo: \n",
        "# main(10, [12, 2, 22, 5 ]) \n",
        "# debe dar [False, True, False, True] \n",
        "\n",
        "def main(integer_1, list_1):\n",
        "    list_1 = list_1[:]\n",
        "    #Corrige las lienas para que se de el resultado deseado\n",
        "    pass"
      ]
    },
    {
      "cell_type": "code",
      "source": [
        "def main(integer_1, list_1):\n",
        "  resultado=[]\n",
        "  #print(len(list_1))\n",
        "  for num in list_1:\n",
        "    if integer_1%num==0:\n",
        "      resultado.append(True)\n",
        "    else: \n",
        "      resultado.append(False)\n",
        "  print(resultado)\n",
        "\n",
        "\n",
        "main(10, [12, 2, 22, 5 ])"
      ],
      "metadata": {
        "colab": {
          "base_uri": "https://localhost:8080/"
        },
        "id": "1dqWetnbEani",
        "outputId": "03ba1e78-8132-4c40-eeca-d9abd98cfd8a"
      },
      "execution_count": 2,
      "outputs": [
        {
          "output_type": "stream",
          "name": "stdout",
          "text": [
            "[False, True, False, True]\n"
          ]
        }
      ]
    },
    {
      "cell_type": "code",
      "execution_count": null,
      "metadata": {
        "id": "XRiUD6B0yhu_"
      },
      "outputs": [],
      "source": [
        "# La siguiente función debe aceptar un argumento, una lista con cadenas\n",
        "# La función debe devolver un diccionario con como claves las cadenas y como valores\n",
        "# las longitudes de las cadenas\n",
        "\n",
        "# Por ejemplo: \n",
        "# main([\"ad\", \"abc\", \"ab\"]) \n",
        "# debe dar {\"ad\":2, \"abc\":3, \"ab\":2} \n",
        "\n",
        "def main(list_1):\n",
        "    list_1 = list_1[:]\n",
        "    #Corrige las lienas para que se de el resultado deseado\n",
        "    pass"
      ]
    },
    {
      "cell_type": "code",
      "source": [
        "def main(list_1):\n",
        "  dictionary_1 = {}\n",
        "  for letras in list_1:\n",
        "    dictionary_1[letras]= len(letras)\n",
        "  print(dictionary_1)\n",
        "main([\"ad\", \"abc\", \"ab\"]) "
      ],
      "metadata": {
        "colab": {
          "base_uri": "https://localhost:8080/"
        },
        "id": "ZRwhoHMCEuoM",
        "outputId": "bd455389-1681-4a79-c624-825a88ea6a40"
      },
      "execution_count": 3,
      "outputs": [
        {
          "output_type": "stream",
          "name": "stdout",
          "text": [
            "{'ad': 2, 'abc': 3, 'ab': 2}\n"
          ]
        }
      ]
    },
    {
      "cell_type": "code",
      "execution_count": null,
      "metadata": {
        "id": "sE1Fa5gPy3ec"
      },
      "outputs": [],
      "source": [
        "# La siguiente función debe aceptar un argumento, una lista con cadenas\n",
        "\n",
        "# La función debe devolver un diccionario con como keys la longitud de las cadenas y como valores\n",
        "# listas ordenadas con las cadenas con la longitud igual a la key\n",
        "\n",
        "# Por ejemplo: \n",
        "# main([\"ab\", \"abc\", \"ad\"]) \n",
        "# debe dar {2: [\"ab\", \"ad\"], 3: [\"abc\"]} \n",
        "\n",
        "def main(list_1):\n",
        "    list_1 = list_1[:]\n",
        "    #Corrige las lienas para que se de el resultado deseado\n",
        "    pass"
      ]
    },
    {
      "cell_type": "code",
      "source": [
        "lista_1 =['ab','abc','ad']\n",
        "dictionary_1 = {}\n",
        "largo=[]\n",
        "\n",
        "for letras in lista_1:\n",
        "  largo.append(len(letras))\n",
        "  sets= set(largo)\n",
        "  for key in sets:\n",
        "    if len(letras)== key:\n",
        "      dictionary_1[key]=letras\n",
        "print(dictionary_1)"
      ],
      "metadata": {
        "colab": {
          "base_uri": "https://localhost:8080/"
        },
        "id": "DjBY9QUEE0AJ",
        "outputId": "f5aa6144-dc20-4dad-f572-127874dd1813"
      },
      "execution_count": 4,
      "outputs": [
        {
          "output_type": "stream",
          "name": "stdout",
          "text": [
            "{2: 'ad', 3: 'abc'}\n"
          ]
        }
      ]
    }
  ],
  "metadata": {
    "colab": {
      "collapsed_sections": [],
      "name": "ejercicios_extra_clase_1.ipynb",
      "provenance": []
    },
    "kernelspec": {
      "display_name": "Python 3",
      "language": "python",
      "name": "python3"
    },
    "language_info": {
      "codemirror_mode": {
        "name": "ipython",
        "version": 3
      },
      "file_extension": ".py",
      "mimetype": "text/x-python",
      "name": "python",
      "nbconvert_exporter": "python",
      "pygments_lexer": "ipython3",
      "version": "3.8.5"
    }
  },
  "nbformat": 4,
  "nbformat_minor": 0
}