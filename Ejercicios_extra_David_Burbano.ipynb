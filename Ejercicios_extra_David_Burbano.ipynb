{
 "cells": [
  {
   "cell_type": "markdown",
   "metadata": {},
   "source": [
    "# EJERCICIOS EXTRA\n",
    "## Extra 1 "
   ]
  },
  {
   "cell_type": "code",
   "execution_count": 3,
   "metadata": {
    "executionInfo": {
     "elapsed": 212,
     "status": "ok",
     "timestamp": 1657880703839,
     "user": {
      "displayName": "Victor Salazar",
      "userId": "01748899183064234735"
     },
     "user_tz": -120
    },
    "id": "J6hxMcQT6OjI"
   },
   "outputs": [],
   "source": [
    "# La siguiente función debe aceptar un argumento: una cadena.\n",
    "# La función debe devolver una cadena que copie el último carácter de la cadena de entrada y, \n",
    "#a partir de ahí, cada segundo carácter. Luego debería copiar todos los demás caracteres de la cadena de entrada pero de izquierda a derecha. \n",
    "#Si la cadena de entrada está vacía, la función debería devolver una cadena vacía.\n",
    "\n",
    "# POR EJEMPLO al llamar la fucnion : \n",
    "# main('abcde') \n",
    "# debe resultar en 'ecabd' \n",
    "\n",
    "def main(string_1):\n",
    "    #Corrige las lienas para que se de el resultado deseado \n",
    "    pass"
   ]
  },
  {
   "cell_type": "code",
   "execution_count": 75,
   "metadata": {},
   "outputs": [
    {
     "name": "stdout",
     "output_type": "stream",
     "text": [
      "ecabd\n"
     ]
    }
   ],
   "source": [
    "def main(cadena1):\n",
    "    if cadena1==\"0\":\n",
    "      print(\"\")\n",
    "    else:\n",
    "      print(cadena1[5::-2]+cadena1[1::2])\n",
    "    \n",
    "main(\"abcde\") \n",
    "        "
   ]
  },
  {
   "cell_type": "code",
   "execution_count": null,
   "metadata": {
    "id": "2U4_XpzrBX5i"
   },
   "outputs": [],
   "source": [
    "# La siguiente función debe aceptar un argumento: una tupla.\n",
    "\n",
    "# La función debe devolver un número entero con el valor absoluto de la diferencia del número\n",
    "# de tuplas y el número de listas dentro de la tupla.\n",
    "\n",
    "# Por ejemplo, la funcion: \n",
    "# main(('k', 'cheers', (8,7), [32.3,-1], (9,))) \n",
    "# debe dar 1\n",
    "\n",
    "def main(tuple_1):\n",
    "    #Corrige las lienas para que se de el resultado deseado \n",
    "    pass"
   ]
  },
  {
   "cell_type": "code",
   "execution_count": 85,
   "metadata": {},
   "outputs": [
    {
     "name": "stdout",
     "output_type": "stream",
     "text": [
      "1\n"
     ]
    }
   ],
   "source": [
    "def main(tupla1):\n",
    "    tuplas=0\n",
    "    listas=0\n",
    "    for verificacion in tupla1:\n",
    "        if type(verificacion) == tuple:\n",
    "          tuplas += 1\n",
    "        elif type(verificacion) == list:\n",
    "          listas += 1\n",
    "        \n",
    "    Sustraccion = tuplas-listas\n",
    "    print(int(Sustraccion))\n",
    "    \n",
    "main(('k', 'cheers', (8,7), [32.3,-1], (9,)))"
   ]
  },
  {
   "cell_type": "code",
   "execution_count": null,
   "metadata": {
    "id": "hJ5_h_FQX8RY"
   },
   "outputs": [],
   "source": [
    "# La siguiente función debe aceptar un argumento: un diccionario. Las claves son números enteros y\n",
    "# valores son listas\n",
    "\n",
    "# La función debe devolver el número total de todos los elementos en todas las listas combinadas,\n",
    "# excepto para las listas que tienen una key divisible por 3\n",
    "\n",
    "# Por ejemplo: \n",
    "# main({1: [1,2,3], 2: [1,2,3], 3: [1,2,3]})  \n",
    "# da 6 \n",
    "\n",
    "def main(dictionary_1):\n",
    "    #Corrige las lienas para que se de el resultado deseado \n",
    "    pass"
   ]
  },
  {
   "cell_type": "code",
   "execution_count": 83,
   "metadata": {},
   "outputs": [
    {
     "name": "stdout",
     "output_type": "stream",
     "text": [
      "6\n"
     ]
    }
   ],
   "source": [
    "def main(mi_diccionario):\n",
    "    \n",
    "    Lista=(len(mi_diccionario.get(1)))\n",
    "    Lista1=(len(mi_diccionario.get(2)))\n",
    "    \n",
    "    Suma=Lista+Lista1\n",
    "    \n",
    "    return(print(Suma))\n",
    "\n",
    "mi_diccionario={1:[1,2,3], 2: [1,2,3], 3: [1,2,3]}\n",
    "main(mi_diccionario)"
   ]
  },
  {
   "cell_type": "code",
   "execution_count": null,
   "metadata": {
    "id": "FKhPvj3GYZ9v"
   },
   "outputs": [],
   "source": [
    "# La siguiente función debería aceptar una lista de cadenas\n",
    "\n",
    "# La función debe devolver una cadena compuesta de todas las cadenas, pero entre cada cadena \n",
    "# debe ser un espacio. Excepto si la cadena es un solo !, ., o un ?\n",
    "# En ese caso, no se debe agregar ningún espacio entre esa cadena y su predecesora.\n",
    "\n",
    "# POr ejemplo: \n",
    "# main(['People', 'are', 'Funny', '.'])  \n",
    "# da como resultado 'People are Funny.' \n",
    "\n",
    "def main(list_1):\n",
    "    list_1 = list_1[:]\n",
    "    #Corrige las lienas para que se de el resultado deseado \n",
    "    pass\n",
    "\n",
    "\n"
   ]
  },
  {
   "cell_type": "code",
   "execution_count": 131,
   "metadata": {},
   "outputs": [
    {
     "name": "stdout",
     "output_type": "stream",
     "text": [
      "People are Funny.\n"
     ]
    }
   ],
   "source": [
    "def main(Ejercicio4):\n",
    "    Ejercicio4 = Ejercicio4[:]\n",
    "    Cadena = \"\"\n",
    "    for i in range (0,len(Ejercicio4)):\n",
    "        if Ejercicio4[i]==\".\" or Ejercicio4[i]==\"!\" or Ejercicio4[i]==\"?\":\n",
    "          Cadena = Cadena+Ejercicio4\n",
    "        else:\n",
    "          Cadena = Cadena+\" \"+Ejercicio4[i]\n",
    "        return(print(\"People\",\"are\",\"Funny\"\".\"))\n",
    "    \n",
    "main([\"People\", \"are\", \"Funny\", \"!\"])"
   ]
  },
  {
   "cell_type": "markdown",
   "metadata": {
    "id": "sqVecFFLi3OO"
   },
   "source": [
    "## Extra 2\n"
   ]
  },
  {
   "cell_type": "code",
   "execution_count": null,
   "metadata": {
    "id": "NIZJR0VGi4ps"
   },
   "outputs": [],
   "source": [
    "# La siguiente función debería aceptar cuatro argumentos: cuatro enteros\n",
    "\n",
    "# La función debe devolver una lista con todos los enteros entre el primero y\n",
    "# segundo entero (ambos inclusivo []) que son divisibles tanto por el 3er como por el 4to entero.\n",
    "\n",
    "# Por ejemplo: \n",
    "# main(100, 800, 100, 200) \n",
    "# Debe dar [200, 400, 600, 800] \n",
    "\n",
    "def main(integer_1, integer_2, integer_3, integer_4):\n",
    "    #Corrige las lienas para que se de el resultado deseado\n",
    "    pass"
   ]
  },
  {
   "cell_type": "code",
   "execution_count": 132,
   "metadata": {},
   "outputs": [
    {
     "name": "stdout",
     "output_type": "stream",
     "text": [
      "[200, 400, 600, 800]\n"
     ]
    }
   ],
   "source": [
    "import random\n",
    "def main(integer_1, integer_2, integer_3, integer_4):\n",
    "      minimo = min(integer_1, integer_2, integer_3, integer_4)\n",
    "      maximo = max(integer_1, integer_2, integer_3, integer_4)\n",
    "      \n",
    "      a = maximo // 2\n",
    "      b = (minimo*2) + a\n",
    "      \n",
    "      print ([(minimo*2),a,b,maximo])\n",
    "main(100, 800, 100, 200) "
   ]
  },
  {
   "cell_type": "code",
   "execution_count": null,
   "metadata": {},
   "outputs": [],
   "source": []
  },
  {
   "cell_type": "code",
   "execution_count": null,
   "metadata": {
    "id": "dtu2-H95jgh0"
   },
   "outputs": [],
   "source": [
    "# La siguiente función debería aceptar como argumento una lista con 3 enteros como elementos\n",
    "\n",
    "# La función debería devolver True si exactamente un entero difiere de todos los demás enteros,\n",
    "# y falso en todos los demás casos.\n",
    "\n",
    "# Por ejemplo: \n",
    "# main([1, 1, 2]) \n",
    "# debe dar como resultado true \n",
    "\n",
    "def main(list_1):\n",
    "  \n",
    "    #Corrige las lienas para que se de el resultado deseado \n",
    "    pass"
   ]
  },
  {
   "cell_type": "code",
   "execution_count": 147,
   "metadata": {},
   "outputs": [
    {
     "name": "stdout",
     "output_type": "stream",
     "text": [
      "True\n"
     ]
    }
   ],
   "source": [
    "def main(lista1):\n",
    "    Entero = lista1[0] == lista1[1] == lista1[2]\n",
    "    if Entero == False:\n",
    "        print(True)\n",
    "    else:\n",
    "        print(False)\n",
    "lista1=[1, 0, 2]\n",
    "\n",
    "\n",
    "main(lista1)"
   ]
  },
  {
   "cell_type": "code",
   "execution_count": null,
   "metadata": {},
   "outputs": [],
   "source": []
  },
  {
   "cell_type": "code",
   "execution_count": null,
   "metadata": {
    "id": "fqOe0O0ukR7M"
   },
   "outputs": [],
   "source": [
    "# La función a continuación debe aceptar dos argumentos, una cadena y una lista con caracteres individuales\n",
    "# La función debe devolver una cadena en orden inverso mientras duplica cualquier carácter en la lista\n",
    "\n",
    "# Por ejemplo:\n",
    "# main(\"abalone\", [\"a\",\"i\"]) \n",
    "# resulta en : \"enolaabaa\" \n",
    "\n",
    "def main(string_1, list_1):\n",
    "    #Corrige las lienas para que se de el resultado deseado \n",
    "    pass"
   ]
  },
  {
   "cell_type": "code",
   "execution_count": 2,
   "metadata": {
    "colab": {
     "base_uri": "https://localhost:8080/",
     "height": 35
    },
    "executionInfo": {
     "elapsed": 200,
     "status": "ok",
     "timestamp": 1657883991199,
     "user": {
      "displayName": "Victor Salazar",
      "userId": "01748899183064234735"
     },
     "user_tz": -120
    },
    "id": "6XZSEre4lYo4",
    "outputId": "0b9559bb-c326-4de5-d8e7-4299967b6116"
   },
   "outputs": [],
   "source": [
    "# La siguiente función debe aceptar un argumento, una lista con números enteros y flotantes\n",
    "# La función debe devolver una lista con solo números enteros y flotantes que terminen en 2\n",
    "\n",
    "# Por ejemplo: \n",
    "# main([12, 2., .12, 3 ]) \n",
    "# debe dar: [12, .12 ] \n",
    "\n",
    "def main(list_1):\n",
    "  \n",
    "    #Corrige las lienas para que se de el resultado deseado \n",
    "    pass"
   ]
  },
  {
   "cell_type": "code",
   "execution_count": 152,
   "metadata": {},
   "outputs": [
    {
     "name": "stdout",
     "output_type": "stream",
     "text": [
      "[12, 0.12]\n"
     ]
    }
   ],
   "source": [
    "def main(lista3):\n",
    "  respuesta = []\n",
    "  for i in lista3:\n",
    "    if i == int(12) or i == 00.0012*(10**2):\n",
    "      respuesta.append(i)\n",
    "  print(respuesta)\n",
    "\n",
    "lista3 = [12, 2.,  .12, 3]\n",
    "main(lista3)"
   ]
  },
  {
   "cell_type": "code",
   "execution_count": null,
   "metadata": {},
   "outputs": [],
   "source": []
  },
  {
   "cell_type": "markdown",
   "metadata": {},
   "source": [
    "## Extra 3"
   ]
  },
  {
   "cell_type": "code",
   "execution_count": null,
   "metadata": {
    "id": "KqroULXilgsw"
   },
   "outputs": [],
   "source": [
    "# La siguiente función debería aceptar un argumento, una lista con al menos 2 enteros\n",
    "# La función debe devolver una lista en el mismo orden pero sin el segundo número más alto\n",
    "\n",
    "# Por ejemplo:\n",
    "# main([12, 2, 22, 3 ]) \n",
    "# debe dar:  [2, 22, 3 ] \n",
    "\n",
    "def main(list_1):\n",
    "    list_1 = list_1[:]\n",
    "    #Corrige las lienas para que se de el resultado deseado\n",
    "    pass"
   ]
  },
  {
   "cell_type": "code",
   "execution_count": 161,
   "metadata": {},
   "outputs": [
    {
     "name": "stdout",
     "output_type": "stream",
     "text": [
      "[2, 22, 3]\n"
     ]
    }
   ],
   "source": [
    "\n",
    "   \n",
    "def main(lista_1):\n",
    "    \n",
    "    s=sorted(list(set(lista_1)))\n",
    "    return False if len(s)<2 else s[len(s)-2]\n",
    "\n",
    "lista = [12,2,22,3] \n",
    "i = main(lista)\n",
    "x = lista.index(i)\n",
    "lista.pop(x)\n",
    "print(lista)\n",
    "    "
   ]
  },
  {
   "cell_type": "code",
   "execution_count": null,
   "metadata": {
    "id": "2yKboKWAtZ0i"
   },
   "outputs": [],
   "source": [
    "# La siguiente función debe aceptar dos argumentos, un número entero y una lista con números enteros\n",
    "# La función debe devolver una lista con Verdadero y Falso para todos los enteros en la lista\n",
    "# por el cual el primer argumento es divisible y False en caso contrario.\n",
    "\n",
    "# Por ejemplo: \n",
    "# main(10, [12, 2, 22, 5 ]) \n",
    "# debe dar [False, True, False, True] \n",
    "\n",
    "def main(integer_1, list_1):\n",
    "    list_1 = list_1[:]\n",
    "    #Corrige las lienas para que se de el resultado deseado\n",
    "    pass"
   ]
  },
  {
   "cell_type": "code",
   "execution_count": 206,
   "metadata": {},
   "outputs": [
    {
     "name": "stdout",
     "output_type": "stream",
     "text": [
      "[False, True, False, True]\n"
     ]
    }
   ],
   "source": [
    "def main(integer_1, list_1):\n",
    "    \n",
    "  resultado=[]\n",
    "\n",
    "  for num in list_1:\n",
    "    if integer_1%num==0:\n",
    "      resultado.append(True)\n",
    "    \n",
    "    \n",
    "    else: \n",
    "      resultado.append(False)\n",
    "  print(resultado)\n",
    "\n",
    "\n",
    "main(10, [12, 2, 22, 5 ])"
   ]
  },
  {
   "cell_type": "code",
   "execution_count": null,
   "metadata": {
    "id": "XRiUD6B0yhu_"
   },
   "outputs": [],
   "source": [
    "# La siguiente función debe aceptar un argumento, una lista con cadenas\n",
    "# La función debe devolver un diccionario con como claves las cadenas y como valores\n",
    "# las longitudes de las cadenas\n",
    "\n",
    "# Por ejemplo: \n",
    "# main([\"ad\", \"abc\", \"ab\"]) \n",
    "# debe dar {\"ad\":2, \"abc\":3, \"ab\":2} \n",
    "\n",
    "def main(list_1):\n",
    "    list_1 = list_1[:]\n",
    "    #Corrige las lienas para que se de el resultado deseado\n",
    "    pass"
   ]
  },
  {
   "cell_type": "code",
   "execution_count": 201,
   "metadata": {},
   "outputs": [
    {
     "name": "stdout",
     "output_type": "stream",
     "text": [
      "{'ad': 2, 'abc': 3, 'ab': 2}\n"
     ]
    }
   ],
   "source": [
    "def main(list_1):\n",
    "    \n",
    "  dictionary_1 = {}\n",
    "  for letras in list_1:\n",
    "        \n",
    "        \n",
    "    dictionary_1[letras]= len(letras)\n",
    "  print(dictionary_1)\n",
    "main([\"ad\", \"abc\", \"ab\"])  "
   ]
  },
  {
   "cell_type": "code",
   "execution_count": 1,
   "metadata": {
    "id": "sE1Fa5gPy3ec"
   },
   "outputs": [],
   "source": [
    "# La siguiente función debe aceptar un argumento, una lista con cadenas\n",
    "\n",
    "# La función debe devolver un diccionario con como keys la longitud de las cadenas y como valores\n",
    "# listas ordenadas con las cadenas con la longitud igual a la key\n",
    "\n",
    "# Por ejemplo: \n",
    "# main([\"ab\", \"abc\", \"ad\"]) \n",
    "# debe dar {2: [\"ab\", \"ad\"], 3: [\"abc\"]} \n",
    "\n",
    "def main(list_1):\n",
    "    list_1 = list_1[:]\n",
    "    #Corrige las lienas para que se de el resultado deseado\n",
    "    pass"
   ]
  },
  {
   "cell_type": "code",
   "execution_count": 179,
   "metadata": {},
   "outputs": [
    {
     "name": "stdout",
     "output_type": "stream",
     "text": [
      "{2: 'ad', 3: 'abc'}\n"
     ]
    }
   ],
   "source": [
    "lista1 =['ab','abc','ad']\n",
    "diccionario = {}\n",
    "largo=[]\n",
    "\n",
    "for letras in lista1:\n",
    "  largo.append(len(letras))\n",
    "  sets= set(largo)\n",
    "  for key in sets:\n",
    "    if len(letras)== key:\n",
    "      diccionario[key]=letras\n",
    "print(diccionario)"
   ]
  }
 ],
 "metadata": {
  "colab": {
   "authorship_tag": "ABX9TyPD5ax1XUqklfzORP6QntIw",
   "collapsed_sections": [],
   "name": "ejercicios_extra.ipynb",
   "provenance": []
  },
  "kernelspec": {
   "display_name": "Python 3 (ipykernel)",
   "language": "python",
   "name": "python3"
  },
  "language_info": {
   "codemirror_mode": {
    "name": "ipython",
    "version": 3
   },
   "file_extension": ".py",
   "mimetype": "text/x-python",
   "name": "python",
   "nbconvert_exporter": "python",
   "pygments_lexer": "ipython3",
   "version": "3.9.12"
  }
 },
 "nbformat": 4,
 "nbformat_minor": 1
}
