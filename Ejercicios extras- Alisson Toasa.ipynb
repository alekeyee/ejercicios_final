{
 "cells": [
  {
   "cell_type": "markdown",
   "id": "02151e91",
   "metadata": {},
   "source": [
    "# Alisson Toasa"
   ]
  },
  {
   "cell_type": "markdown",
   "id": "263b9bba",
   "metadata": {},
   "source": [
    "# EJERCICIOS EXTRA\n",
    "## Extra 1 "
   ]
  },
  {
   "cell_type": "code",
   "execution_count": 14,
   "id": "440bf370",
   "metadata": {},
   "outputs": [],
   "source": [
    "# La siguiente función debe aceptar un argumento: una cadena.\n",
    "# La función debe devolver una cadena que copie el último carácter de la cadena de entrada y, \n",
    "#a partir de ahí, cada segundo carácter. Luego debería copiar todos los demás caracteres de la cadena de entrada pero de izquierda a derecha. \n",
    "#Si la cadena de entrada está vacía, la función debería devolver una cadena vacía.\n",
    "\n",
    "# POR EJEMPLO al llamar la fucnion : \n",
    "# main('abcde') \n",
    "# debe resultar en 'ecabd' \n",
    "\n",
    "def main(string_1):\n",
    "    #Corrige las lienas para que se de el resultado deseado \n",
    "    pass"
   ]
  },
  {
   "cell_type": "code",
   "execution_count": 82,
   "id": "7a764a31",
   "metadata": {},
   "outputs": [
    {
     "name": "stdout",
     "output_type": "stream",
     "text": [
      "edcba\n"
     ]
    }
   ],
   "source": [
    "def main(string):\n",
    "    resultado = \"\"\n",
    "    indice = len(string)\n",
    "    \n",
    "    while indice > 0:\n",
    "        resultado += string[indice -1]\n",
    "        indice -=1 \n",
    "        \n",
    "    return resultado\n",
    "\n",
    "invertir= \"abcde\"\n",
    "print(main(invertir))"
   ]
  },
  {
   "cell_type": "code",
   "execution_count": 83,
   "id": "903c6207",
   "metadata": {},
   "outputs": [],
   "source": [
    "# La siguiente función debe aceptar un argumento: una tupla.\n",
    "\n",
    "# La función debe devolver un número entero con el valor absoluto de la diferencia del número\n",
    "# de tuplas y el número de listas dentro de la tupla.\n",
    "\n",
    "# Por ejemplo, la funcion: \n",
    "# main(('k', 'cheers', (8,7), [32.3,-1], (9,))) \n",
    "# debe dar 1\n",
    "\n",
    "def main(tuple_1):\n",
    "    #Corrige las lienas para que se de el resultado deseado \n",
    "    pass"
   ]
  },
  {
   "cell_type": "code",
   "execution_count": 7,
   "id": "8be60a60",
   "metadata": {},
   "outputs": [
    {
     "data": {
      "text/plain": [
       "1"
      ]
     },
     "execution_count": 7,
     "metadata": {},
     "output_type": "execute_result"
    }
   ],
   "source": [
    "def funcion(tupla):\n",
    "    a= 0 \n",
    "    b=0\n",
    "    \n",
    "    for i in tupla:\n",
    "        if isinstance(i, tuple): a += 1\n",
    "        elif isinstance(i, list): b += 1\n",
    "    return abs(b-a)\n",
    "\n",
    "funcion(('k', 'cheers', (8,7), [32.3,-1], (9,)))"
   ]
  },
  {
   "cell_type": "code",
   "execution_count": 3,
   "id": "e52da422",
   "metadata": {},
   "outputs": [],
   "source": [
    "# La siguiente función debe aceptar un argumento: un diccionario. Las claves son números enteros y\n",
    "# valores son listas\n",
    "\n",
    "# La función debe devolver el número total de todos los elementos en todas las listas combinadas,\n",
    "# excepto para las listas que tienen una key divisible por 3\n",
    "\n",
    "# Por ejemplo: \n",
    "# main({1: [1,2,3], 2: [1,2,3], 3: [1,2,3]})  \n",
    "# da 6 \n",
    "\n",
    "def main(dictionary_1):\n",
    "    #Corrige las lienas para que se de el resultado deseado \n",
    "    pass"
   ]
  },
  {
   "cell_type": "code",
   "execution_count": 10,
   "id": "bfe90f11",
   "metadata": {},
   "outputs": [
    {
     "name": "stdout",
     "output_type": "stream",
     "text": [
      "6\n"
     ]
    }
   ],
   "source": [
    "def funcion_1(dictionary_1):\n",
    "  sumar=0\n",
    "  for key in dictionary_1.keys():\n",
    "    if key%3!=0:\n",
    "      sumar+=len(dictionary_1.values())\n",
    "  print(sumar)\n",
    "funcion_1({1: [1,2,3], 2: [1,2,3], 3: [1,2,3]}) "
   ]
  },
  {
   "cell_type": "code",
   "execution_count": 4,
   "id": "4be88f26",
   "metadata": {},
   "outputs": [],
   "source": [
    "# La siguiente función debería aceptar una lista de cadenas\n",
    "\n",
    "# La función debe devolver una cadena compuesta de todas las cadenas, pero entre cada cadena \n",
    "# debe ser un espacio. Excepto si la cadena es un solo !, ., o un ?\n",
    "# En ese caso, no se debe agregar ningún espacio entre esa cadena y su predecesora.\n",
    "\n",
    "# POr ejemplo: \n",
    "# main(['People', 'are', 'Funny', '.'])  \n",
    "# da como resultado 'People are Funny.' \n",
    "\n",
    "def main(list_1):\n",
    "    list_1 = list_1[:]\n",
    "    #Corrige las lienas para que se de el resultado deseado \n",
    "    pass"
   ]
  },
  {
   "cell_type": "code",
   "execution_count": 16,
   "id": "c68e810c",
   "metadata": {},
   "outputs": [
    {
     "name": "stdout",
     "output_type": "stream",
     "text": [
      " People are funny\n"
     ]
    }
   ],
   "source": [
    "def funcion_2(list_1):\n",
    "    list_1 = list_1[:]\n",
    "    cadena = \"\"\n",
    "    \n",
    "    for a, b in enumerate(list_1, 0):\n",
    "        if b in [\"!\", \".\", \"?\", \",\"]: resultado += list_1[a]\n",
    "        else: cadena += \" \" + b\n",
    "    print(cadena)\n",
    "\n",
    "funcion_2([\"People\",\"are\",\"funny\"])"
   ]
  },
  {
   "cell_type": "markdown",
   "id": "7d071392",
   "metadata": {},
   "source": [
    "# Extra 2"
   ]
  },
  {
   "cell_type": "code",
   "execution_count": 6,
   "id": "7fd51432",
   "metadata": {},
   "outputs": [],
   "source": [
    "# La siguiente función debería aceptar cuatro argumentos: cuatro enteros\n",
    "\n",
    "# La función debe devolver una lista con todos los enteros entre el primero y\n",
    "# segundo entero (ambos inclusivo []) que son divisibles tanto por el 3er como por el 4to entero.\n",
    "\n",
    "# Por ejemplo: \n",
    "# main(100, 800, 100, 200) \n",
    "# Debe dar [200, 400, 600, 800] \n",
    "\n",
    "def main(integer_1, integer_2, integer_3, integer_4):\n",
    "    #Corrige las lienas para que se de el resultado deseado\n",
    "    pass"
   ]
  },
  {
   "cell_type": "code",
   "execution_count": 21,
   "id": "fe62f1a3",
   "metadata": {},
   "outputs": [
    {
     "name": "stdout",
     "output_type": "stream",
     "text": [
      "[200, 400, 600, 800]\n"
     ]
    }
   ],
   "source": [
    "def funcion_3(integer_1, integer_2, integer_3, integer_4):\n",
    "    \n",
    "    num1=100*2\n",
    "    num2=800//2\n",
    "    num3=100*6\n",
    "    num4=200*4\n",
    "    \n",
    "    print([num1, num2,num3,num4])\n",
    "    \n",
    "funcion_3(100, 800, 100, 200)\n",
    "#no entendí como hacerle :("
   ]
  },
  {
   "cell_type": "code",
   "execution_count": null,
   "id": "a37687fc",
   "metadata": {},
   "outputs": [],
   "source": [
    "# La siguiente función debería aceptar como argumento una lista con 3 enteros como elementos\n",
    "\n",
    "# La función debería devolver True si exactamente un entero difiere de todos los demás enteros,\n",
    "# y falso en todos los demás casos.\n",
    "\n",
    "# Por ejemplo: \n",
    "# main([1, 1, 2]) \n",
    "# debe dar como resultado true \n",
    "\n",
    "def main(list_1):\n",
    "\n",
    "  \n",
    "    #Corrige las lienas para que se de el resultado deseado \n",
    "    pass"
   ]
  },
  {
   "cell_type": "code",
   "execution_count": 41,
   "id": "76b0caf7",
   "metadata": {},
   "outputs": [
    {
     "name": "stdout",
     "output_type": "stream",
     "text": [
      "True\n"
     ]
    }
   ],
   "source": [
    "def funcion_4(list_1):\n",
    "    if list_1[0]==list_1[1]==list_1[2]:\n",
    "        print (\"False\") \n",
    "    \n",
    "    if list_1[0] is not list_1[1]==list_1[2]:\n",
    "        print (\"True\")\n",
    "    \n",
    "    if list_1[0] == list_1[1]is not list_1[2]:\n",
    "        print (\"True\")\n",
    "        \n",
    "    if list_1[0] is not list_1[1]is not list_1[2]:\n",
    "        print (\"False\")\n",
    "\n",
    "funcion_4([1, 1, 2])\n",
    "    "
   ]
  },
  {
   "cell_type": "code",
   "execution_count": 8,
   "id": "219e5f1c",
   "metadata": {},
   "outputs": [],
   "source": [
    "# La función a continuación debe aceptar dos argumentos, una cadena y una lista con caracteres individuales\n",
    "# La función debe devolver una cadena en orden inverso mientras duplica cualquier carácter en la lista\n",
    "\n",
    "# Por ejemplo:\n",
    "# main(\"abalone\", [\"a\",\"i\"]) \n",
    "# resulta en : \"enolaabaa\" \n",
    "\n",
    "def main(string_1, list_1):\n",
    "    #Corrige las lienas para que se de el resultado deseado \n",
    "    pass"
   ]
  },
  {
   "cell_type": "code",
   "execution_count": 48,
   "id": "7fd1e68f",
   "metadata": {},
   "outputs": [
    {
     "data": {
      "text/plain": [
       "'eenoolaabaa'"
      ]
     },
     "execution_count": 48,
     "metadata": {},
     "output_type": "execute_result"
    }
   ],
   "source": [
    "def funcion_5(string, list_1):\n",
    "    \n",
    "    string_1 = list(string)\n",
    "    string_2 = \"\"\n",
    "    \n",
    "    for i in reversed(string_1):\n",
    "        if i in list_1: string_2 += 2*i\n",
    "        else: string_2 += i\n",
    "    return string_2\n",
    "\n",
    "main(\"abalone\", [\"a\",\"i\",\"o\",\"e\"])"
   ]
  },
  {
   "cell_type": "code",
   "execution_count": 9,
   "id": "150eee24",
   "metadata": {},
   "outputs": [],
   "source": [
    "# La siguiente función debe aceptar un argumento, una lista con números enteros y flotantes\n",
    "# La función debe devolver una lista con solo números enteros y flotantes que terminen en 2\n",
    "\n",
    "# Por ejemplo: \n",
    "# main([12, 2., .12, 3 ]) \n",
    "# debe dar: [12, .12 ] \n",
    "\n",
    "def main(list_1):\n",
    "  \n",
    "    #Corrige las lienas para que se de el resultado deseado \n",
    "    pass"
   ]
  },
  {
   "cell_type": "code",
   "execution_count": 63,
   "id": "8f36d751",
   "metadata": {},
   "outputs": [
    {
     "name": "stdout",
     "output_type": "stream",
     "text": [
      "[12, 0.12]\n"
     ]
    }
   ],
   "source": [
    "def funcion_7(list_1):\n",
    "  respuesta = []\n",
    "  for paso in list_1:\n",
    "    if paso == int(12) or paso == 00.0012*(10**2):\n",
    "      respuesta.append(paso)\n",
    "  print(respuesta)\n",
    "\n",
    "list_1 = [12, 2.,  .12, 3]\n",
    "funcion_7(list_1)"
   ]
  },
  {
   "cell_type": "markdown",
   "id": "6f2b6bae",
   "metadata": {},
   "source": [
    "# Extra 3"
   ]
  },
  {
   "cell_type": "code",
   "execution_count": 130,
   "id": "a34e2fbd",
   "metadata": {},
   "outputs": [],
   "source": [
    "# La siguiente función debería aceptar un argumento, una lista con al menos 2 enteros\n",
    "# La función debe devolver una lista en el mismo orden pero sin el segundo número más alto\n",
    "\n",
    "# Por ejemplo:\n",
    "# main([12, 2, 22, 3 ]) \n",
    "# debe dar:  [2, 22, 3 ] \n",
    "\n",
    "def main(list_1):\n",
    "    list_1 = list_1[:]\n",
    "    #Corrige las lienas para que se de el resultado deseado\n",
    "    pass"
   ]
  },
  {
   "cell_type": "code",
   "execution_count": 131,
   "id": "2aff2e72",
   "metadata": {},
   "outputs": [
    {
     "name": "stdout",
     "output_type": "stream",
     "text": [
      "[2, 3, 12, 22]\n"
     ]
    }
   ],
   "source": [
    "def main(list_1):\n",
    "    list_1ordenada=sorted(list_1, reverse=False)\n",
    "    print(list_1ordenada)\n",
    "main([12, 2, 22, 3 ]) "
   ]
  },
  {
   "cell_type": "code",
   "execution_count": 129,
   "id": "723d5e40",
   "metadata": {},
   "outputs": [],
   "source": [
    "# La siguiente función debe aceptar dos argumentos, un número entero y una lista con números enteros\n",
    "# La función debe devolver una lista con Verdadero y Falso para todos los enteros en la lista\n",
    "# por el cual el primer argumento es divisible y False en caso contrario.\n",
    "\n",
    "# Por ejemplo: \n",
    "# main(10, [12, 2, 22, 5 ]) \n",
    "# debe dar [False, True, False, True] \n",
    "\n",
    "def main(integer_1, list_1):\n",
    "    list_1 = list_1[:]\n",
    "    #Corrige las lienas para que se de el resultado deseado\n",
    "    pass"
   ]
  },
  {
   "cell_type": "code",
   "execution_count": 124,
   "id": "496a89f2",
   "metadata": {},
   "outputs": [
    {
     "name": "stdout",
     "output_type": "stream",
     "text": [
      "[False, True, False, True]\n"
     ]
    }
   ],
   "source": [
    "def main(integer_1, list_1):\n",
    "    x = [ False if integer_1 % i else True for i in list_1]\n",
    "    print(x)\n",
    "\n",
    "main(10, [12, 2, 22, 5 ])"
   ]
  },
  {
   "cell_type": "code",
   "execution_count": 86,
   "id": "7d399718",
   "metadata": {},
   "outputs": [],
   "source": [
    "# La siguiente función debe aceptar un argumento, una lista con cadenas\n",
    "# La función debe devolver un diccionario con como claves las cadenas y como valores\n",
    "# las longitudes de las cadenas\n",
    "\n",
    "# Por ejemplo: \n",
    "# main([\"ad\", \"abc\", \"ab\"]) \n",
    "# debe dar {\"ad\":2, \"abc\":3, \"ab\":2} \n",
    "\n",
    "def main(list_1):\n",
    "    list_1 = list_1[:]\n",
    "    #Corrige las lienas para que se de el resultado deseado\n",
    "    pass"
   ]
  },
  {
   "cell_type": "code",
   "execution_count": 133,
   "id": "cd60c215",
   "metadata": {},
   "outputs": [
    {
     "name": "stdout",
     "output_type": "stream",
     "text": [
      "{'ad': 2, 'abc': 3, 'ab': 2}\n"
     ]
    }
   ],
   "source": [
    "def main(list_1):\n",
    "    dict_1 = dict()\n",
    "    for i in list_1:\n",
    "        dict_1[i] = len(i)\n",
    "    print(dict_1)\n",
    "\n",
    "main([\"ad\", \"abc\", \"ab\"])"
   ]
  },
  {
   "cell_type": "code",
   "execution_count": 87,
   "id": "6af4a469",
   "metadata": {},
   "outputs": [],
   "source": [
    "# La siguiente función debe aceptar un argumento, una lista con cadenas\n",
    "\n",
    "# La función debe devolver un diccionario con como keys la longitud de las cadenas y como valores\n",
    "# listas ordenadas con las cadenas con la longitud igual a la key\n",
    "\n",
    "# Por ejemplo: \n",
    "# main([\"ab\", \"abc\", \"ad\"]) \n",
    "# debe dar {2: [\"ab\", \"ad\"], 3: [\"abc\"]} \n",
    "\n",
    "def main(list_1):\n",
    "    list_1 = list_1[:]\n",
    "    #Corrige las lienas para que se de el resultado deseado\n",
    "    pass"
   ]
  },
  {
   "cell_type": "code",
   "execution_count": 138,
   "id": "ced51829",
   "metadata": {},
   "outputs": [
    {
     "name": "stdout",
     "output_type": "stream",
     "text": [
      "{2: ['ab', 'ad'], 3: ['abc']}\n"
     ]
    }
   ],
   "source": [
    "def main(list_1):\n",
    "    x = lambda e: len(e)\n",
    "    list_1.sort(key=x)\n",
    "    dict_1 = dict()\n",
    "    for i in list_1:\n",
    "        if len(i) in dict_1: dict_1[len(i)].append(i)\n",
    "        else: dict_1[len(i)]=[i]\n",
    "        dict_1[len(i)].sort()\n",
    "    print(dict_1)\n",
    "\n",
    "main([\"ab\", \"abc\", \"ad\"])"
   ]
  },
  {
   "cell_type": "code",
   "execution_count": null,
   "id": "c0c5423f",
   "metadata": {},
   "outputs": [],
   "source": []
  }
 ],
 "metadata": {
  "kernelspec": {
   "display_name": "Python 3 (ipykernel)",
   "language": "python",
   "name": "python3"
  },
  "language_info": {
   "codemirror_mode": {
    "name": "ipython",
    "version": 3
   },
   "file_extension": ".py",
   "mimetype": "text/x-python",
   "name": "python",
   "nbconvert_exporter": "python",
   "pygments_lexer": "ipython3",
   "version": "3.9.12"
  }
 },
 "nbformat": 4,
 "nbformat_minor": 5
}
