{
 "cells": [
  {
   "cell_type": "markdown",
   "metadata": {},
   "source": [
    "# EJERCICIOS EXTRA\n",
    "## Extra 1 "
   ]
  },
  {
   "cell_type": "code",
   "execution_count": 3,
   "metadata": {
    "executionInfo": {
     "elapsed": 212,
     "status": "ok",
     "timestamp": 1657880703839,
     "user": {
      "displayName": "Victor Salazar",
      "userId": "01748899183064234735"
     },
     "user_tz": -120
    },
    "id": "J6hxMcQT6OjI"
   },
   "outputs": [],
   "source": [
    "# La siguiente función debe aceptar un argumento: una cadena.\n",
    "# La función debe devolver una cadena que copie el último \n",
    "#carácter de la cadena de entrada y, \n",
    "#a partir de ahí, cada segundo carácter. Luego debería copiar \n",
    "#todos los demás caracteres de la cadena de entrada pero de \n",
    "#izquierda a derecha. \n",
    "#Si la cadena de entrada está vacía, la función debería devolver\n",
    "#una cadena vacía.\n",
    "\n",
    "# POR EJEMPLO al llamar la fucnion : \n",
    "# main('abcde') \n",
    "# debe resultar en 'ecabd' \n",
    "\n",
    "def main(string_1):\n",
    "    #Corrige las lienas para que se de el resultado deseado \n",
    "    pass"
   ]
  },
  {
   "cell_type": "code",
   "execution_count": 110,
   "metadata": {},
   "outputs": [
    {
     "name": "stdout",
     "output_type": "stream",
     "text": [
      "eca bd\n"
     ]
    }
   ],
   "source": [
    "#Ejercicio 1\n",
    "# cadena = cadena.replace(c,\"\")\n",
    "def ejercicio_1(cadena):\n",
    "    lista=cadena\n",
    "   # print(lista[-1],lista[-3],lista[-5],lista[-4],lista[-2])\n",
    "    print(lista[-1::-2],lista[1::2])  \n",
    "    return\n",
    "ejercicio_1('abcde')"
   ]
  },
  {
   "cell_type": "code",
   "execution_count": null,
   "metadata": {
    "id": "2U4_XpzrBX5i"
   },
   "outputs": [],
   "source": [
    "# La siguiente función debe aceptar un argumento: una tupla.\n",
    "# La función debe devolver un número entero con el valor \n",
    "# absoluto de la diferencia del número\n",
    "# de tuplas y el número de listas dentro de la tupla.\n",
    "\n",
    "# Por ejemplo, la funcion: \n",
    "# main(('k', 'cheers', (8,7), [32.3,-1], (9,))) \n",
    "# debe dar 1\n",
    "\n",
    "def main(tuple_1):\n",
    "    #Corrige las lienas para que se de el resultado deseado \n",
    "    pass"
   ]
  },
  {
   "cell_type": "code",
   "execution_count": 262,
   "metadata": {},
   "outputs": [
    {
     "name": "stdout",
     "output_type": "stream",
     "text": [
      "1\n"
     ]
    }
   ],
   "source": [
    "#Ejercicio 2\n",
    "def ejercicio_2(tup):\n",
    "    a = 0 #contador de tuplas\n",
    "    b = 0 #contador de lista\n",
    "    for i in  tup : \n",
    "        if  type (i)==tuple : \n",
    "            a=a+1   \n",
    "        if  type (i)==list :  \n",
    "            b=b+1   \n",
    "    result= a - b   \n",
    "    print ( abs(result) ) \n",
    "\n",
    "    return\n",
    "ejercicio_2(('k', 'cheers', (8,7), [32.3,-1], (9,)))    \n"
   ]
  },
  {
   "cell_type": "code",
   "execution_count": null,
   "metadata": {
    "id": "hJ5_h_FQX8RY"
   },
   "outputs": [],
   "source": [
    "# La siguiente función debe aceptar un argumento: un diccionario. Las claves son números enteros y\n",
    "# valores son listas\n",
    "\n",
    "# La función debe devolver el número total de todos los elementos en todas las listas combinadas,\n",
    "# excepto para las listas que tienen una key divisible por 3\n",
    "\n",
    "# Por ejemplo: \n",
    "# main({1: [1,2,3], 2: [1,2,3], 3: [1,2,3]})  \n",
    "# da 6 \n",
    "\n",
    "def main(dictionary_1):\n",
    "    #Corrige las lienas para que se de el resultado deseado \n",
    "    pass"
   ]
  },
  {
   "cell_type": "code",
   "execution_count": 300,
   "metadata": {},
   "outputs": [
    {
     "name": "stdout",
     "output_type": "stream",
     "text": [
      "6\n"
     ]
    }
   ],
   "source": [
    "#Ejercicio 3\n",
    "def ejercicio_3(dic):\n",
    "    a=0 # contador \n",
    "    for key in dic.keys():\n",
    "        if key%3!=0:\n",
    "            a=a+len(dic.values())\n",
    "    print(a)\n",
    "    return\n",
    "ejercicio_3({1: [1,2,3], 2: [1,2,3], 3: [1,2,3]})"
   ]
  },
  {
   "cell_type": "code",
   "execution_count": null,
   "metadata": {
    "id": "FKhPvj3GYZ9v"
   },
   "outputs": [],
   "source": [
    "# La siguiente función debería aceptar una lista de cadenas\n",
    "\n",
    "# La función debe devolver una cadena compuesta de todas las cadenas, pero entre cada cadena \n",
    "# debe ser un espacio. Excepto si la cadena es un solo !, ., o un ?\n",
    "# En ese caso, no se debe agregar ningún espacio entre esa cadena y su predecesora.\n",
    "\n",
    "# POr ejemplo: \n",
    "# main(['People', 'are', 'Funny', '.'])  \n",
    "# da como resultado 'People are Funny.' \n",
    "\n",
    "def main(list_1):\n",
    "    list_1 = list_1[:]\n",
    "    #Corrige las lienas para que se de el resultado deseado \n",
    "    pass\n",
    "\n",
    "\n"
   ]
  },
  {
   "cell_type": "code",
   "execution_count": 365,
   "metadata": {},
   "outputs": [
    {
     "name": "stdout",
     "output_type": "stream",
     "text": [
      "People are Funny.\n"
     ]
    }
   ],
   "source": [
    "#Ejercicio 4\n",
    "def ejercicio_4(lista):\n",
    "    lista=lista[:]\n",
    "    a=\"\"\n",
    "    for esp,car in enumerate(lista):#esp=espacio car=caracter\n",
    "        if car=='!' or car=='.' or car=='?':\n",
    "            a=a+car\n",
    "        else:\n",
    "            a=a+car\n",
    "            if lista[esp+1]=='!'or lista[esp+1]=='.' or lista[esp+1]=='?':\n",
    "                a+=''\n",
    "            else:\n",
    "                a+=' '\n",
    "    print(a)\n",
    "    return\n",
    "ejercicio_4(['People', 'are', 'Funny', '.'])\n",
    "    "
   ]
  },
  {
   "cell_type": "markdown",
   "metadata": {
    "id": "sqVecFFLi3OO"
   },
   "source": [
    "## Extra 2\n"
   ]
  },
  {
   "cell_type": "code",
   "execution_count": null,
   "metadata": {
    "id": "NIZJR0VGi4ps"
   },
   "outputs": [],
   "source": [
    "# La siguiente función debería aceptar cuatro argumentos: cuatro enteros\n",
    "\n",
    "# La función debe devolver una lista con todos los enteros entre el primero y\n",
    "# segundo entero (ambos inclusivo []) que son divisibles tanto por el 3er como por el 4to entero.\n",
    "\n",
    "# Por ejemplo: \n",
    "# main(100, 800, 100, 200) \n",
    "# Debe dar [200, 400, 600, 800] \n",
    "\n",
    "def main(integer_1, integer_2, integer_3, integer_4):\n",
    "    #Corrige las lienas para que se de el resultado deseado\n",
    "    pass"
   ]
  },
  {
   "cell_type": "code",
   "execution_count": 146,
   "metadata": {},
   "outputs": [
    {
     "name": "stdout",
     "output_type": "stream",
     "text": [
      "[200, 400, 600, 800]\n"
     ]
    }
   ],
   "source": [
    "#Ejercicio 5\n",
    "import random\n",
    "def ej_5(int1,int2,int3,int4):\n",
    "    lista=[int1,int2,int3,int4]\n",
    "    lista2=[]#lista que se imprimira\n",
    "    for i in range(int1,int2+1):\n",
    "        if i%lista[2]==0 and i%lista[3]==0:\n",
    "            lista2.append(i)#aumentar a la lista\n",
    "    print(lista2)\n",
    "   \n",
    "    return\n",
    "ej_5(100,800,100,200)\n",
    "    "
   ]
  },
  {
   "cell_type": "code",
   "execution_count": null,
   "metadata": {
    "id": "dtu2-H95jgh0"
   },
   "outputs": [],
   "source": [
    "# La siguiente función debería aceptar como argumento una lista con 3 enteros como elementos\n",
    "\n",
    "# La función debería devolver True si exactamente un entero difiere de todos los demás enteros,\n",
    "# y falso en todos los demás casos.\n",
    "\n",
    "# Por ejemplo: \n",
    "# main([1, 1, 2]) \n",
    "# debe dar como resultado true \n",
    "\n",
    "def main(list_1):\n",
    "  \n",
    "    #Corrige las lienas para que se de el resultado deseado \n",
    "    pass"
   ]
  },
  {
   "cell_type": "code",
   "execution_count": 155,
   "metadata": {},
   "outputs": [
    {
     "name": "stdout",
     "output_type": "stream",
     "text": [
      "true\n"
     ]
    }
   ],
   "source": [
    "#EJERCICIO 6\n",
    "def ej(int1,int2,int3):\n",
    "    if int1==int2 or int1==int3:\n",
    "        print('true')\n",
    "    elif int2==int3:\n",
    "            print('true')\n",
    "    else:\n",
    "        print('false')\n",
    "    return\n",
    "ej(2,1,1)"
   ]
  },
  {
   "cell_type": "code",
   "execution_count": null,
   "metadata": {
    "id": "fqOe0O0ukR7M"
   },
   "outputs": [],
   "source": [
    "# La función a continuación debe aceptar dos argumentos, una cadena y una lista con caracteres individuales\n",
    "# La función debe devolver una cadena en orden inverso mientras duplica cualquier carácter en la lista\n",
    "\n",
    "# Por ejemplo:\n",
    "# main(\"abalone\", [\"a\",\"i\"]) \n",
    "# resulta en : \"enolaabaa\" \n",
    "\n",
    "def main(string_1, list_1):\n",
    "    #Corrige las lienas para que se de el resultado deseado \n",
    "    pass"
   ]
  },
  {
   "cell_type": "code",
   "execution_count": 220,
   "metadata": {},
   "outputs": [
    {
     "name": "stdout",
     "output_type": "stream",
     "text": [
      "anitallavallatinA\n"
     ]
    }
   ],
   "source": [
    "#EJERCICIO 7\n",
    "\n",
    "#cadena1=cadena.find(a)\n",
    "       # if cadena1!=-1:\n",
    "            #cadena2=cadena.replace(lista[i],lista[i]*2)\n",
    "def ej(cadena, lista):\n",
    "    l1=cadena\n",
    "    l2=lista\n",
    "    for i in l1:\n",
    "        for j in l2:\n",
    "            if (i==j):\n",
    "                l3=l1.replace(i,i*2)\n",
    "    print(l3[::-1])\n",
    "    return\n",
    "ej(\"Anitalavalatina\",[\"l\",\"r\"])"
   ]
  },
  {
   "cell_type": "code",
   "execution_count": 5,
   "metadata": {
    "colab": {
     "base_uri": "https://localhost:8080/",
     "height": 35
    },
    "executionInfo": {
     "elapsed": 200,
     "status": "ok",
     "timestamp": 1657883991199,
     "user": {
      "displayName": "Victor Salazar",
      "userId": "01748899183064234735"
     },
     "user_tz": -120
    },
    "id": "6XZSEre4lYo4",
    "outputId": "0b9559bb-c326-4de5-d8e7-4299967b6116"
   },
   "outputs": [
    {
     "data": {
      "application/vnd.google.colaboratory.intrinsic+json": {
       "type": "string"
      },
      "text/plain": [
       "'444444'"
      ]
     },
     "execution_count": 5,
     "metadata": {},
     "output_type": "execute_result"
    }
   ],
   "source": [
    "# La siguiente función debe aceptar un argumento, una lista con números enteros y flotantes\n",
    "# La función debe devolver una lista con solo números enteros y flotantes que terminen en 2\n",
    "\n",
    "# Por ejemplo: \n",
    "# main([12, 2., .12, 3 ]) \n",
    "# debe dar: [12, .12 ] \n",
    "\n",
    "def main(list_1):\n",
    "  \n",
    "    #Corrige las lienas para que se de el resultado deseado \n",
    "    pass"
   ]
  },
  {
   "cell_type": "code",
   "execution_count": 251,
   "metadata": {},
   "outputs": [
    {
     "name": "stdout",
     "output_type": "stream",
     "text": [
      "[12, 0.12]\n"
     ]
    }
   ],
   "source": [
    "#Ejercicio 8\n",
    "def ej(lista):\n",
    "    lis=[]\n",
    "    for i in lista:\n",
    "        if type(i)!=int:\n",
    "            a=i*100\n",
    "            int(a)\n",
    "            #print(a)\n",
    "            if a%10==2:\n",
    "                lis.append(i) \n",
    "        else:\n",
    "            if i%10==2:\n",
    "                lis.append(i)\n",
    "            #print(i)\n",
    "    print(lis)\n",
    "se\n",
    "    return\n",
    "ej([12,2.,0.12,5])"
   ]
  },
  {
   "cell_type": "markdown",
   "metadata": {},
   "source": [
    "## Extra 3"
   ]
  },
  {
   "cell_type": "code",
   "execution_count": null,
   "metadata": {
    "id": "KqroULXilgsw"
   },
   "outputs": [],
   "source": [
    "# La siguiente función debería aceptar un argumento, una lista con al menos 2 enteros\n",
    "# La función debe devolver una lista en el mismo orden pero sin el segundo número más alto\n",
    "\n",
    "# Por ejemplo:\n",
    "# main([12, 2, 22, 3 ]) \n",
    "# debe dar:  [2, 22, 3 ] \n",
    "\n",
    "def main(list_1):\n",
    "    list_1 = list_1[:]\n",
    "    #Corrige las lienas para que se de el resultado deseado\n",
    "    pass"
   ]
  },
  {
   "cell_type": "code",
   "execution_count": 368,
   "metadata": {},
   "outputs": [
    {
     "name": "stdout",
     "output_type": "stream",
     "text": [
      "[2, 22, 3]\n"
     ]
    }
   ],
   "source": [
    "#Ejercicio 9\n",
    "def ej(list_1):\n",
    "    list = list_1[1:]\n",
    "    print(list)\n",
    "    return\n",
    "ej([12,2,22,3])"
   ]
  },
  {
   "cell_type": "code",
   "execution_count": null,
   "metadata": {
    "id": "2yKboKWAtZ0i"
   },
   "outputs": [],
   "source": [
    "# La siguiente función debe aceptar dos argumentos, un número entero y una lista con números enteros\n",
    "# La función debe devolver una lista con Verdadero y Falso para todos los enteros en la lista\n",
    "# por el cual el primer argumento es divisible y False en caso contrario.\n",
    "\n",
    "# Por ejemplo: \n",
    "# main(10, [12, 2, 22, 5 ]) \n",
    "# debe dar [False, True, False, True] \n",
    "\n",
    "def main(integer_1, list_1):\n",
    "    list_1 = list_1[:]\n",
    "    #Corrige las lienas para que se de el resultado deseado\n",
    "    pass"
   ]
  },
  {
   "cell_type": "code",
   "execution_count": 386,
   "metadata": {},
   "outputs": [
    {
     "name": "stdout",
     "output_type": "stream",
     "text": [
      "['FALSE', 'TRUE', 'FALSE', 'TRUE']\n"
     ]
    }
   ],
   "source": [
    "#Ejercicio 10\n",
    "def  eje ( int,lista): \n",
    "    list = [] \n",
    "    for  i  in  lista : \n",
    "        if  int%i== 0 : \n",
    "            list.append('TRUE') \n",
    "        elif  int %i!= 0 : \n",
    "            list.append('FALSE') \n",
    "    print ( list )\n",
    "    return\n",
    "eje ( 10 ,  [ 12 ,  2 ,  22 ,  5  ])  "
   ]
  },
  {
   "cell_type": "code",
   "execution_count": null,
   "metadata": {
    "id": "XRiUD6B0yhu_"
   },
   "outputs": [],
   "source": [
    "# La siguiente función debe aceptar un argumento, una lista con cadenas\n",
    "# La función debe devolver un diccionario con como claves las cadenas y como valores\n",
    "# las longitudes de las cadenas\n",
    "\n",
    "# Por ejemplo: \n",
    "# main([\"ad\", \"abc\", \"ab\"]) \n",
    "# debe dar {\"ad\":2, \"abc\":3, \"ab\":2} \n",
    "\n",
    "def main(list_1):\n",
    "    list_1 = list_1[:]\n",
    "    #Corrige las lienas para que se de el resultado deseado\n",
    "    pass"
   ]
  },
  {
   "cell_type": "code",
   "execution_count": 391,
   "metadata": {},
   "outputs": [
    {
     "name": "stdout",
     "output_type": "stream",
     "text": [
      "{'ad': 2, 'abc': 3, 'ab': 2}\n"
     ]
    }
   ],
   "source": [
    "#Ejercicio 11\n",
    "def  ejer(lista):\n",
    "    eldicc= {\"ad\":2,\"abc\":3,\"ab\":2}\n",
    "    dicc={} \n",
    "    for let in lista: \n",
    "        dicc[let]=len(let) \n",
    "    \n",
    "    print(dicc) \n",
    "    return\n",
    "ejer([\"ad\" , \"abc\" , \"ab\" ])"
   ]
  },
  {
   "cell_type": "code",
   "execution_count": null,
   "metadata": {
    "id": "sE1Fa5gPy3ec"
   },
   "outputs": [],
   "source": [
    "# La siguiente función debe aceptar un argumento, una lista con cadenas\n",
    "\n",
    "# La función debe devolver un diccionario con como keys la longitud de las cadenas y como valores\n",
    "# listas ordenadas con las cadenas con la longitud igual a la key\n",
    "\n",
    "# Por ejemplo: \n",
    "# main([\"ab\", \"abc\", \"ad\"]) \n",
    "# debe dar {2: [\"ab\", \"ad\"], 3: [\"abc\"]} \n",
    "\n",
    "def main(list_1):\n",
    "    list_1 = list_1[:]\n",
    "    #Corrige las lienas para que se de el resultado deseado\n",
    "    pass"
   ]
  },
  {
   "cell_type": "code",
   "execution_count": 407,
   "metadata": {},
   "outputs": [
    {
     "name": "stdout",
     "output_type": "stream",
     "text": [
      "{2: 'ab', 3: 'abc'}\n"
     ]
    }
   ],
   "source": [
    "#Ejercicio 12\n",
    "def  ejer(lista): \n",
    "    dic={} \n",
    "    list=[]\n",
    "    lis=[]\n",
    "    for i in lista: \n",
    "        list.append (len(i)) \n",
    "        a= set(list)\n",
    "        #print(i)\n",
    "        for j in  a :\n",
    "            if len(i)==j: \n",
    "                #dic[j]=lis.append(i)\n",
    "                dic[j]=i\n",
    "                \n",
    "    print(dic) \n",
    "   # print(lis)\n",
    "    return\n",
    "ejer([\"ad\" , \"abc\" , \"ab\" ])\n"
   ]
  }
 ],
 "metadata": {
  "colab": {
   "authorship_tag": "ABX9TyPD5ax1XUqklfzORP6QntIw",
   "collapsed_sections": [],
   "name": "ejercicios_extra.ipynb",
   "provenance": []
  },
  "kernelspec": {
   "display_name": "Python 3 (ipykernel)",
   "language": "python",
   "name": "python3"
  },
  "language_info": {
   "codemirror_mode": {
    "name": "ipython",
    "version": 3
   },
   "file_extension": ".py",
   "mimetype": "text/x-python",
   "name": "python",
   "nbconvert_exporter": "python",
   "pygments_lexer": "ipython3",
   "version": "3.9.12"
  }
 },
 "nbformat": 4,
 "nbformat_minor": 1
}
