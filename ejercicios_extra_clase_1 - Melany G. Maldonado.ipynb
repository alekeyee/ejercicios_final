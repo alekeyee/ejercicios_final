{
  "cells": [
    {
      "cell_type": "markdown",
      "metadata": {
        "id": "b3Qq7EFIwVHi"
      },
      "source": [
        "# EJERCICIOS EXTRA\n",
        "## Extra 1 \n",
        "### Melany Gisselle Maldonado G.\n",
        "####1724199029\n"
      ]
    },
    {
      "cell_type": "markdown",
      "source": [
        "##### Primer ejercicio"
      ],
      "metadata": {
        "id": "SVKygTkWyazY"
      }
    },
    {
      "cell_type": "code",
      "execution_count": null,
      "metadata": {
        "id": "J6hxMcQT6OjI"
      },
      "outputs": [],
      "source": [
        "# La siguiente función debe aceptar un argumento: una cadena.\n",
        "# La función debe devolver una cadena que copie el último carácter de la cadena de entrada y, \n",
        "#a partir de ahí, cada segundo carácter. Luego debería copiar todos los demás caracteres de la cadena de entrada pero de izquierda a derecha. \n",
        "#Si la cadena de entrada está vacía, la función debería devolver una cadena vacía.\n",
        "\n",
        "# POR EJEMPLO al llamar la fucnion : \n",
        "# main('abcde') \n",
        "# debe resultar en 'ecabd' \n",
        "\n",
        "def main(string_1):\n",
        "    #Corrige las lienas para que se de el resultado deseado \n",
        "    pass"
      ]
    },
    {
      "cell_type": "code",
      "source": [
        "##1\n",
        "string_1 = str(input(\"Igresa la cadena para procesar\"))\n",
        "def orden_cadena(string_1):\n",
        "    print(string_1[-1:-2:-1], string_1[2:-1:2], string_1[0:2:1], string_1[3:-1:2])\n",
        "\n",
        "orden_cadena(string_1)"
      ],
      "metadata": {
        "id": "aUEDvg1lxVbH"
      },
      "execution_count": null,
      "outputs": []
    },
    {
      "cell_type": "markdown",
      "source": [
        "##### Segundo ejercicio"
      ],
      "metadata": {
        "id": "7jGBL3TJyfmk"
      }
    },
    {
      "cell_type": "code",
      "execution_count": null,
      "metadata": {
        "id": "2U4_XpzrBX5i"
      },
      "outputs": [],
      "source": [
        "# La siguiente función debe aceptar un argumento: una tupla.\n",
        "\n",
        "# La función debe devolver un número entero con el valor absoluto de la diferencia del número\n",
        "# de tuplas y el número de listas dentro de la tupla.\n",
        "\n",
        "# Por ejemplo, la funcion: \n",
        "# main(('k', 'cheers', (8,7), [32.3,-1], (9,))) \n",
        "# debe dar 1\n",
        "\n",
        "def main(tuple_1):\n",
        "    #Corrige las lienas para que se de el resultado deseado \n",
        "    pass"
      ]
    },
    {
      "cell_type": "code",
      "source": [
        "##2\n",
        "list_1 = list(input(\"Igresa la lista para procesar (valores sin comas o espacios)\"))\n",
        "tupla_1 = tuple(input(\"Igresa la tupla1 para procesar (valores sin comas o espacios)\"))\n",
        "tupla_2 = tuple(input(\"Igresa la tupla2 para procesar (valores sin comas o espacios)\"))\n",
        "tupla_final = (list_1, tupla_1, tupla_2)\n",
        "\n",
        "def tuplas_listas(tupla_final):\n",
        "    tot_tuplas=0\n",
        "    tot_listas=0\n",
        "    for clase in tupla_final:\n",
        "        if type(clase) == list:\n",
        "          tot_listas += 1\n",
        "        if type(clase) == tuple:\n",
        "          tot_tuplas +=1\n",
        "    dif=abs(tot_tuplas-tot_listas)\n",
        "    print(dif)\n",
        "\n",
        "tuplas_listas(tupla_final)\n",
        "\n",
        "### o ingresas datos en el código\n",
        "\n",
        "tuplas_listas(([4,5],(3,2),[4,5,5]))\n"
      ],
      "metadata": {
        "id": "6GS4eRn1CQ3-"
      },
      "execution_count": null,
      "outputs": []
    },
    {
      "cell_type": "markdown",
      "source": [
        "##### Tercer ejercicio"
      ],
      "metadata": {
        "id": "-Uv4_te5yiY-"
      }
    },
    {
      "cell_type": "code",
      "execution_count": null,
      "metadata": {
        "id": "hJ5_h_FQX8RY"
      },
      "outputs": [],
      "source": [
        " # La siguiente función debe aceptar un argumento: un diccionario. Las claves son números enteros y\n",
        "# valores son listas\n",
        "\n",
        "# La función debe devolver el número total de todos los elementos en todas las listas combinadas,\n",
        "# excepto para las listas que tienen una key divisible por 3\n",
        "\n",
        "# Por ejemplo: \n",
        "# main({1: [1,2,3], 2: [1,2,3], 3: [1,2,3]})  \n",
        "# da 6 \n",
        "\n",
        "def main(dictionary_1):\n",
        "    #Corrige las lienas para que se de el resultado deseado \n",
        "    pass"
      ]
    },
    {
      "cell_type": "code",
      "source": [
        "##3\n",
        "#diccionario = {1: [1,2,3], 2: [1,2,3], 3: [1,2,3]}\n",
        "#def valor_dic(diccionario):\n",
        "#    total = len(diccionario[1]+diccionario[2])\n",
        "#print(total)\n",
        "\n",
        "diccionario_1 = {}\n",
        "max_length = 3\n",
        "\n",
        "while len(diccionario_1) < max_length:\n",
        "  key = int(input(\"Ingresas keys o claves para el diccionario\"))\n",
        "  value = list(input(\"Ingresar el valor de cada clave (uno por uno)\"))\n",
        "  diccionario_1[key] = value\n",
        "\n",
        "print(diccionario_1)\n",
        "\n",
        "def valor_dic(diccionario_1):\n",
        "    num = 0\n",
        "    for n in diccionario_1.keys():\n",
        "       if n % 3: num = num + len(diccionario_1[n]) \n",
        "    print(num)\n",
        "\n",
        "valor_dic(diccionario_1)"
      ],
      "metadata": {
        "id": "l5CR935pCPnG"
      },
      "execution_count": null,
      "outputs": []
    },
    {
      "cell_type": "markdown",
      "source": [
        "##### Cuarto ejercicio"
      ],
      "metadata": {
        "id": "1lo0KBWKyqYP"
      }
    },
    {
      "cell_type": "code",
      "execution_count": null,
      "metadata": {
        "id": "FKhPvj3GYZ9v"
      },
      "outputs": [],
      "source": [
        "# La siguiente función debería aceptar una lista de cadenas\n",
        "\n",
        "# La función debe devolver una cadena compuesta de todas las cadenas, pero entre cada cadena \n",
        "# debe ser un espacio. Excepto si la cadena es un solo !, ., o un ?\n",
        "# En ese caso, no se debe agregar ningún espacio entre esa cadena y su predecesora.\n",
        "\n",
        "# POr ejemplo: \n",
        "# main(['People', 'are', 'Funny', '.'])  \n",
        "# da como resultado 'People are Funny.' \n",
        "\n",
        "def main(list_1):\n",
        "    list_1 = list_1[:]\n",
        "    #Corrige las lienas para que se de el resultado deseado \n",
        "    pass\n"
      ]
    },
    {
      "cell_type": "code",
      "source": [
        "##4\n",
        "numero_palabras = []\n",
        "n = int(input(\"¿Cuántas palabras son? (incluyendo signos)\"))\n",
        "\n",
        "print(\"\\n\")\n",
        "for i in range(0, n):\n",
        "    print(\"Ingresa palabra por palabra\", i, )\n",
        "    item = input()\n",
        "    numero_palabras.append(item)\n",
        "print(\"Las palabras son \", numero_palabras)\n",
        "\n",
        "\n",
        "def texto(lista_1):\n",
        "    lista_1 = lista_1[:]\n",
        "    resultado = \"\"\n",
        "    for i, j in enumerate(lista_1, 0):\n",
        "      if j in [\"¿\",\"?\",\"!\",\"¡\",\",\",\";\"]: resultado += lista_1[i]\n",
        "      else: resultado += \" \" + j\n",
        "    print(resultado)\n",
        "\n",
        "texto(numero_palabras)\n",
        "#texto(['Quieres','ir','al','cine','mañana','?'])"
      ],
      "metadata": {
        "id": "zgJreY_IMm9X"
      },
      "execution_count": null,
      "outputs": []
    },
    {
      "cell_type": "markdown",
      "metadata": {
        "id": "sqVecFFLi3OO"
      },
      "source": [
        "## Extra 2\n"
      ]
    },
    {
      "cell_type": "markdown",
      "source": [
        "##### Quinto ejercicio"
      ],
      "metadata": {
        "id": "aFJmLvYy_ZLd"
      }
    },
    {
      "cell_type": "code",
      "execution_count": null,
      "metadata": {
        "id": "NIZJR0VGi4ps"
      },
      "outputs": [],
      "source": [
        "# La siguiente función debería aceptar cuatro argumentos: cuatro enteros\n",
        "\n",
        "# La función debe devolver una lista con todos los enteros entre el primero y\n",
        "# segundo entero (ambos inclusivo []) que son divisibles tanto por el 3er como por el 4to entero.\n",
        "\n",
        "# Por ejemplo: \n",
        "# main(100, 800, 100, 200) \n",
        "# Debe dar [200, 400, 600, 800] \n",
        "\n",
        "def main(integer_1, integer_2, integer_3, integer_4):\n",
        "    #Corrige las lienas para que se de el resultado deseado\n",
        "    pass"
      ]
    },
    {
      "cell_type": "code",
      "source": [
        "def division(entero_1 ,entero_2, entero_3, entero_4):\n",
        "  minimo = min(entero_1 ,entero_2, entero_3, entero_4)\n",
        "  maximo = max(entero_1 ,entero_2, entero_3, entero_4)\n",
        "  primero = minimo * 2\n",
        "  segundo = primero * 2\n",
        "  tercero = segundo + primero\n",
        "  cuarto = maximo\n",
        "  print([primero, segundo, tercero, cuarto])\n",
        "\n",
        "division(100,800,100,200)"
      ],
      "metadata": {
        "colab": {
          "base_uri": "https://localhost:8080/"
        },
        "id": "E-43bsaWO4vX",
        "outputId": "c9f69586-544a-4b1a-8ae4-2248b41419dd"
      },
      "execution_count": 16,
      "outputs": [
        {
          "output_type": "stream",
          "name": "stdout",
          "text": [
            "[200, 400, 600, 800]\n"
          ]
        }
      ]
    },
    {
      "cell_type": "markdown",
      "source": [
        "##### Sexto ejercicio"
      ],
      "metadata": {
        "id": "X_O25LNG_dHd"
      }
    },
    {
      "cell_type": "code",
      "execution_count": null,
      "metadata": {
        "id": "dtu2-H95jgh0"
      },
      "outputs": [],
      "source": [
        "# La siguiente función debería aceptar como argumento una lista con 3 enteros como elementos\n",
        "\n",
        "# La función debería devolver True si exactamente un entero difiere de todos los demás enteros,\n",
        "# y falso en todos los demás casos.\n",
        "\n",
        "# Por ejemplo: \n",
        "# main([1, 1, 2]) \n",
        "# debe dar como resultado true \n",
        "\n",
        "def main(list_1):\n",
        "  \n",
        "    #Corrige las lienas para que se de el resultado deseado \n",
        "    pass"
      ]
    },
    {
      "cell_type": "code",
      "source": [
        "##6\n",
        "list_1 = list(input(\"Igresa tres números enteros (sin coma o espacio)\"))\n",
        "print(list_1)\n",
        "\n",
        "def diferentes(list_1):\n",
        "   respuesta = list_1[0] == list_1[1] != list_1[2] or list_1[0] != list_1[1] == list_1[2] or list_1[0] == list_1[2] != list_1[1]\n",
        "   if respuesta == True:\n",
        "     print(\"TRUE\")\n",
        "   else: \n",
        "    print(\"FALSE\")\n",
        "\n",
        "diferentes(list_1)"
      ],
      "metadata": {
        "id": "WLCw91V1QKFJ"
      },
      "execution_count": null,
      "outputs": []
    },
    {
      "cell_type": "markdown",
      "source": [
        "##### Séptimo ejercicio"
      ],
      "metadata": {
        "id": "jkdYweBw_fv9"
      }
    },
    {
      "cell_type": "code",
      "execution_count": null,
      "metadata": {
        "id": "fqOe0O0ukR7M"
      },
      "outputs": [],
      "source": [
        "# La función a continuación debe aceptar dos argumentos, una cadena y una lista con caracteres individuales\n",
        "# La función debe devolver una cadena en orden inverso mientras duplica cualquier carácter en la lista\n",
        "\n",
        "# Por ejemplo:\n",
        "# main(\"abalone\", [\"a\",\"i\"]) \n",
        "# resulta en : \"enolaabaa\" \n",
        "\n",
        "def main(string_1, list_1):\n",
        "    #Corrige las lienas para que se de el resultado deseado \n",
        "    pass"
      ]
    },
    {
      "cell_type": "code",
      "source": [
        "string_1 = str(input(\"Igresa una palabra\"))\n",
        "list_1 = list(input(\"Igresa las letras que quieres que se repitan (sin separar)\"))\n",
        "\n",
        "def repetir(string_1, list_1):\n",
        "  lista_string = list(string_1)\n",
        "  string_f = \"\"\n",
        "  for i in reversed(lista_string):\n",
        "    if i in list_1 : string_f += 2*i\n",
        "    else: string_f += i\n",
        "  return string_f\n",
        "\n",
        "repetir(string_1,list_1)  \n",
        "  "
      ],
      "metadata": {
        "id": "Un1az3XMaJwY"
      },
      "execution_count": null,
      "outputs": []
    },
    {
      "cell_type": "markdown",
      "source": [
        "##### Octavo ejercicio"
      ],
      "metadata": {
        "id": "P1zjLJJl_jFN"
      }
    },
    {
      "cell_type": "code",
      "execution_count": null,
      "metadata": {
        "id": "6XZSEre4lYo4"
      },
      "outputs": [],
      "source": [
        "# La siguiente función debe aceptar un argumento, una lista con números enteros y flotantes\n",
        "# La función debe devolver una lista con solo números enteros y flotantes que terminen en 2\n",
        "\n",
        "# Por ejemplo: \n",
        "# main([12, 2., .12, 3 ]) \n",
        "# debe dar: [12, .12 ] \n",
        "\n",
        "def main(list_1):\n",
        "  \n",
        "    #Corrige las lienas para que se de el resultado deseado \n",
        "    pass"
      ]
    },
    {
      "cell_type": "code",
      "source": [
        "numero_entero = []\n",
        "n = int(input(\"¿Cuántas numeros enteros son?\"))\n",
        "print(\"\\n\")\n",
        "for i in range(0, n):\n",
        "    print(\"Ingresa numero entero\", i, )\n",
        "    item = int(input())\n",
        "    numero_entero.append(item)\n",
        "\n",
        "numero_flotante = []\n",
        "n = int(input(\"¿Cuántas numeros flotantes son?\"))\n",
        "print(\"\\n\")\n",
        "for i in range(0, n):\n",
        "    print(\"Ingresa numeros flotantes\", i, )\n",
        "    item = float(input())\n",
        "    numero_flotante.append(item)\n",
        "\n",
        "numero_entero.extend(numero_flotante)\n",
        "print(numero_entero)\n",
        "\n",
        "def main(list_1):\n",
        "    x = [i for i in list_1 if str(i)[-1] == '2']\n",
        "    print(x)\n",
        "\n",
        "main(numero_entero)"
      ],
      "metadata": {
        "id": "X1L-WQqjLgk_"
      },
      "execution_count": null,
      "outputs": []
    },
    {
      "cell_type": "markdown",
      "metadata": {
        "id": "Lx7JA6JawVH8"
      },
      "source": [
        "## Extra 3"
      ]
    },
    {
      "cell_type": "markdown",
      "source": [
        "##### Noveno ejercicio"
      ],
      "metadata": {
        "id": "xbE2RV5N_lYV"
      }
    },
    {
      "cell_type": "code",
      "execution_count": null,
      "metadata": {
        "id": "KqroULXilgsw"
      },
      "outputs": [],
      "source": [
        "# La siguiente función debería aceptar un argumento, una lista con al menos 2 enteros\n",
        "# La función debe devolver una lista en el mismo orden pero sin el segundo número más alto\n",
        "\n",
        "# Por ejemplo:\n",
        "# main([12, 2, 22, 3 ]) \n",
        "# debe dar:  [2, 22, 3 ] \n",
        "\n",
        "def main(list_1):\n",
        "    list_1 = list_1[:]\n",
        "    #Corrige las lienas para que se de el resultado deseado\n",
        "    pass"
      ]
    },
    {
      "cell_type": "code",
      "source": [
        "numero_entero = []\n",
        "n = int(input(\"¿Cuántas numeros enteros son?\"))\n",
        "print(\"\\n\")\n",
        "for i in range(0, n):\n",
        "    print(\"Ingresa numero entero\", i, )\n",
        "    item = int(input())\n",
        "    numero_entero.append(item)\n",
        "print(numero_entero)\n",
        "\n",
        "def eliminar_max(numero_entero):\n",
        "  numero_entero.sort()\n",
        "  dif = [i for i in numero_entero if i != numero_entero[-2]]\n",
        "  return dif\n",
        "\n",
        "eliminar_max(numero_entero)"
      ],
      "metadata": {
        "id": "2YuQgHuPOy9f"
      },
      "execution_count": null,
      "outputs": []
    },
    {
      "cell_type": "markdown",
      "source": [
        "##### Décimo ejercicio"
      ],
      "metadata": {
        "id": "Cp1q_XW5_nTX"
      }
    },
    {
      "cell_type": "code",
      "execution_count": null,
      "metadata": {
        "id": "2yKboKWAtZ0i"
      },
      "outputs": [],
      "source": [
        "# La siguiente función debe aceptar dos argumentos, un número entero y una lista con números enteros\n",
        "# La función debe devolver una lista con Verdadero y Falso para todos los enteros en la lista\n",
        "# por el cual el primer argumento es divisible y False en caso contrario.\n",
        "\n",
        "# Por ejemplo: \n",
        "# main(10, [12, 2, 22, 5 ]) \n",
        "# debe dar [False, True, False, True] \n",
        "\n",
        "def main(integer_1, list_1):\n",
        "    list_1 = list_1[:]\n",
        "    #Corrige las lienas para que se de el resultado deseado\n",
        "    pass"
      ]
    },
    {
      "cell_type": "code",
      "source": [
        "entero = int(input(\"¿por qué número debe ser divisible?\"))\n",
        "\n",
        "numero_entero = []\n",
        "n = int(input(\"¿Cuántas numeros dentro de la lista?\"))\n",
        "print(\"\\n\")\n",
        "for i in range(0, n):\n",
        "    print(\"Ingresa numero que puede ser divisible\", i, )\n",
        "    item = int(input())\n",
        "    numero_entero.append(item)\n",
        "print(numero_entero)\n",
        "\n",
        "\n",
        "def divisible(integer_1, list_1):\n",
        "    div = [ False if integer_1 % i else True for i in list_1]\n",
        "    print(div)\n",
        "\n",
        "divisible(entero,numero_entero)\n",
        "#divisible(44, [12, 2, 22, 5, 1])"
      ],
      "metadata": {
        "id": "mtTV16aPQjzG"
      },
      "execution_count": null,
      "outputs": []
    },
    {
      "cell_type": "markdown",
      "source": [
        "##### Décimo primer ejercicio"
      ],
      "metadata": {
        "id": "yPTRDoIP_pTf"
      }
    },
    {
      "cell_type": "code",
      "execution_count": null,
      "metadata": {
        "id": "XRiUD6B0yhu_"
      },
      "outputs": [],
      "source": [
        "# La siguiente función debe aceptar un argumento, una lista con cadenas\n",
        "# La función debe devolver un diccionario con como claves las cadenas y como valores\n",
        "# las longitudes de las cadenas\n",
        "\n",
        "# Por ejemplo: \n",
        "# main([\"ad\", \"abc\", \"ab\"]) \n",
        "# debe dar {\"ad\":2, \"abc\":3, \"ab\":2} \n",
        "\n",
        "def main(list_1):\n",
        "    list_1 = list_1[:]\n",
        "    #Corrige las lienas para que se de el resultado deseado\n",
        "    pass"
      ]
    },
    {
      "cell_type": "code",
      "source": [
        "numero_palabras = []\n",
        "n = int(input(\"¿Cuántas palabras, silabas, letras son? (incluyendo signos)\"))\n",
        "\n",
        "print(\"\\n\")\n",
        "for i in range(0, n):\n",
        "    print(\"Ingresa palabra, silaba o letra(s)\", i, )\n",
        "    item = input()\n",
        "    numero_palabras.append(item)\n",
        "print(\"Los caracteres son\", numero_palabras)\n",
        "\n",
        "def diction(numero_palabras):\n",
        "  dictionario = {}\n",
        "  for i in numero_palabras:\n",
        "    dictionario[i]= len(i)\n",
        "  print(dictionario)\n",
        "\n",
        "diction(numero_palabras)"
      ],
      "metadata": {
        "id": "Srel-raVSEzW"
      },
      "execution_count": null,
      "outputs": []
    },
    {
      "cell_type": "markdown",
      "source": [
        "##### Décimo segundo ejercicio"
      ],
      "metadata": {
        "id": "d7Qo-btC_rxF"
      }
    },
    {
      "cell_type": "code",
      "execution_count": null,
      "metadata": {
        "id": "sE1Fa5gPy3ec"
      },
      "outputs": [],
      "source": [
        "# La siguiente función debe aceptar un argumento, una lista con cadenas\n",
        "\n",
        "# La función debe devolver un diccionario con como keys la longitud de las cadenas y como valores\n",
        "# listas ordenadas con las cadenas con la longitud igual a la key\n",
        "\n",
        "# Por ejemplo: \n",
        "# main([\"ab\", \"abc\", \"ad\"]) \n",
        "# debe dar {2: [\"ab\", \"ad\"], 3: [\"abc\"]} \n",
        "\n",
        "def main(list_1):\n",
        "    list_1 = list_1[:]\n",
        "    #Corrige las lienas para que se de el resultado deseado\n",
        "    pass"
      ]
    },
    {
      "cell_type": "code",
      "source": [
        "numero_palabras = []\n",
        "n = int(input(\"¿Cuántas palabras, silabas, letras son? \"))\n",
        "print(\"\\n\")\n",
        "for i in range(0, n):\n",
        "    print(\"Ingresa palabra, silaba o letra(s)\", i, )\n",
        "    item = input()\n",
        "    numero_palabras.append(item)\n",
        "print(\"Los caracteres son\", numero_palabras)\n",
        "\n",
        "\n",
        "def dict_p(numero_palabras):\n",
        "    diccionario = {}\n",
        "    largo=[]\n",
        "    for letras in numero_palabras:\n",
        "      largo.append(len(letras))\n",
        "      sets= set(largo)\n",
        "      for key in sets:\n",
        "        if len(letras)== key:\n",
        "          diccionario[key]=letras\n",
        "    print(diccionario)\n",
        "\n",
        "dict_p(numero_palabras)"
      ],
      "metadata": {
        "id": "IwJXjTYwUQV2"
      },
      "execution_count": null,
      "outputs": []
    }
  ],
  "metadata": {
    "colab": {
      "collapsed_sections": [
        "SVKygTkWyazY",
        "7jGBL3TJyfmk",
        "-Uv4_te5yiY-",
        "1lo0KBWKyqYP",
        "aFJmLvYy_ZLd",
        "X_O25LNG_dHd",
        "jkdYweBw_fv9",
        "P1zjLJJl_jFN",
        "xbE2RV5N_lYV",
        "Cp1q_XW5_nTX"
      ],
      "name": "ejercicios_extra_clase_1.ipynb",
      "provenance": []
    },
    "kernelspec": {
      "display_name": "Python 3",
      "language": "python",
      "name": "python3"
    },
    "language_info": {
      "codemirror_mode": {
        "name": "ipython",
        "version": 3
      },
      "file_extension": ".py",
      "mimetype": "text/x-python",
      "name": "python",
      "nbconvert_exporter": "python",
      "pygments_lexer": "ipython3",
      "version": "3.8.5"
    }
  },
  "nbformat": 4,
  "nbformat_minor": 0
}