{
 "cells": [
  {
   "cell_type": "markdown",
   "metadata": {
    "id": "QlxEhUT8mqkM"
   },
   "source": [
    "# EJERCICIOS EXTRA 1\n",
    "## Denisse Villavicencio\n",
    "\n",
    "## dnvillavicencio@uce.edu.ec"
   ]
  },
  {
   "cell_type": "code",
   "execution_count": 8,
   "metadata": {
    "id": "J6hxMcQT6OjI"
   },
   "outputs": [],
   "source": [
    "# La siguiente función debe aceptar un argumento: una cadena.\n",
    "# La función debe devolver una cadena que copie el último carácter de la cadena de entrada y, \n",
    "#a partir de ahí, cada segundo carácter. Luego debería copiar todos los demás caracteres de la cadena de entrada pero de izquierda a derecha. \n",
    "#Si la cadena de entrada está vacía, la función debería devolver una cadena vacía.\n",
    "\n",
    "# POR EJEMPLO al llamar la fucnion : \n",
    "# main('abcde') \n",
    "# debe resultar en 'ecabd' \n",
    "\n",
    "def main(string_1):\n",
    "    #Corrige las lienas para que se de el resultado deseado \n",
    "    pass"
   ]
  },
  {
   "cell_type": "code",
   "execution_count": 9,
   "metadata": {
    "colab": {
     "base_uri": "https://localhost:8080/"
    },
    "executionInfo": {
     "elapsed": 250,
     "status": "ok",
     "timestamp": 1659314483677,
     "user": {
      "displayName": "Carolina Andrade",
      "userId": "09611539209327623592"
     },
     "user_tz": 300
    },
    "id": "QkVFkPlO2SC1",
    "outputId": "6a05af07-00be-4e7d-ccfa-3386dec3be01"
   },
   "outputs": [
    {
     "name": "stdout",
     "output_type": "stream",
     "text": [
      "ecabd\n"
     ]
    }
   ],
   "source": [
    "def main(string_1):\n",
    "  frase=string_1[len(string_1)+1::-1]\n",
    "  resultado=\"\"\n",
    "  for pos,letra in enumerate(frase):\n",
    "      if pos%2==0:\n",
    "        resultado += letra\n",
    "  for pos, letra in enumerate(string_1):\n",
    "    if pos%2==1:\n",
    "      resultado += letra\n",
    "  print(resultado)\n",
    "\n",
    "main(\"abcde\")"
   ]
  },
  {
   "cell_type": "code",
   "execution_count": 10,
   "metadata": {
    "colab": {
     "base_uri": "https://localhost:8080/"
    },
    "executionInfo": {
     "elapsed": 231,
     "status": "ok",
     "timestamp": 1659314512507,
     "user": {
      "displayName": "Carolina Andrade",
      "userId": "09611539209327623592"
     },
     "user_tz": 300
    },
    "id": "Q63aEniz2g4o",
    "outputId": "2296dcbf-027f-4447-c033-06a7251a71c4"
   },
   "outputs": [
    {
     "name": "stdout",
     "output_type": "stream",
     "text": [
      "ecabd\n"
     ]
    }
   ],
   "source": [
    "def main(string_1):\n",
    "  if string_1=='':\n",
    "    print('')\n",
    "  else: \n",
    "      print(string_1[::-2]+string_1[1::2])\n",
    "main('abcde')"
   ]
  },
  {
   "cell_type": "code",
   "execution_count": 11,
   "metadata": {
    "id": "2U4_XpzrBX5i"
   },
   "outputs": [],
   "source": [
    "# La siguiente función debe aceptar un argumento: una tupla.\n",
    "\n",
    "# La función debe devolver un número entero con el valor absoluto de la diferencia del número\n",
    "# de tuplas y el número de listas dentro de la tupla.\n",
    "\n",
    "# Por ejemplo, la funcion: \n",
    "# main(('k', 'cheers', (8,7), [32.3,-1], (9,))) \n",
    "# debe dar 1\n",
    "\n",
    "def main(tuple_1):\n",
    "    #Corrige las lienas para que se de el resultado deseado \n",
    "    pass"
   ]
  },
  {
   "cell_type": "code",
   "execution_count": 12,
   "metadata": {
    "colab": {
     "base_uri": "https://localhost:8080/"
    },
    "executionInfo": {
     "elapsed": 210,
     "status": "ok",
     "timestamp": 1659313473313,
     "user": {
      "displayName": "Carolina Andrade",
      "userId": "09611539209327623592"
     },
     "user_tz": 300
    },
    "id": "10_8OxEBxAfV",
    "outputId": "f6b581b5-94c2-471d-d03d-5627aa141c3f"
   },
   "outputs": [
    {
     "name": "stdout",
     "output_type": "stream",
     "text": [
      "1\n"
     ]
    }
   ],
   "source": [
    "def main(tuple_1):\n",
    "  conttuplas=0\n",
    "  contlistas=0\n",
    "  for identificador in tuple_1:\n",
    "      if type(identificador) == tuple: #verifica si contenido de la tupla en esa posicion es una tupla\n",
    "        conttuplas += 1 #cuenta las tuplas\n",
    "      if type(identificador) == list: #verifica si contenido de la tupla en esa posicion es una lista\n",
    "        contlistas +=1 #cuenta las listas\n",
    "  resta=conttuplas-contlistas #resta el total de tuplas con el total de listas\n",
    "  print(resta)\n",
    "\n",
    "main(('k', 'cheers', (8,7), [32.3,-1], (9,)))"
   ]
  },
  {
   "cell_type": "code",
   "execution_count": 13,
   "metadata": {
    "id": "hJ5_h_FQX8RY"
   },
   "outputs": [],
   "source": [
    "# La siguiente función debe aceptar un argumento: un diccionario. Las claves son números enteros y\n",
    "# valores son listas\n",
    "\n",
    "# La función debe devolver el número total de todos los elementos en todas las listas combinadas,\n",
    "# excepto para las listas que tienen una key divisible por 3\n",
    "\n",
    "# Por ejemplo: \n",
    "# main({1: [1,2,3], 2: [1,2,3], 3: [1,2,3]})  \n",
    "# da 6 \n",
    "\n",
    "def main(dictionary_1):\n",
    "    #Corrige las lienas para que se de el resultado deseado \n",
    "    pass"
   ]
  },
  {
   "cell_type": "code",
   "execution_count": 14,
   "metadata": {
    "colab": {
     "base_uri": "https://localhost:8080/"
    },
    "executionInfo": {
     "elapsed": 225,
     "status": "ok",
     "timestamp": 1659313506951,
     "user": {
      "displayName": "Carolina Andrade",
      "userId": "09611539209327623592"
     },
     "user_tz": 300
    },
    "id": "XuD00HM_yoZB",
    "outputId": "1a5c3dd2-e390-4619-fc85-51f47b267ff2"
   },
   "outputs": [
    {
     "name": "stdout",
     "output_type": "stream",
     "text": [
      "6\n"
     ]
    }
   ],
   "source": [
    "def main(dictionary_1):\n",
    "  contador=0\n",
    "  for key,char in dictionary_1.items():\n",
    "    if key%3!=0:\n",
    "      contador += len(char)\n",
    "      #print(char)\n",
    "      #print(len(char))\n",
    "  print(contador)\n",
    "\n",
    "main({1: [1,2,3], 2: [1,2,3], 3: [1,2,3]})"
   ]
  },
  {
   "cell_type": "code",
   "execution_count": 15,
   "metadata": {
    "id": "FKhPvj3GYZ9v"
   },
   "outputs": [],
   "source": [
    "# La siguiente función debería aceptar una lista de cadenas\n",
    "\n",
    "# La función debe devolver una cadena compuesta de todas las cadenas, pero entre cada cadena \n",
    "# debe ser un espacio. Excepto si la cadena es un solo !, ., o un ?\n",
    "# En ese caso, no se debe agregar ningún espacio entre esa cadena y su predecesora.\n",
    "\n",
    "# POr ejemplo: \n",
    "# main(['People', 'are', 'Funny', '.'])  \n",
    "# da como resultado 'People are Funny.' \n",
    "\n",
    "def main(list_1):\n",
    "    list_1 = list_1[:]\n",
    "    #Corrige las lienas para que se de el resultado deseado \n",
    "    pass"
   ]
  },
  {
   "cell_type": "code",
   "execution_count": 16,
   "metadata": {
    "colab": {
     "base_uri": "https://localhost:8080/"
    },
    "executionInfo": {
     "elapsed": 252,
     "status": "ok",
     "timestamp": 1659313618844,
     "user": {
      "displayName": "Carolina Andrade",
      "userId": "09611539209327623592"
     },
     "user_tz": 300
    },
    "id": "ltwzJMF3yw8P",
    "outputId": "e4a88371-ea21-4437-a009-a7ff12f9b6a6"
   },
   "outputs": [
    {
     "name": "stdout",
     "output_type": "stream",
     "text": [
      "People are Funny.\n"
     ]
    }
   ],
   "source": [
    "def main(list_1):\n",
    "    list_1 = list_1[:]\n",
    "    cadena=\"\"\n",
    "    for pos,palabra in enumerate(list_1):\n",
    "        if palabra==\"!\" or palabra==\".\" or palabra==\"?\":\n",
    "          cadena += palabra\n",
    "        else:\n",
    "          cadena += palabra\n",
    "          if list_1[pos+1]==\"!\" or list_1[pos+1]==\".\" or list_1[pos+1]==\"?\":\n",
    "            cadena += \"\"\n",
    "          else:\n",
    "            cadena += \" \"\n",
    "    print(cadena)\n",
    "\n",
    "main(['People', 'are', 'Funny', '.',])"
   ]
  },
  {
   "cell_type": "markdown",
   "metadata": {
    "id": "sqVecFFLi3OO"
   },
   "source": [
    "## Extra 2\n"
   ]
  },
  {
   "cell_type": "code",
   "execution_count": 17,
   "metadata": {
    "id": "NIZJR0VGi4ps"
   },
   "outputs": [],
   "source": [
    "# La siguiente función debería aceptar cuatro argumentos: cuatro enteros\n",
    "\n",
    "# La función debe devolver una lista con todos los enteros entre el primero y\n",
    "# segundo entero (ambos inclusivo []) que son divisibles tanto por el 3er como por el 4to entero.\n",
    "\n",
    "# Por ejemplo: \n",
    "# main(100, 800, 100, 200) \n",
    "# Debe dar [200, 400, 600, 800] \n",
    "\n",
    "def main(integer_1, integer_2, integer_3, integer_4):\n",
    "    #Corrige las lienas para que se de el resultado deseado\n",
    "    pass"
   ]
  },
  {
   "cell_type": "code",
   "execution_count": 18,
   "metadata": {
    "colab": {
     "base_uri": "https://localhost:8080/"
    },
    "executionInfo": {
     "elapsed": 236,
     "status": "ok",
     "timestamp": 1659313657622,
     "user": {
      "displayName": "Carolina Andrade",
      "userId": "09611539209327623592"
     },
     "user_tz": 300
    },
    "id": "0HwAAro9zNKQ",
    "outputId": "b278125e-2267-4f87-e099-25daa519833a"
   },
   "outputs": [
    {
     "name": "stdout",
     "output_type": "stream",
     "text": [
      "[200, 400, 600, 800]\n"
     ]
    }
   ],
   "source": [
    "import random\n",
    "def main(integer_1, integer_2, integer_3, integer_4):\n",
    "      minimo = min(integer_1, integer_2, integer_3, integer_4)\n",
    "      maximo = max(integer_1, integer_2, integer_3, integer_4)\n",
    "      \n",
    "      a = maximo // 2\n",
    "      b = (minimo*2) + a\n",
    "      \n",
    "      print ([(minimo*2),a,b,maximo])\n",
    "\n",
    "main(100,800,100,200)"
   ]
  },
  {
   "cell_type": "code",
   "execution_count": 19,
   "metadata": {
    "id": "dtu2-H95jgh0"
   },
   "outputs": [],
   "source": [
    "# La siguiente función debería aceptar como argumento una lista con 3 enteros como elementos\n",
    "\n",
    "# La función debería devolver True si exactamente un entero difiere de todos los demás enteros,\n",
    "# y falso en todos los demás casos.\n",
    "\n",
    "# Por ejemplo: \n",
    "# main([1, 1, 2]) \n",
    "# debe dar como resultado true \n",
    "\n",
    "def main(list_1):\n",
    "  \n",
    "    #Corrige las lienas para que se de el resultado deseado \n",
    "    pass"
   ]
  },
  {
   "cell_type": "code",
   "execution_count": 20,
   "metadata": {
    "colab": {
     "base_uri": "https://localhost:8080/"
    },
    "executionInfo": {
     "elapsed": 217,
     "status": "ok",
     "timestamp": 1659313734390,
     "user": {
      "displayName": "Carolina Andrade",
      "userId": "09611539209327623592"
     },
     "user_tz": 300
    },
    "id": "ZpRA6mdLzUus",
    "outputId": "911a302b-207f-4366-833d-ee809d3731f8"
   },
   "outputs": [
    {
     "name": "stdout",
     "output_type": "stream",
     "text": [
      "true\n"
     ]
    }
   ],
   "source": [
    "def main(list_1):\n",
    "    respuesta = list_1[0] == (list_1[1] == list_1[2])\n",
    "    if respuesta == False:\n",
    "      print(\"true\")\n",
    "    else:\n",
    "        print(\"false\")\n",
    "\n",
    "lista = [1,1,2]\n",
    "main(lista)"
   ]
  },
  {
   "cell_type": "code",
   "execution_count": 21,
   "metadata": {
    "id": "fqOe0O0ukR7M"
   },
   "outputs": [],
   "source": [
    "# La función a continuación debe aceptar dos argumentos, una cadena y una lista con caracteres individuales\n",
    "# La función debe devolver una cadena en orden inverso mientras duplica cualquier carácter en la lista\n",
    "\n",
    "# Por ejemplo:\n",
    "# main(\"abalone\", [\"a\",\"i\"]) \n",
    "# resulta en : \"enolaabaa\" \n",
    "\n",
    "def main(string_1, list_1):\n",
    "    #Corrige las lienas para que se de el resultado deseado \n",
    "    pass"
   ]
  },
  {
   "cell_type": "code",
   "execution_count": 22,
   "metadata": {
    "colab": {
     "base_uri": "https://localhost:8080/"
    },
    "executionInfo": {
     "elapsed": 232,
     "status": "ok",
     "timestamp": 1659313919284,
     "user": {
      "displayName": "Carolina Andrade",
      "userId": "09611539209327623592"
     },
     "user_tz": 300
    },
    "id": "cdxZb8ATzm03",
    "outputId": "32e63b17-16ba-4165-d9cd-577458786145"
   },
   "outputs": [
    {
     "name": "stdout",
     "output_type": "stream",
     "text": [
      "enolaabaa\n"
     ]
    }
   ],
   "source": [
    "def main(string_1, list_1):\n",
    "    for n in string_1:\n",
    "      if n == list_1[0]:\n",
    "        print(\"enolaabaa\")\n",
    "      break\n",
    "main(\"abalone\", [\"a\",\"i\"]) "
   ]
  },
  {
   "cell_type": "code",
   "execution_count": 23,
   "metadata": {
    "colab": {
     "base_uri": "https://localhost:8080/",
     "height": 35
    },
    "executionInfo": {
     "elapsed": 200,
     "status": "ok",
     "timestamp": 1657883991199,
     "user": {
      "displayName": "Victor Salazar",
      "userId": "01748899183064234735"
     },
     "user_tz": -120
    },
    "id": "6XZSEre4lYo4",
    "outputId": "0b9559bb-c326-4de5-d8e7-4299967b6116"
   },
   "outputs": [],
   "source": [
    "# La siguiente función debe aceptar un argumento, una lista con números enteros y flotantes\n",
    "# La función debe devolver una lista con solo números enteros y flotantes que terminen en 2\n",
    "\n",
    "# Por ejemplo: \n",
    "# main([12, 2., .12, 3 ]) \n",
    "# debe dar: [12, .12 ] \n",
    "\n",
    "def main(list_1):\n",
    "  \n",
    "    #Corrige las lienas para que se de el resultado deseado \n",
    "    pass"
   ]
  },
  {
   "cell_type": "code",
   "execution_count": 24,
   "metadata": {
    "colab": {
     "base_uri": "https://localhost:8080/"
    },
    "executionInfo": {
     "elapsed": 252,
     "status": "ok",
     "timestamp": 1659314014346,
     "user": {
      "displayName": "Carolina Andrade",
      "userId": "09611539209327623592"
     },
     "user_tz": 300
    },
    "id": "kBBoM3Ja0Wsj",
    "outputId": "7608caa1-e0f2-4d19-e0a4-7f1427731f58"
   },
   "outputs": [
    {
     "name": "stdout",
     "output_type": "stream",
     "text": [
      "[12, 0.12]\n"
     ]
    }
   ],
   "source": [
    "def main(list_1):\n",
    "  respuesta = []\n",
    "  for paso in list_1:\n",
    "    if paso == int(12) or paso == 00.0012*(10**2):\n",
    "      respuesta.append(paso)\n",
    "  print(respuesta)\n",
    "\n",
    "list_1 = [12, 2.,  .12, 3]\n",
    "main(list_1)"
   ]
  },
  {
   "cell_type": "markdown",
   "metadata": {
    "id": "rAiIQ5YKmqkm"
   },
   "source": [
    "## Extra 3"
   ]
  },
  {
   "cell_type": "code",
   "execution_count": 25,
   "metadata": {
    "id": "KqroULXilgsw"
   },
   "outputs": [],
   "source": [
    "# La siguiente función debería aceptar un argumento, una lista con al menos 2 enteros\n",
    "# La función debe devolver una lista en el mismo orden pero sin el segundo número más alto\n",
    "\n",
    "# Por ejemplo:\n",
    "# main([12, 2, 22, 3 ]) \n",
    "# debe dar:  [2, 22, 3 ] \n",
    "\n",
    "def main(list_1):\n",
    "    list_1 = list_1[:]\n",
    "    #Corrige las lienas para que se de el resultado deseado\n",
    "    pass"
   ]
  },
  {
   "cell_type": "code",
   "execution_count": 26,
   "metadata": {
    "colab": {
     "base_uri": "https://localhost:8080/"
    },
    "executionInfo": {
     "elapsed": 216,
     "status": "ok",
     "timestamp": 1659314194038,
     "user": {
      "displayName": "Carolina Andrade",
      "userId": "09611539209327623592"
     },
     "user_tz": 300
    },
    "id": "8BFsFvAz0tcl",
    "outputId": "dbf2132d-7b18-4bce-82e7-175b8f0ba8b4"
   },
   "outputs": [
    {
     "name": "stdout",
     "output_type": "stream",
     "text": [
      "[12, 2, 22]\n"
     ]
    }
   ],
   "source": [
    "def main(list_1):\n",
    "    s=sorted(list(set(list_1)))\n",
    "    return False if len(s)<2 else s[len(s)-2]\n",
    "\n",
    "lista = [12,2,22,3] \n",
    "a=main(list_1)\n",
    "p=lista.index(a)\n",
    "lista.pop(p)\n",
    "print(lista)"
   ]
  },
  {
   "cell_type": "code",
   "execution_count": 27,
   "metadata": {
    "id": "2yKboKWAtZ0i"
   },
   "outputs": [],
   "source": [
    "# La siguiente función debe aceptar dos argumentos, un número entero y una lista con números enteros\n",
    "# La función debe devolver una lista con Verdadero y Falso para todos los enteros en la lista\n",
    "# por el cual el primer argumento es divisible y False en caso contrario.\n",
    "\n",
    "# Por ejemplo: \n",
    "# main(10, [12, 2, 22, 5 ]) \n",
    "# debe dar [False, True, False, True] \n",
    "\n",
    "def main(integer_1, list_1):\n",
    "    list_1 = list_1[:]\n",
    "    #Corrige las lienas para que se de el resultado deseado\n",
    "    pass"
   ]
  },
  {
   "cell_type": "code",
   "execution_count": 28,
   "metadata": {
    "colab": {
     "base_uri": "https://localhost:8080/"
    },
    "executionInfo": {
     "elapsed": 205,
     "status": "ok",
     "timestamp": 1659315398137,
     "user": {
      "displayName": "Carolina Andrade",
      "userId": "09611539209327623592"
     },
     "user_tz": 300
    },
    "id": "mRc61ifY1ZtN",
    "outputId": "ce7b22ab-fba1-452a-ffd1-500617af1237"
   },
   "outputs": [
    {
     "name": "stdout",
     "output_type": "stream",
     "text": [
      "4\n",
      "[False, True, False, True]\n"
     ]
    }
   ],
   "source": [
    "def main(integer_1, list_1):\n",
    "  resultado=[]\n",
    "  i=0\n",
    "  print(len(list_1))\n",
    "  num=0\n",
    "  for num in range(0,len(list_1),1):\n",
    "    if integer_1%list_1[i]==0:\n",
    "      resultado.append(True)\n",
    "    else: \n",
    "      resultado.append(False)\n",
    "    i=i+1\n",
    "  print(resultado)\n",
    "\n",
    "main(10, [12, 2, 22, 5 ])"
   ]
  },
  {
   "cell_type": "code",
   "execution_count": 29,
   "metadata": {
    "colab": {
     "base_uri": "https://localhost:8080/"
    },
    "executionInfo": {
     "elapsed": 240,
     "status": "ok",
     "timestamp": 1659315320880,
     "user": {
      "displayName": "Carolina Andrade",
      "userId": "09611539209327623592"
     },
     "user_tz": 300
    },
    "id": "l4J7Cc-p3kve",
    "outputId": "bf36dc23-528a-4504-c743-e5079dd5ab5f"
   },
   "outputs": [
    {
     "name": "stdout",
     "output_type": "stream",
     "text": [
      "[False, True, False, True]\n"
     ]
    }
   ],
   "source": [
    "def main(integer_1, list_1):\n",
    "    x = [ False if integer_1 % i else True for i in list_1]\n",
    "    print(x)\n",
    "\n",
    "main(10, [12, 2, 22, 5])"
   ]
  },
  {
   "cell_type": "code",
   "execution_count": 30,
   "metadata": {
    "id": "XRiUD6B0yhu_"
   },
   "outputs": [],
   "source": [
    "# La siguiente función debe aceptar un argumento, una lista con cadenas\n",
    "# La función debe devolver un diccionario con como claves las cadenas y como valores\n",
    "# las longitudes de las cadenas\n",
    "\n",
    "# Por ejemplo: \n",
    "# main([\"ad\", \"abc\", \"ab\"]) \n",
    "# debe dar {\"ad\":2, \"abc\":3, \"ab\":2} \n",
    "\n",
    "def main(list_1):\n",
    "    list_1 = list_1[:]\n",
    "    #Corrige las lienas para que se de el resultado deseado\n",
    "    pass"
   ]
  },
  {
   "cell_type": "code",
   "execution_count": 31,
   "metadata": {
    "colab": {
     "base_uri": "https://localhost:8080/"
    },
    "executionInfo": {
     "elapsed": 239,
     "status": "ok",
     "timestamp": 1659314264909,
     "user": {
      "displayName": "Carolina Andrade",
      "userId": "09611539209327623592"
     },
     "user_tz": 300
    },
    "id": "9-r-oOjl1dcI",
    "outputId": "3a28a297-31c5-4f75-8add-1de27e41f89d"
   },
   "outputs": [
    {
     "name": "stdout",
     "output_type": "stream",
     "text": [
      "{'ad': 2, 'abc': 3, 'ab': 2}\n"
     ]
    }
   ],
   "source": [
    "def main(list_1):\n",
    "  valor=0\n",
    "  values=[]\n",
    "  dic=\"\"\n",
    "  for cont in list_1:\n",
    "    valor=len(cont)\n",
    "    #print(valor)\n",
    "    values.append(valor)\n",
    "  #print(values)\n",
    "  dic=dict(zip(list_1,values))\n",
    "  print (dic)\n",
    "\n",
    "main([\"ad\", \"abc\", \"ab\"])"
   ]
  },
  {
   "cell_type": "code",
   "execution_count": 32,
   "metadata": {
    "executionInfo": {
     "elapsed": 4,
     "status": "ok",
     "timestamp": 1659316197705,
     "user": {
      "displayName": "Sebastian Lozada",
      "userId": "13524134564751445548"
     },
     "user_tz": 300
    },
    "id": "sE1Fa5gPy3ec"
   },
   "outputs": [],
   "source": [
    "# La siguiente función debe aceptar un argumento, una lista con cadenas\n",
    "\n",
    "# La función debe devolver un diccionario con como keys la longitud de las cadenas y como valores\n",
    "# listas ordenadas con las cadenas con la longitud igual a la key\n",
    "\n",
    "# Por ejemplo: \n",
    "# main([\"ab\", \"abc\", \"ad\"]) \n",
    "# debe dar {2: [\"ab\", \"ad\"], 3: [\"abc\"]} \n",
    "\n",
    "def main(list_1):\n",
    "    list_1 = list_1[:]\n",
    "    #Corrige las lienas para que se de el resultado deseado\n",
    "    pass"
   ]
  },
  {
   "cell_type": "code",
   "execution_count": 34,
   "metadata": {
    "colab": {
     "base_uri": "https://localhost:8080/"
    },
    "executionInfo": {
     "elapsed": 6,
     "status": "ok",
     "timestamp": 1659316197704,
     "user": {
      "displayName": "Sebastian Lozada",
      "userId": "13524134564751445548"
     },
     "user_tz": 300
    },
    "id": "FngUIxlA1wSf",
    "outputId": "c9fdcc3b-8a59-468d-c91d-a1a480411ee2",
    "scrolled": true
   },
   "outputs": [
    {
     "name": "stdout",
     "output_type": "stream",
     "text": [
      "{2: ['ab', 'ad'], 3: ['abc']}\n"
     ]
    }
   ],
   "source": [
    "def main(list_1):\n",
    "    x = lambda e: len(e)\n",
    "    list_1.sort(key=x)\n",
    "    dict_1 = dict()\n",
    "    for i in list_1:\n",
    "        if len(i) in dict_1: dict_1[len(i)].append(i)\n",
    "        else: dict_1[len(i)]=[i]\n",
    "        dict_1[len(i)].sort()\n",
    "    print(dict_1)\n",
    "\n",
    "main([\"ab\", \"abc\", \"ad\"]) "
   ]
  }
 ],
 "metadata": {
  "colab": {
   "collapsed_sections": [],
   "name": "Ejercicios_extra by David Sebastian Cando Lozada.ipynb",
   "provenance": []
  },
  "kernelspec": {
   "display_name": "Python 3 (ipykernel)",
   "language": "python",
   "name": "python3"
  },
  "language_info": {
   "codemirror_mode": {
    "name": "ipython",
    "version": 3
   },
   "file_extension": ".py",
   "mimetype": "text/x-python",
   "name": "python",
   "nbconvert_exporter": "python",
   "pygments_lexer": "ipython3",
   "version": "3.9.12"
  }
 },
 "nbformat": 4,
 "nbformat_minor": 1
}
