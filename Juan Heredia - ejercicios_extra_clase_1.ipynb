{
  "cells": [
    {
      "cell_type": "markdown",
      "metadata": {
        "id": "TLJJRN0aD98B"
      },
      "source": [
        "# EJERCICIOS EXTRA\n",
        "## Extra 1 "
      ]
    },
    {
      "cell_type": "code",
      "execution_count": 54,
      "metadata": {
        "id": "J6hxMcQT6OjI",
        "colab": {
          "base_uri": "https://localhost:8080/"
        },
        "outputId": "a4f1b6c0-3886-4c7f-9ff7-e0e06b2e2695"
      },
      "outputs": [
        {
          "output_type": "stream",
          "name": "stdout",
          "text": [
            "sñtomnaa\n",
            "ecabd\n"
          ]
        }
      ],
      "source": [
        "# La siguiente función debe aceptar un argumento: una cadena.\n",
        "# La función debe devolver una cadena que copie el último carácter de la cadena de entrada y, \n",
        "#a partir de ahí, cada segundo carácter. Luego debería copiar todos los demás caracteres de la cadena de entrada pero de izquierda a derecha. \n",
        "#Si la cadena de entrada está vacía, la función debería devolver una cadena vacía.\n",
        "\n",
        "# POR EJEMPLO al llamar la fucnion : \n",
        "# main('abcde') \n",
        "# debe resultar en 'ecabd' \n",
        "int(5/2)\n",
        "def main(str1):\n",
        "    x=len(str1); c=1\n",
        "    b=int(x-int(x/2)); a=int(x/2)\n",
        "    r=str1[x-1]\n",
        "    for i in range(1,b):\n",
        "      r = r + str1[x-1-2*i]\n",
        "    if x%2==0:\n",
        "      c=0\n",
        "    for i in range(0,a):\n",
        "      r = r + str1[2*i+c]\n",
        "    print(r)\n",
        "pass\n",
        "\n",
        "main('abcde')\n",
        "main('montañas')"
      ]
    },
    {
      "cell_type": "code",
      "execution_count": 74,
      "metadata": {
        "id": "2U4_XpzrBX5i",
        "colab": {
          "base_uri": "https://localhost:8080/"
        },
        "outputId": "9fa4abce-899f-4074-b418-61510b3182d4"
      },
      "outputs": [
        {
          "output_type": "stream",
          "name": "stdout",
          "text": [
            "1\n"
          ]
        }
      ],
      "source": [
        "# La siguiente función debe aceptar un argumento: una tupla.\n",
        "\n",
        "# La función debe devolver un número entero con el valor absoluto de la diferencia del número\n",
        "# de tuplas y el número de listas dentro de la tupla.\n",
        "\n",
        "# Por ejemplo, la funcion: \n",
        "# main(('k', 'cheers', (8,7), [32.3,-1], (9,))) \n",
        "# debe dar 1\n",
        "\n",
        "def main(a):\n",
        "    t=0; l=0\n",
        "    for i in range(len(a)):\n",
        "      if type(a[i])==tuple:\n",
        "        t=t+1\n",
        "      if type(a[i])==list:\n",
        "        l=l+1\n",
        "    print(abs(t-l))\n",
        "    pass\n",
        "\n",
        "main(('k', 'cheers', (8,7), [32.3,-1], (9,))) "
      ]
    },
    {
      "cell_type": "code",
      "execution_count": 30,
      "metadata": {
        "id": "hJ5_h_FQX8RY",
        "colab": {
          "base_uri": "https://localhost:8080/"
        },
        "outputId": "11a35552-c014-4d12-b1e1-e73ab2efff69"
      },
      "outputs": [
        {
          "output_type": "stream",
          "name": "stdout",
          "text": [
            "6\n",
            "4\n"
          ]
        }
      ],
      "source": [
        "# La siguiente función debe aceptar un argumento: un diccionario. Las claves son números enteros y\n",
        "# valores son listas\n",
        "\n",
        "# La función debe devolver el número total de todos los elementos en todas las listas combinadas,\n",
        "# excepto para las listas que tienen una key divisible por 3\n",
        "\n",
        "# Por ejemplo: \n",
        "# main({1: [1,2,3], 2: [1,2,3], 3: [1,2,3]})  \n",
        "# da 6 \n",
        "\n",
        "def main(a):\n",
        "    s=0\n",
        "    for i in a.keys():\n",
        "        if i%3 is not 0:\n",
        "          s=s+len(a[i])\n",
        "    print(s)\n",
        "    pass\n",
        "\n",
        "main({1: [1,2,3], 2: [1,2,3], 3: [1,2,3]})\n",
        "\n",
        "a={2:[1,3,5,7], 3:[1,2], 6:[5,7]}\n",
        "main(a)"
      ]
    },
    {
      "cell_type": "code",
      "execution_count": 51,
      "metadata": {
        "id": "FKhPvj3GYZ9v",
        "colab": {
          "base_uri": "https://localhost:8080/"
        },
        "outputId": "76087c70-a0f7-4c06-b4ae-fd3d9c4d76e3"
      },
      "outputs": [
        {
          "output_type": "stream",
          "name": "stdout",
          "text": [
            " People are Funny.\n",
            " Hola.Como estas?\n"
          ]
        }
      ],
      "source": [
        "# La siguiente función debería aceptar una lista de cadenas\n",
        "\n",
        "# La función debe devolver una cadena compuesta de todas las cadenas, pero entre cada cadena \n",
        "# debe ser un espacio. Excepto si la cadena es un solo !, ., o un ?\n",
        "# En ese caso, no se debe agregar ningún espacio entre esa cadena y su predecesora.\n",
        "\n",
        "# POr ejemplo: \n",
        "# main(['People', 'are', 'Funny', '.'])  \n",
        "# da como resultado 'People are Funny.' \n",
        "\n",
        "def main(l):\n",
        "    r=''; a=len(l)\n",
        "    for i in range(a):\n",
        "      if l[i] is '!' or l[i] is '.' or l[i] is '?':\n",
        "        r=r+l[i]\n",
        "      else:\n",
        "        r=r+' '\n",
        "        if i>0:\n",
        "          if l[i-1] is '!' or l[i-1] is '.' or l[i-1] is '?':\n",
        "            r=r.rstrip(' ')\n",
        "        r=r+l[i]\n",
        "    print(r)\n",
        "    pass\n",
        "\n",
        "x=['People', 'are', 'Funny', '.']\n",
        "main(x)\n",
        "y=['Hola','.','Como','estas','?']\n",
        "main(y)"
      ]
    },
    {
      "cell_type": "code",
      "source": [
        ""
      ],
      "metadata": {
        "colab": {
          "base_uri": "https://localhost:8080/",
          "height": 35
        },
        "id": "V61YJjuZIhzr",
        "outputId": "0a30fced-e4ef-46a3-f11f-f2d85b79d367"
      },
      "execution_count": 47,
      "outputs": [
        {
          "output_type": "execute_result",
          "data": {
            "text/plain": [
              "'Hola como estas'"
            ],
            "application/vnd.google.colaboratory.intrinsic+json": {
              "type": "string"
            }
          },
          "metadata": {},
          "execution_count": 47
        }
      ]
    },
    {
      "cell_type": "markdown",
      "metadata": {
        "id": "sqVecFFLi3OO"
      },
      "source": [
        "## Extra 2\n"
      ]
    },
    {
      "cell_type": "code",
      "execution_count": 56,
      "metadata": {
        "id": "NIZJR0VGi4ps",
        "colab": {
          "base_uri": "https://localhost:8080/"
        },
        "outputId": "9794763d-e051-43d1-d594-c2592764bf98"
      },
      "outputs": [
        {
          "output_type": "stream",
          "name": "stdout",
          "text": [
            "[200, 400, 600, 800]\n",
            "[30, 60, 90]\n"
          ]
        }
      ],
      "source": [
        "# La siguiente función debería aceptar cuatro argumentos: cuatro enteros\n",
        "\n",
        "# La función debe devolver una lista con todos los enteros entre el primero y\n",
        "# segundo entero (ambos inclusivo []) que son divisibles tanto por el 3er como por el 4to entero.\n",
        "\n",
        "# Por ejemplo: \n",
        "# main(100, 800, 100, 200) \n",
        "# Debe dar [200, 400, 600, 800] \n",
        "\n",
        "def main(n1, n2, n3, n4):\n",
        "    l=[]\n",
        "    for i in range(n1,n2+1):\n",
        "      if i%n3==0 and i%n4==0:\n",
        "        l.append(i)\n",
        "    print(l)\n",
        "    pass\n",
        "  \n",
        "main(100, 800, 100, 200)\n",
        "main(1, 100, 5, 30)"
      ]
    },
    {
      "cell_type": "code",
      "execution_count": 59,
      "metadata": {
        "id": "dtu2-H95jgh0",
        "colab": {
          "base_uri": "https://localhost:8080/"
        },
        "outputId": "3acb2df4-3d93-43fc-b884-0776792168b0"
      },
      "outputs": [
        {
          "output_type": "stream",
          "name": "stdout",
          "text": [
            "False\n",
            "True\n",
            "False\n"
          ]
        }
      ],
      "source": [
        "# La siguiente función debería aceptar como argumento una lista con 3 enteros como elementos\n",
        "\n",
        "# La función debería devolver True si exactamente un entero difiere de todos los demás enteros,\n",
        "# y falso en todos los demás casos.\n",
        "\n",
        "# Por ejemplo: \n",
        "# main([1, 1, 2]) \n",
        "# debe dar como resultado true \n",
        "\n",
        "def main(l):\n",
        "    if (l[0]==l[1] and l[0]!=l[2]) or (l[1]==l[2] and l[2]!=l[0]) or (l[0]==l[2] and l[0]!=l[1]):\n",
        "      print(True)\n",
        "    else:\n",
        "      print(False)\n",
        "    pass\n",
        "\n",
        "main([1,2,3])\n",
        "main([1,1,3])\n",
        "main([1,1,1])"
      ]
    },
    {
      "cell_type": "code",
      "execution_count": 81,
      "metadata": {
        "id": "fqOe0O0ukR7M",
        "colab": {
          "base_uri": "https://localhost:8080/"
        },
        "outputId": "180ac79d-a033-4eec-b220-230d67e7fdb8"
      },
      "outputs": [
        {
          "output_type": "stream",
          "name": "stdout",
          "text": [
            "enolaabaa\n"
          ]
        }
      ],
      "source": [
        "# La función a continuación debe aceptar dos argumentos, una cadena y una lista con caracteres individuales\n",
        "# La función debe devolver una cadena en orden inverso mientras duplica cualquier carácter en la lista\n",
        "\n",
        "# Por ejemplo:\n",
        "# main(\"abalone\", [\"a\",\"i\"]) \n",
        "# resulta en : \"enolaabaa\" \n",
        "\n",
        "def main(str1, l):\n",
        "    a=len(str1);r=''\n",
        "    for i in range(a):\n",
        "      if str1[i] in l:\n",
        "        r+=str1[i]*2\n",
        "      else:\n",
        "        r+=str1[i]\n",
        "    print(r[::-1])\n",
        "    pass\n",
        "main(\"abalone\", [\"a\",\"i\"])\n"
      ]
    },
    {
      "cell_type": "code",
      "execution_count": 93,
      "metadata": {
        "colab": {
          "base_uri": "https://localhost:8080/"
        },
        "id": "6XZSEre4lYo4",
        "outputId": "b2859672-ba97-41ab-e0c4-1af5145ab7b7"
      },
      "outputs": [
        {
          "output_type": "stream",
          "name": "stdout",
          "text": [
            "[12, 0.12]\n",
            "[2, 32, 35.2, 2.82]\n"
          ]
        }
      ],
      "source": [
        "# La siguiente función debe aceptar un argumento, una lista con números enteros y flotantes\n",
        "# La función debe devolver una lista con solo números enteros y flotantes que terminen en 2\n",
        "\n",
        "# Por ejemplo: \n",
        "# main([12, 2., .12, 3 ]) \n",
        "# debe dar: [12, .12 ] \n",
        "\n",
        "def main(list_1):\n",
        "    l=[]\n",
        "    for i in list_1:\n",
        "      a=str(i)\n",
        "      if a[-1::]=='2':\n",
        "        l.append(i)\n",
        "    print(l)\n",
        "    pass\n",
        "main([12, 2., .12, 3 ])\n",
        "main([2,20,32,35.2,7,2.82])"
      ]
    },
    {
      "cell_type": "markdown",
      "metadata": {
        "id": "xXrqXHuBD99B"
      },
      "source": [
        "## Extra 3"
      ]
    },
    {
      "cell_type": "code",
      "execution_count": 128,
      "metadata": {
        "id": "KqroULXilgsw",
        "colab": {
          "base_uri": "https://localhost:8080/"
        },
        "outputId": "f9959a7f-49f1-4a4e-fdaa-bdb14374f513"
      },
      "outputs": [
        {
          "output_type": "stream",
          "name": "stdout",
          "text": [
            "[2, 22, 3]\n",
            "[12, 2, 3, 21, 7, 5, 50]\n"
          ]
        }
      ],
      "source": [
        "# La siguiente función debería aceptar un argumento, una lista con al menos 2 enteros\n",
        "# La función debe devolver una lista en el mismo orden pero sin el segundo número más alto\n",
        "\n",
        "# Por ejemplo:\n",
        "# main([12, 2, 22, 3 ]) \n",
        "# debe dar:  [2, 22, 3 ] \n",
        "\n",
        "def main(list_1):\n",
        "    l=sorted(list(set(list_1)))\n",
        "    a=len(l)\n",
        "    n=l[a-2]\n",
        "    r=[x for x in list_1 if x!=n]\n",
        "    print(r)\n",
        "    pass\n",
        "main([12, 2, 22, 3 ])\n",
        "main([12, 2, 22, 3 ,21,7,5,50])"
      ]
    },
    {
      "cell_type": "code",
      "execution_count": 130,
      "metadata": {
        "id": "2yKboKWAtZ0i",
        "colab": {
          "base_uri": "https://localhost:8080/"
        },
        "outputId": "f8ec46a1-43d2-441d-f2a2-1ce23bfd0d0f"
      },
      "outputs": [
        {
          "output_type": "stream",
          "name": "stdout",
          "text": [
            "[False, True, False, True]\n"
          ]
        }
      ],
      "source": [
        "# La siguiente función debe aceptar dos argumentos, un número entero y una lista con números enteros\n",
        "# La función debe devolver una lista con Verdadero y Falso para todos los enteros en la lista\n",
        "# por el cual el primer argumento es divisible y False en caso contrario.\n",
        "\n",
        "# Por ejemplo: \n",
        "# main(10, [12, 2, 22, 5 ]) \n",
        "# debe dar [False, True, False, True] \n",
        "\n",
        "def main(n, l):\n",
        "    r=[]\n",
        "    for i in l:\n",
        "        if n%i==0:\n",
        "          r.append(True)\n",
        "        else:\n",
        "          r.append(False)\n",
        "    print(r)\n",
        "    pass\n",
        "\n",
        "main(10, [12, 2, 22, 5 ]) "
      ]
    },
    {
      "cell_type": "code",
      "execution_count": 132,
      "metadata": {
        "id": "XRiUD6B0yhu_",
        "colab": {
          "base_uri": "https://localhost:8080/"
        },
        "outputId": "fd6e8d58-64ac-4393-b343-0b96880dfe9f"
      },
      "outputs": [
        {
          "output_type": "stream",
          "name": "stdout",
          "text": [
            "{'ad': 2, 'abc': 3, 'ab': 2}\n",
            "{'Juan': 4, 'Pancho': 6, 'Diana': 5}\n"
          ]
        }
      ],
      "source": [
        "# La siguiente función debe aceptar un argumento, una lista con cadenas\n",
        "# La función debe devolver un diccionario con como claves las cadenas y como valores\n",
        "# las longitudes de las cadenas\n",
        "\n",
        "# Por ejemplo: \n",
        "# main([\"ad\", \"abc\", \"ab\"]) \n",
        "# debe dar {\"ad\":2, \"abc\":3, \"ab\":2} \n",
        "\n",
        "def main(l):\n",
        "    d=dict()\n",
        "    for i in l:\n",
        "      d[i]=len(i)\n",
        "    print(d)\n",
        "    pass\n",
        "\n",
        "main([\"ad\", \"abc\", \"ab\"]) \n",
        "main([\"Juan\", \"Pancho\", \"Diana\"]) "
      ]
    },
    {
      "cell_type": "code",
      "execution_count": 135,
      "metadata": {
        "id": "sE1Fa5gPy3ec",
        "colab": {
          "base_uri": "https://localhost:8080/"
        },
        "outputId": "84974fdf-d212-4ea8-c1cf-9fb7ed6cadfb"
      },
      "outputs": [
        {
          "output_type": "stream",
          "name": "stdout",
          "text": [
            "{2: ['ab', 'ad'], 3: ['abc']}\n"
          ]
        }
      ],
      "source": [
        "# La siguiente función debe aceptar un argumento, una lista con cadenas\n",
        "\n",
        "# La función debe devolver un diccionario con como keys la longitud de las cadenas y como valores\n",
        "# listas ordenadas con las cadenas con la longitud igual a la key\n",
        "\n",
        "# Por ejemplo: \n",
        "# main([\"ab\", \"abc\", \"ad\"]) \n",
        "# debe dar {2: [\"ab\", \"ad\"], 3: [\"abc\"]} \n",
        "\n",
        "def main(l):\n",
        "    x = lambda e: len(e)\n",
        "    l.sort(key=x)\n",
        "    d = dict()\n",
        "    for i in l:\n",
        "        if len(i) in d: d[len(i)].append(i)\n",
        "        else: d[len(i)]=[i]\n",
        "        d[len(i)].sort()\n",
        "    print(d)\n",
        "\n",
        "main([\"ab\", \"abc\", \"ad\"]) "
      ]
    }
  ],
  "metadata": {
    "colab": {
      "collapsed_sections": [],
      "name": "ejercicios_extra_clase_1.ipynb",
      "provenance": []
    },
    "kernelspec": {
      "display_name": "Python 3",
      "language": "python",
      "name": "python3"
    },
    "language_info": {
      "codemirror_mode": {
        "name": "ipython",
        "version": 3
      },
      "file_extension": ".py",
      "mimetype": "text/x-python",
      "name": "python",
      "nbconvert_exporter": "python",
      "pygments_lexer": "ipython3",
      "version": "3.8.5"
    }
  },
  "nbformat": 4,
  "nbformat_minor": 0
}