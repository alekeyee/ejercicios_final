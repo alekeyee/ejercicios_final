{
 "cells": [
  {
   "cell_type": "markdown",
   "metadata": {},
   "source": [
    "# EJERCICIOS EXTRA\n",
    "## Extra 1 "
   ]
  },
  {
   "cell_type": "code",
   "execution_count": 1,
   "metadata": {},
   "outputs": [],
   "source": [
    "#Nombre: Daniela Alejandra Villavicencio Gallegos"
   ]
  },
  {
   "cell_type": "code",
   "execution_count": 30,
   "metadata": {
    "executionInfo": {
     "elapsed": 212,
     "status": "ok",
     "timestamp": 1657880703839,
     "user": {
      "displayName": "Victor Salazar",
      "userId": "01748899183064234735"
     },
     "user_tz": -120
    },
    "id": "J6hxMcQT6OjI"
   },
   "outputs": [
    {
     "name": "stdout",
     "output_type": "stream",
     "text": [
      "ecabd\n",
      "53124\n"
     ]
    }
   ],
   "source": [
    "#Ejercicio 1\n",
    "#INSTRUCCIONES:\n",
    "# La siguiente función debe aceptar un argumento: una cadena.\n",
    "# La función debe devolver una cadena que copie el último carácter de la cadena de entrada y, a partir de ahí, cada segundo carácter. Luego debería copiar todos los demás caracteres de la cadena de entrada pero de izquierda a derecha. \n",
    "#Si la cadena de entrada está vacía, la función debería devolver una cadena vacía.\n",
    "\n",
    "# POR EJEMPLO al llamar la función: \n",
    "# main('abcde') \n",
    "# debe resultar en 'ecabd' \n",
    "\n",
    "def main(string_1):\n",
    "    #Corrige las lineas para que se de el resultado deseado \n",
    "    pass\n",
    "\n",
    "#SOLUCIÓN:\n",
    "\n",
    "def main(string_ej1):\n",
    "    if string_ej1==\"\":\n",
    "        print(\"\")\n",
    "    else:\n",
    "        print(string_ej1[::-2]+string_ej1[1::2])\n",
    "main(\"abcde\")\n",
    "\n",
    "\n",
    "#En lugar de usar letras, usamos números:\n",
    "\n",
    "def main(string_ej1):\n",
    "    if string_ej1==\"\":\n",
    "        print(\"\")\n",
    "    else:\n",
    "        print(string_ej1[::-2]+string_ej1[1::2])\n",
    "main(\"12345\")"
   ]
  },
  {
   "cell_type": "code",
   "execution_count": 31,
   "metadata": {
    "id": "2U4_XpzrBX5i"
   },
   "outputs": [
    {
     "name": "stdout",
     "output_type": "stream",
     "text": [
      "La diferencia es: 1\n"
     ]
    }
   ],
   "source": [
    "#Ejercicio 2\n",
    "#INSTRUCCIONES:\n",
    "# La siguiente función debe aceptar un argumento: una tupla.\n",
    "# La función debe devolver un número entero con el valor absoluto de la diferencia del número de tuplas y el número de listas dentro de la tupla.\n",
    "\n",
    "# Por ejemplo, la función: \n",
    "# main(('k', 'cheers', (8,7), [32.3,-1], (9,))) \n",
    "# debe dar 1\n",
    "\n",
    "def main(tuple_1):\n",
    "    #Corrige las lienas para que se de el resultado deseado \n",
    "    pass\n",
    "\n",
    "#SOLUCIÓN:\n",
    "\n",
    "def main(tuple_ej2):\n",
    "    tupla=0\n",
    "    lista=0\n",
    "    for i in tuple_ej2:\n",
    "        if type(i)==tuple:\n",
    "            tupla+=1\n",
    "        if type(i)==list:\n",
    "            lista+=1\n",
    "    diferencia=tupla-lista\n",
    "    print(\"La diferencia es:\",diferencia)\n",
    "main(('k', 'cheers', (8,7), [32.3,-1], (9,)))"
   ]
  },
  {
   "cell_type": "code",
   "execution_count": 32,
   "metadata": {
    "id": "hJ5_h_FQX8RY"
   },
   "outputs": [
    {
     "name": "stdout",
     "output_type": "stream",
     "text": [
      "La respuesta es: 6\n"
     ]
    }
   ],
   "source": [
    "#Ejercicio 3\n",
    "#INSTRUCCIONES:\n",
    "# La siguiente función debe aceptar un argumento: un diccionario. Las claves son números enteros y valores son listas.\n",
    "# La función debe devolver el número total de todos los elementos en todas las listas combinadas, excepto para las listas que tienen una key divisible por 3\n",
    "\n",
    "# Por ejemplo: \n",
    "# main({1: [1,2,3], 2: [1,2,3], 3: [1,2,3]})  \n",
    "# da 6 \n",
    "\n",
    "def main(dictionary_1):\n",
    "    #Corrige las líneas para que se dé el resultado deseado \n",
    "    pass\n",
    "\n",
    "#SOLUCIÓN:\n",
    "def main(dictionary_ej3):\n",
    "    respuesta=0\n",
    "    for key in dictionary_ej3.keys():\n",
    "        if key%3!=0:\n",
    "            respuesta+= len(dictionary_ej3.values())\n",
    "    print(\"La respuesta es:\", respuesta)\n",
    "main({1:[1,2,3], 2:[1,2,3], 3:[1,2,3]})\n"
   ]
  },
  {
   "cell_type": "code",
   "execution_count": 33,
   "metadata": {
    "id": "FKhPvj3GYZ9v"
   },
   "outputs": [
    {
     "name": "stdout",
     "output_type": "stream",
     "text": [
      "La gente es divertida.\n"
     ]
    }
   ],
   "source": [
    "#Ejercicio 4\n",
    "#INSTRUCCIONES:\n",
    "# La siguiente función debería aceptar una lista de cadenas.\n",
    "# La función debe devolver una cadena compuesta de todas las cadenas, pero entre cada cadena debe ser un espacio. Excepto si la cadena es un solo !, ., o un ?\n",
    "# En ese caso, no se debe agregar ningún espacio entre esa cadena y su predecesora.\n",
    "\n",
    "# Por ejemplo: \n",
    "# main(['People', 'are', 'Funny', '.'])  \n",
    "# da como resultado 'People are Funny.' \n",
    "\n",
    "def main(list_1):\n",
    "    list_1 = list_1[:]\n",
    "    #Corrige las lienas para que se de el resultado deseado \n",
    "    pass\n",
    "\n",
    "#SOLUCIÓN:\n",
    "def main (list_ej4):\n",
    "    \"\".join(list_ej4)\n",
    "    return(print(\" \".join(list_ej4)))\n",
    "list_ej4=[\"La\", \"gente\", \"es\", \"divertida.\"]\n",
    "main (list_ej4)"
   ]
  },
  {
   "cell_type": "markdown",
   "metadata": {
    "id": "sqVecFFLi3OO"
   },
   "source": [
    "## Extra 2\n"
   ]
  },
  {
   "cell_type": "code",
   "execution_count": 34,
   "metadata": {
    "id": "NIZJR0VGi4ps"
   },
   "outputs": [
    {
     "data": {
      "text/plain": [
       "[200, 400, 600, 800]"
      ]
     },
     "execution_count": 34,
     "metadata": {},
     "output_type": "execute_result"
    }
   ],
   "source": [
    "#Ejercicio 5\n",
    "#INSTRUCCIONES:\n",
    "#La siguiente función debería aceptar cuatro argumentos: cuatro enteros\n",
    "# La función debe devolver una lista con todos los enteros entre el primero y segundo entero (ambos inclusivo []) que son divisibles tanto por el 3er como por el 4to entero.\n",
    "\n",
    "# Por ejemplo: \n",
    "# main(100, 800, 100, 200) \n",
    "# Debe dar [200, 400, 600, 800] \n",
    "\n",
    "def main(integer_1, integer_2, integer_3, integer_4):\n",
    "    #Corrige las líneas para que se de el resultado deseado\n",
    "    pass\n",
    "\n",
    "#SOLUCIÓN:\n",
    "def main(integer_1, integer_2, integer_3, integer_4):\n",
    "    respuesta = [i for i in range(integer_1, integer_2+1) if i % integer_4 == 0]\n",
    "    return respuesta\n",
    "\n",
    "main(100, 800, 100, 200)"
   ]
  },
  {
   "cell_type": "code",
   "execution_count": 35,
   "metadata": {
    "id": "dtu2-H95jgh0"
   },
   "outputs": [
    {
     "name": "stdout",
     "output_type": "stream",
     "text": [
      "True\n"
     ]
    }
   ],
   "source": [
    "#Ejercicio 6\n",
    "#INSTRUCCIONES:\n",
    "# La siguiente función debería aceptar como argumento una lista con 3 enteros como elementos\n",
    "# La función debería devolver True si exactamente un entero difiere de todos los demás enteros, y falso en todos los demás casos.\n",
    "\n",
    "# Por ejemplo: \n",
    "# main([1, 1, 2]) \n",
    "# debe dar como resultado true \n",
    "\n",
    "def main(list_1):\n",
    "    #Corrige las líneas para que se de el resultado deseado \n",
    "    pass\n",
    "\n",
    "#SOLUCIÓN:\n",
    "lista_ej6 = [1,1,2]\n",
    "def main(list_ej6):\n",
    "    respuesta = list_ej6[0] == (list_ej6[1] == list_ej6[2])\n",
    "    if respuesta == False:\n",
    "        print(\"True\")\n",
    "    else:\n",
    "        print(\"False\")\n",
    "main(lista_ej6)"
   ]
  },
  {
   "cell_type": "code",
   "execution_count": 36,
   "metadata": {
    "id": "fqOe0O0ukR7M"
   },
   "outputs": [
    {
     "name": "stdout",
     "output_type": "stream",
     "text": [
      "La respuesta es: enolaba\n"
     ]
    }
   ],
   "source": [
    "#Ejercicio 7\n",
    "#INSTRUCCIONES:\n",
    "# La función a continuación debe aceptar dos argumentos, una cadena y una lista con caracteres individuales\n",
    "# La función debe devolver una cadena en orden inverso mientras duplica cualquier carácter en la lista\n",
    "\n",
    "# Por ejemplo:\n",
    "# main(\"abalone\", [\"a\",\"i\"]) \n",
    "# resulta en : \"enolaabaa\" \n",
    "\n",
    "def main(string_1, list_1):\n",
    "    #Corrige las líneas para que se de el resultado deseado \n",
    "    pass\n",
    "\n",
    "#SOLUCIÓN:\n",
    "string_ej7=\"abalone\"\n",
    "list_ej7=[\"a\", \"i\"]\n",
    "\n",
    "def main(string_ej7, list_ej7):\n",
    "    x=(list_ej7[0])\n",
    "    lenght_string=len(string_ej7)\n",
    "    sliced_string=string_ej7[lenght_string::-1]\n",
    "    return (print(\"La respuesta es:\", sliced_string))\n",
    "main(string_ej7, list_ej7)"
   ]
  },
  {
   "cell_type": "code",
   "execution_count": 37,
   "metadata": {
    "colab": {
     "base_uri": "https://localhost:8080/",
     "height": 35
    },
    "executionInfo": {
     "elapsed": 200,
     "status": "ok",
     "timestamp": 1657883991199,
     "user": {
      "displayName": "Victor Salazar",
      "userId": "01748899183064234735"
     },
     "user_tz": -120
    },
    "id": "6XZSEre4lYo4",
    "outputId": "0b9559bb-c326-4de5-d8e7-4299967b6116"
   },
   "outputs": [
    {
     "name": "stdout",
     "output_type": "stream",
     "text": [
      "La respuesta es: [12, 0.12]\n"
     ]
    }
   ],
   "source": [
    "#Ejercicio 8\n",
    "#INSTRUCCIONES:\n",
    "# La siguiente función debe aceptar un argumento, una lista con números enteros y flotantes\n",
    "# La función debe devolver una lista con solo números enteros y flotantes que terminen en 2\n",
    "\n",
    "# Por ejemplo: \n",
    "# main([12, 2., .12, 3 ]) \n",
    "# debe dar: [12, .12 ] \n",
    "\n",
    "def main(list_1):\n",
    "    #Corrige las lienas para que se de el resultado deseado \n",
    "    pass\n",
    "\n",
    "#SOLUCIÓN:\n",
    "list_ej8 = [12, 2., .12, 3]\n",
    "\n",
    "def main(list_ej8):\n",
    "    respuesta =[]\n",
    "    for n in list_ej8:\n",
    "        if int(str(n)[-1]) == 2:\n",
    "            respuesta.append(n)\n",
    "    print(\"La respuesta es:\", respuesta)\n",
    "main(list_ej8)"
   ]
  },
  {
   "cell_type": "markdown",
   "metadata": {},
   "source": [
    "## Extra 3"
   ]
  },
  {
   "cell_type": "code",
   "execution_count": 38,
   "metadata": {
    "id": "KqroULXilgsw"
   },
   "outputs": [
    {
     "name": "stdout",
     "output_type": "stream",
     "text": [
      "La respuesta es: [2, 22, 3]\n"
     ]
    }
   ],
   "source": [
    "#Ejercicio 9\n",
    "#INSTRUCCIONES:\n",
    "# La siguiente función debería aceptar un argumento, una lista con al menos 2 enteros\n",
    "# La función debe devolver una lista en el mismo orden pero sin el segundo número más alto\n",
    "\n",
    "# Por ejemplo:\n",
    "# main([12, 2, 22, 3 ]) \n",
    "# debe dar:  [2, 22, 3 ] \n",
    "\n",
    "def main(list_1):\n",
    "    list_1 = list_1[:]\n",
    "    #Corrige las líneas para que se de el resultado deseado\n",
    "    pass\n",
    "\n",
    "#SOLUCIÓN:\n",
    "lista=[12,2,22,3]\n",
    "def main(lista):\n",
    "    list_ej9=lista[1:]\n",
    "    return(print(\"La respuesta es:\",list_ej9))\n",
    "main(lista)"
   ]
  },
  {
   "cell_type": "code",
   "execution_count": 39,
   "metadata": {
    "id": "2yKboKWAtZ0i"
   },
   "outputs": [
    {
     "name": "stdout",
     "output_type": "stream",
     "text": [
      "La respuesta es: ['False', 'True', 'False', 'True']\n"
     ]
    }
   ],
   "source": [
    "#Ejercicio 10\n",
    "#INSTRUCCIONES:\n",
    "# La siguiente función debe aceptar dos argumentos, un número entero y una lista con números enteros\n",
    "# La función debe devolver una lista con Verdadero y Falso para todos los enteros en la lista, por el cual el primer argumento es divisible y False en caso contrario.\n",
    "\n",
    "# Por ejemplo: \n",
    "# main(10, [12, 2, 22, 5 ]) \n",
    "# debe dar [False, True, False, True] \n",
    "\n",
    "def main(integer_1, list_1):\n",
    "    list_1 = list_1[:]\n",
    "    #Corrige las líneas para que se de el resultado deseado\n",
    "    pass\n",
    "\n",
    "#SOLUCIÓN:\n",
    "def main(integer_ej10, list_ej10):\n",
    "    respuesta=[]\n",
    "    for elementos in list_ej10:\n",
    "        if integer_ej10% elementos==0:\n",
    "            respuesta.append(\"True\")\n",
    "        elif integer_ej10% elementos !=0:\n",
    "            respuesta.append(\"False\")\n",
    "    print(\"La respuesta es:\", respuesta)\n",
    "main(10,[12, 2, 22, 5]) "
   ]
  },
  {
   "cell_type": "code",
   "execution_count": 40,
   "metadata": {
    "id": "XRiUD6B0yhu_"
   },
   "outputs": [
    {
     "name": "stdout",
     "output_type": "stream",
     "text": [
      "La respuesta es: {'ad': 2, 'abc': 3, 'ab': 2}\n"
     ]
    }
   ],
   "source": [
    "#Ejercicio 11\n",
    "#INSTRUCCIONES:\n",
    "# La siguiente función debe aceptar un argumento, una lista con cadenas\n",
    "# La función debe devolver un diccionario con como claves las cadenas y como valores las longitudes de las cadenas\n",
    "\n",
    "# Por ejemplo: \n",
    "# main([\"ad\", \"abc\", \"ab\"]) \n",
    "# debe dar {\"ad\":2, \"abc\":3, \"ab\":2} \n",
    "\n",
    "def main(list_1):\n",
    "    list_1 = list_1[:]\n",
    "    #Corrige las líneas para que se de el resultado deseado\n",
    "    pass\n",
    "\n",
    "#SOLUCIÓN:\n",
    "def main(list_ej11):\n",
    "    dictionary_ej11 = {}\n",
    "    for letters in list_ej11:\n",
    "        dictionary_ej11[letters]= len(letters)\n",
    "    print(\"La respuesta es:\", dictionary_ej11)\n",
    "main([\"ad\", \"abc\", \"ab\"]) "
   ]
  },
  {
   "cell_type": "code",
   "execution_count": 41,
   "metadata": {
    "id": "sE1Fa5gPy3ec"
   },
   "outputs": [
    {
     "name": "stdout",
     "output_type": "stream",
     "text": [
      "La respuesta es: {2: 'ad', 3: 'abc'}\n"
     ]
    }
   ],
   "source": [
    "#Ejercicio 12\n",
    "#INSTRUCCIONES:\n",
    "# La siguiente función debe aceptar un argumento, una lista con cadenas\n",
    "# La función debe devolver un diccionario con como keys la longitud de las cadenas y como valores listas ordenadas con las cadenas con la longitud igual a la key\n",
    "\n",
    "# Por ejemplo: \n",
    "# main([\"ab\", \"abc\", \"ad\"]) \n",
    "# debe dar {2: [\"ab\", \"ad\"], 3: [\"abc\"]} \n",
    "\n",
    "def main(list_1):\n",
    "    list_1 = list_1[:]\n",
    "    #Corrige las líneas para que se de el resultado deseado\n",
    "    pass\n",
    "\n",
    "#SOLUCIÓN:\n",
    "list_ej12 =['ab','abc','ad']\n",
    "dictionary_ej12 = {}\n",
    "longitud=[]\n",
    "\n",
    "for letters in list_ej12:\n",
    "    longitud.append(len(letters))\n",
    "    set_ej12= set(longitud)\n",
    "    for key in set_ej12:\n",
    "        if len(letters)== key:\n",
    "            dictionary_ej12[key]=letters\n",
    "print(\"La respuesta es:\", dictionary_ej12)"
   ]
  }
 ],
 "metadata": {
  "colab": {
   "authorship_tag": "ABX9TyPD5ax1XUqklfzORP6QntIw",
   "collapsed_sections": [],
   "name": "ejercicios_extra.ipynb",
   "provenance": []
  },
  "kernelspec": {
   "display_name": "Python 3 (ipykernel)",
   "language": "python",
   "name": "python3"
  },
  "language_info": {
   "codemirror_mode": {
    "name": "ipython",
    "version": 3
   },
   "file_extension": ".py",
   "mimetype": "text/x-python",
   "name": "python",
   "nbconvert_exporter": "python",
   "pygments_lexer": "ipython3",
   "version": "3.9.12"
  }
 },
 "nbformat": 4,
 "nbformat_minor": 1
}
