{
  "cells": [
    {
      "cell_type": "markdown",
      "metadata": {
        "id": "qGCQhM8fYPeV"
      },
      "source": [
        "# EJERCICIOS EXTRA\n",
        "## Extra 1 "
      ]
    },
    {
      "cell_type": "code",
      "execution_count": null,
      "metadata": {
        "id": "J6hxMcQT6OjI"
      },
      "outputs": [],
      "source": [
        "# La siguiente función debe aceptar un argumento: una cadena.\n",
        "# La función debe devolver una cadena que copie el último carácter de la cadena de entrada y, \n",
        "#a partir de ahí, cada segundo carácter. Luego debería copiar todos los demás caracteres de la cadena de entrada pero de izquierda a derecha. \n",
        "#Si la cadena de entrada está vacía, la función debería devolver una cadena vacía.\n",
        "\n",
        "# POR EJEMPLO al llamar la fucnion : \n",
        "# main('abcde') \n",
        "# debe resultar en 'ecabd' \n",
        "\n",
        "def main(string_1):\n",
        "    #Corrige las lienas para que se de el resultado deseado \n",
        "    pass"
      ]
    },
    {
      "cell_type": "code",
      "execution_count": 40,
      "metadata": {
        "colab": {
          "base_uri": "https://localhost:8080/",
          "height": 35
        },
        "id": "GslGdaUgIPCK",
        "outputId": "aad623d8-f124-49cb-a9c7-fe4e8c7257f8"
      },
      "outputs": [
        {
          "output_type": "execute_result",
          "data": {
            "text/plain": [
              "'ecabd'"
            ],
            "application/vnd.google.colaboratory.intrinsic+json": {
              "type": "string"
            }
          },
          "metadata": {},
          "execution_count": 40
        }
      ],
      "source": [
        "def main(string_1):\n",
        "  string_2 = string_1 [::-2]\n",
        "  for f in string_1:\n",
        "    if f not in string_2: string_2 += f\n",
        "  return string_2\n",
        "main(\"abcde\")"
      ]
    },
    {
      "cell_type": "code",
      "execution_count": null,
      "metadata": {
        "id": "2U4_XpzrBX5i"
      },
      "outputs": [],
      "source": [
        "# La siguiente función debe aceptar un argumento: una tupla.\n",
        "\n",
        "# La función debe devolver un número entero con el valor absoluto de la diferencia del número\n",
        "# de tuplas y el número de listas dentro de la tupla.\n",
        "\n",
        "# Por ejemplo, la funcion: \n",
        "# main(('k', 'cheers', (8,7), [32.3,-1], (9,))) \n",
        "# debe dar 1\n",
        "\n",
        "def main(tuple_1):\n",
        "    #Corrige las lienas para que se de el resultado deseado \n",
        "    pass"
      ]
    },
    {
      "cell_type": "code",
      "source": [
        "def main(tuple_1):\n",
        "  t, l = 0, 0\n",
        "  for f in tuple_1:\n",
        "    if isinstance(f, tuple): t += 1\n",
        "    elif isinstance(f, list): l += 1\n",
        "  return abs(t-2)\n",
        "main((\"k\", \"cheer\", (8,7), [32.3, -1],(9,), (1,True)))"
      ],
      "metadata": {
        "colab": {
          "base_uri": "https://localhost:8080/"
        },
        "id": "fRDZR9X0LwLd",
        "outputId": "b3358ab4-f1d0-49ba-d6ed-d7cdbeaae039"
      },
      "execution_count": 43,
      "outputs": [
        {
          "output_type": "execute_result",
          "data": {
            "text/plain": [
              "1"
            ]
          },
          "metadata": {},
          "execution_count": 43
        }
      ]
    },
    {
      "cell_type": "code",
      "execution_count": null,
      "metadata": {
        "id": "hJ5_h_FQX8RY"
      },
      "outputs": [],
      "source": [
        "# La siguiente función debe aceptar un argumento: un diccionario. Las claves son números enteros y\n",
        "# valores son listas\n",
        "\n",
        "# La función debe devolver el número total de todos los elementos en todas las listas combinadas,\n",
        "# excepto para las listas que tienen una key divisible por 3\n",
        "\n",
        "# Por ejemplo: \n",
        "# main({1: [1,2,3], 2: [1,2,3], 3: [1,2,3]})  \n",
        "# da 6 \n",
        "\n",
        "def main(dictionary_1):\n",
        "    #Corrige las lienas para que se de el resultado deseado \n",
        "    pass"
      ]
    },
    {
      "cell_type": "code",
      "source": [
        "def main(dictionary_1):\n",
        "  num = 0\n",
        "  for f in dictionary_1.keys():\n",
        "    if f % 3: num = num + len(dictionary_1[f])\n",
        "  print(num)\n",
        "main({1: [1,2,3], 2: [1,2,3], 3: [1,2,3]})"
      ],
      "metadata": {
        "colab": {
          "base_uri": "https://localhost:8080/"
        },
        "id": "0eDeZ_yeMvFi",
        "outputId": "9a312d46-ea09-477f-dc2f-f68d464c5017"
      },
      "execution_count": 46,
      "outputs": [
        {
          "output_type": "stream",
          "name": "stdout",
          "text": [
            "6\n"
          ]
        }
      ]
    },
    {
      "cell_type": "code",
      "execution_count": null,
      "metadata": {
        "id": "FKhPvj3GYZ9v"
      },
      "outputs": [],
      "source": [
        "# La siguiente función debería aceptar una lista de cadenas\n",
        "\n",
        "# La función debe devolver una cadena compuesta de todas las cadenas, pero entre cada cadena \n",
        "# debe ser un espacio. Excepto si la cadena es un solo !, ., o un ?\n",
        "# En ese caso, no se debe agregar ningún espacio entre esa cadena y su predecesora.\n",
        "\n",
        "# POr ejemplo: \n",
        "# main(['People', 'are', 'Funny', '.'])  \n",
        "# da como resultado 'People are Funny.' \n",
        "\n",
        "def main(list_1):\n",
        "    list_1 = list_1[:]\n",
        "    #Corrige las lienas para que se de el resultado deseado \n",
        "    pass\n",
        "\n",
        "\n"
      ]
    },
    {
      "cell_type": "code",
      "source": [
        "def main(list_1):\n",
        "  list_1 = list_1[:]\n",
        "  resultado = \"\"\n",
        "  for f, g in enumerate(list_1, 0):\n",
        "    if g in [\"!\", \".\", \"?\", \",\"]: resultado += list_1[f]\n",
        "    else: resultado += \" \" + g\n",
        "  print(resultado)\n",
        "main([\"People\",  \"are\", \"Funny\"])"
      ],
      "metadata": {
        "colab": {
          "base_uri": "https://localhost:8080/"
        },
        "id": "Sr_0ZynJNHh5",
        "outputId": "4a774576-21fe-4a1b-86ff-fb5812dbdf04"
      },
      "execution_count": 49,
      "outputs": [
        {
          "output_type": "stream",
          "name": "stdout",
          "text": [
            " People are Funny\n"
          ]
        }
      ]
    },
    {
      "cell_type": "markdown",
      "metadata": {
        "id": "sqVecFFLi3OO"
      },
      "source": [
        "## Extra 2\n"
      ]
    },
    {
      "cell_type": "code",
      "execution_count": null,
      "metadata": {
        "id": "NIZJR0VGi4ps"
      },
      "outputs": [],
      "source": [
        "# La siguiente función debería aceptar cuatro argumentos: cuatro enteros\n",
        "\n",
        "# La función debe devolver una lista con todos los enteros entre el primero y\n",
        "# segundo entero (ambos inclusivo []) que son divisibles tanto por el 3er como por el 4to entero.\n",
        "\n",
        "# Por ejemplo: \n",
        "# main(100, 800, 100, 200) \n",
        "# Debe dar [200, 400, 600, 800] \n",
        "\n",
        "def main(integer_1, integer_2, integer_3, integer_4):\n",
        "    #Corrige las lienas para que se de el resultado deseado\n",
        "    pass"
      ]
    },
    {
      "cell_type": "code",
      "source": [
        "def main(integer_1, integer_2, integer_3, integer_4):\n",
        "    lista = [f for f in range(integer_1, integer_2+1) if not (f % integer_3 or f % integer_4)]\n",
        "    return lista\n",
        "\n",
        "main(100, 800, 100, 200)"
      ],
      "metadata": {
        "colab": {
          "base_uri": "https://localhost:8080/"
        },
        "id": "0ZekIp9QNxC3",
        "outputId": "6d90afc9-98b0-4c4d-d6f2-244dd1a1fce3"
      },
      "execution_count": 51,
      "outputs": [
        {
          "output_type": "execute_result",
          "data": {
            "text/plain": [
              "[200, 400, 600, 800]"
            ]
          },
          "metadata": {},
          "execution_count": 51
        }
      ]
    },
    {
      "cell_type": "code",
      "execution_count": null,
      "metadata": {
        "id": "dtu2-H95jgh0"
      },
      "outputs": [],
      "source": [
        "# La siguiente función debería aceptar como argumento una lista con 3 enteros como elementos\n",
        "\n",
        "# La función debería devolver True si exactamente un entero difiere de todos los demás enteros,\n",
        "# y falso en todos los demás casos.\n",
        "\n",
        "# Por ejemplo: \n",
        "# main([1, 1, 2]) \n",
        "# debe dar como resultado true \n",
        "\n",
        "def main(list_1):\n",
        "  \n",
        "    #Corrige las lienas para que se de el resultado deseado \n",
        "    pass"
      ]
    },
    {
      "cell_type": "code",
      "source": [
        "def main(list_1):\n",
        "    theSet = set(list_1)\n",
        "    if len(theSet) == 1:\n",
        "        return False\n",
        "    return True\n",
        "\n",
        "main([1, 1, 2])"
      ],
      "metadata": {
        "colab": {
          "base_uri": "https://localhost:8080/"
        },
        "id": "goruURmuOLu4",
        "outputId": "b12566db-c7e6-4f38-81a2-4a789e832780"
      },
      "execution_count": 53,
      "outputs": [
        {
          "output_type": "execute_result",
          "data": {
            "text/plain": [
              "True"
            ]
          },
          "metadata": {},
          "execution_count": 53
        }
      ]
    },
    {
      "cell_type": "code",
      "execution_count": null,
      "metadata": {
        "id": "fqOe0O0ukR7M"
      },
      "outputs": [],
      "source": [
        "# La función a continuación debe aceptar dos argumentos, una cadena y una lista con caracteres individuales\n",
        "# La función debe devolver una cadena en orden inverso mientras duplica cualquier carácter en la lista\n",
        "\n",
        "# Por ejemplo:\n",
        "# main(\"abalone\", [\"a\",\"i\"]) \n",
        "# resulta en : \"enolaabaa\" \n",
        "\n",
        "def main(string_1, list_1):\n",
        "    #Corrige las lienas para que se de el resultado deseado \n",
        "    pass"
      ]
    },
    {
      "cell_type": "code",
      "source": [
        "def main(string_1, list_1):\n",
        "    stringList = list(string_1)\n",
        "    string_2 = \"\"\n",
        "    for f in reversed(stringList):\n",
        "        if f in list_1: string_2 += 2*f\n",
        "        else: string_2 += f\n",
        "    return string_2\n",
        "\n",
        "main(\"abalone\", [\"a\",\"i\"])"
      ],
      "metadata": {
        "colab": {
          "base_uri": "https://localhost:8080/",
          "height": 35
        },
        "id": "D_ekSws9OVAg",
        "outputId": "719ce033-dddb-4efa-f005-f869ba6f8af6"
      },
      "execution_count": 54,
      "outputs": [
        {
          "output_type": "execute_result",
          "data": {
            "text/plain": [
              "'enolaabaa'"
            ],
            "application/vnd.google.colaboratory.intrinsic+json": {
              "type": "string"
            }
          },
          "metadata": {},
          "execution_count": 54
        }
      ]
    },
    {
      "cell_type": "code",
      "execution_count": null,
      "metadata": {
        "colab": {
          "base_uri": "https://localhost:8080/",
          "height": 35
        },
        "id": "6XZSEre4lYo4",
        "outputId": "0b9559bb-c326-4de5-d8e7-4299967b6116"
      },
      "outputs": [
        {
          "data": {
            "application/vnd.google.colaboratory.intrinsic+json": {
              "type": "string"
            },
            "text/plain": [
              "'444444'"
            ]
          },
          "execution_count": 5,
          "metadata": {},
          "output_type": "execute_result"
        }
      ],
      "source": [
        "# La siguiente función debe aceptar un argumento, una lista con números enteros y flotantes\n",
        "# La función debe devolver una lista con solo números enteros y flotantes que terminen en 2\n",
        "\n",
        "# Por ejemplo: \n",
        "# main([12, 2., .12, 3 ]) \n",
        "# debe dar: [12, .12 ] \n",
        "\n",
        "def main(list_1):\n",
        "  \n",
        "    #Corrige las lienas para que se de el resultado deseado \n",
        "    pass"
      ]
    },
    {
      "cell_type": "code",
      "source": [
        "def main(list_1):\n",
        "    x = [f for f in list_1 if str(f)[-1] == '2']\n",
        "    print(x)\n",
        "\n",
        "main([12, 2., .12, 3])"
      ],
      "metadata": {
        "colab": {
          "base_uri": "https://localhost:8080/"
        },
        "id": "g4XRAq5xOpzW",
        "outputId": "80f5e50c-185f-484c-847d-9e4a7f5ed6e8"
      },
      "execution_count": 55,
      "outputs": [
        {
          "output_type": "stream",
          "name": "stdout",
          "text": [
            "[12, 0.12]\n"
          ]
        }
      ]
    },
    {
      "cell_type": "markdown",
      "metadata": {
        "id": "n9sHMyvfYPe0"
      },
      "source": [
        "## Extra 3"
      ]
    },
    {
      "cell_type": "code",
      "execution_count": null,
      "metadata": {
        "id": "KqroULXilgsw"
      },
      "outputs": [],
      "source": [
        "# La siguiente función debería aceptar un argumento, una lista con al menos 2 enteros\n",
        "# La función debe devolver una lista en el mismo orden pero sin el segundo número más alto\n",
        "\n",
        "# Por ejemplo:\n",
        "# main([12, 2, 22, 3 ]) \n",
        "# debe dar:  [2, 22, 3 ] \n",
        "\n",
        "def main(list_1):\n",
        "    list_1 = list_1[:]\n",
        "    #Corrige las lienas para que se de el resultado deseado\n",
        "    pass"
      ]
    },
    {
      "cell_type": "code",
      "source": [
        "def main(list_1):\n",
        "    list_1.sort()\n",
        "    x = [ f for f in list_1 if f != list_1[-2]]\n",
        "    return x\n",
        "\n",
        "main([12,2,22,3])"
      ],
      "metadata": {
        "colab": {
          "base_uri": "https://localhost:8080/"
        },
        "id": "8lVYZUDbO6N2",
        "outputId": "3dc9c5a7-8561-4be0-9647-238490810abf"
      },
      "execution_count": 61,
      "outputs": [
        {
          "output_type": "execute_result",
          "data": {
            "text/plain": [
              "[2, 3, 22]"
            ]
          },
          "metadata": {},
          "execution_count": 61
        }
      ]
    },
    {
      "cell_type": "code",
      "execution_count": null,
      "metadata": {
        "id": "2yKboKWAtZ0i"
      },
      "outputs": [],
      "source": [
        "# La siguiente función debe aceptar dos argumentos, un número entero y una lista con números enteros\n",
        "# La función debe devolver una lista con Verdadero y Falso para todos los enteros en la lista\n",
        "# por el cual el primer argumento es divisible y False en caso contrario.\n",
        "\n",
        "# Por ejemplo: \n",
        "# main(10, [12, 2, 22, 5 ]) \n",
        "# debe dar [False, True, False, True] \n",
        "\n",
        "def main(integer_1, list_1):\n",
        "    list_1 = list_1[:]\n",
        "    #Corrige las lienas para que se de el resultado deseado\n",
        "    pass"
      ]
    },
    {
      "cell_type": "code",
      "source": [
        "def main(integer_1, list_1):\n",
        "    x = [ False if integer_1 % f else True for f in list_1]\n",
        "    print(x)\n",
        "\n",
        "main(10, [12, 2, 22, 5])"
      ],
      "metadata": {
        "colab": {
          "base_uri": "https://localhost:8080/"
        },
        "id": "XsF_7pvkP61R",
        "outputId": "ca91b02f-2857-497e-af65-4f920dfcea11"
      },
      "execution_count": 62,
      "outputs": [
        {
          "output_type": "stream",
          "name": "stdout",
          "text": [
            "[False, True, False, True]\n"
          ]
        }
      ]
    },
    {
      "cell_type": "code",
      "execution_count": null,
      "metadata": {
        "id": "XRiUD6B0yhu_"
      },
      "outputs": [],
      "source": [
        "# La siguiente función debe aceptar un argumento, una lista con cadenas\n",
        "# La función debe devolver un diccionario con como claves las cadenas y como valores\n",
        "# las longitudes de las cadenas\n",
        "\n",
        "# Por ejemplo: \n",
        "# main([\"ad\", \"abc\", \"ab\"]) \n",
        "# debe dar {\"ad\":2, \"abc\":3, \"ab\":2} \n",
        "\n",
        "def main(list_1):\n",
        "    list_1 = list_1[:]\n",
        "    #Corrige las lienas para que se de el resultado deseado\n",
        "    pass"
      ]
    },
    {
      "cell_type": "code",
      "source": [
        "def main(list_1):\n",
        "    dict_1 = dict()\n",
        "    for f in list_1:\n",
        "        dict_1[f] = len(f)\n",
        "    print(dict_1)\n",
        "\n",
        "main([\"ad\", \"abc\", \"ab\"])"
      ],
      "metadata": {
        "colab": {
          "base_uri": "https://localhost:8080/"
        },
        "id": "PtrpWTQzQJ7e",
        "outputId": "2176d51a-5b2e-4e6e-e738-43a13d25892e"
      },
      "execution_count": 63,
      "outputs": [
        {
          "output_type": "stream",
          "name": "stdout",
          "text": [
            "{'ad': 2, 'abc': 3, 'ab': 2}\n"
          ]
        }
      ]
    },
    {
      "cell_type": "code",
      "execution_count": null,
      "metadata": {
        "id": "sE1Fa5gPy3ec"
      },
      "outputs": [],
      "source": [
        "# La siguiente función debe aceptar un argumento, una lista con cadenas\n",
        "\n",
        "# La función debe devolver un diccionario con como keys la longitud de las cadenas y como valores\n",
        "# listas ordenadas con las cadenas con la longitud igual a la key\n",
        "\n",
        "# Por ejemplo: \n",
        "# main([\"ab\", \"abc\", \"ad\"]) \n",
        "# debe dar {2: [\"ab\", \"ad\"], 3: [\"abc\"]} \n",
        "\n",
        "def main(list_1):\n",
        "    list_1 = list_1[:]\n",
        "    #Corrige las lienas para que se de el resultado deseado\n",
        "    pass"
      ]
    },
    {
      "cell_type": "code",
      "source": [
        "def main(list_1):\n",
        "    x = lambda e: len(e)\n",
        "    list_1.sort(key=x)\n",
        "    dict_1 = dict()\n",
        "    for f in list_1:\n",
        "        if len(f) in dict_1: dict_1[len(f)].append(f)\n",
        "        else: dict_1[len(f)]=[f]\n",
        "        dict_1[len(f)].sort()\n",
        "    print(dict_1)\n",
        "\n",
        "main([\"ab\", \"abc\", \"ad\"])"
      ],
      "metadata": {
        "colab": {
          "base_uri": "https://localhost:8080/"
        },
        "id": "FJq44Lv8QYM8",
        "outputId": "8f7c7063-973d-4602-dcb7-bd659942750d"
      },
      "execution_count": 64,
      "outputs": [
        {
          "output_type": "stream",
          "name": "stdout",
          "text": [
            "{2: ['ab', 'ad'], 3: ['abc']}\n"
          ]
        }
      ]
    }
  ],
  "metadata": {
    "colab": {
      "collapsed_sections": [],
      "name": "ejercicios_extra_clase_1 (9).ipynb",
      "provenance": []
    },
    "kernelspec": {
      "display_name": "Python 3",
      "language": "python",
      "name": "python3"
    },
    "language_info": {
      "codemirror_mode": {
        "name": "ipython",
        "version": 3
      },
      "file_extension": ".py",
      "mimetype": "text/x-python",
      "name": "python",
      "nbconvert_exporter": "python",
      "pygments_lexer": "ipython3",
      "version": "3.8.5"
    }
  },
  "nbformat": 4,
  "nbformat_minor": 0
}