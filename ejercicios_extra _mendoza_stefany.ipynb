{
  "nbformat": 4,
  "nbformat_minor": 0,
  "metadata": {
    "colab": {
      "name": "Untitled0.ipynb",
      "provenance": [],
      "collapsed_sections": []
    },
    "kernelspec": {
      "name": "python3",
      "display_name": "Python 3"
    },
    "language_info": {
      "name": "python"
    }
  },
  "cells": [
    {
      "cell_type": "markdown",
      "source": [
        "# ***Ejercicios Extra***"
      ],
      "metadata": {
        "id": "uKI_4yGpZFvo"
      }
    },
    {
      "cell_type": "markdown",
      "source": [
        "Nombre: Stefany Dahari Mendoza Rodriguez"
      ],
      "metadata": {
        "id": "qB6_yE4NZf4V"
      }
    },
    {
      "cell_type": "code",
      "source": [
        "# La siguiente función debe aceptar un argumento: una cadena.\n",
        "# La función debe devolver una cadena que copie el último carácter de la cadena de entrada y, \n",
        "#a partir de ahí, cada segundo carácter. Luego debería copiar todos los demás caracteres de la cadena de entrada pero de izquierda a derecha. \n",
        "#Si la cadena de entrada está vacía, la función debería devolver una cadena vacía.\n",
        "\n",
        "# POR EJEMPLO al llamar la fucnion : \n",
        "# main('abcde') \n",
        "# debe resultar en 'ecabd' \n",
        "\n",
        "#cadena=\"hola\"\n",
        "#print(cadena[0])\n",
        "\n",
        "def main(string_1):\n",
        "    #Corrige las lineas para que se de el resultado deseado \n",
        "    pass"
      ],
      "metadata": {
        "id": "YDQIWN3-ZruO"
      },
      "execution_count": 1,
      "outputs": []
    },
    {
      "cell_type": "markdown",
      "source": [
        "Respuesta:"
      ],
      "metadata": {
        "id": "tE7auN0RbPbL"
      }
    },
    {
      "cell_type": "code",
      "source": [
        "def main(string_1):\n",
        "  #print(string_1[len(string_1)+1::-1])\n",
        "  frase=string_1[len(string_1)+1::-1]\n",
        "  #print(frase)\n",
        "  resultado=\"\"\n",
        "  for pos,letra in enumerate(frase):\n",
        "      if pos%2==0:\n",
        "        resultado += letra\n",
        "        #print(resultado)\n",
        "  for pos, letra in enumerate(string_1):\n",
        "    if pos%2==1:\n",
        "      resultado += letra\n",
        "      #print(resultado)\n",
        "  print(resultado)\n",
        "\n",
        "main(\"abcdefg\")\n"
      ],
      "metadata": {
        "colab": {
          "base_uri": "https://localhost:8080/"
        },
        "id": "Ix0tG2SpbRik",
        "outputId": "1db62b88-cb88-4a80-e459-13309143c565"
      },
      "execution_count": 3,
      "outputs": [
        {
          "output_type": "stream",
          "name": "stdout",
          "text": [
            "gecabdf\n"
          ]
        }
      ]
    },
    {
      "cell_type": "code",
      "source": [
        "# La siguiente función debe aceptar un argumento: una tupla.\n",
        "\n",
        "# La función debe devolver un número entero con el valor absoluto de la diferencia del número\n",
        "# de tuplas y el número de listas dentro de la tupla.\n",
        "\n",
        "# Por ejemplo, la funcion: \n",
        "# main(('k', 'cheers', (8,7), [32.3,-1], (9,))) \n",
        "# debe dar 1\n",
        "\n",
        "def main(tuple_1):\n",
        "    #Corrige las lienas para que se de el resultado deseado \n",
        "    pass"
      ],
      "metadata": {
        "id": "2ozY7VfPbfvb"
      },
      "execution_count": 4,
      "outputs": []
    },
    {
      "cell_type": "markdown",
      "source": [
        "Respuesta:"
      ],
      "metadata": {
        "id": "ac-DT4RUbn3a"
      }
    },
    {
      "cell_type": "code",
      "source": [
        "def main(tuple_1):\n",
        "    tup, lis = 0, 0\n",
        "    for num in tuple_1:\n",
        "        if isinstance(num, tuple): tup += 1\n",
        "        elif isinstance(num, list): lis += 1\n",
        "    return abs(tup-lis)\n",
        "\n",
        "main(('k', 'cheers', (8,7), [ 32.3, -1], (9,)))"
      ],
      "metadata": {
        "colab": {
          "base_uri": "https://localhost:8080/"
        },
        "id": "MFqtiTY8bsBz",
        "outputId": "fb0ab326-c727-409f-8cc3-95325887155f"
      },
      "execution_count": 5,
      "outputs": [
        {
          "output_type": "execute_result",
          "data": {
            "text/plain": [
              "1"
            ]
          },
          "metadata": {},
          "execution_count": 5
        }
      ]
    },
    {
      "cell_type": "code",
      "source": [
        "# La siguiente función debe aceptar un argumento: un diccionario. Las claves son números enteros y\n",
        "# valores son listas\n",
        "\n",
        "# La función debe devolver el número total de todos los elementos en todas las listas combinadas,\n",
        "# excepto para las listas que tienen una key divisible por 3\n",
        "\n",
        "# Por ejemplo: \n",
        "# main({1: [1,2,3], 2: [1,2,3], 3: [1,2,3]})  \n",
        "# da 6 \n",
        "\n",
        "def main(dictionary_1):\n",
        "    #Corrige las lienas para que se de el resultado deseado \n",
        "    pass"
      ],
      "metadata": {
        "id": "gSUhpzAqnaTB"
      },
      "execution_count": 27,
      "outputs": []
    },
    {
      "cell_type": "code",
      "source": [
        "def main(dictionary_1):\n",
        "  c=0\n",
        "  for key,char in dictionary_1.items():\n",
        "    if key%3!=0:\n",
        "      c += len(char)   \n",
        "  print(c)\n",
        "\n",
        "main({1: [1,2,3], 2: [1,2,3], 3: [1,2,3]})"
      ],
      "metadata": {
        "colab": {
          "base_uri": "https://localhost:8080/"
        },
        "id": "ofdaCvImndGN",
        "outputId": "58c15df2-e6bc-4d86-bf20-0c472656081b"
      },
      "execution_count": 28,
      "outputs": [
        {
          "output_type": "stream",
          "name": "stdout",
          "text": [
            "6\n"
          ]
        }
      ]
    },
    {
      "cell_type": "code",
      "source": [
        "# La siguiente función debería aceptar una lista de cadenas\n",
        "\n",
        "# La función debe devolver una cadena compuesta de todas las cadenas, pero entre cada cadena \n",
        "# debe ser un espacio. Excepto si la cadena es un solo !, ., o un ?\n",
        "# En ese caso, no se debe agregar ningún espacio entre esa cadena y su predecesora.\n",
        "\n",
        "# POr ejemplo: \n",
        "# main(['People', 'are', 'Funny', '.'])  \n",
        "# da como resultado 'People are Funny.' "
      ],
      "metadata": {
        "id": "NerGbDgacUpf"
      },
      "execution_count": null,
      "outputs": []
    },
    {
      "cell_type": "markdown",
      "source": [
        "Respuesta"
      ],
      "metadata": {
        "id": "mDWDc9IpdQMr"
      }
    },
    {
      "cell_type": "code",
      "source": [
        "def main(list_1):\n",
        "    list_1 = list_1[:]\n",
        "    cadena=\"\"\n",
        "    for pos,palabra in enumerate(list_1):\n",
        "     # if palabra!=\"!\" or palabra!=\".\" or palabra!=\"?\":\n",
        "      #  cadena += palabra\n",
        "        if palabra==\"!\" or palabra==\".\" or palabra==\"?\":\n",
        "          cadena += palabra\n",
        "        else:\n",
        "          cadena += palabra\n",
        "          if list_1[pos+1]==\"!\" or list_1[pos+1]==\".\" or list_1[pos+1]==\"?\":\n",
        "            cadena += \"\"\n",
        "          else:\n",
        "            cadena += \" \"\n",
        "     # else: \n",
        "      #  cadena += palabra\n",
        "\n",
        "       # cadena +=\" \"\n",
        "    print(cadena)\n",
        "\n",
        "\n",
        "main(['People', 'are', 'Funny', '.'])"
      ],
      "metadata": {
        "colab": {
          "base_uri": "https://localhost:8080/"
        },
        "id": "LMBT4HHpdOLt",
        "outputId": "71d8e0b5-af32-4a1b-8a86-981024597b89"
      },
      "execution_count": 6,
      "outputs": [
        {
          "output_type": "stream",
          "name": "stdout",
          "text": [
            "People are Funny.\n"
          ]
        }
      ]
    },
    {
      "cell_type": "markdown",
      "source": [
        "Extra 2"
      ],
      "metadata": {
        "id": "18n-1Fn9dd11"
      }
    },
    {
      "cell_type": "code",
      "source": [
        "# La siguiente función debería aceptar cuatro argumentos: cuatro enteros\n",
        "\n",
        "# La función debe devolver una lista con todos los enteros entre el primero y\n",
        "# segundo entero (ambos inclusivo []) que son divisibles tanto por el 3er como por el 4to entero.\n",
        "\n",
        "# Por ejemplo: \n",
        "# main(100, 800, 100, 200) \n",
        "# Debe dar [200, 400, 600, 800] \n",
        "\n",
        "def main(integer_1, integer_2, integer_3, integer_4):\n",
        "    #Corrige las lienas para que se de el resultado deseado\n",
        "    pass"
      ],
      "metadata": {
        "id": "Vom69WktdhXT"
      },
      "execution_count": 8,
      "outputs": []
    },
    {
      "cell_type": "markdown",
      "source": [
        "Respuesta:"
      ],
      "metadata": {
        "id": "zL3GRal8eCmi"
      }
    },
    {
      "cell_type": "code",
      "source": [
        "def f_devolucion(numeros):\n",
        "    n_numeros =[]\n",
        "    n_num = []\n",
        "    num = 0\n",
        "    for n in numeros:\n",
        "        while num>=0 and num< numeros[1]:\n",
        "            num += numeros[0]\n",
        "            n_numeros.append(num)\n",
        "    for j in n_numeros:\n",
        "        if j % numeros[2] == 0 and j % numeros[3] == 0:\n",
        "            n_num.append(j)\n",
        "    print(n_num)\n",
        "Numeros =[100,800,100,200]\n",
        "f_devolucion(Numeros)  "
      ],
      "metadata": {
        "colab": {
          "base_uri": "https://localhost:8080/"
        },
        "id": "C1Ldx8uNdqnc",
        "outputId": "41609846-285b-45ba-b779-fb64fd261cbd"
      },
      "execution_count": 7,
      "outputs": [
        {
          "output_type": "stream",
          "name": "stdout",
          "text": [
            "[200, 400, 600, 800]\n"
          ]
        }
      ]
    },
    {
      "cell_type": "code",
      "source": [
        "# La siguiente función debería aceptar como argumento una lista con 3 enteros como elementos\n",
        "\n",
        "# La función debería devolver True si exactamente un entero difiere de todos los demás enteros,\n",
        "# y falso en todos los demás casos.\n",
        "\n",
        "# Por ejemplo: \n",
        "# main([1, 1, 2]) \n",
        "# debe dar como resultado true \n",
        "\n",
        "def main(list_1):\n",
        "  \n",
        "    #Corrige las lienas para que se de el resultado deseado \n",
        "    pass"
      ],
      "metadata": {
        "id": "m6YqvUPCeHJX"
      },
      "execution_count": null,
      "outputs": []
    },
    {
      "cell_type": "markdown",
      "source": [
        "Respuesta:\n"
      ],
      "metadata": {
        "id": "sNLLfZLyeYYg"
      }
    },
    {
      "cell_type": "code",
      "source": [
        "def f_lista (lista):\n",
        "    if len(lista) - len(set(lista)) ==0:\n",
        "        print(\"FALSE\")\n",
        "    elif len(lista) - len(set(lista))>=1:\n",
        "        if len(set(lista))==2:\n",
        "            print (\"TRUE\")\n",
        "        else:\n",
        "            print(\"FALSE\")"
      ],
      "metadata": {
        "id": "V9l638Tfem40"
      },
      "execution_count": 11,
      "outputs": []
    },
    {
      "cell_type": "code",
      "source": [
        "Lista_1=[1, 1, 2]\n",
        "f_lista(Lista_1)"
      ],
      "metadata": {
        "colab": {
          "base_uri": "https://localhost:8080/"
        },
        "id": "VvM6cdf8gdcv",
        "outputId": "b6390e61-4f1b-43b2-8efe-f9b2417af331"
      },
      "execution_count": 12,
      "outputs": [
        {
          "output_type": "stream",
          "name": "stdout",
          "text": [
            "TRUE\n"
          ]
        }
      ]
    },
    {
      "cell_type": "code",
      "source": [
        "# La función a continuación debe aceptar dos argumentos, una cadena y una lista con caracteres individuales\n",
        "# La función debe devolver una cadena en orden inverso mientras duplica cualquier carácter en la lista\n",
        "\n",
        "# Por ejemplo:\n",
        "# main(\"abalone\", [\"a\",\"i\"]) \n",
        "# resulta en : \"enolaabaa\" \n"
      ],
      "metadata": {
        "id": "kgaEnvD6gtJC"
      },
      "execution_count": null,
      "outputs": []
    },
    {
      "cell_type": "code",
      "source": [
        "def main(string_1, list_1):\n",
        "  resultado=\"\"\n",
        "  frase=string_1[len(string_1)+1::-1]\n",
        "  #print(frase)\n",
        "  for letra in frase:\n",
        "    resultado += letra\n",
        "    for b in list_1:\n",
        "      if letra==b:\n",
        "        resultado += letra\n",
        "        #resultado +=a\n",
        "    \n",
        "  print(resultado)\n",
        "\n",
        "\n",
        "main(\"paquita\", [\"a\",\"i\"]) "
      ],
      "metadata": {
        "colab": {
          "base_uri": "https://localhost:8080/"
        },
        "id": "l0bc_AyXhG2l",
        "outputId": "2104cf01-db1e-4156-a48b-5df15254e722"
      },
      "execution_count": 13,
      "outputs": [
        {
          "output_type": "stream",
          "name": "stdout",
          "text": [
            "aatiiuqaap\n"
          ]
        }
      ]
    },
    {
      "cell_type": "code",
      "source": [
        "# La siguiente función debe aceptar un argumento, una lista con números enteros y flotantes\n",
        "# La función debe devolver una lista con solo números enteros y flotantes que terminan en 2\n",
        "\n",
        "# Por ejemplo:\n",
        "# principal([12, 2., .12, 3 ])\n",
        "# debe dar: [12, .12 ]"
      ],
      "metadata": {
        "id": "qoYcswiChg8-"
      },
      "execution_count": null,
      "outputs": []
    },
    {
      "cell_type": "markdown",
      "source": [
        "Respuesta:"
      ],
      "metadata": {
        "id": "UbqgL1A9h0yO"
      }
    },
    {
      "cell_type": "code",
      "source": [
        "def main(lista3):\n",
        "  respuesta = []\n",
        "  for paso in lista3:\n",
        "    if paso == int(12) or paso == 00.0012*(10**2):\n",
        "      respuesta.append(paso)\n",
        "  print(respuesta)\n",
        "lista3 = [12, 2.,  .12, 3]\n",
        "main(lista3)"
      ],
      "metadata": {
        "id": "OE_gOhaEhg1F"
      },
      "execution_count": null,
      "outputs": []
    },
    {
      "cell_type": "markdown",
      "source": [
        "Extra 3"
      ],
      "metadata": {
        "id": "Ntf30ynDiHCq"
      }
    },
    {
      "cell_type": "code",
      "source": [
        "# La siguiente función debería aceptar un argumento, una lista con al menos 2 enteros\n",
        "# La función debe devolver una lista en el mismo orden pero sin el segundo número más alto\n",
        "\n",
        "# Por ejemplo:\n",
        "# main([12, 2, 22, 3 ]) \n",
        "# debe dar:  [2, 22, 3 ] \n",
        "\n",
        "def main(list_1):\n",
        "    list_1 = list_1[:]\n",
        "    #Corrige las lienas para que se de el resultado deseado\n",
        "    pass"
      ],
      "metadata": {
        "id": "g26zru2HiI7N"
      },
      "execution_count": 15,
      "outputs": []
    },
    {
      "cell_type": "markdown",
      "source": [
        "Respuesta"
      ],
      "metadata": {
        "id": "Q6-trYPoiOIw"
      }
    },
    {
      "cell_type": "code",
      "source": [
        "def main(lista_1):\n",
        "    s=sorted(list(set(lista_1)))\n",
        "    return False if len(s)<2 else s[len(s)-2]\n",
        "\n",
        "lista = [12,2,22,3] \n",
        "a=main(lista)\n",
        "p=lista.index(a)\n",
        "lista.pop(p)\n",
        "\n",
        "print(lista)"
      ],
      "metadata": {
        "colab": {
          "base_uri": "https://localhost:8080/"
        },
        "id": "1wf0kzlbioYJ",
        "outputId": "ae09540e-d6b5-4bba-f3dd-a0195f9dace8"
      },
      "execution_count": 17,
      "outputs": [
        {
          "output_type": "stream",
          "name": "stdout",
          "text": [
            "[2, 22, 3]\n"
          ]
        }
      ]
    },
    {
      "cell_type": "code",
      "source": [
        "# La siguiente función debe aceptar dos argumentos, un número entero y una lista con números enteros\n",
        "# La función debe devolver una lista con Verdadero y Falso para todos los enteros en la lista\n",
        "# por el cual el primer argumento es divisible y False en caso contrario.\n",
        "\n",
        "# Por ejemplo: \n",
        "# main(10, [12, 2, 22, 5 ]) \n",
        "# debe dar [False, True, False, True] \n",
        "def main(integer_1, list_1):\n",
        "    list_1 = list_1[:]\n",
        "    #Corrige las lienas para que se de el resultado deseado\n",
        "    pass\n"
      ],
      "metadata": {
        "id": "UmQWyFr7i0TI"
      },
      "execution_count": 18,
      "outputs": []
    },
    {
      "cell_type": "code",
      "source": [
        "def main(integer_1, list_1):\n",
        "  resultado=[]\n",
        "  #print(len(list_1))\n",
        "  for num in list_1:\n",
        "    if integer_1%num==0:\n",
        "      resultado.append(True)\n",
        "    else: \n",
        "      resultado.append(False)\n",
        "  print(resultado)\n",
        "\n",
        "\n",
        "main(10, [12, 2, 22, 5 ])"
      ],
      "metadata": {
        "colab": {
          "base_uri": "https://localhost:8080/"
        },
        "id": "fw2_0lFLi_Dz",
        "outputId": "22f52f15-f7a4-4aca-cf01-928fd9a40e91"
      },
      "execution_count": 19,
      "outputs": [
        {
          "output_type": "stream",
          "name": "stdout",
          "text": [
            "[False, True, False, True]\n"
          ]
        }
      ]
    },
    {
      "cell_type": "code",
      "source": [
        "# La siguiente función debe aceptar un argumento, una lista con cadenas\n",
        "\n",
        "# La función debe devolver un diccionario con como keys la longitud de las cadenas y como valores\n",
        "# listas ordenadas con las cadenas con la longitud igual a la key\n",
        "\n",
        "# Por ejemplo: \n",
        "# main([\"ab\", \"abc\", \"ad\"]) \n",
        "# debe dar {2: [\"ab\", \"ad\"], 3: [\"abc\"]} "
      ],
      "metadata": {
        "id": "A1ZILC9DmSJj"
      },
      "execution_count": null,
      "outputs": []
    },
    {
      "cell_type": "code",
      "source": [
        "def main(list_1):\n",
        "    list_1 = list_1[:]\n",
        "    #Corrige las lienas para que se de el resultado deseado\n",
        "    pass"
      ],
      "metadata": {
        "id": "7JAEWS7dmTdz"
      },
      "execution_count": null,
      "outputs": []
    },
    {
      "cell_type": "code",
      "source": [
        "def main(list_1):\n",
        "  valor=0\n",
        "  tam=[]\n",
        "  tam2=[]\n",
        "  i=0\n",
        "  dic=\"\"\n",
        "  \n",
        "  for i in list_1:\n",
        "    valor=len(i)\n",
        "    for j in list_1:\n",
        "      valor1=len(j)\n",
        "\n",
        "      if valor==valor1:\n",
        "          tam.append(j)\n",
        "      else:\n",
        "          tam2.append(j)\n",
        "          valor2=len(j)\n",
        "    print(f\"Solución del ejercicio: \"\"{\",valor,tam,valor2,tam2,\"}\")\n",
        "    break\n",
        "main([\"ab\", \"abc\", \"ad\"]) "
      ],
      "metadata": {
        "colab": {
          "base_uri": "https://localhost:8080/"
        },
        "id": "5MACPjBmm5we",
        "outputId": "2e9805a2-fec6-4d4e-f098-f2835a580c1a"
      },
      "execution_count": 26,
      "outputs": [
        {
          "output_type": "stream",
          "name": "stdout",
          "text": [
            "Solución del ejercicio: { 2 ['ab', 'ad'] 3 ['abc'] }\n"
          ]
        }
      ]
    },
    {
      "cell_type": "code",
      "source": [
        "# La siguiente función debe aceptar un argumento, una lista con cadenas\n",
        "# La función debe devolver un diccionario con como claves las cadenas y como valores\n",
        "# las longitudes de las cadenas\n",
        "\n",
        "# Por ejemplo:\n",
        "# main([\"anuncio\", \"abc\", \"ab\"])\n",
        "# debe dar {\"ad\":2, \"abc\":3, \"ab\":2}\n",
        "\n",
        "def  principal ( lista_1 ):\n",
        "    lista_1  =  lista_1 [:]\n",
        "    #Corrige las mentiras para que se de el resultado deseado\n",
        "    pass"
      ],
      "metadata": {
        "id": "V31fTKF4jJXe"
      },
      "execution_count": 23,
      "outputs": []
    },
    {
      "cell_type": "markdown",
      "source": [
        "Respuesta"
      ],
      "metadata": {
        "id": "Ora0OZY9kUw9"
      }
    },
    {
      "cell_type": "code",
      "source": [
        "def main(list_1):\n",
        "  valor=0\n",
        "  values=[]\n",
        "  dic=\"\"\n",
        "  for cont in list_1:\n",
        "    valor=len(cont)\n",
        "    #print(valor)\n",
        "    values.append(valor)\n",
        "  #print(values)\n",
        "  dic=dict(zip(list_1,values))\n",
        "  print(f\"Solución del ejercicio: {dic}\")\n",
        "main([\"ad\", \"abc\", \"ab\"]) "
      ],
      "metadata": {
        "id": "wpK4BKJ8kX-E"
      },
      "execution_count": null,
      "outputs": []
    }
  ]
}