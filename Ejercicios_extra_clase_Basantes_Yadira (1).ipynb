{
  "nbformat": 4,
  "nbformat_minor": 0,
  "metadata": {
    "colab": {
      "name": " Ejercicios_extra_clase_Basantes_Yadira.ipynb",
      "provenance": []
    },
    "kernelspec": {
      "name": "python3",
      "display_name": "Python 3"
    },
    "language_info": {
      "name": "python"
    }
  },
  "cells": [
    {
      "cell_type": "markdown",
      "source": [
        "***Universidad Central del Ecuador***\n",
        "\n",
        "***Facultad de Ciencias Económicas*** \n",
        "\n",
        "**Nombre:** Basantes Zambrano Yadira Karina\n",
        "\n",
        "***EJERCICIOS EXTRA***\n",
        "\n",
        "# ***Extra 1***\n",
        "\n",
        "\n",
        "\n",
        "\n",
        "\n"
      ],
      "metadata": {
        "id": "zGPA7n4PPHvG"
      }
    },
    {
      "cell_type": "code",
      "source": [
        "# La siguiente función debe aceptar un argumento: una cadena.\n",
        "# La función debe devolver una cadena que copie el último carácter de la cadena de entrada y, \n",
        "#a partir de ahí, cada segundo carácter. Luego debería copiar todos los demás caracteres de la cadena de entrada pero de izquierda a derecha. \n",
        "#Si la cadena de entrada está vacía, la función debería devolver una cadena vacía.\n",
        "\n",
        "# POR EJEMPLO al llamar la fucnion : \n",
        "# main('abcde') \n",
        "# debe resultar en 'ecabd' \n",
        "\n",
        "## SOLUCION \n",
        "def main(string_1):\n",
        "    l=len(string_1)\n",
        "    if l%2==0:\n",
        "      print(string_1[-1::-2]+string_1[::2])\n",
        "    else:\n",
        "      print(string_1[-1::-2]+string_1[1::2])\n",
        "pass\n",
        "main ('ABCDEFGHIJK')"
      ],
      "metadata": {
        "colab": {
          "base_uri": "https://localhost:8080/"
        },
        "id": "c9RV-O9_PuLm",
        "outputId": "af9e9370-eb96-472f-8c51-9c77afaf6aa8"
      },
      "execution_count": null,
      "outputs": [
        {
          "output_type": "stream",
          "name": "stdout",
          "text": [
            "KIGECABDFHJ\n"
          ]
        }
      ]
    },
    {
      "cell_type": "code",
      "source": [
        "# La siguiente función debe aceptar un argumento: una tupla.\n",
        "\n",
        "# La función debe devolver un número entero con el valor absoluto de la diferencia del número\n",
        "# de tuplas y el número de listas dentro de la tupla.\n",
        "\n",
        "# Por ejemplo, la funcion: \n",
        "# main(('k', 'cheers', (8,7), [32.3,-1], (9,))) \n",
        "# debe dar 1\n",
        "\n",
        "def main(tuple_1):\n",
        "  tup=0 # contador de las  tuplas\n",
        "  lis=0 # contador de  las listas\n",
        "  for tupla in tuple_1:\n",
        "      if type(tupla) == tuple: \n",
        "        tup += 1 \n",
        "      if type(tupla) == list: \n",
        "        lis +=1 \n",
        "  r=abs(tup-lis)\n",
        "  print(' tuplas - listas nos dara  :',r)\n",
        "main(('k', 'cheers', (8,7), [32.3,-1], (9,)))\n",
        "pass"
      ],
      "metadata": {
        "colab": {
          "base_uri": "https://localhost:8080/"
        },
        "id": "pSR53MuSQly2",
        "outputId": "548388da-e723-4eb8-89ec-f354d2e5bf49"
      },
      "execution_count": null,
      "outputs": [
        {
          "output_type": "stream",
          "name": "stdout",
          "text": [
            " tuplas - listas nos dara  : 1\n"
          ]
        }
      ]
    },
    {
      "cell_type": "code",
      "source": [
        "# La siguiente función debe aceptar un argumento: un diccionario. Las claves son números enteros y\n",
        "# valores son listas\n",
        "\n",
        "# La función debe devolver el número total de todos los elementos en todas las listas combinadas,\n",
        "# excepto para las listas que tienen una key divisible por 3\n",
        "\n",
        "# Por ejemplo: \n",
        "# main({1: [1,2,3], 2: [1,2,3], 3: [1,2,3]})  \n",
        "# da 6 \n",
        "def main(dictionary_1):\n",
        "  sumar=0\n",
        "  for key in dictionary_1.keys():\n",
        "    if key%3!=0:\n",
        "      sumar+=len(dictionary_1.values())\n",
        "  print('la cantidad de los elementos es :',sumar)\n",
        "main({1: [1,2,3], 2: [1,2,3], 3: [1,2,3]}) "
      ],
      "metadata": {
        "colab": {
          "base_uri": "https://localhost:8080/"
        },
        "id": "wq7HslZDRHcg",
        "outputId": "0db90f14-645f-4fcf-b114-28568993c9db"
      },
      "execution_count": null,
      "outputs": [
        {
          "output_type": "stream",
          "name": "stdout",
          "text": [
            "la cantidad de los elementos es : 6\n"
          ]
        }
      ]
    },
    {
      "cell_type": "code",
      "source": [
        "# La siguiente función debería aceptar una lista de cadenas\n",
        "\n",
        "# La función debe devolver una cadena compuesta de todas las cadenas, pero entre cada cadena \n",
        "# debe ser un espacio. Excepto si la cadena es un solo !, ., o un ?\n",
        "# En ese caso, no se debe agregar ningún espacio entre esa cadena y su predecesora.\n",
        "\n",
        "# POr ejemplo: \n",
        "# main(['People', 'are', 'Funny', '.'])  \n",
        "# da como resultado 'People are Funny.' \n",
        "\n",
        "def main(list_1):\n",
        "   p= ''\n",
        "   for cadena in list_1:\n",
        "      if p==\"!\" or p==\".\" or p==\"?\":\n",
        "         p += '' + cadena\n",
        "      else:\n",
        "           p += cadena\n",
        "\n",
        "  \n",
        "   print('nuestra cadena es :',p)\n",
        "pass\n",
        "\n",
        "main(['El', 'resultado', 'de', 'la', 'cadena', 'funciona'])"
      ],
      "metadata": {
        "colab": {
          "base_uri": "https://localhost:8080/"
        },
        "id": "P2O5pQsaR2o_",
        "outputId": "39ec8adb-7edf-43b9-b1d9-91eb3147cc83"
      },
      "execution_count": null,
      "outputs": [
        {
          "output_type": "stream",
          "name": "stdout",
          "text": [
            "nuestra cadena es : Elresultadodelacadenafunciona\n"
          ]
        }
      ]
    },
    {
      "cell_type": "markdown",
      "source": [
        "# ***EXTRA 2***"
      ],
      "metadata": {
        "id": "NFcJzB5eSgwk"
      }
    },
    {
      "cell_type": "code",
      "source": [
        "# La siguiente función debería aceptar cuatro argumentos: cuatro enteros\n",
        "\n",
        "# La función debe devolver una lista con todos los enteros entre el primero y\n",
        "# segundo entero (ambos inclusivo []) que son divisibles tanto por el 3er como por el 4to entero.\n",
        "\n",
        "# Por ejemplo: \n",
        "# main(100, 800, 100, 200) \n",
        "# Debe dar [200, 400, 600, 800] \n",
        "\n",
        "def main(integer_1, integer_2, integer_3, integer_4):\n",
        "    lista = [i for i in range(integer_1, integer_2+1) if not (i % integer_3 or i % integer_4)]\n",
        "    return lista\n",
        "pass\n",
        "\n",
        "main(100, 800, 100, 200) "
      ],
      "metadata": {
        "colab": {
          "base_uri": "https://localhost:8080/"
        },
        "id": "4eZoFCApSkEO",
        "outputId": "20bc78b0-3559-4cb6-9823-edb7e3d4bf51"
      },
      "execution_count": null,
      "outputs": [
        {
          "output_type": "execute_result",
          "data": {
            "text/plain": [
              "[200, 400, 600, 800]"
            ]
          },
          "metadata": {},
          "execution_count": 14
        }
      ]
    },
    {
      "cell_type": "code",
      "source": [
        "# La siguiente función debería aceptar como argumento una lista con 3 enteros como elementos\n",
        "\n",
        "# La función debería devolver True si exactamente un entero difiere de todos los demás enteros,\n",
        "# y falso en todos los demás casos.\n",
        "\n",
        "# Por ejemplo: \n",
        "# main([1, 1, 2]) \n",
        "# debe dar como resultado true \n",
        "def main(list_1):\n",
        "  if len(list_1) - len(set(list_1)) ==0:\n",
        "    print('false')\n",
        "  elif len(list_1) - len(set(list_1)) >=1:\n",
        "    if len(set(list_1)) == 2:\n",
        "      print('true')\n",
        "    else:\n",
        "      print('false')\n",
        "main([2, 1, 1, 2, 1, 2, 2, 2, 0]) "
      ],
      "metadata": {
        "colab": {
          "base_uri": "https://localhost:8080/"
        },
        "id": "Rr2vhy_gS_vB",
        "outputId": "f6bda512-d29a-414f-d529-2ddc59007dc3"
      },
      "execution_count": null,
      "outputs": [
        {
          "output_type": "stream",
          "name": "stdout",
          "text": [
            "false\n"
          ]
        }
      ]
    },
    {
      "cell_type": "code",
      "source": [
        "# La función a continuación debe aceptar dos argumentos, una cadena y una lista con caracteres individuales\n",
        "# La función debe devolver una cadena en orden inverso mientras duplica cualquier carácter en la lista\n",
        "\n",
        "# Por ejemplo:\n",
        "# main(\"abalone\", [\"a\",\"i\"]) \n",
        "# resulta en : \"enolaabaa\" \n",
        "\n",
        "def main(string_1, list_1):\n",
        "    list1 = list(string_1)\n",
        "    s = \"\"\n",
        "    for i in reversed(list1):  # reversed devuelve un iterador que accede a la secuencia dada en el orden inverso.\n",
        "        if i in list_1: s += 2*i\n",
        "        else: s += i\n",
        "    return s\n",
        "pass \n",
        "\n",
        "main(\"abalone\", [\"a\",\"e\",\"i\"])"
      ],
      "metadata": {
        "colab": {
          "base_uri": "https://localhost:8080/",
          "height": 35
        },
        "id": "mml9RUlBTYZd",
        "outputId": "dfe2cc73-fead-404b-9993-2917e73a5fbe"
      },
      "execution_count": null,
      "outputs": [
        {
          "output_type": "execute_result",
          "data": {
            "text/plain": [
              "'eenolaabaa'"
            ],
            "application/vnd.google.colaboratory.intrinsic+json": {
              "type": "string"
            }
          },
          "metadata": {},
          "execution_count": 24
        }
      ]
    },
    {
      "cell_type": "code",
      "source": [
        "# La siguiente función debe aceptar un argumento, una lista con números enteros y flotantes\n",
        "# La función debe devolver una lista con solo números enteros y flotantes que terminen en 2\n",
        "\n",
        "# Por ejemplo: \n",
        "# main([12, 2., .12, 3 ]) \n",
        "# debe dar: [12, .12 ] \n",
        "\n",
        "def main(list_1):\n",
        "  r=[]\n",
        "  for i in list_1:\n",
        "    if str(i)[-1]=='2':\n",
        "      r.append(i) # append agrega un elemento al final de la lista.\n",
        "  \n",
        "  print('nuestro argumento es :',r)\n",
        "pass\n",
        "main([22, 2., .32, 3 ])"
      ],
      "metadata": {
        "colab": {
          "base_uri": "https://localhost:8080/"
        },
        "id": "DSw4l3y_TqK6",
        "outputId": "1f26e95d-272b-485d-ed0d-ec597fe62c95"
      },
      "execution_count": null,
      "outputs": [
        {
          "output_type": "stream",
          "name": "stdout",
          "text": [
            "nuestro argumento es : [22, 0.32]\n"
          ]
        }
      ]
    },
    {
      "cell_type": "markdown",
      "source": [
        "# ***EXTRA 3***"
      ],
      "metadata": {
        "id": "jFFy6j_VT7MJ"
      }
    },
    {
      "cell_type": "code",
      "source": [
        "# La siguiente función debería aceptar un argumento, una lista con al menos 2 enteros\n",
        "# La función debe devolver una lista en el mismo orden pero sin el segundo número más alto\n",
        "\n",
        "# Por ejemplo:\n",
        "# main([12, 2, 22, 3 ]) \n",
        "# debe dar:  [2, 22, 3 ] \n",
        "\n",
        "def main(list_1):\n",
        "    list_1.sort()\n",
        "    x = [ i for i in list_1 if i != list_1[-2]]\n",
        "    return x\n",
        "   \n",
        "pass\n",
        "\n",
        "main([22, 42, 4, 12,])"
      ],
      "metadata": {
        "colab": {
          "base_uri": "https://localhost:8080/"
        },
        "id": "0C450HlpT-C2",
        "outputId": "59f6b6df-1a70-4b62-9a64-15dbc60d9f64"
      },
      "execution_count": null,
      "outputs": [
        {
          "output_type": "execute_result",
          "data": {
            "text/plain": [
              "[4, 12, 42]"
            ]
          },
          "metadata": {},
          "execution_count": 28
        }
      ]
    },
    {
      "cell_type": "code",
      "source": [
        "# La siguiente función debe aceptar dos argumentos, un número entero y una lista con números enteros\n",
        "# La función debe devolver una lista con Verdadero y Falso para todos los enteros en la lista\n",
        "# por el cual el primer argumento es divisible y False en caso contrario.\n",
        "\n",
        "# Por ejemplo: \n",
        "# main(10, [12, 2, 22, 5 ]) \n",
        "# debe dar [False, True, False, True] \n",
        "\n",
        "def main(integer_1, list_1):\n",
        "  r=[]\n",
        "  for i in list_1:\n",
        "    if integer_1% i==0:\n",
        "      r.append('True')\n",
        "    elif integer_1% i !=0:\n",
        "      r.append('False')\n",
        "  print('La respuesta es :',r)\n",
        "\n",
        "main(11, [22, 2, 32, 4 ]) "
      ],
      "metadata": {
        "colab": {
          "base_uri": "https://localhost:8080/"
        },
        "id": "UeVL6QiFUR7K",
        "outputId": "dd8573b2-6f0d-40bd-cfcd-a7c876b4aefd"
      },
      "execution_count": null,
      "outputs": [
        {
          "output_type": "stream",
          "name": "stdout",
          "text": [
            "La respuesta es : ['False', 'False', 'False', 'False']\n"
          ]
        }
      ]
    },
    {
      "cell_type": "code",
      "source": [
        "# La siguiente función debe aceptar un argumento, una lista con cadenas\n",
        "# La función debe devolver un diccionario con como claves las cadenas y como valores\n",
        "# las longitudes de las cadenas\n",
        "\n",
        "# Por ejemplo: \n",
        "# main([\"ad\", \"abc\", \"ab\"]) \n",
        "# debe dar {\"ad\":2, \"abc\":3, \"ab\":2} \n",
        "\n",
        "def main(list_1):\n",
        "    D= { x:len(x) for x in list_1 }\n",
        "    print('La lista es :',D)\n",
        "main([\"ad\", \"abc\", \"ab\"]) "
      ],
      "metadata": {
        "colab": {
          "base_uri": "https://localhost:8080/"
        },
        "id": "VdelraFlU6Jv",
        "outputId": "18833121-f7ef-4472-8974-a95e355bcdfe"
      },
      "execution_count": null,
      "outputs": [
        {
          "output_type": "stream",
          "name": "stdout",
          "text": [
            "La lista es : {'ad': 2, 'abc': 3, 'ab': 2}\n"
          ]
        }
      ]
    },
    {
      "cell_type": "code",
      "source": [
        "# La siguiente función debe aceptar un argumento, una lista con cadenas\n",
        "\n",
        "# La función debe devolver un diccionario con como keys la longitud de las cadenas y como valores\n",
        "# listas ordenadas con las cadenas con la longitud igual a la key\n",
        "\n",
        "# Por ejemplo: \n",
        "# main([\"ab\", \"abc\", \"ad\"]) \n",
        "# debe dar {2: [\"ab\", \"ad\"], 3: [\"abc\"]} \n",
        "\n",
        "from itertools import groupby\n",
        "\n",
        "def main(list_1):\n",
        "    C = {k: list(g) for k, g in groupby(sorted(list_1, key = len), len)}\n",
        "    print('La longitud de las cadenas y valores es :',C)\n",
        "pass\n",
        "main([\"ab\", \"abc\", \"ad\"])"
      ],
      "metadata": {
        "colab": {
          "base_uri": "https://localhost:8080/"
        },
        "id": "MujNJ-qvVGz1",
        "outputId": "932b443a-7f8d-445b-b34e-851613173022"
      },
      "execution_count": null,
      "outputs": [
        {
          "output_type": "stream",
          "name": "stdout",
          "text": [
            "La longitud de las cadenas y valores es : {2: ['ab', 'ad'], 3: ['abc']}\n"
          ]
        }
      ]
    }
  ]
}