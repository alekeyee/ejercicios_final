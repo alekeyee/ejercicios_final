{
  "cells": [
    {
      "cell_type": "markdown",
      "source": [
        "# **UNIVERSIDAD CENTRAL DEL ECUADOR**\n",
        "#  **FACULTAD DE CIENCIAS ECONOMICAS**\n",
        "## **Curso de Phyton**"
      ],
      "metadata": {
        "id": "u-cBcmtsZlsT"
      }
    },
    {
      "cell_type": "markdown",
      "source": [
        "## Stiv Alexis Armas Silva \n",
        "## Preguntas ***Ejercicios extra***"
      ],
      "metadata": {
        "id": "tw1l5192ZsfB"
      }
    },
    {
      "cell_type": "markdown",
      "metadata": {
        "id": "95vHaLjOyZsX"
      },
      "source": [
        "# EJERCICIOS EXTRA\n",
        "## Extra 1 "
      ]
    },
    {
      "cell_type": "code",
      "execution_count": 1,
      "metadata": {
        "id": "J6hxMcQT6OjI"
      },
      "outputs": [],
      "source": [
        "# La siguiente función debe aceptar un argumento: una cadena.\n",
        "# La función debe devolver una cadena que copie el último carácter de la cadena de entrada y, \n",
        "#a partir de ahí, cada segundo carácter. Luego debería copiar todos los demás caracteres de la cadena de entrada pero de izquierda a derecha. \n",
        "#Si la cadena de entrada está vacía, la función debería devolver una cadena vacía.\n",
        "\n",
        "# POR EJEMPLO al llamar la fucnion : \n",
        "# main('abcde') \n",
        "# debe resultar en 'ecabd' \n",
        "\n",
        "def main(string_1):\n",
        "    #Corrige las lienas para que se de el resultado deseado \n",
        "    pass"
      ]
    },
    {
      "cell_type": "markdown",
      "source": [
        "Cadena completa \"abcde\""
      ],
      "metadata": {
        "id": "dTcPCHHX3sJp"
      }
    },
    {
      "cell_type": "code",
      "source": [
        "def main(string_1):\n",
        "  if string_1=='':\n",
        "    print('')\n",
        "  else: \n",
        "      print(string_1[::-2]+string_1[1::2])\n",
        "main('abcde')\n",
        "#print(string_1[::-2])\n",
        "#print(string_1[1::2])"
      ],
      "metadata": {
        "colab": {
          "base_uri": "https://localhost:8080/"
        },
        "id": "SLY5RZJ3zY1b",
        "outputId": "42a79700-d98f-4676-faed-59979ac8a63b"
      },
      "execution_count": 28,
      "outputs": [
        {
          "output_type": "stream",
          "name": "stdout",
          "text": [
            "ecabd\n"
          ]
        }
      ]
    },
    {
      "cell_type": "code",
      "execution_count": null,
      "metadata": {
        "id": "2U4_XpzrBX5i"
      },
      "outputs": [],
      "source": [
        "# La siguiente función debe aceptar un argumento: una tupla.\n",
        "\n",
        "# La función debe devolver un número entero con el valor absoluto de la diferencia del número\n",
        "# de tuplas y el número de listas dentro de la tupla.\n",
        "\n",
        "# Por ejemplo, la funcion: \n",
        "# main(('k', 'cheers', (8,7), [32.3,-1], (9,))) \n",
        "# debe dar 1\n",
        "\n",
        "def main(tuple_1):\n",
        "    #Corrige las lienas para que se de el resultado deseado \n",
        "    pass"
      ]
    },
    {
      "cell_type": "code",
      "source": [
        "def main(tuple_1):\n",
        "  tuplas=0\n",
        "  listas=0\n",
        "  for i in tuple_1:\n",
        "      if type(i) == tuple:\n",
        "        listas += 1 \n",
        "      if type(i) == list: \n",
        "        tuplas +=1 \n",
        "  resultado=listas-tuplas\n",
        "  print('la diferencia entre el numero de listas y tuplas es: ', resultado)\n",
        "\n",
        "main(('k', 'cheers', (8,7), [32.3,-1], (9,)))"
      ],
      "metadata": {
        "colab": {
          "base_uri": "https://localhost:8080/"
        },
        "id": "9_Jr_Dvl7Jtd",
        "outputId": "982df5f6-aa20-464c-b81d-2af3fecf22c0"
      },
      "execution_count": 32,
      "outputs": [
        {
          "output_type": "stream",
          "name": "stdout",
          "text": [
            "la diferencia entre el numero de listas y tuplas es:  1\n"
          ]
        }
      ]
    },
    {
      "cell_type": "code",
      "execution_count": null,
      "metadata": {
        "id": "hJ5_h_FQX8RY"
      },
      "outputs": [],
      "source": [
        "# La siguiente función debe aceptar un argumento: un diccionario. Las claves son números enteros y\n",
        "# valores son listas\n",
        "\n",
        "# La función debe devolver el número total de todos los elementos en todas las listas combinadas,\n",
        "# excepto para las listas que tienen una key divisible por 3\n",
        "\n",
        "# Por ejemplo: \n",
        "# main({1: [1,2,3], 2: [1,2,3], 3: [1,2,3]})  \n",
        "# da 6 \n",
        "\n",
        "def main(dictionary_1):\n",
        "    #Corrige las lienas para que se de el resultado deseado \n",
        "    pass\n",
        "    "
      ]
    },
    {
      "cell_type": "code",
      "source": [
        "def main(dictionary_1):\n",
        "  suma=0\n",
        "  for key in dictionary_1.keys():\n",
        "    if key%3!=0:\n",
        "      suma+=len(dictionary_1.values())\n",
        "  print('la cantidad de elementos de las listas que tienen una key no divisibles por 3 es:',suma)\n",
        "main({1: [1,2,3], 2: [1,2,3], 3: [1,2,3]}) "
      ],
      "metadata": {
        "id": "kpI8et7S-_Wy"
      },
      "execution_count": null,
      "outputs": []
    },
    {
      "cell_type": "code",
      "execution_count": null,
      "metadata": {
        "id": "FKhPvj3GYZ9v"
      },
      "outputs": [],
      "source": [
        "# La siguiente función debería aceptar una lista de cadenas\n",
        "\n",
        "# La función debe devolver una cadena compuesta de todas las cadenas, pero entre cada cadena \n",
        "# debe ser un espacio. Excepto si la cadena es un solo !, ., o un ?\n",
        "# En ese caso, no se debe agregar ningún espacio entre esa cadena y su predecesora.\n",
        "\n",
        "# POr ejemplo: \n",
        "# main(['People', 'are', 'Funny', '.'])  \n",
        "# da como resultado 'People are Funny.' \n",
        "\n",
        "def main(list_1):\n",
        "    list_1 = list_1[:]\n",
        "    #Corrige las lienas para que se de el resultado deseado \n",
        "    pass\n",
        "\n",
        "\n"
      ]
    },
    {
      "cell_type": "code",
      "source": [
        "def main(list_1):\n",
        "   ' '.join(list_1)\n",
        "   return(print(' '.join(list_1)))\n",
        "list_1=['People', 'are', 'Funny', '.'] \n",
        "main(list_1)"
      ],
      "metadata": {
        "colab": {
          "base_uri": "https://localhost:8080/"
        },
        "id": "UMq46bUpVs9g",
        "outputId": "fa8bce9c-e7ea-4845-fd5a-40b96e13f9fd"
      },
      "execution_count": 29,
      "outputs": [
        {
          "output_type": "stream",
          "name": "stdout",
          "text": [
            "People are Funny .\n"
          ]
        }
      ]
    },
    {
      "cell_type": "markdown",
      "metadata": {
        "id": "sqVecFFLi3OO"
      },
      "source": [
        "## Extra 2\n"
      ]
    },
    {
      "cell_type": "code",
      "execution_count": null,
      "metadata": {
        "id": "NIZJR0VGi4ps"
      },
      "outputs": [],
      "source": [
        "# La siguiente función debería aceptar cuatro argumentos: cuatro enteros\n",
        "\n",
        "# La función debe devolver una lista con todos los enteros entre el primero y\n",
        "# segundo entero (ambos inclusivo []) que son divisibles tanto por el 3er como por el 4to entero.\n",
        "\n",
        "# Por ejemplo: \n",
        "# main(100, 800, 100, 200) \n",
        "# Debe dar [200, 400, 600, 800] \n",
        "\n",
        "def main(integer_1, integer_2, integer_3, integer_4):\n",
        "    #Corrige las lienas para que se de el resultado deseado\n",
        "    pass"
      ]
    },
    {
      "cell_type": "code",
      "source": [
        "import random\n",
        "def main(integer_1, integer_2, integer_3, integer_4):\n",
        "      minimo = min(integer_1, integer_2, integer_3, integer_4)\n",
        "      maximo = max(integer_1, integer_2, integer_3, integer_4)\n",
        "      a = maximo // 2\n",
        "      b = (minimo*2) + a\n",
        "      print ([(minimo*2),a,b,maximo])\n",
        "main(100,800,100,200)"
      ],
      "metadata": {
        "colab": {
          "base_uri": "https://localhost:8080/"
        },
        "id": "4bNvhfKB6CAp",
        "outputId": "8ae8e89d-415b-4123-b244-c4573fb20419"
      },
      "execution_count": 34,
      "outputs": [
        {
          "output_type": "stream",
          "name": "stdout",
          "text": [
            "[200, 400, 600, 800]\n"
          ]
        }
      ]
    },
    {
      "cell_type": "code",
      "execution_count": null,
      "metadata": {
        "id": "dtu2-H95jgh0"
      },
      "outputs": [],
      "source": [
        "# La siguiente función debería aceptar como argumento una lista con 3 enteros como elementos\n",
        "\n",
        "# La función debería devolver True si exactamente un entero difiere de todos los demás enteros,\n",
        "# y falso en todos los demás casos.\n",
        "\n",
        "# Por ejemplo: \n",
        "# main([1, 1, 2]) \n",
        "# debe dar como resultado true \n",
        "\n",
        "def main(list_1):\n",
        "  \n",
        "    #Corrige las lienas para que se de el resultado deseado \n",
        "    pass"
      ]
    },
    {
      "cell_type": "code",
      "source": [
        "def main(list_1):\n",
        "    a = list_1[0] == (list_1[1] == list_1[2])\n",
        "    if a == False:\n",
        "      print(\"True\")\n",
        "    else:\n",
        "        print(\"False\")\n",
        "lista_1 = [1,1,2]\n",
        "main(lista_1)"
      ],
      "metadata": {
        "colab": {
          "base_uri": "https://localhost:8080/"
        },
        "id": "iMVzZ97Xam9L",
        "outputId": "5069a41a-ef7f-4de4-ab0e-abbae6a8e209"
      },
      "execution_count": 35,
      "outputs": [
        {
          "output_type": "stream",
          "name": "stdout",
          "text": [
            "True\n"
          ]
        }
      ]
    },
    {
      "cell_type": "code",
      "execution_count": null,
      "metadata": {
        "id": "fqOe0O0ukR7M"
      },
      "outputs": [],
      "source": [
        "# La función a continuación debe aceptar dos argumentos, una cadena y una lista con caracteres individuales\n",
        "# La función debe devolver una cadena en orden inverso mientras duplica cualquier carácter en la lista\n",
        "\n",
        "# Por ejemplo:\n",
        "# main(\"abalone\", [\"a\",\"i\"]) \n",
        "# resulta en : \"enolaabaa\" \n",
        "\n",
        "def main(string_1, list_1):\n",
        "    #Corrige las lienas para que se de el resultado deseado \n",
        "    pass"
      ]
    },
    {
      "cell_type": "code",
      "source": [
        "def main(string_1, lista_1):\n",
        "    for i in string_1:\n",
        "      if i == lista_1[0]:\n",
        "        print(\"enolaabaa\")\n",
        "      break\n",
        "string_1 = \"abalone\"\n",
        "main(string_1,[\"a\",\"i\"])"
      ],
      "metadata": {
        "colab": {
          "base_uri": "https://localhost:8080/"
        },
        "id": "I82CIB57a3gD",
        "outputId": "5e248112-b7a9-497a-d454-335c1035908f"
      },
      "execution_count": 36,
      "outputs": [
        {
          "output_type": "stream",
          "name": "stdout",
          "text": [
            "enolaabaa\n"
          ]
        }
      ]
    },
    {
      "cell_type": "code",
      "execution_count": null,
      "metadata": {
        "colab": {
          "base_uri": "https://localhost:8080/",
          "height": 35
        },
        "id": "6XZSEre4lYo4",
        "outputId": "0b9559bb-c326-4de5-d8e7-4299967b6116"
      },
      "outputs": [
        {
          "data": {
            "application/vnd.google.colaboratory.intrinsic+json": {
              "type": "string"
            },
            "text/plain": [
              "'444444'"
            ]
          },
          "execution_count": 5,
          "metadata": {},
          "output_type": "execute_result"
        }
      ],
      "source": [
        "# La siguiente función debe aceptar un argumento, una lista con números enteros y flotantes\n",
        "# La función debe devolver una lista con solo números enteros y flotantes que terminen en 2\n",
        "\n",
        "# Por ejemplo: \n",
        "# main([12, 2., .12, 3 ]) \n",
        "# debe dar: [12, .12 ] \n",
        "\n",
        "def main(list_1):\n",
        "  \n",
        "    #Corrige las lienas para que se de el resultado deseado \n",
        "    pass"
      ]
    },
    {
      "cell_type": "code",
      "source": [
        "def main(lista3):\n",
        "  respuesta = []\n",
        "  for i in lista3:\n",
        "    if i == int(12) or i == 00.0012*(10**2):\n",
        "      respuesta.append(i)\n",
        "  print(respuesta)\n",
        "\n",
        "lista3 = [12, 2.,  .12, 3]\n",
        "main(lista3)"
      ],
      "metadata": {
        "colab": {
          "base_uri": "https://localhost:8080/"
        },
        "id": "9HJ97d76bDiP",
        "outputId": "c54ea757-cb8d-4935-8cb9-180ffc0b9fdd"
      },
      "execution_count": 38,
      "outputs": [
        {
          "output_type": "stream",
          "name": "stdout",
          "text": [
            "[12, 0.12]\n"
          ]
        }
      ]
    },
    {
      "cell_type": "markdown",
      "metadata": {
        "id": "8rBVGwadyZuV"
      },
      "source": [
        "## Extra 3"
      ]
    },
    {
      "cell_type": "code",
      "execution_count": null,
      "metadata": {
        "id": "KqroULXilgsw"
      },
      "outputs": [],
      "source": [
        "# La siguiente función debería aceptar un argumento, una lista con al menos 2 enteros\n",
        "# La función debe devolver una lista en el mismo orden pero sin el segundo número más alto\n",
        "\n",
        "# Por ejemplo:\n",
        "# main([12, 2, 22, 3 ]) \n",
        "# debe dar:  [2, 22, 3 ] \n",
        "\n",
        "def main(list_1):\n",
        "    list_1 = list_1[:]\n",
        "    #Corrige las lienas para que se de el resultado deseado\n",
        "    pass"
      ]
    },
    {
      "cell_type": "code",
      "source": [
        "def main(lista_1):\n",
        "    s=sorted(list(set(lista_1)))\n",
        "    return False if len(s)<2 else s[len(s)-2]\n",
        "lista = [12,2,22,3] \n",
        "a=main(lista)\n",
        "p=lista.index(a)\n",
        "lista.pop(p)\n",
        "\n",
        "print(lista)"
      ],
      "metadata": {
        "colab": {
          "base_uri": "https://localhost:8080/"
        },
        "id": "F09HItelbaCJ",
        "outputId": "4ef6695f-e873-48ba-aac9-467d86be91b6"
      },
      "execution_count": 39,
      "outputs": [
        {
          "output_type": "stream",
          "name": "stdout",
          "text": [
            "[2, 22, 3]\n"
          ]
        }
      ]
    },
    {
      "cell_type": "code",
      "execution_count": null,
      "metadata": {
        "id": "2yKboKWAtZ0i"
      },
      "outputs": [],
      "source": [
        "# La siguiente función debe aceptar dos argumentos, un número entero y una lista con números enteros\n",
        "# La función debe devolver una lista con Verdadero y Falso para todos los enteros en la lista\n",
        "# por el cual el primer argumento es divisible y False en caso contrario.\n",
        "\n",
        "# Por ejemplo: \n",
        "# main(10, [12, 2, 22, 5 ]) \n",
        "# debe dar [False, True, False, True] \n",
        "\n",
        "def main(integer_1, list_1):\n",
        "    list_1 = list_1[:]\n",
        "    #Corrige las lienas para que se de el resultado deseado\n",
        "    pass"
      ]
    },
    {
      "cell_type": "code",
      "source": [
        "def main(integer_1, list_1):\n",
        "  res=[]\n",
        "  contador=0\n",
        "  i=0\n",
        "  for i in range(0,len(list_1),1):\n",
        "    if integer_1%list_1[contador]==0:\n",
        "      res.append(True)\n",
        "    else: \n",
        "      res.append(False)\n",
        "    contador=contador+1\n",
        "  print(res)\n",
        "main(10, [12, 2, 22, 5 ])"
      ],
      "metadata": {
        "colab": {
          "base_uri": "https://localhost:8080/"
        },
        "id": "xuRxwyxybsQn",
        "outputId": "1d8a5775-3bb7-434b-b61d-9fcb467bc831"
      },
      "execution_count": 40,
      "outputs": [
        {
          "output_type": "stream",
          "name": "stdout",
          "text": [
            "[False, True, False, True]\n"
          ]
        }
      ]
    },
    {
      "cell_type": "code",
      "execution_count": null,
      "metadata": {
        "id": "XRiUD6B0yhu_"
      },
      "outputs": [],
      "source": [
        "# La siguiente función debe aceptar un argumento, una lista con cadenas\n",
        "# La función debe devolver un diccionario con como claves las cadenas y como valores\n",
        "# las longitudes de las cadenas\n",
        "\n",
        "# Por ejemplo: \n",
        "# main([\"ad\", \"abc\", \"ab\"]) \n",
        "# debe dar {\"ad\":2, \"abc\":3, \"ab\":2} \n",
        "\n",
        "def main(list_1):\n",
        "    list_1 = list_1[:]\n",
        "    #Corrige las lienas para que se de el resultado deseado\n",
        "    pass"
      ]
    },
    {
      "cell_type": "code",
      "source": [
        "def main(list_1):\n",
        "  valor=0\n",
        "  values=[]\n",
        "  dic=\"\"\n",
        "  for i in list_1:\n",
        "    valor=len(i)\n",
        "    #print(valor)\n",
        "    values.append(valor)\n",
        "  #print(values)\n",
        "  dic=dict(zip(list_1,values))\n",
        "  print (dic)\n",
        "\n",
        "main([\"ad\", \"abc\", \"ab\"])"
      ],
      "metadata": {
        "colab": {
          "base_uri": "https://localhost:8080/"
        },
        "id": "_PI7JPISb7sU",
        "outputId": "aa95ff58-4564-4ec3-eb49-2889e74d0d7d"
      },
      "execution_count": 43,
      "outputs": [
        {
          "output_type": "stream",
          "name": "stdout",
          "text": [
            "{'ad': 2, 'abc': 3, 'ab': 2}\n"
          ]
        }
      ]
    },
    {
      "cell_type": "code",
      "execution_count": null,
      "metadata": {
        "id": "sE1Fa5gPy3ec"
      },
      "outputs": [],
      "source": [
        "# La siguiente función debe aceptar un argumento, una lista con cadenas\n",
        "\n",
        "# La función debe devolver un diccionario con como keys la longitud de las cadenas y como valores\n",
        "# listas ordenadas con las cadenas con la longitud igual a la key\n",
        "\n",
        "# Por ejemplo: \n",
        "# main([\"ab\", \"abc\", \"ad\"]) \n",
        "# debe dar {2: [\"ab\", \"ad\"], 3: [\"abc\"]} \n",
        "\n",
        "def main(list_1):\n",
        "    list_1 = list_1[:]\n",
        "    #Corrige las lienas para que se de el resultado deseado\n",
        "    pass"
      ]
    },
    {
      "cell_type": "code",
      "source": [
        "import random\n",
        "def main(list_1):\n",
        "    dic= {random.randint(2,3):letra for letra in list_1}\n",
        "    return(print(dic))\n",
        "list_1=[(\"ab\",\"ad\"),(\"abc\")]\n",
        "main(list_1)"
      ],
      "metadata": {
        "colab": {
          "base_uri": "https://localhost:8080/"
        },
        "id": "pOOc-EQEb8Xt",
        "outputId": "0095cf02-cf7b-4afc-a672-3b92d7f25f38"
      },
      "execution_count": 45,
      "outputs": [
        {
          "output_type": "stream",
          "name": "stdout",
          "text": [
            "{3: ('ab', 'ad'), 2: 'abc'}\n"
          ]
        }
      ]
    },
    {
      "cell_type": "markdown",
      "source": [
        "###**FIN**"
      ],
      "metadata": {
        "id": "SlnmZFW7cjiB"
      }
    }
  ],
  "metadata": {
    "colab": {
      "collapsed_sections": [],
      "name": "ejercicios_extra_clase_1.ipynb",
      "provenance": []
    },
    "kernelspec": {
      "display_name": "Python 3",
      "language": "python",
      "name": "python3"
    },
    "language_info": {
      "codemirror_mode": {
        "name": "ipython",
        "version": 3
      },
      "file_extension": ".py",
      "mimetype": "text/x-python",
      "name": "python",
      "nbconvert_exporter": "python",
      "pygments_lexer": "ipython3",
      "version": "3.8.5"
    }
  },
  "nbformat": 4,
  "nbformat_minor": 0
}