{
 "cells": [
  {
   "cell_type": "markdown",
   "metadata": {},
   "source": [
    "# EJERCICIOS EXTRA\n",
    "## Extra 1 \n",
    "## David Mayorga\n",
    "## 172310523\n",
    "## dsmayorga@uce.edu.ec"
   ]
  },
  {
   "cell_type": "code",
   "execution_count": 32,
   "metadata": {
    "executionInfo": {
     "elapsed": 212,
     "status": "ok",
     "timestamp": 1657880703839,
     "user": {
      "displayName": "Victor Salazar",
      "userId": "01748899183064234735"
     },
     "user_tz": -120
    },
    "id": "J6hxMcQT6OjI"
   },
   "outputs": [
    {
     "data": {
      "text/plain": [
       "'ecabd'"
      ]
     },
     "execution_count": 32,
     "metadata": {},
     "output_type": "execute_result"
    }
   ],
   "source": [
    "# La siguiente función debe aceptar un argumento: una cadena.\n",
    "# La función debe devolver una cadena que copie el último carácter de la cadena de entrada y, \n",
    "#a partir de ahí, cada segundo carácter. Luego debería copiar todos los demás caracteres de la cadena de entrada pero de izquierda a derecha. \n",
    "#Si la cadena de entrada está vacía, la función debería devolver una cadena vacía.\n",
    "\n",
    "# POR EJEMPLO al llamar la fucnion : \n",
    "# main('abcde') \n",
    "# debe resultar en 'ecabd' \n",
    "#Corrige las lienas para que se de el resultado deseado\n",
    "def main(string_1):\n",
    "    cadena = string_1\n",
    "    return cadena[::-2]+ cadena[1:4:2]    \n",
    "\n",
    "main(\"abcde\")"
   ]
  },
  {
   "cell_type": "code",
   "execution_count": 30,
   "metadata": {},
   "outputs": [
    {
     "name": "stdout",
     "output_type": "stream",
     "text": [
      "ecabd\n",
      "bd\n"
     ]
    }
   ],
   "source": [
    "cadena = \"abcde\"\n",
    "print(cadena[::-2]+ cadena[1:4:2])\n",
    "print(cadena[1:4:2])\n"
   ]
  },
  {
   "cell_type": "code",
   "execution_count": 33,
   "metadata": {},
   "outputs": [
    {
     "data": {
      "text/plain": [
       "'ecabd'"
      ]
     },
     "execution_count": 33,
     "metadata": {},
     "output_type": "execute_result"
    }
   ],
   "source": [
    "def main(string_1):\n",
    "    return string_1[::-2]+ string_1[1:4:2]    \n",
    "\n",
    "main(\"abcde\")"
   ]
  },
  {
   "cell_type": "code",
   "execution_count": 444,
   "metadata": {
    "id": "2U4_XpzrBX5i"
   },
   "outputs": [
    {
     "name": "stdout",
     "output_type": "stream",
     "text": [
      "2 1\n",
      "1\n",
      "3 3\n",
      "0\n"
     ]
    }
   ],
   "source": [
    "# La siguiente función debe aceptar un argumento: una tupla.\n",
    "\n",
    "# La función debe devolver un número entero con el valor absoluto de la diferencia del número\n",
    "# de tuplas y el número de listas dentro de la tupla.\n",
    "\n",
    "# Por ejemplo, la funcion: \n",
    "# main(('k', 'cheers', (8,7), [32.3,-1], (9,))) \n",
    "# debe dar 1\n",
    "\n",
    "def main2(tupla):\n",
    "    ct=0\n",
    "    cl=0\n",
    "    for i in tupla:\n",
    "        if type(i) == tuple:\n",
    "            ct += 1\n",
    "        if type(i) == list:\n",
    "            cl += 1\n",
    "    print(ct, cl)\n",
    "    a= abs(ct-cl) \n",
    "    print(a)\n",
    "    pass\n",
    "main2(('k', 'cheers', (8,7), [32.3,-1], (9,)))\n",
    "main2(('k', 'cheers', (8,7), [32.3,-1], (9,),[32,5,6], [1,2],(9,2,3)))"
   ]
  },
  {
   "cell_type": "code",
   "execution_count": 422,
   "metadata": {},
   "outputs": [
    {
     "name": "stdout",
     "output_type": "stream",
     "text": [
      "True\n",
      "True\n",
      "True\n",
      "True\n"
     ]
    }
   ],
   "source": [
    "tupla = ('k', 'cheers', (8,7), [32.3,-1], (9,))\n",
    "print(type(tupla) == tuple)\n",
    "print(type(tupla[2]) == tuple)\n",
    "print(type(tupla[3]) == list)\n",
    "print(type(tupla[4]) == tuple)\n"
   ]
  },
  {
   "cell_type": "code",
   "execution_count": 430,
   "metadata": {},
   "outputs": [
    {
     "name": "stdout",
     "output_type": "stream",
     "text": [
      "2 1\n",
      "1\n"
     ]
    }
   ],
   "source": [
    "tupla = (\"k\", 'cheers', (8,7), [32.3,-1], (9,))\n",
    "ct= 0\n",
    "cl= 0\n",
    "for i in tupla:\n",
    "    if type(i) == tuple:\n",
    "        ct += 1 \n",
    "    if type(i) == list:\n",
    "        cl += 1\n",
    "print(ct, cl)\n",
    "a= abs(ct-cl) #Valor absoluto. \n",
    "print(a)"
   ]
  },
  {
   "cell_type": "code",
   "execution_count": 408,
   "metadata": {
    "id": "hJ5_h_FQX8RY"
   },
   "outputs": [
    {
     "name": "stdout",
     "output_type": "stream",
     "text": [
      "6\n",
      "\n",
      "3\n",
      "\n",
      "8\n"
     ]
    }
   ],
   "source": [
    "# La siguiente función debe aceptar un argumento: un diccionario. Las claves son números enteros y\n",
    "# valores son listas\n",
    "\n",
    "# La función debe devolver el número total de todos los elementos en todas las listas combinadas,\n",
    "# excepto para las listas que tienen una key divisible por 3\n",
    "\n",
    "# Por ejemplo: \n",
    "# main({1: [1,2,3], 2: [1,2,3], 3: [1,2,3]})  \n",
    "# da 6 \n",
    "\n",
    "def main3(d_3):\n",
    "    c3= 0\n",
    "    for a3,b3 in d_3.items():\n",
    "        if a3 % 3 !=0:\n",
    "            c3 += len(b3)\n",
    "    print(c3)   \n",
    "    pass          \n",
    "\n",
    "main3({1: [1,2,3], 2: [1,2,3], 3: [1,2,3]})  \n",
    "print()\n",
    "main3({9: [1,2,3], 2: [1,2,3], 3: [1,2,3]}) \n",
    "print()\n",
    "main3({9: [1,2,3], 2: [1,2,3], 3: [1,2,3],4: [1,2,3,4,5]}) \n",
    "\n",
    "   \n",
    "        \n"
   ]
  },
  {
   "cell_type": "code",
   "execution_count": 396,
   "metadata": {},
   "outputs": [
    {
     "name": "stdout",
     "output_type": "stream",
     "text": [
      "1 [1, 2, 3]\n",
      "2 [1, 2, 3]\n",
      "3 [1, 2, 3]\n"
     ]
    }
   ],
   "source": [
    "d_1 = {1: [1,2,3], 2: [1,2,3],3: [1,2,3], }\n",
    "for a3,b3 in d_1.items():\n",
    "    print(a3,b3)\n",
    "        \n",
    "\n",
    "  \n"
   ]
  },
  {
   "cell_type": "code",
   "execution_count": null,
   "metadata": {},
   "outputs": [],
   "source": [
    "#Primer intento.\n",
    "def main3(d_3):\n",
    "    keys= list(d_3.keys())\n",
    "    values = list(d_3.values())\n",
    "    print(keys)\n",
    "    for n in keys:\n",
    "        a=3\n",
    "        r= n% a\n",
    "        if r == 0:\n",
    "            print(sum(values[r]))\n",
    "main3({1: [1,2,3], 2: [1,2,3], 3: [1,2,3]})\n",
    "main3({9: [2,2,3], 6: [1,2,3], 3: [1,3,3]})"
   ]
  },
  {
   "cell_type": "code",
   "execution_count": 453,
   "metadata": {
    "id": "FKhPvj3GYZ9v"
   },
   "outputs": [
    {
     "name": "stdout",
     "output_type": "stream",
     "text": [
      "People are Funny.\n",
      "Peopleare Funny .\n"
     ]
    }
   ],
   "source": [
    "# La siguiente función debería aceptar una lista de cadenas\n",
    "\n",
    "# La función debe devolver una cadena compuesta de todas las cadenas, pero entre cada cadena \n",
    "# debe ser un espacio. Excepto si la cadena es un solo !, ., o un ?\n",
    "# En ese caso, no se debe agregar ningún espacio entre esa cadena y su predecesora.\n",
    "\n",
    "# POr ejemplo: \n",
    "# main(['People', 'are', 'Funny', '.'])  \n",
    "# da como resultado 'People are Funny.' \n",
    "\n",
    "def main4(a4):\n",
    "    a4 = a4[:]\n",
    "    c4= \"\"\n",
    "    for x,y  in enumerate(a_4):\n",
    "        if y== \".\" or y==\"!\" or x== \"?\":\n",
    "            c4 += y \n",
    "        else:\n",
    "            c4 +=y\n",
    "            if a4[x+1] ==\".\" or a4[x+1] ==\"!\" or a4[x+1] ==\"?\":\n",
    "                c4+=\"\"\n",
    "            else: \n",
    "                c4 +=\" \"\n",
    "    print(c4)\n",
    "    pass\n",
    "main4([\"People\", \"are\", \"Funny\", \".\"] )\n",
    "\n",
    "\n"
   ]
  },
  {
   "cell_type": "code",
   "execution_count": 445,
   "metadata": {},
   "outputs": [
    {
     "name": "stdout",
     "output_type": "stream",
     "text": [
      "People are Funny.\n"
     ]
    }
   ],
   "source": [
    "a4 = [\"People\", \"are\", \"Funny\", \".\"] \n",
    "c4= \"\"\n",
    "for x,y  in enumerate(a_4):\n",
    "    if y== \".\" or y==\"!\" or x== \"?\":\n",
    "        c4 += y \n",
    "    else:\n",
    "        c4 +=y\n",
    "        if a4[x+1] ==\".\" or a4[x+1] ==\"!\" or a4[x+1] ==\"?\":\n",
    "            c4+=\"\"\n",
    "        else: \n",
    "            c4 +=\" \"\n",
    "print(c4)\n",
    "        \n",
    "    \n",
    "    \n",
    "\n"
   ]
  },
  {
   "cell_type": "markdown",
   "metadata": {
    "id": "sqVecFFLi3OO"
   },
   "source": [
    "## Extra 2\n"
   ]
  },
  {
   "cell_type": "code",
   "execution_count": 209,
   "metadata": {
    "id": "NIZJR0VGi4ps"
   },
   "outputs": [
    {
     "name": "stdout",
     "output_type": "stream",
     "text": [
      "[200, 400, 600, 800]\n",
      "[20, 40, 60, 80, 100]\n",
      "[21, 42, 63, 84]\n"
     ]
    }
   ],
   "source": [
    "# La siguiente función debería aceptar cuatro argumentos: cuatro enteros\n",
    "\n",
    "# La función debe devolver una lista con todos los enteros entre el primero y\n",
    "# segundo entero (ambos inclusivo []) que son divisibles tanto por el 3er como por el 4to entero.\n",
    "\n",
    "# Por ejemplo: \n",
    "# main(100, 800, 100, 200) \n",
    "# Debe dar [200, 400, 600, 800] \n",
    "\n",
    "def main1(integer_1, integer_2, integer_3, integer_4):\n",
    "    a1= (integer_1, integer_2, integer_3, integer_4)\n",
    "    lista1=[]\n",
    "    for x in range(a1[0], a1[1]+1):\n",
    "        if x % a1[2] ==0 and x % a1[3] ==0:\n",
    "            lista1.append(x)\n",
    "    print(lista1)\n",
    "    pass\n",
    "main1(100, 800, 100, 200)\n",
    "main1(5, 100, 5, 20)\n",
    "main1(1,100,3,7)"
   ]
  },
  {
   "cell_type": "code",
   "execution_count": 199,
   "metadata": {},
   "outputs": [
    {
     "name": "stdout",
     "output_type": "stream",
     "text": [
      "[200, 400, 600, 800]\n"
     ]
    }
   ],
   "source": [
    "a1= (100,800,100,200)\n",
    "lista1= []\n",
    "for x in range(a1[0],a1[1]+1):\n",
    "    if x % a1[2] ==0 and x % a1[3] ==0:\n",
    "        lista1.append(x)\n",
    "print(lista1)\n",
    "        "
   ]
  },
  {
   "cell_type": "code",
   "execution_count": 196,
   "metadata": {
    "id": "dtu2-H95jgh0"
   },
   "outputs": [
    {
     "data": {
      "text/plain": [
       "False"
      ]
     },
     "execution_count": 196,
     "metadata": {},
     "output_type": "execute_result"
    }
   ],
   "source": [
    "# La siguiente función debería aceptar como argumento una lista con 3 enteros como elementos\n",
    "\n",
    "# La función debería devolver True si exactamente un entero difiere de todos los demás enteros,\n",
    "# y falso en todos los demás casos.\n",
    "\n",
    "# Por ejemplo: \n",
    "# main([1, 1, 2]) \n",
    "# debe dar como resultado true \n",
    "\n",
    "def main2(lista2):\n",
    "    slista2= set(lista2)\n",
    "    if len(lista2) == len(slista2):\n",
    "        return False\n",
    "    else: \n",
    "        return True\n",
    "    pass\n",
    "\n",
    "main2([1,1,2])\n",
    "main2([1,2,3,4,4])\n",
    "main2([1,2,3,4,5])"
   ]
  },
  {
   "cell_type": "code",
   "execution_count": 192,
   "metadata": {},
   "outputs": [
    {
     "name": "stdout",
     "output_type": "stream",
     "text": [
      "True\n"
     ]
    }
   ],
   "source": [
    "lista2= [1,1,2]\n",
    "slista2= set(lista2) #En un set no se permiten valores repetidos.\n",
    "if len(lista2) == len(slista2):\n",
    "    print(False)\n",
    "else: \n",
    "    print(True)\n",
    "\n",
    "           \n"
   ]
  },
  {
   "cell_type": "code",
   "execution_count": 458,
   "metadata": {
    "id": "fqOe0O0ukR7M"
   },
   "outputs": [
    {
     "name": "stdout",
     "output_type": "stream",
     "text": [
      "enolaabaa\n",
      "enaaolaabaa\n"
     ]
    }
   ],
   "source": [
    "# La función a continuación debe aceptar dos argumentos, una cadena y una lista con caracteres individuales\n",
    "# La función debe devolver una cadena en orden inverso mientras duplica cualquier carácter en la lista\n",
    "\n",
    "# Por ejemplo:\n",
    "# main(\"abalone\", [\"a\",\"i\"]) \n",
    "# resulta en : \"enolaabaa\" \n",
    "\n",
    "def main3(string_3, lista3):\n",
    "    a3= (string_3, lista3)\n",
    "    z3= a3[0][::-1]\n",
    "    for x in z3:\n",
    "        for y in a3[1]:\n",
    "            if x == y: \n",
    "                w3= z3.replace(x,x*2)\n",
    "    print(w3)          \n",
    "    pass\n",
    "main3(\"abalone\", [\"a\", \"i\"])\n",
    "main3(\"abaloane\", [\"a\", \"i\"])"
   ]
  },
  {
   "cell_type": "code",
   "execution_count": 454,
   "metadata": {},
   "outputs": [
    {
     "name": "stdout",
     "output_type": "stream",
     "text": [
      "enolaabaa\n"
     ]
    }
   ],
   "source": [
    "a3= (\"abalone\", [\"a\", \"i\"])\n",
    "z3= a3[0][::-1]\n",
    "for x in z3:\n",
    "    for y in a3[1]:\n",
    "        if x == y: \n",
    "            w3= z3.replace(x,x*2)\n",
    "    \n",
    "print(w3)            "
   ]
  },
  {
   "cell_type": "code",
   "execution_count": 165,
   "metadata": {
    "colab": {
     "base_uri": "https://localhost:8080/",
     "height": 35
    },
    "executionInfo": {
     "elapsed": 200,
     "status": "ok",
     "timestamp": 1657883991199,
     "user": {
      "displayName": "Victor Salazar",
      "userId": "01748899183064234735"
     },
     "user_tz": -120
    },
    "id": "6XZSEre4lYo4",
    "outputId": "0b9559bb-c326-4de5-d8e7-4299967b6116"
   },
   "outputs": [
    {
     "name": "stdout",
     "output_type": "stream",
     "text": [
      "[12, 0.12]\n",
      "[12, 222, 0.12, 3.2]\n"
     ]
    }
   ],
   "source": [
    "# La siguiente función debe aceptar un argumento, una lista con números enteros y flotantes\n",
    "# La función debe devolver una lista con solo números enteros y flotantes que terminen en 2\n",
    "\n",
    "# Por ejemplo: \n",
    "# main([12, 2., .12, 3 ]) \n",
    "# debe dar: [12, .12 ] \n",
    "\n",
    "def main4(lista4):\n",
    "    slista4 = []\n",
    "    for x in lista4:\n",
    "        a= str(x)\n",
    "        if a[-1]== \"2\":\n",
    "            slista4.append(x)\n",
    "    print(slista4)   \n",
    "    pass\n",
    "main4([12, 2., .12, 3 ]) \n",
    "main4([12, 222, .12, 3.2,4 ])"
   ]
  },
  {
   "cell_type": "code",
   "execution_count": 161,
   "metadata": {},
   "outputs": [
    {
     "name": "stdout",
     "output_type": "stream",
     "text": [
      "[12, 0.12]\n",
      "<class 'list'>\n"
     ]
    }
   ],
   "source": [
    "lista4= [12, 2., .12, 3 ]\n",
    "slista4 = []\n",
    "for x in lista4:\n",
    "    a= str(x)\n",
    "    if a[-1]== \"2\":\n",
    "        slista4.append(x)\n",
    "print(slista4)\n",
    "print(type(slista4))"
   ]
  },
  {
   "cell_type": "markdown",
   "metadata": {},
   "source": [
    "## Extra 3"
   ]
  },
  {
   "cell_type": "code",
   "execution_count": 151,
   "metadata": {
    "id": "KqroULXilgsw"
   },
   "outputs": [
    {
     "name": "stdout",
     "output_type": "stream",
     "text": [
      "[12, 2, 22, 3]\n",
      "[2, 22, 3]\n",
      "[12, 42, 22, 3]\n",
      "[12, 42, 3]\n"
     ]
    }
   ],
   "source": [
    "# La siguiente función debería aceptar un argumento, una lista con al menos 2 enteros\n",
    "# La función debe devolver una lista en el mismo orden pero sin el segundo número más alto\n",
    "\n",
    "# Por ejemplo:\n",
    "# main([12, 2, 22, 3 ]) \n",
    "# debe dar:  [2, 22, 3 ] \n",
    "\n",
    "def main5(lista5):\n",
    "    lista5 = lista5[:]\n",
    "    print(lista5)\n",
    "    slista5= []\n",
    "    auxlist5= sorted(lista5)\n",
    "    auxlist5.pop(-2)\n",
    "    for x in lista5:\n",
    "        for i in auxlist5:\n",
    "            if x == i: \n",
    "                slista5.append(x)\n",
    "    print(slista5)\n",
    "    pass\n",
    "main5([12,2,22,3])\n",
    "main5([12,42,22,3])"
   ]
  },
  {
   "cell_type": "code",
   "execution_count": 130,
   "metadata": {},
   "outputs": [
    {
     "name": "stdout",
     "output_type": "stream",
     "text": [
      "[12, 2, 22, 3]\n",
      "[12, 2, 3]\n"
     ]
    }
   ],
   "source": [
    "lista5= [12,2,22,3]\n",
    "print(lista5)\n",
    "slista5= []\n",
    "x=0\n",
    "for x in lista5:\n",
    "    a= max(lista5)\n",
    "    if x<a:\n",
    "        slista5.append(x)\n",
    "print(slista5)\n",
    "        "
   ]
  },
  {
   "cell_type": "code",
   "execution_count": 144,
   "metadata": {},
   "outputs": [
    {
     "name": "stdout",
     "output_type": "stream",
     "text": [
      "[12, 2, 22, 3]\n",
      "[2, 22, 3]\n"
     ]
    }
   ],
   "source": [
    "lista5= [12,2,22,3]\n",
    "print(lista5)\n",
    "slista5= []\n",
    "auxlist5= sorted(lista5)\n",
    "auxlist5.pop(-2)\n",
    "for x in lista5:\n",
    "    for i in auxlist5:\n",
    "        if x == i: \n",
    "            slista5.append(x)\n",
    "print(slista5)\n",
    "  "
   ]
  },
  {
   "cell_type": "code",
   "execution_count": 131,
   "metadata": {
    "id": "2yKboKWAtZ0i"
   },
   "outputs": [
    {
     "name": "stdout",
     "output_type": "stream",
     "text": [
      "(100, [1, 2, 20, 10])\n",
      "[True, True, True, True]\n"
     ]
    }
   ],
   "source": [
    "# La siguiente función debe aceptar dos argumentos, un número entero y una lista con números enteros\n",
    "# La función debe devolver una lista con Verdadero y Falso para todos los enteros en la lista\n",
    "# por el cual el primer argumento es divisible y False en caso contrario.\n",
    "\n",
    "# Por ejemplo: \n",
    "# main(10, [12, 2, 22, 5 ]) \n",
    "# debe dar [False, True, False, True] \n",
    "\n",
    "def main6(integer_6, lista6):\n",
    "    lista6 = (integer_6, lista6)\n",
    "    print(lista6)\n",
    "    slista6 = []\n",
    "    z = 0\n",
    "    for r in lista6[1]:\n",
    "        a= lista6[0] % r is z\n",
    "        slista6.append(a)\n",
    "    print(slista6)\n",
    "    pass\n",
    "\n",
    "main6(100, [1,2,20,10])"
   ]
  },
  {
   "cell_type": "code",
   "execution_count": 109,
   "metadata": {},
   "outputs": [
    {
     "name": "stdout",
     "output_type": "stream",
     "text": [
      "(10, [12, 2, 22, 5])\n",
      "[False, True, False, True]\n"
     ]
    }
   ],
   "source": [
    "lista6= (10, [12,2,22,5])\n",
    "slista6 = []\n",
    "print(lista6)\n",
    "z = 0\n",
    "for r in lista6[1]:\n",
    "    a= lista6[0] % r is z\n",
    "    slista6.append(a)\n",
    "print(slista6)\n",
    "   \n",
    " "
   ]
  },
  {
   "cell_type": "code",
   "execution_count": 83,
   "metadata": {
    "id": "XRiUD6B0yhu_"
   },
   "outputs": [
    {
     "name": "stdout",
     "output_type": "stream",
     "text": [
      "{'ad': 2, 'abc': 3, 'ab': 2}\n",
      "{'acd': 3, 'abreec': 6, 'abcde': 5}\n",
      "{'acd': 3, 'abreec': 6, 'abcde': 5, 'a': 1}\n"
     ]
    }
   ],
   "source": [
    "# La siguiente función debe aceptar un argumento, una lista con cadenas\n",
    "# La función debe devolver un diccionario con como claves las cadenas y como valores\n",
    "# las longitudes de las cadenas\n",
    "\n",
    "# Por ejemplo: \n",
    "# main([\"ad\", \"abc\", \"ab\"]) \n",
    "# debe dar {\"ad\":2, \"abc\":3, \"ab\":2} \n",
    "\n",
    "def main7(lista7):\n",
    "    lista7 = lista7[:]\n",
    "    dic_7 = {}\n",
    "    for i in lista7:\n",
    "        c=len(i)\n",
    "        dic_7[i]=c\n",
    "    print(dic_7)     \n",
    "    pass\n",
    "main7([\"ad\", \"abc\", \"ab\"])\n",
    "main7([\"acd\", \"abreec\", \"abcde\"])\n",
    "main7([\"acd\", \"abreec\", \"abcde\", \"a\"])"
   ]
  },
  {
   "cell_type": "code",
   "execution_count": 76,
   "metadata": {},
   "outputs": [
    {
     "name": "stdout",
     "output_type": "stream",
     "text": [
      "['ad', 'abc', 'ab']\n",
      "{'ad': 2, 'abc': 3, 'ab': 2}\n"
     ]
    }
   ],
   "source": [
    "lista1= [\"ad\", \"abc\", \"ab\"]\n",
    "dic_7={}\n",
    "print(lista1)\n",
    "for i in lista1:\n",
    "    c=len(i)\n",
    "    dic_7 [i]= c\n",
    "print(dic_7)\n",
    "    "
   ]
  },
  {
   "cell_type": "code",
   "execution_count": 460,
   "metadata": {
    "id": "sE1Fa5gPy3ec"
   },
   "outputs": [
    {
     "name": "stdout",
     "output_type": "stream",
     "text": [
      "{2: 'ab', 3: 'abc'}\n"
     ]
    }
   ],
   "source": [
    "#Pendiente.\n",
    "# La siguiente función debe aceptar un argumento, una lista con cadenas\n",
    "\n",
    "# La función debe devolver un diccionario con como keys la longitud de las cadenas y como valores\n",
    "# listas ordenadas con las cadenas con la longitud igual a la key\n",
    "\n",
    "# Por ejemplo: \n",
    "# main([\"ab\", \"abc\", \"ad\"]) \n",
    "# debe dar {2: [\"ab\", \"ad\"], 3: [\"abc\"]} \n",
    "\n",
    "def main8(lista8):\n",
    "    lista8 = lista8[:]\n",
    "    dic_8 = {}\n",
    "    for i in lista8:\n",
    "        c=len(i)\n",
    "        dic_8[c]=i\n",
    "    print(dic_8)     \n",
    "    pass\n",
    "main8([\"ad\", \"abc\", \"ab\"])\n",
    "    "
   ]
  },
  {
   "cell_type": "code",
   "execution_count": 466,
   "metadata": {},
   "outputs": [
    {
     "name": "stdout",
     "output_type": "stream",
     "text": [
      "{2: 'ab', 3: 'abc'}\n"
     ]
    }
   ],
   "source": [
    "lista8= [\"ad\", \"abc\", \"ab\"]\n",
    "lista8 = lista8[:]\n",
    "dic_8 = {}\n",
    "for i in lista8:\n",
    "        c=len(i)\n",
    "        dic_8[c]=i\n",
    "print(dic_8)    "
   ]
  },
  {
   "cell_type": "code",
   "execution_count": null,
   "metadata": {},
   "outputs": [],
   "source": []
  }
 ],
 "metadata": {
  "colab": {
   "authorship_tag": "ABX9TyPD5ax1XUqklfzORP6QntIw",
   "collapsed_sections": [],
   "name": "ejercicios_extra.ipynb",
   "provenance": []
  },
  "kernelspec": {
   "display_name": "Python 3 (ipykernel)",
   "language": "python",
   "name": "python3"
  },
  "language_info": {
   "codemirror_mode": {
    "name": "ipython",
    "version": 3
   },
   "file_extension": ".py",
   "mimetype": "text/x-python",
   "name": "python",
   "nbconvert_exporter": "python",
   "pygments_lexer": "ipython3",
   "version": "3.9.12"
  }
 },
 "nbformat": 4,
 "nbformat_minor": 1
}
