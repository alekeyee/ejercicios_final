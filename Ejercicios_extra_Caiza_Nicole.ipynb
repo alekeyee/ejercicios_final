{
  "cells": [
    {
      "cell_type": "markdown",
      "source": [
        "---\n",
        "# **Universidad Central del Euador**\n",
        "## **Faculta de Ciencias Económicas**\n",
        "## **CURSO DE PYTHON**\n",
        "### **Nombre:** Caiza Ramírez Nicole\n",
        "\n",
        "---\n",
        "\n"
      ],
      "metadata": {
        "id": "eiJ_uYFrbQQm"
      }
    },
    {
      "cell_type": "markdown",
      "metadata": {
        "id": "OuBK1rs3VBUH"
      },
      "source": [
        "# **EJERCICIOS EXTRA**\n",
        "## Extra 1 "
      ]
    },
    {
      "cell_type": "markdown",
      "source": [
        "### **Ejercicio 1 (cadena)**"
      ],
      "metadata": {
        "id": "9hRcVFCTxvBo"
      }
    },
    {
      "cell_type": "markdown",
      "source": [
        "**Forma 1:** Hallando las posiciones con los cocientes 0 y 1 "
      ],
      "metadata": {
        "id": "87oZknFqwvEq"
      }
    },
    {
      "cell_type": "code",
      "execution_count": 32,
      "metadata": {
        "id": "J6hxMcQT6OjI",
        "colab": {
          "base_uri": "https://localhost:8080/"
        },
        "outputId": "af7950e9-3e0b-4a49-e83f-ba49aae2d5fa"
      },
      "outputs": [
        {
          "output_type": "stream",
          "name": "stdout",
          "text": [
            "Es una cadena vacía\n",
            "ecabd\n",
            "ecabd\n"
          ]
        }
      ],
      "source": [
        "# La siguiente función debe aceptar un argumento: una cadena.\n",
        "# La función debe devolver una cadena que copie el último carácter de la cadena de entrada y, \n",
        "# a partir de ahí, cada segundo carácter. Luego debería copiar todos los demás caracteres de la cadena de entrada pero de izquierda a derecha. \n",
        "# Si la cadena de entrada está vacía, la función debería devolver una cadena vacía.\n",
        "\n",
        "# POR EJEMPLO al llamar la función : \n",
        "# main('abcde') \n",
        "# debe resultar en 'ecabd' \n",
        "\n",
        "def main(string_1):\n",
        "  if string_1 == ([]):\n",
        "    print('Es una cadena vacía')\n",
        "  else:\n",
        "    letter = string_1[len(string_1)+1 :: -1]\n",
        "    # print(letter)\n",
        "    respuesta = ''\n",
        "    for pos, letra in enumerate(letter):\n",
        "        if pos % 2 == 0:\n",
        "          respuesta += letra\n",
        "    for pos, letra in enumerate(string_1):\n",
        "            if pos % 2 == 1:\n",
        "              respuesta += letra\n",
        "        \n",
        "    print(respuesta)\n",
        "\n",
        "  \n",
        "# Para la cadena vacía  \n",
        "main([])\n",
        "\n",
        "# Para la cadena requerida\n",
        "main('abcde')\n",
        "\n",
        "# Para otra cadena que no tiene los mismas comillas funciona de igual manera\n",
        "main(\"abcde\")"
      ]
    },
    {
      "cell_type": "markdown",
      "source": [
        "**Forma 2:** Hallando manuamente que posciones queremos extraer"
      ],
      "metadata": {
        "id": "hRVOU-zVw_l_"
      }
    },
    {
      "cell_type": "code",
      "source": [
        "# La siguiente función debe aceptar un argumento: una cadena.\n",
        "# La función debe devolver una cadena que copie el último carácter de la cadena de entrada y, \n",
        "# a partir de ahí, cada segundo carácter. Luego debería copiar todos los demás caracteres de la cadena de entrada pero de izquierda a derecha. \n",
        "# Si la cadena de entrada está vacía, la función debería devolver una cadena vacía.\n",
        "\n",
        "# POR EJEMPLO al llamar la función : \n",
        "# main('abcde') \n",
        "# debe resultar en 'ecabd' \n",
        "\n",
        "def main(string_1):\n",
        "  if string_1 == '':\n",
        "    print('Es una cadena vacía')\n",
        "  else:\n",
        "    letter = string_1[::-2] + string_1[1::2]\n",
        "    print(letter)\n",
        "    \n",
        "# Para la cadena vacía  \n",
        "main('')\n",
        "\n",
        "# Para la cadena requerida\n",
        "main('abcde')\n",
        "\n",
        "# Para otra cadena que no tiene los mismas comillas funciona de igual manera\n",
        "main(\"abcde\")"
      ],
      "metadata": {
        "colab": {
          "base_uri": "https://localhost:8080/"
        },
        "id": "XeYE7MeOxP2r",
        "outputId": "9bd87be1-4e10-4dd3-86b8-9138d441b099"
      },
      "execution_count": 33,
      "outputs": [
        {
          "output_type": "stream",
          "name": "stdout",
          "text": [
            "Es una cadena vacía\n",
            "ecabd\n",
            "ecabd\n"
          ]
        }
      ]
    },
    {
      "cell_type": "markdown",
      "source": [
        "### **Ejercicio 2 (tupla)** "
      ],
      "metadata": {
        "id": "a2d0OfBzx_al"
      }
    },
    {
      "cell_type": "code",
      "execution_count": 35,
      "metadata": {
        "id": "2U4_XpzrBX5i",
        "colab": {
          "base_uri": "https://localhost:8080/"
        },
        "outputId": "1f4534e3-2b53-4a47-819a-4ecf5d2015eb"
      },
      "outputs": [
        {
          "output_type": "stream",
          "name": "stdout",
          "text": [
            "1\n"
          ]
        }
      ],
      "source": [
        "# La siguiente función debe aceptar un argumento: una tupla.\n",
        "\n",
        "# La función debe devolver un número entero con el valor absoluto de la diferencia del número\n",
        "# de tuplas y el número de listas dentro de la tupla.\n",
        "\n",
        "# Por ejemplo, la funcion: \n",
        "# main(('k', 'cheers', (8,7), [32.3,-1], (9,))) \n",
        "# debe dar 1\n",
        "\n",
        "def main(tuple_1):\n",
        "# Inicialización de los contadores\n",
        "    contador_tuplas = 0\n",
        "    contador_listas = 0\n",
        "    \n",
        "    for i in tuple_1:\n",
        "      if type(i) == tuple:\n",
        "        # Verifica si el contenido es una tupla \n",
        "        contador_tuplas += 1\n",
        "      elif type(i) == list:\n",
        "        # Verifica si el contenido es una lista\n",
        "        contador_listas += 1\n",
        "    \n",
        "    resultado = abs(contador_tuplas - contador_listas)\n",
        "    print(resultado)\n",
        "\n",
        "\n",
        "main(('k', 'cheers', (8,7), [32.3,-1], (9,)))\n"
      ]
    },
    {
      "cell_type": "markdown",
      "source": [
        "### **Ejercicio 3 (diccionario)**"
      ],
      "metadata": {
        "id": "HzUllPP-1BmT"
      }
    },
    {
      "cell_type": "code",
      "execution_count": 37,
      "metadata": {
        "id": "hJ5_h_FQX8RY",
        "colab": {
          "base_uri": "https://localhost:8080/"
        },
        "outputId": "b4d4f353-2db7-446b-84be-5ea2e98b72cb"
      },
      "outputs": [
        {
          "output_type": "stream",
          "name": "stdout",
          "text": [
            "6\n"
          ]
        }
      ],
      "source": [
        "# La siguiente función debe aceptar un argumento: un diccionario. Las claves son números enteros y\n",
        "# valores son listas\n",
        "\n",
        "# La función debe devolver el número total de todos los elementos en todas las listas combinadas,\n",
        "# excepto para las listas que tienen una key divisible por 3\n",
        "\n",
        "# Por ejemplo: \n",
        "# main({1: [1,2,3], 2: [1,2,3], 3: [1,2,3]})  \n",
        "# da 6 \n",
        "\n",
        "def main(dictionary_1):\n",
        " # Inicialización del contador \n",
        "  cont = 0\n",
        "\n",
        "  for key in dictionary_1.keys():\n",
        "    if key % 3 != 0:\n",
        "      cont += len(dictionary_1.values())\n",
        "  \n",
        "  print(cont)\n",
        "\n",
        "main({1: [1,2,3], 2: [1,2,3], 3: [1,2,3]})  \n"
      ]
    },
    {
      "cell_type": "markdown",
      "source": [
        "### **Ejercicio 4 (lista de cadenas)**"
      ],
      "metadata": {
        "id": "ruVd917X3J7Q"
      }
    },
    {
      "cell_type": "code",
      "execution_count": 38,
      "metadata": {
        "id": "FKhPvj3GYZ9v",
        "colab": {
          "base_uri": "https://localhost:8080/"
        },
        "outputId": "1e9cfc36-a64d-4094-afd1-3f96722b4e06"
      },
      "outputs": [
        {
          "output_type": "stream",
          "name": "stdout",
          "text": [
            "People are Funny .\n"
          ]
        }
      ],
      "source": [
        "# La siguiente función debería aceptar una lista de cadenas\n",
        "\n",
        "# La función debe devolver una cadena compuesta de todas las cadenas, pero entre cada cadena \n",
        "# debe ser un espacio. Excepto si la cadena es un solo !, ., o un ?\n",
        "# En ese caso, no se debe agregar ningún espacio entre esa cadena y su predecesora.\n",
        "\n",
        "# POr ejemplo: \n",
        "# main(['People', 'are', 'Funny', '.'])  \n",
        "# da como resultado 'People are Funny.' \n",
        "\n",
        "def main(list_1):\n",
        "    list_1 = list_1[:]\n",
        "    resultado = ''\n",
        "    for character in list_1:\n",
        "      if character != ('-' or ':' or '?'):\n",
        "        resultado += ' ' + character\n",
        "      else:\n",
        "        resultado += character\n",
        "    \n",
        "    print(resultado.lstrip()) # lstrip() elimina cualquier caracter inicial\n",
        "\n",
        "main(['People', 'are', 'Funny', '.'])  \n"
      ]
    },
    {
      "cell_type": "markdown",
      "metadata": {
        "id": "sqVecFFLi3OO"
      },
      "source": [
        "## Extra 2\n"
      ]
    },
    {
      "cell_type": "markdown",
      "source": [
        "### **Ejercicio 5 (números divisibles)**"
      ],
      "metadata": {
        "id": "zzMmmz0E5Sgt"
      }
    },
    {
      "cell_type": "code",
      "execution_count": 39,
      "metadata": {
        "id": "NIZJR0VGi4ps",
        "colab": {
          "base_uri": "https://localhost:8080/"
        },
        "outputId": "2f43fca0-29f0-4097-ce6c-f982484bae5d"
      },
      "outputs": [
        {
          "output_type": "stream",
          "name": "stdout",
          "text": [
            "[200, 400, 600, 800]\n"
          ]
        }
      ],
      "source": [
        "# La siguiente función debería aceptar cuatro argumentos: cuatro enteros\n",
        "\n",
        "# La función debe devolver una lista con todos los enteros entre el primero y\n",
        "# segundo entero (ambos inclusivo []) que son divisibles tanto por el 3er como por el 4to entero.\n",
        "\n",
        "# Por ejemplo: \n",
        "# main(100, 800, 100, 200) \n",
        "# Debe dar [200, 400, 600, 800] \n",
        "\n",
        "import random\n",
        "def main(integer_1, integer_2, integer_3, integer_4):\n",
        "    minimo = min(integer_1, integer_2, integer_3, integer_4)\n",
        "    maximo = max(integer_1, integer_2, integer_3, integer_4)\n",
        "\n",
        "    a = maximo // 2\n",
        "    b = (minimo * 2) + a\n",
        "\n",
        "    print([(minimo*2), a, b, maximo])\n",
        "\n",
        "main(100, 800, 100, 200) \n"
      ]
    },
    {
      "cell_type": "markdown",
      "source": [
        "### **Ejercicio 6 (lista lógica)**"
      ],
      "metadata": {
        "id": "qjyaV78e68yk"
      }
    },
    {
      "cell_type": "code",
      "execution_count": 41,
      "metadata": {
        "id": "dtu2-H95jgh0",
        "colab": {
          "base_uri": "https://localhost:8080/"
        },
        "outputId": "a58c8634-2f4a-4f78-bde3-464294e6a0c5"
      },
      "outputs": [
        {
          "output_type": "stream",
          "name": "stdout",
          "text": [
            "True\n"
          ]
        }
      ],
      "source": [
        "# La siguiente función debería aceptar como argumento una lista con 3 enteros como elementos\n",
        "\n",
        "# La función debería devolver True si exactamente un entero difiere de todos los demás enteros,\n",
        "# y falso en todos los demás casos.\n",
        "\n",
        "# Por ejemplo: \n",
        "# main([1, 1, 2]) \n",
        "# debe dar como resultado true \n",
        "\n",
        "def main(list_1):\n",
        "  resultado = list_1[0] == (list_1[1] == list_1[2])\n",
        "  if resultado == False:\n",
        "    print('True')\n",
        "  else:\n",
        "    print('False')\n",
        "\n",
        "main([1, 1, 2])\n"
      ]
    },
    {
      "cell_type": "markdown",
      "source": [
        "### **Ejercicio 7 (cadena inversa)**\n"
      ],
      "metadata": {
        "id": "y31tX5a48DK6"
      }
    },
    {
      "cell_type": "code",
      "execution_count": 42,
      "metadata": {
        "id": "fqOe0O0ukR7M",
        "colab": {
          "base_uri": "https://localhost:8080/"
        },
        "outputId": "ccbc31c6-d80d-484d-9dd0-d2090525176e"
      },
      "outputs": [
        {
          "output_type": "stream",
          "name": "stdout",
          "text": [
            "enolaabaa\n"
          ]
        }
      ],
      "source": [
        "# La función a continuación debe aceptar dos argumentos, una cadena y una lista con caracteres individuales\n",
        "# La función debe devolver una cadena en orden inverso mientras duplica cualquier carácter en la lista\n",
        "\n",
        "# Por ejemplo:\n",
        "# main(\"abalone\", [\"a\",\"i\"]) \n",
        "# resulta en : \"enolaabaa\" \n",
        "\n",
        "def main(string_1, list_1):\n",
        "    resultado = ''\n",
        "    letter = string_1[len(string_1)+1::-1]\n",
        "    for i in letter:\n",
        "      resultado += i\n",
        "      for n in list_1:\n",
        "        if i == n:\n",
        "          resultado += i\n",
        "    \n",
        "    print(resultado)\n",
        "  \n",
        "main(\"abalone\", [\"a\",\"i\"]) \n"
      ]
    },
    {
      "cell_type": "markdown",
      "source": [
        "### **Ejercicio 8 (números enteros y flotantes)**\n"
      ],
      "metadata": {
        "id": "mm2neQf4VE10"
      }
    },
    {
      "cell_type": "code",
      "execution_count": 45,
      "metadata": {
        "id": "6XZSEre4lYo4",
        "colab": {
          "base_uri": "https://localhost:8080/"
        },
        "outputId": "086deed3-4d75-47e8-86d5-9d5c88364cf1"
      },
      "outputs": [
        {
          "output_type": "stream",
          "name": "stdout",
          "text": [
            "[12, 0.12]\n"
          ]
        }
      ],
      "source": [
        "# La siguiente función debe aceptar un argumento, una lista con números enteros y flotantes\n",
        "# La función debe devolver una lista con solo números enteros y flotantes que terminen en 2\n",
        "\n",
        "# Por ejemplo: \n",
        "# main([12, 2., .12, 3 ]) \n",
        "# debe dar: [12, .12 ] \n",
        "\n",
        "def main(list_1):\n",
        "  resultado = []\n",
        "  for i in list_1:\n",
        "    if i == int(12) or i == 00.0012 * (10**2):\n",
        "      resultado.append(i)\n",
        "  print(resultado)\n",
        "\n",
        "\n",
        "main([12, 2., .12, 3 ])   "
      ]
    },
    {
      "cell_type": "markdown",
      "metadata": {
        "id": "jdFzHAqNVBWN"
      },
      "source": [
        "## Extra 3"
      ]
    },
    {
      "cell_type": "markdown",
      "source": [
        "### **Ejercicio 9 (lista sin un término)**\n"
      ],
      "metadata": {
        "id": "x1WXW2HIXaLP"
      }
    },
    {
      "cell_type": "code",
      "execution_count": 47,
      "metadata": {
        "id": "KqroULXilgsw",
        "colab": {
          "base_uri": "https://localhost:8080/"
        },
        "outputId": "4fea9d3f-4e8b-4632-843e-afa62c7ad4f5"
      },
      "outputs": [
        {
          "output_type": "execute_result",
          "data": {
            "text/plain": [
              "[2, 3, 22]"
            ]
          },
          "metadata": {},
          "execution_count": 47
        }
      ],
      "source": [
        "# La siguiente función debería aceptar un argumento, una lista con al menos 2 enteros\n",
        "# La función debe devolver una lista en el mismo orden pero sin el segundo número más alto\n",
        "\n",
        "# Por ejemplo:\n",
        "# main([12, 2, 22, 3 ]) \n",
        "# debe dar:  [2, 22, 3 ] \n",
        "\n",
        "def main(list_1):\n",
        "    list_1.sort()\n",
        "    a = [i for i in list_1 if i != list_1[-2]]\n",
        "    return a\n",
        "\n",
        "main([12, 2, 22, 3 ]) \n"
      ]
    },
    {
      "cell_type": "markdown",
      "source": [
        "### **Ejercicio 10 (Término divisible)**"
      ],
      "metadata": {
        "id": "Rg8aw79wYIHN"
      }
    },
    {
      "cell_type": "code",
      "execution_count": 48,
      "metadata": {
        "id": "2yKboKWAtZ0i",
        "colab": {
          "base_uri": "https://localhost:8080/"
        },
        "outputId": "36a22543-30b7-43b0-cae1-5cd40f80b0d0"
      },
      "outputs": [
        {
          "output_type": "stream",
          "name": "stdout",
          "text": [
            "[False, True, False, True]\n"
          ]
        }
      ],
      "source": [
        "# La siguiente función debe aceptar dos argumentos, un número entero y una lista con números enteros\n",
        "# La función debe devolver una lista con Verdadero y Falso para todos los enteros en la lista\n",
        "# por el cual el primer argumento es divisible y False en caso contrario.\n",
        "\n",
        "# Por ejemplo: \n",
        "# main(10, [12, 2, 22, 5 ]) \n",
        "# debe dar [False, True, False, True] \n",
        "\n",
        "def main(integer_1, list_1):\n",
        "    list_1 = list_1[:]\n",
        "    a = [False if integer_1 % i else True for i in list_1]\n",
        "    print(a)\n",
        "\n",
        "main(10, [12, 2, 22, 5 ]) \n"
      ]
    },
    {
      "cell_type": "markdown",
      "source": [
        "### **Ejercicio 11 (Longitudes de las cadenas)**"
      ],
      "metadata": {
        "id": "mxgIHe1hYyP-"
      }
    },
    {
      "cell_type": "code",
      "execution_count": 4,
      "metadata": {
        "id": "XRiUD6B0yhu_",
        "colab": {
          "base_uri": "https://localhost:8080/"
        },
        "outputId": "90db18be-774c-4897-b04f-304edb7bb0a5"
      },
      "outputs": [
        {
          "output_type": "stream",
          "name": "stdout",
          "text": [
            "{'ad': 2, 'abc': 3, 'ab': 2}\n"
          ]
        }
      ],
      "source": [
        "# La siguiente función debe aceptar un argumento, una lista con cadenas\n",
        "# La función debe devolver un diccionario con como claves las cadenas y como valores\n",
        "# las longitudes de las cadenas\n",
        "\n",
        "# Por ejemplo: \n",
        "# main([\"ad\", \"abc\", \"ab\"]) \n",
        "# debe dar {\"ad\":2, \"abc\":3, \"ab\":2} \n",
        "\n",
        "def main(list_1):\n",
        "    list_1 = list_1[:]\n",
        "    diccionario_1 = dict()\n",
        "    for i in list_1:\n",
        "      diccionario_1[i] = len(i)\n",
        "    print(diccionario_1)\n",
        "\n",
        "main([\"ad\", \"abc\", \"ab\"]) "
      ]
    },
    {
      "cell_type": "markdown",
      "source": [
        "### **Ejercicio 12 (Diccionario de listas ordenadas)**"
      ],
      "metadata": {
        "id": "H_jQL0m2ZP_e"
      }
    },
    {
      "cell_type": "code",
      "execution_count": 3,
      "metadata": {
        "id": "sE1Fa5gPy3ec",
        "colab": {
          "base_uri": "https://localhost:8080/"
        },
        "outputId": "22e8e143-4fc3-49ec-f657-89565f35897e"
      },
      "outputs": [
        {
          "output_type": "stream",
          "name": "stdout",
          "text": [
            "{2: ['ab', 'ad'], 3: ['abc']}\n"
          ]
        }
      ],
      "source": [
        "# La siguiente función debe aceptar un argumento, una lista con cadenas\n",
        "\n",
        "# La función debe devolver un diccionario con como keys la longitud de las cadenas y como valores\n",
        "# listas ordenadas con las cadenas con la longitud igual a la key\n",
        "\n",
        "# Por ejemplo: \n",
        "# main([\"ab\", \"abc\", \"ad\"]) \n",
        "# debe dar {2: [\"ab\", \"ad\"], 3: [\"abc\"]} \n",
        "\n",
        "def main(list_1):\n",
        "    list_1 = list_1[:]\n",
        "    x = lambda a: len(a)\n",
        "    list_1.sort(key = x)\n",
        "    dict_1 = dict()\n",
        "    for i in list_1:\n",
        "      if len(i) in dict_1: dict_1[len(i)].append(i)\n",
        "      else: dict_1[len(i)] = [i]\n",
        "      dict_1[len(i)].sort()\n",
        "    print(dict_1)\n",
        "\n",
        "    \n",
        "main([\"ab\", \"abc\", \"ad\"]) \n"
      ]
    }
  ],
  "metadata": {
    "colab": {
      "collapsed_sections": [],
      "name": "ejercicios_extra_clase_1.ipynb",
      "provenance": []
    },
    "kernelspec": {
      "display_name": "Python 3",
      "language": "python",
      "name": "python3"
    },
    "language_info": {
      "codemirror_mode": {
        "name": "ipython",
        "version": 3
      },
      "file_extension": ".py",
      "mimetype": "text/x-python",
      "name": "python",
      "nbconvert_exporter": "python",
      "pygments_lexer": "ipython3",
      "version": "3.8.5"
    }
  },
  "nbformat": 4,
  "nbformat_minor": 0
}