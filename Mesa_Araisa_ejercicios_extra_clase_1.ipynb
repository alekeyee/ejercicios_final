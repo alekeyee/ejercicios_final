{
 "cells": [
  {
   "cell_type": "markdown",
   "metadata": {},
   "source": [
    "# EJERCICIOS EXTRA\n",
    "## Extra 1 \n",
    "### Nombre: Araisa Adalina Mesa Cruz\n",
    "### Carrera: Ingeniería en Estadística\n",
    "### Semestre: Séptimo"
   ]
  },
  {
   "cell_type": "code",
   "execution_count": 26,
   "metadata": {
    "executionInfo": {
     "elapsed": 212,
     "status": "ok",
     "timestamp": 1657880703839,
     "user": {
      "displayName": "Victor Salazar",
      "userId": "01748899183064234735"
     },
     "user_tz": -120
    },
    "id": "J6hxMcQT6OjI"
   },
   "outputs": [
    {
     "name": "stdout",
     "output_type": "stream",
     "text": [
      "ecabd\n"
     ]
    }
   ],
   "source": [
    "# La siguiente función debe aceptar un argumento: una cadena.\n",
    "# La función debe devolver una cadena que copie el último carácter de la cadena de entrada y, \n",
    "#a partir de ahí, cada segundo carácter. Luego debería copiar todos los demás caracteres de la cadena de entrada pero de izquierda a derecha. \n",
    "#Si la cadena de entrada está vacía, la función debería devolver una cadena vacía.\n",
    "\n",
    "# POR EJEMPLO al llamar la función : \n",
    "# main('abcde') \n",
    "# debe resultar en 'ecabd'\n",
    "\n",
    "#string_1 = 'abcde'\n",
    "#print(string_1[::-2]+string_1[1::2])\n",
    "\n",
    "def main (string_1):\n",
    "    if string_1 == '':\n",
    "        print('')\n",
    "    else:\n",
    "        print(string_1[::-2]+string_1[1::2])\n",
    "    \n",
    "main('abcde')"
   ]
  },
  {
   "cell_type": "code",
   "execution_count": 61,
   "metadata": {
    "id": "2U4_XpzrBX5i"
   },
   "outputs": [
    {
     "name": "stdout",
     "output_type": "stream",
     "text": [
      "La diferencia entre el número de listas y el número de tuplas es:  1\n"
     ]
    }
   ],
   "source": [
    "# La siguiente función debe aceptar un argumento: una tupla.\n",
    "\n",
    "# La función debe devolver un número entero con el valor absoluto de la diferencia del número\n",
    "# de tuplas y el número de listas dentro de la tupla.\n",
    "\n",
    "# Por ejemplo, la funcion: \n",
    "# main(('k', 'cheers', (8,7), [32.3,-1], (9,))) \n",
    "# debe dar 1\n",
    "\n",
    "#tuple_1 = ('k', 'cheers', (8,7), [32.3,-1], (9,))\n",
    "#l = 0\n",
    "#t = 0\n",
    "#for tup in tuple_1:\n",
    "#    if type(tup) == list:\n",
    "#        l+=1\n",
    "#    elif type(tup) == tuple:\n",
    "#        t+=1\n",
    "#result = abs(l - t)\n",
    "#print(result)\n",
    "\n",
    "def main2(tuple_1):\n",
    "    l = 0\n",
    "    t = 0\n",
    "    for tup in tuple_1:\n",
    "        if type(tup) == list:\n",
    "            l+=1\n",
    "        elif type(tup) == tuple:\n",
    "            t+=1\n",
    "    result = abs(l - t)\n",
    "    print('La diferencia entre el número de listas y el número de tuplas es: ', result)\n",
    "    \n",
    "main2(('k', 'cheers', (8,7), [32.3,-1], (9,))) \n",
    "   \n",
    "\n",
    " \n",
    "\n"
   ]
  },
  {
   "cell_type": "code",
   "execution_count": 77,
   "metadata": {
    "id": "hJ5_h_FQX8RY"
   },
   "outputs": [
    {
     "name": "stdout",
     "output_type": "stream",
     "text": [
      "El número de elementos de las listas que tienen una key no divisible por 3 es:  6\n"
     ]
    }
   ],
   "source": [
    "# La siguiente función debe aceptar un argumento: un diccionario. Las claves son números enteros y\n",
    "# valores son listas\n",
    "\n",
    "# La función debe devolver el número total de todos los elementos en todas las listas combinadas,\n",
    "# excepto para las listas que tienen una key divisible por 3\n",
    "\n",
    "# Por ejemplo: \n",
    "# main({1: [1,2,3], 2: [1,2,3], 3: [1,2,3]})  \n",
    "# da 6 \n",
    "\n",
    "#dictionary_1 = {1: [1,2,3], 2: [1,2,3], 3: [1,2,3]}\n",
    "#suma = 0\n",
    "#for key in dictionary_1.keys():\n",
    "#    if key % 3 != 0:\n",
    "#        suma += len(dictionary_1.values())\n",
    "#print(suma)\n",
    "\n",
    "def main3(dictionary_1):\n",
    "    suma = 0\n",
    "    for key in dictionary_1.keys():\n",
    "        if key % 3 != 0:\n",
    "            suma += len(dictionary_1.values())\n",
    "    print('El número de elementos de las listas que tienen una key no divisible por 3 es: ', suma)\n",
    "    \n",
    "main3({1: [1,2,3], 2: [1,2,3], 3: [1,2,3]})  "
   ]
  },
  {
   "cell_type": "markdown",
   "metadata": {
    "id": "sqVecFFLi3OO"
   },
   "source": [
    "## Extra 2\n"
   ]
  },
  {
   "cell_type": "code",
   "execution_count": 101,
   "metadata": {
    "id": "FKhPvj3GYZ9v"
   },
   "outputs": [
    {
     "name": "stdout",
     "output_type": "stream",
     "text": [
      "People are Funny.\n"
     ]
    }
   ],
   "source": [
    "# La siguiente función debería aceptar una lista de cadenas\n",
    "\n",
    "# La función debe devolver una cadena compuesta de todas las cadenas, pero entre cada cadena \n",
    "# debe ser un espacio. Excepto si la cadena es un solo !, ., o un ?\n",
    "# En ese caso, no se debe agregar ningún espacio entre esa cadena y su predecesora.\n",
    "\n",
    "# Por ejemplo: \n",
    "# main(['People', 'are', 'Funny', '.'])  \n",
    "# da como resultado 'People are Funny.'\n",
    "\n",
    "#list_1 = ['People', 'are', 'Funny', '.']\n",
    "#result = ''\n",
    "#for character in list_1:\n",
    "#    if character != ('.' or '!' or '?'):\n",
    "#        result += ' ' + character\n",
    "#    else:\n",
    "#        result += character\n",
    "#print(result.lstrip())\n",
    "  \n",
    "def main4(list_1):\n",
    "    result = ''\n",
    "    for character in list_1:\n",
    "        if character != ('.' or '!' or '?'):\n",
    "            result += ' ' + character\n",
    "        else:\n",
    "            result += character\n",
    "    print(result.lstrip())\n",
    "           \n",
    "main4(['People', 'are', 'Funny', '.'])"
   ]
  },
  {
   "cell_type": "code",
   "execution_count": 222,
   "metadata": {
    "id": "NIZJR0VGi4ps"
   },
   "outputs": [
    {
     "name": "stdout",
     "output_type": "stream",
     "text": [
      "[100, 200, 300, 400, 500, 600, 700, 800]\n",
      "[200, 400, 600, 800]\n"
     ]
    }
   ],
   "source": [
    "# La siguiente función debería aceptar cuatro argumentos: cuatro enteros\n",
    "\n",
    "# La función debe devolver una lista con todos los enteros entre el primero y\n",
    "# segundo entero (ambos inclusivo []) que son divisibles tanto por el 3er como por el 4to entero.\n",
    "\n",
    "# Por ejemplo: \n",
    "# main(100, 800, 100, 200) \n",
    "# Debe dar [200, 400, 600, 800] \n",
    "\n",
    "#numbers = [100, 800, 100, 200]\n",
    "#new_numbers = []\n",
    "#new_num = []\n",
    "#num = 0\n",
    "#for number in numbers:\n",
    "#    while num >= 0 and num < numbers[1]:\n",
    "#        num += numbers[0]\n",
    "#        new_numbers.append(num)\n",
    "#for final in new_numbers:\n",
    "#    if final % numbers[2] == 0 and final % numbers[3] == 0:\n",
    "#        new_num.append(final)\n",
    "#print(new_num)\n",
    "        \n",
    "    \n",
    "def main5(integer_1, integer_2, integer_3, integer_4):\n",
    "    new_numbers = []\n",
    "    new_num = []\n",
    "    num = 0\n",
    "    for number in numbers:\n",
    "        while num >= 0 and num < numbers[1]:\n",
    "            num += numbers[0] \n",
    "            new_numbers.append(num)\n",
    "    for final in new_numbers:\n",
    "        if final % numbers[2] == 0 and final % numbers[3] == 0: \n",
    "            new_num.append(final)\n",
    "    print(new_num)\n",
    "\n",
    "main5(100, 800, 100, 200)\n",
    "        \n"
   ]
  },
  {
   "cell_type": "code",
   "execution_count": 223,
   "metadata": {
    "id": "dtu2-H95jgh0"
   },
   "outputs": [
    {
     "name": "stdout",
     "output_type": "stream",
     "text": [
      "False\n"
     ]
    }
   ],
   "source": [
    "# La siguiente función debería aceptar como argumento una lista con 3 enteros como elementos\n",
    "\n",
    "# La función debería devolver True si exactamente un entero difiere de todos los demás enteros,\n",
    "# y falso en todos los demás casos.\n",
    "\n",
    "# Por ejemplo: \n",
    "# main([1, 1, 2]) \n",
    "# debe dar como resultado true \n",
    "\n",
    "#list_1 = [1, 2]\n",
    "#if len(list_1) - len(set(list_1)) == 0:\n",
    "#    print('False')\n",
    "#elif len(list_1) - len(set(list_1)) >= 1:\n",
    "#    if len(set(list_1)) == 2:\n",
    "#        print('True')\n",
    "#    else:\n",
    "#        print('False')\n",
    "\n",
    "\n",
    "def main6(list_1):\n",
    "    if len(list_1) - len(set(list_1)) == 0:\n",
    "        print('False')\n",
    "    elif len(list_1) - len(set(list_1)) >= 1:\n",
    "        if len(set(list_1)) == 2:\n",
    "            print('True')\n",
    "        else:\n",
    "            print('False')\n",
    "\n",
    "main6([1, 1, 2])"
   ]
  },
  {
   "cell_type": "code",
   "execution_count": 185,
   "metadata": {
    "id": "fqOe0O0ukR7M"
   },
   "outputs": [
    {
     "name": "stdout",
     "output_type": "stream",
     "text": [
      "enolaabaa\n"
     ]
    }
   ],
   "source": [
    "# La función a continuación debe aceptar dos argumentos, una cadena y una lista con caracteres individuales\n",
    "# La función debe devolver una cadena en orden inverso mientras duplica cualquier carácter en la lista\n",
    "\n",
    "# Por ejemplo:\n",
    "# main(\"abalone\", [\"a\",\"i\"]) \n",
    "# resulta en : \"enolaabaa\" \n",
    "\n",
    "#string_1 = 'abalone'\n",
    "#list_1 =['a', 'i']\n",
    "#string_2 =string_1[::-1]\n",
    "#string_3 = ''\n",
    "\n",
    "#for letter in list_1:\n",
    "#    x = letter in string_2\n",
    "#    if x == True:\n",
    "#        for character in string_2:\n",
    "#            if letter == character:\n",
    "#                string_3 += character*2\n",
    "#            elif letter != character:\n",
    "#                 string_3 += character\n",
    "#    elif x != False:\n",
    "#        print('False')\n",
    "#print(string_3)\n",
    "         \n",
    "\n",
    "def main7(string_1, list_1):\n",
    "    string_2 =string_1[::-1]\n",
    "    string_3 = ''\n",
    "    for letter in list_1:\n",
    "        x = letter in string_2\n",
    "        if x == True:\n",
    "            for character in string_2:\n",
    "                if letter == character:\n",
    "                    string_3 += character*2\n",
    "                elif letter != character:\n",
    "                    string_3 += character\n",
    "    print(string_3)\n",
    "\n",
    "main7(\"abalone\", [\"a\",\"i\"])\n"
   ]
  },
  {
   "cell_type": "code",
   "execution_count": 192,
   "metadata": {
    "colab": {
     "base_uri": "https://localhost:8080/",
     "height": 35
    },
    "executionInfo": {
     "elapsed": 200,
     "status": "ok",
     "timestamp": 1657883991199,
     "user": {
      "displayName": "Victor Salazar",
      "userId": "01748899183064234735"
     },
     "user_tz": -120
    },
    "id": "6XZSEre4lYo4",
    "outputId": "0b9559bb-c326-4de5-d8e7-4299967b6116"
   },
   "outputs": [
    {
     "name": "stdout",
     "output_type": "stream",
     "text": [
      "[12, 0.12]\n"
     ]
    }
   ],
   "source": [
    "# La siguiente función debe aceptar un argumento, una lista con números enteros y flotantes\n",
    "# La función debe devolver una lista con solo números enteros y flotantes que terminen en 2\n",
    "\n",
    "# Por ejemplo: \n",
    "# main([12, 2., .12, 3 ]) \n",
    "# debe dar: [12, .12 ] \n",
    "\n",
    "#list_1 = [12, 2., .12, 3 ]\n",
    "#result = []\n",
    "#for element in list_1:\n",
    "#    if int(str(element)[-1]) == 2:\n",
    "#        result.append(element)   \n",
    "#print(result)\n",
    "\n",
    "def main8(list_1):\n",
    "    result = []\n",
    "    for element in list_1:\n",
    "        if int(str(element)[-1]) == 2:\n",
    "            result.append(element)   \n",
    "    print(result)\n",
    "\n",
    "main8([12, 2., .12, 3 ])"
   ]
  },
  {
   "cell_type": "markdown",
   "metadata": {},
   "source": [
    "## Extra 3"
   ]
  },
  {
   "cell_type": "code",
   "execution_count": 242,
   "metadata": {
    "id": "KqroULXilgsw"
   },
   "outputs": [
    {
     "name": "stdout",
     "output_type": "stream",
     "text": [
      "[2, 22, 3]\n"
     ]
    }
   ],
   "source": [
    "# La siguiente función debería aceptar un argumento, una lista con al menos 2 enteros\n",
    "# La función debe devolver una lista en el mismo orden pero sin el segundo número más alto\n",
    "\n",
    "# Por ejemplo:\n",
    "# main([12, 2, 22, 3 ]) \n",
    "# debe dar:  [2, 22, 3 ] \n",
    "\n",
    "def main9(list_1):\n",
    "    list_2 = []\n",
    "    for num in list_1:\n",
    "        list_2.append(num)\n",
    "    list_2.sort()\n",
    "    list_1.remove(list_2[-2])\n",
    "    print(list_1)\n",
    "\n",
    "main9([12, 2, 22, 3 ]) "
   ]
  },
  {
   "cell_type": "code",
   "execution_count": 194,
   "metadata": {
    "id": "2yKboKWAtZ0i"
   },
   "outputs": [
    {
     "name": "stdout",
     "output_type": "stream",
     "text": [
      "['False', 'True', 'False', 'True']\n"
     ]
    }
   ],
   "source": [
    "# La siguiente función debe aceptar dos argumentos, un número entero y una lista con números enteros\n",
    "# La función debe devolver una lista con Verdadero y Falso para todos los enteros en la lista\n",
    "# por el cual el primer argumento es divisible y False en caso contrario.\n",
    "\n",
    "# Por ejemplo: \n",
    "# main(10, [12, 2, 22, 5 ]) \n",
    "# debe dar [False, True, False, True] \n",
    "\n",
    "#integer_1 = 10\n",
    "#list_1 = [12, 2, 22, 5 ]\n",
    "\n",
    "#result = []\n",
    "#for element in list_1:\n",
    "#    if integer_1 % element == 0:\n",
    "#        result.append('True')\n",
    "#    elif integer_1 % element != 0:\n",
    "#        result.append('False')\n",
    "#print(result)\n",
    "    \n",
    "\n",
    "def main10(integer_1, list_1):\n",
    "    result = []\n",
    "    for element in list_1:\n",
    "        if integer_1 % element == 0:\n",
    "            result.append('True')\n",
    "        elif integer_1 % element != 0:\n",
    "            result.append('False')\n",
    "    print(result)\n",
    "    \n",
    "main10(10, [12, 2, 22, 5 ]) "
   ]
  },
  {
   "cell_type": "code",
   "execution_count": 197,
   "metadata": {
    "id": "XRiUD6B0yhu_"
   },
   "outputs": [
    {
     "name": "stdout",
     "output_type": "stream",
     "text": [
      "{'ad': 2, 'abc': 3, 'ab': 2}\n"
     ]
    }
   ],
   "source": [
    "# La siguiente función debe aceptar un argumento, una lista con cadenas\n",
    "# La función debe devolver un diccionario con como claves las cadenas y como valores\n",
    "# las longitudes de las cadenas\n",
    "\n",
    "# Por ejemplo: \n",
    "# main([\"ad\", \"abc\", \"ab\"]) \n",
    "# debe dar {\"ad\":2, \"abc\":3, \"ab\":2} \n",
    "\n",
    "#list_1 = [\"ad\", \"abc\", \"ab\"]\n",
    "#dictionary_1 = {}\n",
    "#for letters in list_1:\n",
    "#    dictionary_1[letters] = len(letters)\n",
    "#print(dictionary_1)\n",
    "\n",
    "def main11(list_1):\n",
    "    dictionary_1 = {}\n",
    "    for letters in list_1:\n",
    "        dictionary_1[letters] = len(letters)\n",
    "    print(dictionary_1)\n",
    "main11([\"ad\", \"abc\", \"ab\"]) "
   ]
  },
  {
   "cell_type": "code",
   "execution_count": 252,
   "metadata": {
    "id": "sE1Fa5gPy3ec"
   },
   "outputs": [
    {
     "name": "stdout",
     "output_type": "stream",
     "text": [
      "{2: ['ab', 'ad'], 3: ['abc']}\n"
     ]
    }
   ],
   "source": [
    "# La siguiente función debe aceptar un argumento, una lista con cadenas\n",
    "\n",
    "# La función debe devolver un diccionario con como keys la longitud de las cadenas y como valores\n",
    "# listas ordenadas con las cadenas con la longitud igual a la key\n",
    "\n",
    "# Por ejemplo: \n",
    "# main([\"ab\", \"abc\", \"ad\"]) \n",
    "# debe dar {2: [\"ab\", \"ad\"], 3: [\"abc\"]} \n",
    "\n",
    "#x = lambda e: len(e)\n",
    "#    list_1.sort(key=x)\n",
    "#    dict_1 = dict()\n",
    "#    for i in list_1:\n",
    "#        if len(i) in dict_1: dict_1[len(i)].append(i)\n",
    "#        else: dict_1[len(i)]=[i]\n",
    "#        dict_1[len(i)].sort()\n",
    "#    print(dict_1)\n",
    "\n",
    "def main12(list_1):\n",
    "    x = lambda e: len(e)\n",
    "    list_1.sort(key=x)\n",
    "    dict_1 = dict()\n",
    "    for i in list_1:\n",
    "        if len(i) in dict_1: dict_1[len(i)].append(i)\n",
    "        else: dict_1[len(i)]=[i]\n",
    "        dict_1[len(i)].sort()\n",
    "    print(dict_1)\n",
    "\n",
    "main12([\"ab\", \"abc\", \"ad\"]) \n"
   ]
  },
  {
   "cell_type": "code",
   "execution_count": null,
   "metadata": {},
   "outputs": [],
   "source": []
  }
 ],
 "metadata": {
  "colab": {
   "authorship_tag": "ABX9TyPD5ax1XUqklfzORP6QntIw",
   "collapsed_sections": [],
   "name": "ejercicios_extra.ipynb",
   "provenance": []
  },
  "kernelspec": {
   "display_name": "Python 3 (ipykernel)",
   "language": "python",
   "name": "python3"
  },
  "language_info": {
   "codemirror_mode": {
    "name": "ipython",
    "version": 3
   },
   "file_extension": ".py",
   "mimetype": "text/x-python",
   "name": "python",
   "nbconvert_exporter": "python",
   "pygments_lexer": "ipython3",
   "version": "3.9.12"
  }
 },
 "nbformat": 4,
 "nbformat_minor": 1
}
