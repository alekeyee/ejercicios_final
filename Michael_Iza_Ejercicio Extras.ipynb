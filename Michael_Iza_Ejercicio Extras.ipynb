{
  "nbformat": 4,
  "nbformat_minor": 0,
  "metadata": {
    "colab": {
      "name": "Untitled1.ipynb",
      "provenance": []
    },
    "kernelspec": {
      "name": "python3",
      "display_name": "Python 3"
    },
    "language_info": {
      "name": "python"
    }
  },
  "cells": [
    {
      "cell_type": "markdown",
      "source": [
        "### **Ejercicio Extras**"
      ],
      "metadata": {
        "id": "0G9Cj-sA2jMC"
      }
    },
    {
      "cell_type": "markdown",
      "source": [
        "#### Nombre:\n",
        "##### ***Michael Alexander Iza Viejó***"
      ],
      "metadata": {
        "id": "XxPhv85dLhdG"
      }
    },
    {
      "cell_type": "markdown",
      "source": [
        "#### *Extra 1*"
      ],
      "metadata": {
        "id": "d_L3MHZM3IVC"
      }
    },
    {
      "cell_type": "code",
      "execution_count": 14,
      "metadata": {
        "colab": {
          "base_uri": "https://localhost:8080/",
          "height": 35
        },
        "id": "ucmADmlO2h53",
        "outputId": "3e98f6ab-52c5-4a61-b84f-e286ac3fff05"
      },
      "outputs": [
        {
          "output_type": "execute_result",
          "data": {
            "text/plain": [
              "'vxzyw'"
            ],
            "application/vnd.google.colaboratory.intrinsic+json": {
              "type": "string"
            }
          },
          "metadata": {},
          "execution_count": 14
        }
      ],
      "source": [
        "# La función debe aceptar un argumento (cadena).\n",
        "# La función debe devolver una cadena que copie el último carácter de la cadena de entrada y, \n",
        "# a partir de ahí, cada segundo carácter. Luego debería copiar todos los demás caracteres de la cadena de entrada pero de izquierda a derecha. \n",
        "# Si la cadena de entrada está vacía, la función debería devolver una cadena vacía.\n",
        "\n",
        "# POR EJEMPLO al llamar la funcion : \n",
        "# main('abcde') \n",
        "# debe resultar en 'ecabd' \n",
        "\n",
        "def main(string_1):\n",
        "    string2 = string_1[::-2]\n",
        "    for i in  string_1:\n",
        "        if i not in string2: string2 += i\n",
        "    return string2\n",
        "\n",
        "main('zyxwv')"
      ]
    },
    {
      "cell_type": "code",
      "source": [
        "# La siguiente función debe aceptar un argumento: una tupla.\n",
        "\n",
        "# La función debe devolver un número entero con el valor absoluto de la diferencia del número\n",
        "# de tuplas y el número de listas dentro de la tupla.\n",
        "\n",
        "# Por ejemplo, la funcion: \n",
        "# main(('k', 'cheers', (8,7), [32.3,-1], (9,))) \n",
        "# debe dar 1\n",
        "\n",
        "def main(tuple_1):\n",
        "    t, l = 0, 0\n",
        "    for i in tuple_1:\n",
        "        if isinstance(i, tuple): t += 2\n",
        "        elif isinstance(i, list): l += 1\n",
        "    return abs(t-l)\n",
        "\n",
        "main(('k', 'cheers', (6,25), [3,1], (2,)))"
      ],
      "metadata": {
        "colab": {
          "base_uri": "https://localhost:8080/"
        },
        "id": "xPiN5EF_3pl6",
        "outputId": "3ac2e7d9-3bee-4552-9d7c-c17b491b5a93"
      },
      "execution_count": 16,
      "outputs": [
        {
          "output_type": "execute_result",
          "data": {
            "text/plain": [
              "3"
            ]
          },
          "metadata": {},
          "execution_count": 16
        }
      ]
    },
    {
      "cell_type": "code",
      "source": [
        "# La siguiente función debe aceptar un argumento: un diccionario. Las claves son números enteros y\n",
        "# valores son listas\n",
        "\n",
        "# La función debe devolver el número total de todos los elementos en todas las listas combinadas,\n",
        "# excepto para las listas que tienen una key divisible por 3\n",
        "\n",
        "# Por ejemplo: \n",
        "# main({1: [1,2,3], 2: [1,2,3], 3: [1,2,3]})  \n",
        "# da 6 \n",
        "\n",
        "def main(dictionary_1):\n",
        "    num = 2\n",
        "    for i in dictionary_1.keys():\n",
        "        if i % 6: num = num + len(dictionary_1[i])\n",
        "    print(num)\n",
        "\n",
        "main({1: [1,2,3], 2: [4,5,6], 3: [7,8,9], 4: [10,11,12,13,14], 5: [15,16,17], 6: [18,19,20,21]})"
      ],
      "metadata": {
        "colab": {
          "base_uri": "https://localhost:8080/"
        },
        "id": "pFt8mS3q8zEZ",
        "outputId": "621983fb-3054-447c-cb91-c0d17602abe3"
      },
      "execution_count": 22,
      "outputs": [
        {
          "output_type": "stream",
          "name": "stdout",
          "text": [
            "19\n"
          ]
        }
      ]
    },
    {
      "cell_type": "code",
      "source": [
        "# La siguiente función debería aceptar una lista de cadenas\n",
        "\n",
        "# La función debe devolver una cadena compuesta de todas las cadenas, pero entre cada cadena \n",
        "# debe ser un espacio. Excepto si la cadena es un solo !, ., o un ?\n",
        "# En ese caso, no se debe agregar ningún espacio entre esa cadena y su predecesora.\n",
        "\n",
        "# POr ejemplo: \n",
        "# main(['People', 'are', 'Funny', '.'])  \n",
        "# da como resultado 'People are Funny.' \n",
        "\n",
        "def main(list_1):\n",
        "    list_1 = list_1[:]\n",
        "    resultado = \"\"\n",
        "    for i, j in enumerate(list_1, 0):\n",
        "        if j in [\"!\", \".\", \"?\", \",\"]: resultado += list_1[i]\n",
        "        else: resultado += \" \" + j\n",
        "    print(resultado)\n",
        "\n",
        "main(['Alexander', 'y', 'Adriana', 'son', 'felices', '!'])"
      ],
      "metadata": {
        "colab": {
          "base_uri": "https://localhost:8080/"
        },
        "id": "JZsx3-Ef9Z8h",
        "outputId": "5491e3e3-ff38-4175-f5f3-cc627dff0ea2"
      },
      "execution_count": 23,
      "outputs": [
        {
          "output_type": "stream",
          "name": "stdout",
          "text": [
            " Alexander y Adriana son felices!\n"
          ]
        }
      ]
    },
    {
      "cell_type": "markdown",
      "source": [
        "### *Extra 2*\n"
      ],
      "metadata": {
        "id": "tXpRnskJ98vz"
      }
    },
    {
      "cell_type": "code",
      "source": [
        "# La siguiente función debería aceptar cuatro argumentos: cuatro enteros\n",
        "\n",
        "# La función debe devolver una lista con todos los enteros entre el primero y\n",
        "# segundo entero (ambos inclusivo []) que son divisibles tanto por el 3er como por el 4to entero.\n",
        "\n",
        "# Por ejemplo: \n",
        "# main(100, 800, 100, 200) \n",
        "# Debe dar [200, 400, 600, 800] \n",
        "\n",
        "def main(integer_1, integer_2, integer_3, integer_4):\n",
        "    lista = [i for i in range(integer_1, integer_2+1) if not (i % integer_3 or i % integer_4)]\n",
        "    return lista\n",
        "\n",
        "main(600, 2500, 26, 16)"
      ],
      "metadata": {
        "colab": {
          "base_uri": "https://localhost:8080/"
        },
        "id": "6cnebccD-A3t",
        "outputId": "b7a872ec-5543-4cc8-83a3-d74d3037b83f"
      },
      "execution_count": 33,
      "outputs": [
        {
          "output_type": "execute_result",
          "data": {
            "text/plain": [
              "[624, 832, 1040, 1248, 1456, 1664, 1872, 2080, 2288, 2496]"
            ]
          },
          "metadata": {},
          "execution_count": 33
        }
      ]
    },
    {
      "cell_type": "code",
      "source": [
        "# La siguiente función debería aceptar como argumento una lista con 3 enteros como elementos\n",
        "\n",
        "# La función debería devolver True si exactamente un entero difiere de todos los demás enteros,\n",
        "# y falso en todos los demás casos.\n",
        "\n",
        "# Por ejemplo: \n",
        "# main([1, 1, 2]) \n",
        "# debe dar como resultado true \n",
        "\n",
        "def main(list_1):\n",
        "    theSet = set(list_1)\n",
        "    if len(theSet) == 3:\n",
        "        return False\n",
        "    return True\n",
        "\n",
        "main([1, 6, 0])"
      ],
      "metadata": {
        "colab": {
          "base_uri": "https://localhost:8080/"
        },
        "id": "DuZPC7Pt-ie9",
        "outputId": "342a62d4-71a3-493a-88e2-ddeae9d10cb7"
      },
      "execution_count": 36,
      "outputs": [
        {
          "output_type": "execute_result",
          "data": {
            "text/plain": [
              "False"
            ]
          },
          "metadata": {},
          "execution_count": 36
        }
      ]
    },
    {
      "cell_type": "code",
      "source": [
        "# La función a continuación debe aceptar dos argumentos, una cadena y una lista con caracteres individuales\n",
        "# La función debe devolver una cadena en orden inverso mientras duplica cualquier carácter en la lista\n",
        "\n",
        "# Por ejemplo:\n",
        "# main(\"abalone\", [\"a\",\"i\"])\n",
        "# resulta en : \"enolaabaa\"\n",
        "\n",
        "def main(string_1, list_1):\n",
        "    stringList = list(string_1)\n",
        "    string_2 = \"\"\n",
        "    for i in reversed(stringList):\n",
        "        if i in list_1: string_2 += 2*i\n",
        "        else: string_2 += i\n",
        "    return string_2\n",
        "\n",
        "main(\"animal\", [\"a\",\"i\"])"
      ],
      "metadata": {
        "colab": {
          "base_uri": "https://localhost:8080/",
          "height": 35
        },
        "id": "TZXncGV4_3BN",
        "outputId": "c491e503-0bb2-4969-b76a-caa7c02621dd"
      },
      "execution_count": 45,
      "outputs": [
        {
          "output_type": "execute_result",
          "data": {
            "text/plain": [
              "'laamiinaa'"
            ],
            "application/vnd.google.colaboratory.intrinsic+json": {
              "type": "string"
            }
          },
          "metadata": {},
          "execution_count": 45
        }
      ]
    },
    {
      "cell_type": "code",
      "source": [
        "# La siguiente función debe aceptar un argumento, una lista con números enteros y flotantes\n",
        "# La función debe devolver una lista con solo números enteros y flotantes que terminen en 2\n",
        "\n",
        "# Por ejemplo: \n",
        "# main([12, 2., .12, 3 ]) \n",
        "# debe dar: [12, .12 ] \n",
        "\n",
        "def main(list_1):\n",
        "    x = [i for i in list_1 if str(i)[-1] == '6']\n",
        "    print(x)\n",
        "\n",
        "main([16, .12, 10, 25, 26, 25.06])"
      ],
      "metadata": {
        "colab": {
          "base_uri": "https://localhost:8080/"
        },
        "id": "jHFVsh6HBgBP",
        "outputId": "827589b7-f22c-4eb9-eca1-0cc04b7f7a0f"
      },
      "execution_count": 48,
      "outputs": [
        {
          "output_type": "stream",
          "name": "stdout",
          "text": [
            "[16, 26, 25.06]\n"
          ]
        }
      ]
    },
    {
      "cell_type": "markdown",
      "source": [
        "### *Extra 3*"
      ],
      "metadata": {
        "id": "wWurbT6sHIFd"
      }
    },
    {
      "cell_type": "code",
      "source": [
        "# La siguiente función debería aceptar un argumento, una lista con al menos 2 enteros\n",
        "# La función debe devolver una lista en el mismo orden pero sin el segundo número más alto\n",
        "\n",
        "# Por ejemplo:\n",
        "# main([12, 2, 22, 3 ]) \n",
        "# debe dar:  [2, 22, 3 ] \n",
        "\n",
        "def main(list_1):\n",
        "    list_1.sort()\n",
        "    x = [ i for i in list_1 if i != list_1[-2]]\n",
        "    return x\n",
        "\n",
        "main([6, 16, 26, 25, 51, 42])"
      ],
      "metadata": {
        "colab": {
          "base_uri": "https://localhost:8080/"
        },
        "id": "G403lUNnCuoJ",
        "outputId": "4a0a1136-225e-4dd1-d7ac-8c9a9b1cd844"
      },
      "execution_count": 50,
      "outputs": [
        {
          "output_type": "execute_result",
          "data": {
            "text/plain": [
              "[6, 16, 25, 26, 51]"
            ]
          },
          "metadata": {},
          "execution_count": 50
        }
      ]
    },
    {
      "cell_type": "code",
      "source": [
        "# La siguiente función debe aceptar dos argumentos, un número entero y una lista con números enteros\n",
        "# La función debe devolver una lista con Verdadero y Falso para todos los enteros en la lista\n",
        "# por el cual el primer argumento es divisible y False en caso contrario.\n",
        "\n",
        "# Por ejemplo: \n",
        "# main(10, [12, 2, 22, 5 ]) \n",
        "# debe dar [False, True, False, True] \n",
        "\n",
        "def main(integer_1, list_1):\n",
        "    x = [ False if integer_1 % i else True for i in list_1]\n",
        "    print(x)\n",
        "\n",
        "main(26, [6, 16, 26, 10, 13, 52])"
      ],
      "metadata": {
        "colab": {
          "base_uri": "https://localhost:8080/"
        },
        "id": "WUrYmyRsKAcZ",
        "outputId": "b8230e1e-a4f7-4842-8083-91d0f3d5852f"
      },
      "execution_count": 52,
      "outputs": [
        {
          "output_type": "stream",
          "name": "stdout",
          "text": [
            "[False, False, True, False, True, False]\n"
          ]
        }
      ]
    },
    {
      "cell_type": "code",
      "source": [
        "# La siguiente función debe aceptar un argumento, una lista con cadenas\n",
        "# La función debe devolver un diccionario con como claves las cadenas y como valores\n",
        "# las longitudes de las cadenas\n",
        "\n",
        "# Por ejemplo: \n",
        "# main([\"ad\", \"abc\", \"ab\"]) \n",
        "# debe dar {\"ad\":2, \"abc\":3, \"ab\":2} \n",
        "\n",
        "def main(list_1):\n",
        "    dict_1 = dict()\n",
        "    for i in list_1:\n",
        "        dict_1[i] = len(i)\n",
        "    print(dict_1)\n",
        "\n",
        "main([\"Deysi\", \"Pinty\", \"Quesito\", \"Boo\", \"Gatito\"])"
      ],
      "metadata": {
        "colab": {
          "base_uri": "https://localhost:8080/"
        },
        "id": "vl7C7Y2QKyip",
        "outputId": "50ce4bdb-a213-417e-aa94-c4b613f1aed6"
      },
      "execution_count": 54,
      "outputs": [
        {
          "output_type": "stream",
          "name": "stdout",
          "text": [
            "{'Deysi': 5, 'Pinty': 5, 'Quesito': 7, 'Boo': 3, 'Gatito': 6}\n"
          ]
        }
      ]
    },
    {
      "cell_type": "code",
      "source": [
        "# La siguiente función debe aceptar un argumento, una lista con cadenas\n",
        "\n",
        "# La función debe devolver un diccionario con como keys la longitud de las cadenas y como valores\n",
        "# listas ordenadas con las cadenas con la longitud igual a la key\n",
        "\n",
        "# Por ejemplo: \n",
        "# main([\"ab\", \"abc\", \"ad\"]) \n",
        "# debe dar {2: [\"ab\", \"ad\"], 3: [\"abc\"]} \n",
        "\n",
        "def main(list_1):\n",
        "    x = lambda e: len(e)\n",
        "    list_1.sort(key=x)\n",
        "    dict_1 = dict()\n",
        "    for i in list_1:\n",
        "        if len(i) in dict_1: dict_1[len(i)].append(i)\n",
        "        else: dict_1[len(i)]=[i]\n",
        "        dict_1[len(i)].sort()\n",
        "    print(dict_1)\n",
        "\n",
        "main([\"Deysi\", \"Pinty\", \"Quesito\", \"Boo\", \"Gatito\"])"
      ],
      "metadata": {
        "colab": {
          "base_uri": "https://localhost:8080/"
        },
        "id": "InQOY5orLHFZ",
        "outputId": "e126b4be-4593-4d9d-98c0-a2220f9c91b6"
      },
      "execution_count": 56,
      "outputs": [
        {
          "output_type": "stream",
          "name": "stdout",
          "text": [
            "{3: ['Boo'], 5: ['Deysi', 'Pinty'], 6: ['Gatito'], 7: ['Quesito']}\n"
          ]
        }
      ]
    }
  ]
}