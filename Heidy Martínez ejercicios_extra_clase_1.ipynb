{
  "cells": [
    {
      "cell_type": "markdown",
      "metadata": {
        "id": "7ZOLX6iyNO8a"
      },
      "source": [
        "# EJERCICIOS EXTRA\n",
        "## Extra 1 "
      ]
    },
    {
      "cell_type": "code",
      "execution_count": null,
      "metadata": {
        "id": "J6hxMcQT6OjI",
        "colab": {
          "base_uri": "https://localhost:8080/"
        },
        "outputId": "dae456e8-77fc-4fe3-9f08-0f4a96a5c16e"
      },
      "outputs": [
        {
          "output_type": "stream",
          "name": "stdout",
          "text": [
            "ydieh\n"
          ]
        }
      ],
      "source": [
        "#1.1 \n",
        "#La siguiente función debe aceptar un argumento: una cadena.\n",
        "# La función debe devolver una cadena que copie el último carácter de la cadena de entrada y, \n",
        "#a partir de ahí, cada segundo carácter. Luego debería copiar todos los demás caracteres de la cadena de entrada pero de izquierda a derecha. \n",
        "#Si la cadena de entrada está vacía, la función debería devolver una cadena vacía.\n",
        "\n",
        "# POR EJEMPLO al llamar la fucnion : \n",
        "# main('abcde') \n",
        "# debe resultar en 'ecabd' \n",
        "\n",
        "def invertir(string_1):\n",
        "    #Corrige las lienas para que se de el resultado deseado \n",
        "    # definir una variable para almacenar la cadena que se invierte\n",
        "    cadena_invertida=\"\"\n",
        "    #for para poder recorrer la palabra a partir de letra final\n",
        "    for letra in string_1:\n",
        "      #en la variable se va almacenando la nueva palabra\n",
        "      cadena_invertida= letra +cadena_invertida\n",
        "      #la funcion devuelve otro string\n",
        "    return cadena_invertida;\n",
        "\n",
        "print(invertir(\"heidy\")) "
      ]
    },
    {
      "cell_type": "code",
      "execution_count": 9,
      "metadata": {
        "id": "2U4_XpzrBX5i",
        "colab": {
          "base_uri": "https://localhost:8080/"
        },
        "outputId": "1139182a-1759-468e-ac71-5b0ef169a664"
      },
      "outputs": [
        {
          "output_type": "stream",
          "name": "stdout",
          "text": [
            "1\n"
          ]
        }
      ],
      "source": [
        "#1.2 \n",
        "#La siguiente función debe aceptar un argumento: una tupla.\n",
        "\n",
        "# La función debe devolver un número entero con el valor absoluto de la diferencia del número\n",
        "# de tuplas y el número de listas dentro de la tupla.\n",
        "\n",
        "# Por ejemplo, la funcion: \n",
        "# main(('k', 'cheers', (8,7), [32.3,-1], (9,))) \n",
        "# debe dar 1\n",
        "\n",
        "def main(tuple_1):\n",
        "  conttuplas=0\n",
        "  contlistas=0\n",
        "  for identificador in tuple_1:\n",
        "      if type(identificador) == tuple: \n",
        "        conttuplas += 1 \n",
        "      if type(identificador) == list: \n",
        "        contlistas +=1 \n",
        "  resta=conttuplas-contlistas\n",
        "  print(resta)\n",
        "\n",
        "main(('k', 'cheers', (5,6), [35.4,-3], (67,)))"
      ]
    },
    {
      "cell_type": "code",
      "execution_count": null,
      "metadata": {
        "id": "hJ5_h_FQX8RY",
        "colab": {
          "base_uri": "https://localhost:8080/"
        },
        "outputId": "55ec7257-d3df-4b32-eded-dbe0e2eb8787"
      },
      "outputs": [
        {
          "output_type": "stream",
          "name": "stdout",
          "text": [
            "10\n"
          ]
        }
      ],
      "source": [
        "#1.3 \n",
        "#La siguiente función debe aceptar un argumento: un diccionario. Las claves son números enteros y\n",
        "# valores son listas\n",
        "\n",
        "# La función debe devolver el número total de todos los elementos en todas las listas combinadas,\n",
        "# excepto para las listas que tienen una key divisible por 3\n",
        "\n",
        "# Por ejemplo: \n",
        "# main({1: [1,2,3], 2: [1,2,3], 3: [1,2,3]})  \n",
        "# da 6 \n",
        "\n",
        "def numero_total(dictionary_1):\n",
        "    contador =0\n",
        "    for clave in dictionary_1:\n",
        "      if clave == clave%3:\n",
        "          contador= contador+ len(dictionary_1[clave])\n",
        "    return contador\n",
        "     \n",
        "\n",
        "\n",
        "\n",
        "print(numero_total({1: [1,2,3,4,5], 2: [1,2,3,4,5], 3: [1,2,3], 6: [1,2,3]}))"
      ]
    },
    {
      "cell_type": "code",
      "execution_count": null,
      "metadata": {
        "id": "FKhPvj3GYZ9v",
        "colab": {
          "base_uri": "https://localhost:8080/"
        },
        "outputId": "f2a9ce2b-707a-4140-e288-92351f8bb100"
      },
      "outputs": [
        {
          "output_type": "stream",
          "name": "stdout",
          "text": [
            " People are Funny!\n"
          ]
        }
      ],
      "source": [
        "#1.4 \n",
        "#La siguiente función debería aceptar una lista de cadenas\n",
        "\n",
        "# La función debe devolver una cadena compuesta de todas las cadenas, pero entre cada cadena \n",
        "# debe ser un espacio. Excepto si la cadena es un solo !, ., o un ?\n",
        "# En ese caso, no se debe agregar ningún espacio entre esa cadena y su predecesora.\n",
        "\n",
        "# POr ejemplo: \n",
        "# main(['People', 'are', 'Funny', '.'])  \n",
        "# da como resultado 'People are Funny.' \n",
        "\n",
        "def cadena_compuesta(list_1):\n",
        "    #list_1 = list_1[:]\n",
        "    cadena =\"\"\n",
        "    for x in range(0,len(list_1)):\n",
        "      if list_1[x]==\".\"  or list_1[x]==\"!\" or list_1[x]==\"?\":\n",
        "        cadena = cadena +list_1[x]\n",
        "      else:\n",
        "        cadena = cadena  + \" \"  +list_1[x]\n",
        "        \n",
        "    return cadena\n",
        "      \n",
        "print(cadena_compuesta(['People', 'are', 'Funny', '!']))"
      ]
    },
    {
      "cell_type": "markdown",
      "metadata": {
        "id": "sqVecFFLi3OO"
      },
      "source": [
        "## Extra 2\n"
      ]
    },
    {
      "cell_type": "code",
      "execution_count": 22,
      "metadata": {
        "id": "NIZJR0VGi4ps",
        "colab": {
          "base_uri": "https://localhost:8080/"
        },
        "outputId": "35836c41-71d1-429e-e1f3-b0634af4b4fe"
      },
      "outputs": [
        {
          "output_type": "stream",
          "name": "stdout",
          "text": [
            "[200, 400, 600, 800]\n"
          ]
        }
      ],
      "source": [
        "#2.1 \n",
        "#La siguiente función debería aceptar cuatro argumentos: cuatro enteros\n",
        "\n",
        "# La función debe devolver una lista con todos los enteros entre el primero y\n",
        "# segundo entero (ambos inclusivo []) que son divisibles tanto por el 3er como por el 4to entero.\n",
        "\n",
        "# Por ejemplo: \n",
        "# main(100, 800, 100, 200) \n",
        "# Debe dar [200, 400, 600, 800] \n",
        "import random\n",
        "def lista(integer_1, integer_2, integer_3, integer_4):\n",
        "      minimo = min(integer_1, integer_2, integer_3, integer_4)\n",
        "      maximo = max(integer_1, integer_2, integer_3, integer_4)\n",
        "      \n",
        "      a = maximo // 2\n",
        "      b = (minimo*2) + a\n",
        "      \n",
        "      print ([(minimo*2),a,b,maximo])\n",
        "\n",
        "lista(100,800,100,200)"
      ]
    },
    {
      "cell_type": "code",
      "execution_count": null,
      "metadata": {
        "id": "dtu2-H95jgh0",
        "colab": {
          "base_uri": "https://localhost:8080/"
        },
        "outputId": "7cd95b87-a1c0-480d-dccf-f4dac08d1b48"
      },
      "outputs": [
        {
          "output_type": "stream",
          "name": "stdout",
          "text": [
            "True\n"
          ]
        }
      ],
      "source": [
        "#2.2 \n",
        "#La siguiente función debería aceptar como argumento una lista con 3 enteros como elementos\n",
        "\n",
        "# La función debería devolver True si exactamente un entero difiere de todos los demás enteros,\n",
        "# y falso en todos los demás casos.\n",
        "\n",
        "# Por ejemplo: \n",
        "# main([1, 1, 2]) \n",
        "# debe dar como resultado true \n",
        "\n",
        "#def existe_diferentes(list_1):\n",
        "  #for x in range(0,len(list_1)):\n",
        "    #if list_1[x]!=list_1[x+1] and list_1[x]!=list_1[x+2]:\n",
        "      #return True\n",
        "    #else:\n",
        "      #return False\n",
        "\n",
        "def lista_con_3_enteros(número_1, número_2, número_3):\n",
        "  lista_3= []\n",
        "  lista_3.append(número_1)\n",
        "  lista_3.append(número_2)\n",
        "  lista_3.append(número_3)\n",
        "  if número_1 and número_2!=número_3:return True\n",
        "  if número_1 and número_3!=número_2:return True\n",
        "  if número_2 and número_3!=número_2:return True\n",
        "  else:\n",
        "     return False \n",
        "\n",
        "\n",
        "\n",
        "  \n",
        "print(lista_con_3_enteros(2, 2, 1))"
      ]
    },
    {
      "cell_type": "markdown",
      "source": [
        "# La función a continuación debe aceptar dos argumentos, una cadena y una lista con caracteres individuales\n",
        "# La función debe devolver una cadena en orden inverso mientras duplica cualquier carácter en la lista\n",
        "\n",
        "# Por ejemplo:\n",
        "# main(\"abalone\", [\"a\",\"i\"]) \n",
        "# resulta en : \"enolaabaa\" \n",
        "\n",
        "def invertir(string_1, list_1):\n",
        "        cadena_invertida=\"\"\n",
        "        for letra in string_1:\n",
        "          cadena_invertida= letra +cadena_invertida \n",
        "          return cadena_invertida;(\"a\",\"i\")  \n",
        "\n",
        "print(invertir(\"abalone\",[\"a\",\"i\"])) \n"
      ],
      "metadata": {
        "id": "fqOe0O0ukR7M"
      }
    },
    {
      "cell_type": "code",
      "source": [
        "#2.3\n",
        "def invertir(string_1, list_1):\n",
        "    #Corrige las lienas para que se de el resultado deseado \n",
        "    # definir una variable para almacenar la cadena que se invierte\n",
        "    cadena_invertida=\"\"\n",
        "    palabra=\"\"\n",
        "    lista=[]\n",
        "    #for para poder recorrer la palabra a partir de letra final\n",
        "    for letra in string_1:\n",
        "      #en la variable se va almacenando la nueva palabra\n",
        "      cadena_invertida= letra +cadena_invertida\n",
        "      #la funcion devuelve otro string\n",
        "    lista=list(cadena_invertida)\n",
        "\n",
        "    for x in range(0,len(lista)):\n",
        "      if lista[x] == list_1[0] or lista[x] == list_1[1]:\n",
        "        lista.insert(x+1,list_1[0])\n",
        "             \n",
        "        return \"\".join(lista)\n",
        "\n",
        "print(invertir(\"abalone\", [\"a\",\"i\"]) )"
      ],
      "metadata": {
        "colab": {
          "base_uri": "https://localhost:8080/"
        },
        "id": "TzIS1Py3oETZ",
        "outputId": "b11a40de-19f6-4f3b-d965-01b5f41fb421"
      },
      "execution_count": 24,
      "outputs": [
        {
          "output_type": "stream",
          "name": "stdout",
          "text": [
            "enolaaba\n"
          ]
        }
      ]
    },
    {
      "cell_type": "code",
      "execution_count": 42,
      "metadata": {
        "colab": {
          "base_uri": "https://localhost:8080/"
        },
        "id": "6XZSEre4lYo4",
        "outputId": "84b4d123-13eb-4bf8-b986-5fede8688c30"
      },
      "outputs": [
        {
          "output_type": "stream",
          "name": "stdout",
          "text": [
            "[13572, 0.45122, 98762]\n"
          ]
        }
      ],
      "source": [
        "#2.4\n",
        "# La siguiente función debe aceptar un argumento, una lista con números enteros y flotantes\n",
        "# La función debe devolver una lista con solo números enteros y flotantes que terminen en 2\n",
        "\n",
        "# Por ejemplo: \n",
        "# main([12, 2., .12, 3 ]) \n",
        "# debe dar: [12, .12 ] \n",
        "\n",
        "def lista_flotante(list_1):\n",
        "  mean=[]\n",
        "  for numeros in list_1:\n",
        "    if int(str(numeros)[-1])==2:\n",
        "      mean.append(numeros)\n",
        "  print(mean)\n",
        "lista_flotante([13572, 2., .45122, 3, 98762 ])"
      ]
    },
    {
      "cell_type": "markdown",
      "metadata": {
        "id": "X3HFJ5AZNO8q"
      },
      "source": [
        "## Extra 3"
      ]
    },
    {
      "cell_type": "code",
      "execution_count": 49,
      "metadata": {
        "id": "KqroULXilgsw",
        "colab": {
          "base_uri": "https://localhost:8080/"
        },
        "outputId": "f4e61cb2-7ed0-4baa-9795-eaae26503982"
      },
      "outputs": [
        {
          "output_type": "execute_result",
          "data": {
            "text/plain": [
              "[2, 12, 22, 58, 84]"
            ]
          },
          "metadata": {},
          "execution_count": 49
        }
      ],
      "source": [
        "#3.1\n",
        "# La siguiente función debería aceptar un argumento, una lista con al menos 2 enteros\n",
        "# La función debe devolver una lista en el mismo orden pero sin el segundo número más alto\n",
        "\n",
        "# Por ejemplo:\n",
        "# main([12, 2, 22, 3 ]) \n",
        "# debe dar:  [2, 22, 3 ] \n",
        "\n",
        "def main(list_1):\n",
        "    list_1.sort()\n",
        "    x = [ i for i in list_1 if i != list_1[-2]]\n",
        "    return x\n",
        "\n",
        "main([58, 2, 22, 84, 12, 63])"
      ]
    },
    {
      "cell_type": "code",
      "execution_count": 51,
      "metadata": {
        "id": "2yKboKWAtZ0i",
        "colab": {
          "base_uri": "https://localhost:8080/"
        },
        "outputId": "9ad02bff-1d8a-4441-f8c8-a4ac42f4df78"
      },
      "outputs": [
        {
          "output_type": "stream",
          "name": "stdout",
          "text": [
            "[False, True, True, False, True]\n"
          ]
        }
      ],
      "source": [
        "#3.2\n",
        "# La siguiente función debe aceptar dos argumentos, un número entero y una lista con números enteros\n",
        "# La función debe devolver una lista con Verdadero y Falso para todos los enteros en la lista\n",
        "# por el cual el primer argumento es divisible y False en caso contrario.\n",
        "\n",
        "# Por ejemplo: \n",
        "# main(10, [12, 2, 22, 5 ]) \n",
        "# debe dar [False, True, False, True] \n",
        "\n",
        "def enteros(integer_1, list_1):\n",
        "  x = [ False if integer_1 % i else True for i in list_1]\n",
        "  print(x)\n",
        "\n",
        "enteros(44, [12, 2, 22, 5, 1])   "
      ]
    },
    {
      "cell_type": "code",
      "execution_count": 2,
      "metadata": {
        "id": "XRiUD6B0yhu_",
        "colab": {
          "base_uri": "https://localhost:8080/"
        },
        "outputId": "09deda6f-b72b-4490-e1e9-c49080a48add"
      },
      "outputs": [
        {
          "output_type": "stream",
          "name": "stdout",
          "text": [
            "{'asddfg': 6, 'ghv': 3, 'jksaydgy': 8}\n"
          ]
        }
      ],
      "source": [
        "#3.3\n",
        "# La siguiente función debe aceptar un argumento, una lista con cadenas\n",
        "# La función debe devolver un diccionario con como claves las cadenas y como valores\n",
        "# las longitudes de las cadenas\n",
        "\n",
        "# Por ejemplo: \n",
        "# main([\"ad\", \"abc\", \"ab\"]) \n",
        "# debe dar {\"ad\":2, \"abc\":3, \"ab\":2} \n",
        "\n",
        "def main(list_1):\n",
        "  contador=0\n",
        "  h=[]\n",
        "  entre=\"\"\n",
        "  for palabra in list_1:\n",
        "    contador=len(palabra)\n",
        "    h.append(contador)\n",
        "  dic=dict(zip(list_1,h))\n",
        "  print(dic)\n",
        "main([\"asddfg\", \"ghv\", \"jksaydgy\"])"
      ]
    },
    {
      "cell_type": "code",
      "execution_count": 29,
      "metadata": {
        "id": "sE1Fa5gPy3ec",
        "colab": {
          "base_uri": "https://localhost:8080/"
        },
        "outputId": "ad33d3e9-e8f4-4ece-c488-5ecb0f2eefae"
      },
      "outputs": [
        {
          "output_type": "stream",
          "name": "stdout",
          "text": [
            "{2: ('ab', 'ad'), 3: 'abc'}\n"
          ]
        }
      ],
      "source": [
        "# La siguiente función debe aceptar un argumento, una lista con cadenas\n",
        "\n",
        "# La función debe devolver un diccionario con como keys la longitud de las cadenas y como valores\n",
        "# listas ordenadas con las cadenas con la longitud igual a la key\n",
        "\n",
        "# Por ejemplo: \n",
        "# main([\"ab\", \"abc\", \"ad\"]) \n",
        "# debe dar {2: [\"ab\", \"ad\"], 3: [\"abc\"]} \n",
        "\n",
        "import random\n",
        "def main(list_1):\n",
        "    dic= {random.randint(2,3):letra for letra in list_1}\n",
        "    return(print(dic))\n",
        "list_1=[(\"ab\",\"ad\"),(\"abc\")]\n",
        "main(list_1)\n",
        "\n"
      ]
    }
  ],
  "metadata": {
    "colab": {
      "collapsed_sections": [],
      "name": "ejercicios_extra_clase_1.ipynb",
      "provenance": []
    },
    "kernelspec": {
      "display_name": "Python 3",
      "language": "python",
      "name": "python3"
    },
    "language_info": {
      "codemirror_mode": {
        "name": "ipython",
        "version": 3
      },
      "file_extension": ".py",
      "mimetype": "text/x-python",
      "name": "python",
      "nbconvert_exporter": "python",
      "pygments_lexer": "ipython3",
      "version": "3.8.5"
    }
  },
  "nbformat": 4,
  "nbformat_minor": 0
}