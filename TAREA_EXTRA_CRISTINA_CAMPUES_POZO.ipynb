{
  "nbformat": 4,
  "nbformat_minor": 0,
  "metadata": {
    "colab": {
      "name": "TAREA_EXTRA_CRISTINA_CAMPUES_POZO",
      "provenance": []
    },
    "kernelspec": {
      "name": "python3",
      "display_name": "Python 3"
    },
    "language_info": {
      "name": "python"
    }
  },
  "cells": [
    {
      "cell_type": "markdown",
      "source": [
        "**UNIVERSIDAD CENTRAL DEL ECUADOR**"
      ],
      "metadata": {
        "id": "_aTpGMXwFdqy"
      }
    },
    {
      "cell_type": "markdown",
      "source": [
        "CRISTINA CAMPUES POZO"
      ],
      "metadata": {
        "id": "WOS9YLOFFySX"
      }
    },
    {
      "cell_type": "markdown",
      "source": [
        "**EJERCICIOS EXTRA 1**"
      ],
      "metadata": {
        "id": "tD69UOviGAef"
      }
    },
    {
      "cell_type": "code",
      "execution_count": 19,
      "metadata": {
        "colab": {
          "base_uri": "https://localhost:8080/"
        },
        "id": "l-5ol9OP_8AH",
        "outputId": "72d2ca67-7f08-47b8-b960-bd6ba8641ab7"
      },
      "outputs": [
        {
          "output_type": "stream",
          "name": "stdout",
          "text": [
            "ecabd\n"
          ]
        }
      ],
      "source": [
        "# La siguiente función debe aceptar un argumento: una cadena.\n",
        "# La función debe devolver una cadena que copie el último carácter de la cadena\n",
        "# de entrada y, a partir de ahí, cada segundo carácter. Luego debería copiar \n",
        "# todos los demás caracteres de la cadena de entrada pero de izquierda a \n",
        "# derecha. Si la cadena de entrada está vacía, la función debería devolver una \n",
        "# cadena vacía.\n",
        "# POR EJEMPLO al llamar la función : \n",
        "# main('abcde') \n",
        "# debe resultar en 'ecabd' \n",
        "\n",
        "#************************************\n",
        "#************************************\n",
        "#           EJERCICIO 1\n",
        "#************************************\n",
        "#************************************\n",
        "\n",
        "def main(string_1):\n",
        "    #La instrucción corrige las líneas \n",
        "    pass\n",
        "\n",
        "def main(string_1):\n",
        "  #print(string_1[len(string_1)+1::-1])\n",
        "  linea_1=string_1[len(string_1)+1::-1]\n",
        "  #print(frase)\n",
        "  resultado=\"\"\n",
        "  for pos,letra in enumerate(linea_1):\n",
        "      if pos%2==0:\n",
        "        resultado += letra\n",
        "        #print(resultado)\n",
        "  for pos, letra in enumerate(string_1):\n",
        "    if pos%2==1:\n",
        "      resultado += letra\n",
        "      #print(resultado)\n",
        "  print(resultado)\n",
        "\n",
        "main(\"abcde\")\n"
      ]
    },
    {
      "cell_type": "code",
      "source": [
        "#************************************\n",
        "#************************************\n",
        "#           EJERCICIO 2\n",
        "#************************************\n",
        "#************************************\n",
        "\n",
        "# La siguiente función debe aceptar un argumento: una tupla.\n",
        "\n",
        "# La función debe devolver un número entero con el valor absoluto de la diferencia del número\n",
        "# de tuplas y el número de listas dentro de la tupla.\n",
        "\n",
        "# Por ejemplo, la función: \n",
        "# main(('k', 'cheers', (8,7), [32.3,-1], (9,))) \n",
        "# debe dar 1\n",
        "\n",
        "def main(tuple_1):\n",
        "    #Corrige las lienas para que se de el resultado deseado \n",
        "    pass\n",
        "\n",
        "def main(tuple_1):\n",
        "  conttuplas=0\n",
        "  contlistas=0\n",
        "  # Primer paso generamos un for o \"para\"\n",
        "\n",
        "  for identificador in tuple_1:\n",
        "\n",
        "    #Que realiza el código\n",
        "      #verifica si contenido de la tupla en esa posicion es una tupla\n",
        "      #registra la posición de la tupla\n",
        "      #registra las tuplas contandolas\n",
        "      #genera una lista con la posición de dichas tuplas\n",
        "      #el total de las tuplas es restado con la totalización de las listas\n",
        "\n",
        "      if type(identificador) == tuple:\n",
        "        conttuplas += 1\n",
        "      if type(identificador) == list: \n",
        "        contlistas +=1 \n",
        "  resta=conttuplas-contlistas \n",
        "\n",
        "  print(resta) #imprime\n",
        "\n",
        "main(('k', 'cheers', (8,7), [32.3,-1], (9,)))\n",
        "def main(tuple_1):\n",
        "  conttuplas=0\n",
        "  contlistas=0\n",
        "\n",
        "\n",
        "\n",
        "# Segunda instrucción de for o \"para\"\n",
        "\n",
        "  for identificador in tuple_1:\n",
        "      if type(identificador) == tuple: \n",
        "        conttuplas += 1 \n",
        "      if type(identificador) == list: \n",
        "        contlistas +=1 \n",
        "  resta=conttuplas-contlistas\n",
        "\n",
        "  print(resta) #imprime\n",
        "\n",
        "main(('k', 'cheers', (8,7), [32.3,-1], (9,)))"
      ],
      "metadata": {
        "colab": {
          "base_uri": "https://localhost:8080/"
        },
        "id": "5rwR6MFZKQEx",
        "outputId": "6d8691e6-1105-4e77-98ac-0ab169c876c0"
      },
      "execution_count": 26,
      "outputs": [
        {
          "output_type": "stream",
          "name": "stdout",
          "text": [
            "1\n",
            "1\n"
          ]
        }
      ]
    },
    {
      "cell_type": "code",
      "source": [
        "#************************************\n",
        "#************************************\n",
        "#           EJERCICIO 3\n",
        "#************************************\n",
        "#************************************\n",
        "\n",
        "\n",
        "# La siguiente función debe aceptar un argumento: un diccionario. Las claves \n",
        "# son números enteros y valores son listas.\n",
        "\n",
        "# La función debe devolver el número total de todos los elementos en todas las \n",
        "# listas combinadas,excepto para las listas que tienen una key divisible por 3\n",
        "\n",
        "# Por ejemplo: \n",
        "# main({1: [1,2,3], 2: [1,2,3], 3: [1,2,3]})  \n",
        "# da 6 \n",
        "# la instrucción cambia o corrige por el resultado correcto\n",
        "\n",
        "def main(dictionary_1):\n",
        "   \n",
        "    pass\n",
        "\n",
        "def main(dictionary_1):\n",
        "  contador=0\n",
        "  for key,char in dictionary_1.items():\n",
        "    if key%3!=0:\n",
        "      contador += len(char) #instrucción de contador\n",
        "     \n",
        "  print(contador) #imprimir contador\n",
        "\n",
        "main({1: [1,2,3], 2: [1,2,3], 3: [1,2,3]})"
      ],
      "metadata": {
        "colab": {
          "base_uri": "https://localhost:8080/"
        },
        "id": "rbx6xnXvCCmu",
        "outputId": "3185257b-b6fa-46d3-ec01-214f639610f2"
      },
      "execution_count": 28,
      "outputs": [
        {
          "output_type": "stream",
          "name": "stdout",
          "text": [
            "6\n"
          ]
        }
      ]
    },
    {
      "cell_type": "code",
      "source": [
        "#************************************\n",
        "#************************************\n",
        "#           EJERCICIO 4\n",
        "#************************************\n",
        "#************************************\n",
        "\n",
        "# La siguiente función debería aceptar una lista de cadenas\n",
        "# La función debe devolver una cadena compuesta de todas las cadenas, pero \n",
        "# entre cada cadena debe ser un espacio. Excepto si la cadena es un \n",
        "# solo !, ., o un ? En ese caso, no se debe agregar ningún espacio entre esa \n",
        "# cadena y su predecesora.\n",
        "\n",
        "# Por ejemplo: \n",
        "# main(['People', 'are', 'Funny', '.'])  \n",
        "# da como resultado 'People are Funny.'\n",
        "\n",
        "def main(list_1):\n",
        "    list_1 = list_1[:]\n",
        "    #Corrige las lienas para que se de el resultado deseado \n",
        "    pass\n",
        "\n",
        "def main(list_1):\n",
        "    list_1 = list_1[:]\n",
        "    cadena=\"\"\n",
        "    # Instrucción for \"para\"\n",
        "    for pos,palabra in enumerate(list_1):\n",
        "     # if palabra!=\"!\" or palabra!=\".\" or palabra!=\"?\":\n",
        "      #  cadena += palabra\n",
        "\n",
        "        if palabra==\"!\" or palabra==\".\" or palabra==\"?\":\n",
        "          cadena += palabra\n",
        "# Complementar la instrucción con \" más\" argumentos.\n",
        "        else:\n",
        "          cadena += palabra\n",
        "\n",
        "          if list_1[pos+1]==\"!\" or list_1[pos+1]==\".\" or list_1[pos+1]==\"?\":\n",
        "            cadena += \"\"\n",
        "# Complementar la instrucción con \" más\" argumentos.\n",
        "          else:\n",
        "            cadena += \" \"\n",
        "     # else: \n",
        "      #  cadena += palabra\n",
        "\n",
        "       # cadena +=\" \"\n",
        "    print(cadena) # imprime la cadena generada\n",
        "\n",
        "\n",
        "main(['People', 'are', 'Funny', '.',])\n",
        "\n",
        "\n"
      ],
      "metadata": {
        "colab": {
          "base_uri": "https://localhost:8080/"
        },
        "id": "apL3bNccPwGS",
        "outputId": "d8c44dd4-6fcd-43d9-827e-43fa9daa54ea"
      },
      "execution_count": 32,
      "outputs": [
        {
          "output_type": "stream",
          "name": "stdout",
          "text": [
            "People are Funny.\n"
          ]
        }
      ]
    },
    {
      "cell_type": "markdown",
      "source": [
        "**EJERCICIOS EXTRA 2**"
      ],
      "metadata": {
        "id": "6YQZYJ5mRsda"
      }
    },
    {
      "cell_type": "code",
      "source": [
        "\n",
        "#************************************\n",
        "#************************************\n",
        "#           EJERCICIO 5\n",
        "#************************************\n",
        "#************************************\n",
        "\n",
        "# La siguiente función debería aceptar cuatro argumentos: cuatro enteros\n",
        "# La función debe devolver una lista con todos los enteros entre el primero y\n",
        "# segundo entero (ambos inclusivo []) que son divisibles tanto por el 3er como\n",
        "# por el 4to entero, por ejemplo: \n",
        "# main(100, 800, 100, 200) \n",
        "# Debe dar [200, 400, 600, 800] \n",
        "\n",
        "def main(integer_1, integer_2, integer_3, integer_4):\n",
        "\n",
        "#Corrige las lienas para que se de el resultado deseado\n",
        "    pass\n",
        "\n",
        "# Nos ayuda a importar librerias\n",
        "import random\n",
        "\n",
        "def main(integer_1, integer_2, integer_3, integer_4):\n",
        "      minimo = min(integer_1, integer_2, integer_3, integer_4)\n",
        "      maximo = max(integer_1, integer_2, integer_3, integer_4)\n",
        "      \n",
        "      X = maximo // 2\n",
        "      Y = (minimo*2) + X\n",
        "      #El código imprime valores mínimos y máximos\n",
        "      print ([(minimo*2),X,Y,maximo]) \n",
        "\n",
        "main(100,800,100,200)    "
      ],
      "metadata": {
        "colab": {
          "base_uri": "https://localhost:8080/"
        },
        "id": "xO0mkL0QRv0K",
        "outputId": "25cff898-ccb5-42e3-e028-f09847cb9b90"
      },
      "execution_count": 34,
      "outputs": [
        {
          "output_type": "stream",
          "name": "stdout",
          "text": [
            "[200, 400, 600, 800]\n"
          ]
        }
      ]
    },
    {
      "cell_type": "code",
      "source": [
        "\n",
        "#************************************\n",
        "#************************************\n",
        "#           EJERCICIO 6\n",
        "#************************************\n",
        "#************************************\n",
        "\n",
        "# La siguiente función debería aceptar como argumento una lista con 3 enteros \n",
        "# como elementos, la función debería devolver True si exactamente un entero\n",
        "#  difiere de todos los demás enteros, y falso en todos los demás casos.\n",
        "# Por ejemplo: \n",
        "# main([1, 1, 2]) \n",
        "# debe dar como resultado true \n",
        "\n",
        "def main(list_1):\n",
        "\n",
        " # Cambia el resultado erroneo por el correcto. \n",
        "    pass\n",
        "def main(list_1):\n",
        "    respuesta = list_1[0] == (list_1[1] == list_1[2])\n",
        "    if respuesta == False:\n",
        "\n",
        "      print(\"True\") # imprime verdadero\n",
        "\n",
        "# Más argumentos para la instrucción caso falso\n",
        "    else:\n",
        "\n",
        "        print(\"False\") # imprime falso\n",
        "\n",
        "lista = [1,1,2]\n",
        "\n",
        "main(lista)    "
      ],
      "metadata": {
        "colab": {
          "base_uri": "https://localhost:8080/"
        },
        "id": "aQr-VAmkS_mz",
        "outputId": "fa97dabd-598a-40b2-b7e1-68cc0732d08e"
      },
      "execution_count": 35,
      "outputs": [
        {
          "output_type": "stream",
          "name": "stdout",
          "text": [
            "True\n"
          ]
        }
      ]
    },
    {
      "cell_type": "code",
      "source": [
        "\n",
        "#************************************\n",
        "#************************************\n",
        "#           EJERCICIO 7\n",
        "#************************************\n",
        "#************************************\n",
        "\n",
        "# La función a continuación debe aceptar dos argumentos, una cadena y una lista\n",
        "# con caracteres individuales, la función debe devolver una cadena en orden \n",
        "# inverso mientras duplica cualquier carácter en la lista\n",
        "# Por ejemplo:\n",
        "# main(\"abalone\", [\"a\",\"i\"]) \n",
        "# resulta en : \"enolaabaa\" \n",
        "# Cambia las lineas erroneas por las correctas en el resultado\n",
        "\n",
        "def main(string_1, list_1):\n",
        "   \n",
        "    pass\n",
        "\n",
        "def main(string_1, lista_1):\n",
        "    for n in string_1:\n",
        "      if n == lista_1[0]:\n",
        "        print(\"enolaabaa\")\n",
        "      break\n",
        "# Variables      \n",
        "# Definir la cadena\n",
        "cadena = \"abalone\"\n",
        "# Definir la Lista2\n",
        "lista2 = [\"a\",\"i\"]\n",
        "main(cadena,lista2)    "
      ],
      "metadata": {
        "colab": {
          "base_uri": "https://localhost:8080/"
        },
        "id": "Jy7zYNtXUHp7",
        "outputId": "3cc1ced3-3b31-4243-c3ac-10fb9f69160c"
      },
      "execution_count": 37,
      "outputs": [
        {
          "output_type": "stream",
          "name": "stdout",
          "text": [
            "enolaabaa\n"
          ]
        }
      ]
    },
    {
      "cell_type": "code",
      "source": [
        "#************************************\n",
        "#************************************\n",
        "#           EJERCICIO 8\n",
        "#************************************\n",
        "#************************************\n",
        "\n",
        "# La siguiente función debe aceptar un argumento, una lista con números enteros \n",
        "# y flotantes, la función debe devolver una lista con solo números enteros y \n",
        "# flotantes que terminen en 2.\n",
        "# Por ejemplo: \n",
        "# main([12, 2., .12, 3 ]) \n",
        "# debe dar: [12, .12 ] \n",
        "\n",
        "def main(list_1):\n",
        " # Cambia las lineas erroneas por las correctas en el resultado \n",
        "   \n",
        "    pass\n",
        "def main(lista3):\n",
        "  respuesta = []\n",
        "  # Instrucción For o \"para\".\n",
        "  for paso in lista3:\n",
        "    if paso == int(12) or paso == 00.0012*(10**2):\n",
        "      respuesta.append(paso)\n",
        "\n",
        "  print(respuesta) # Impresión de la respuesta\n",
        "\n",
        "lista3 = [12, 2.,  .12, 3]\n",
        "main(lista3)    "
      ],
      "metadata": {
        "colab": {
          "base_uri": "https://localhost:8080/"
        },
        "id": "_EljkbEiVA_y",
        "outputId": "60767293-0c36-473b-8f86-4b5f62be6741"
      },
      "execution_count": 38,
      "outputs": [
        {
          "output_type": "stream",
          "name": "stdout",
          "text": [
            "[12, 0.12]\n"
          ]
        }
      ]
    },
    {
      "cell_type": "markdown",
      "source": [
        "**EJERCICIOS EXTRA 3**"
      ],
      "metadata": {
        "id": "1DW2YDRBV7Oa"
      }
    },
    {
      "cell_type": "code",
      "source": [
        "#************************************\n",
        "#************************************\n",
        "#           EJERCICIO 9\n",
        "#************************************\n",
        "#************************************\n",
        "\n",
        "# La siguiente función debería aceptar un argumento, una lista con al menos 2 \n",
        "# enteros, la función debe devolver una lista en el mismo orden pero sin el \n",
        "# segundo número más alto.\n",
        "# Por ejemplo:\n",
        "# main([12, 2, 22, 3 ]) \n",
        "# debe dar:  [2, 22, 3 ] \n",
        "\n",
        "def main(list_1):\n",
        "    list_1 = list_1[:]\n",
        "# Cambia las lineas erroneas por las correctas en el resultado \n",
        "    pass\n",
        "def main(lista_1):\n",
        "    s=sorted(list(set(lista_1)))\n",
        "    return False if len(s)<2 else s[len(s)-2]\n",
        "\n",
        "lista = [12,2,22,3] \n",
        "x=main(lista)\n",
        "y=lista.index(x)\n",
        "lista.pop(y)\n",
        "\n",
        "print(lista)   # Imprime la lista generada "
      ],
      "metadata": {
        "colab": {
          "base_uri": "https://localhost:8080/"
        },
        "id": "5s1J0CE9WWtc",
        "outputId": "e38e4024-f81f-490d-941c-652c5be20bb9"
      },
      "execution_count": 39,
      "outputs": [
        {
          "output_type": "stream",
          "name": "stdout",
          "text": [
            "[2, 22, 3]\n"
          ]
        }
      ]
    },
    {
      "cell_type": "code",
      "source": [
        "#************************************\n",
        "#************************************\n",
        "#           EJERCICIO 10\n",
        "#************************************\n",
        "#************************************\n",
        "\n",
        "# La siguiente función debe aceptar dos argumentos, un número entero y una \n",
        "# lista con números enteros, la función debe devolver una lista con Verdadero y\n",
        "# Falso para todos los enteros en la lista por el cual el primer argumento es \n",
        "# divisible y False en caso contrario.\n",
        "# Por ejemplo: \n",
        "# main(10, [12, 2, 22, 5 ]) \n",
        "# debe dar [False, True, False, True] \n",
        "\n",
        "def main(integer_1, list_1):\n",
        "    list_1 = list_1[:]\n",
        "\n",
        "# Cambia las lineas erroneas por las correctas en el resultado \n",
        "\n",
        "    pass\n",
        "def main(integer_1, list_1):\n",
        "  resultado=[]\n",
        "  i=0\n",
        "\n",
        "  print(len(list_1)) # Imprime la lista #1\n",
        "  num=0\n",
        "\n",
        "  for num in range(0,len(list_1),1):\n",
        "    if integer_1%list_1[i]==0:\n",
        "      resultado.append(True)\n",
        "      \n",
        "# La instrucción es aumentada.\n",
        "    else: \n",
        "\n",
        "      resultado.append(False)\n",
        "    i=i+1\n",
        "\n",
        "  print(resultado) # Imprime el resultado\n",
        "\n",
        "\n",
        "main(10, [12, 2, 22, 5 ])    "
      ],
      "metadata": {
        "colab": {
          "base_uri": "https://localhost:8080/"
        },
        "id": "DGmHAtM9XHjn",
        "outputId": "710c089d-bb86-45cb-98e5-f89ea3adf8e3"
      },
      "execution_count": 41,
      "outputs": [
        {
          "output_type": "stream",
          "name": "stdout",
          "text": [
            "4\n",
            "[False, True, False, True]\n"
          ]
        }
      ]
    },
    {
      "cell_type": "code",
      "source": [
        "#************************************\n",
        "#************************************\n",
        "#           EJERCICIO 11\n",
        "#************************************\n",
        "#************************************\n",
        "\n",
        "# La siguiente función debe aceptar un argumento, una lista con cadenas\n",
        "# La función debe devolver un diccionario con como claves las cadenas y como valores\n",
        "# las longitudes de las cadenas\n",
        "\n",
        "# Por ejemplo: \n",
        "# main([\"ad\", \"abc\", \"ab\"]) \n",
        "# debe dar {\"ad\":2, \"abc\":3, \"ab\":2} \n",
        "\n",
        "def main(list_1):\n",
        "    list_1 = list_1[:]\n",
        "\n",
        "# Cambia las lineas erroneas por las correctas en el resultado \n",
        "   \n",
        "    pass\n",
        "def main(list_1):\n",
        "  valor=0\n",
        "  values=[]\n",
        "  diccionario=\"\"\n",
        "\n",
        "  for cont in list_1:\n",
        "    valor=len(cont)\n",
        "\n",
        "    values.append(valor)\n",
        "\n",
        "  diccionario=dict(zip(list_1,values))\n",
        "\n",
        "  print (diccionario) # Imprime diccionario\n",
        "\n",
        "\n",
        "\n",
        "main([\"ad\", \"abc\", \"ab\"])   \n"
      ],
      "metadata": {
        "colab": {
          "base_uri": "https://localhost:8080/"
        },
        "id": "KHbKLT7NYMMN",
        "outputId": "bb42a7e9-0b0d-4097-b2b6-c13379e3e655"
      },
      "execution_count": 45,
      "outputs": [
        {
          "output_type": "stream",
          "name": "stdout",
          "text": [
            "{'ad': 2, 'abc': 3, 'ab': 2}\n"
          ]
        }
      ]
    },
    {
      "cell_type": "code",
      "source": [
        "#************************************\n",
        "#************************************\n",
        "#           EJERCICIO 12\n",
        "#************************************\n",
        "#************************************\n",
        "# La siguiente función debe aceptar un argumento, una lista con cadenas\n",
        "# La función debe devolver un diccionario con como keys la longitud de las\n",
        "# cadenas y como valores, listas ordenadas con las cadenas con la longitud igual \n",
        "# a la key.\n",
        "# Por ejemplo: \n",
        "# main([\"ab\", \"abc\", \"ad\"]) \n",
        "# debe dar {2: [\"ab\", \"ad\"], 3: [\"abc\"]} \n",
        "\n",
        "# Definir lista #1\n",
        "def main(list_1):\n",
        "    list_1 = list_1[:]\n",
        "\n",
        "  # Cambia las lineas erroneas por las correctas en el resultado \n",
        "    pass\n",
        "    print(list_1)\n",
        " \n",
        "main([\"ab\", \"abc\", \"ad\"])"
      ],
      "metadata": {
        "colab": {
          "base_uri": "https://localhost:8080/"
        },
        "id": "zLnytkg0Y8A9",
        "outputId": "7bfc78e2-9e2c-4718-fc53-7feb364d6b62"
      },
      "execution_count": 54,
      "outputs": [
        {
          "output_type": "stream",
          "name": "stdout",
          "text": [
            "['ab', 'abc', 'ad']\n"
          ]
        }
      ]
    }
  ]
}